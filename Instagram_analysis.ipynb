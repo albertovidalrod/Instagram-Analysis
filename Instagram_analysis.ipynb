{
 "cells": [
  {
   "cell_type": "markdown",
   "id": "605f10a2",
   "metadata": {},
   "source": [
    "# Introduction\n",
    "\n",
    "In November 2022, I got a cat with my girlfriend (the cuttest cat in the world if I say so myself). My girlfriend started a Instagram account (currently at 6 k followers), and while she's great at creating content, I'm terrible at it (other than being featured in a video every now and then as \"the boyfrind who didn't want account and he now loves the cat\"). Therefore, I decided to do help by doing what I'm good at, gathering and analysing data to understand patterns and how to best run the account to maximise its reach.\n",
    "\n",
    "In this notebook, I use the account's data obtained using [Instagram Graph API](https://developers.facebook.com/docs/instagram-api/) to create [several dashboards](#summary) to understand how people's engagement with the account and to answer several questions, such as:\n",
    "* [Does the day when the post is shared make a difference?](#day)\n",
    "\n",
    "* [Does the hour when the post is shared make a difference?](#hour)\n",
    "\n",
    "The account is fairly recent and I've only gathered two months worth of data, which make several tasks very difficult to perform, such as forecasting the number of followers. As I gather more data, I will be able to expand the sections in this notebook.\n",
    "\n"
   ]
  },
  {
   "cell_type": "markdown",
   "id": "1371e8c6",
   "metadata": {},
   "source": [
    "# Table of contents\n",
    "\n",
    "* [Dashboards - Summary of profile data](#summary)\n",
    "\n",
    "* [Does the day when the post is shared make a difference?](#day)\n",
    "\n",
    "* [Does the hour when the post is shared make a difference?](#hour)"
   ]
  },
  {
   "cell_type": "code",
   "execution_count": 4,
   "id": "8d12e586-202b-49eb-a289-4b82eb3a5ee7",
   "metadata": {},
   "outputs": [
    {
     "data": {
      "text/html": [
       "<style>\n",
       "        .bk-notebook-logo {\n",
       "            display: block;\n",
       "            width: 20px;\n",
       "            height: 20px;\n",
       "            background-image: url(data:image/png;base64,iVBORw0KGgoAAAANSUhEUgAAABQAAAAUCAYAAACNiR0NAAAABHNCSVQICAgIfAhkiAAAAAlwSFlzAAALEgAACxIB0t1+/AAAABx0RVh0U29mdHdhcmUAQWRvYmUgRmlyZXdvcmtzIENTNui8sowAAAOkSURBVDiNjZRtaJVlGMd/1/08zzln5zjP1LWcU9N0NkN8m2CYjpgQYQXqSs0I84OLIC0hkEKoPtiH3gmKoiJDU7QpLgoLjLIQCpEsNJ1vqUOdO7ppbuec5+V+rj4ctwzd8IIbbi6u+8f1539dt3A78eXC7QizUF7gyV1fD1Yqg4JWz84yffhm0qkFqBogB9rM8tZdtwVsPUhWhGcFJngGeWrPzHm5oaMmkfEg1usvLFyc8jLRqDOMru7AyC8saQr7GG7f5fvDeH7Ej8CM66nIF+8yngt6HWaKh7k49Soy9nXurCi1o3qUbS3zWfrYeQDTB/Qj6kX6Ybhw4B+bOYoLKCC9H3Nu/leUTZ1JdRWkkn2ldcCamzrcf47KKXdAJllSlxAOkRgyHsGC/zRday5Qld9DyoM4/q/rUoy/CXh3jzOu3bHUVZeU+DEn8FInkPBFlu3+nW3Nw0mk6vCDiWg8CeJaxEwuHS3+z5RgY+YBR6V1Z1nxSOfoaPa4LASWxxdNp+VWTk7+4vzaou8v8PN+xo+KY2xsw6une2frhw05CTYOmQvsEhjhWjn0bmXPjpE1+kplmmkP3suftwTubK9Vq22qKmrBhpY4jvd5afdRA3wGjFAgcnTK2s4hY0/GPNIb0nErGMCRxWOOX64Z8RAC4oCXdklmEvcL8o0BfkNK4lUg9HTl+oPlQxdNo3Mg4Nv175e/1LDGzZen30MEjRUtmXSfiTVu1kK8W4txyV6BMKlbgk3lMwYCiusNy9fVfvvwMxv8Ynl6vxoByANLTWplvuj/nF9m2+PDtt1eiHPBr1oIfhCChQMBw6Aw0UulqTKZdfVvfG7VcfIqLG9bcldL/+pdWTLxLUy8Qq38heUIjh4XlzZxzQm19lLFlr8vdQ97rjZVOLf8nclzckbcD4wxXMidpX30sFd37Fv/GtwwhzhxGVAprjbg0gCAEeIgwCZyTV2Z1REEW8O4py0wsjeloKoMr6iCY6dP92H6Vw/oTyICIthibxjm/DfN9lVz8IqtqKYLUXfoKVMVQVVJOElGjrnnUt9T9wbgp8AyYKaGlqingHZU/uG2NTZSVqwHQTWkx9hxjkpWDaCg6Ckj5qebgBVbT3V3NNXMSiWSDdGV3hrtzla7J+duwPOToIg42ChPQOQjspnSlp1V+Gjdged7+8UN5CRAV7a5EdFNwCjEaBR27b3W890TE7g24NAP/mMDXRWrGoFPQI9ls/MWO2dWFAar/xcOIImbbpA3zgAAAABJRU5ErkJggg==);\n",
       "        }\n",
       "    </style>\n",
       "    <div>\n",
       "        <a href=\"https://bokeh.org\" target=\"_blank\" class=\"bk-notebook-logo\"></a>\n",
       "        <span id=\"p1002\">Loading BokehJS ...</span>\n",
       "    </div>\n"
      ]
     },
     "metadata": {},
     "output_type": "display_data"
    },
    {
     "data": {
      "application/javascript": [
       "(function(root) {\n",
       "  function now() {\n",
       "    return new Date();\n",
       "  }\n",
       "\n",
       "  const force = true;\n",
       "\n",
       "  if (typeof root._bokeh_onload_callbacks === \"undefined\" || force === true) {\n",
       "    root._bokeh_onload_callbacks = [];\n",
       "    root._bokeh_is_loading = undefined;\n",
       "  }\n",
       "\n",
       "const JS_MIME_TYPE = 'application/javascript';\n",
       "  const HTML_MIME_TYPE = 'text/html';\n",
       "  const EXEC_MIME_TYPE = 'application/vnd.bokehjs_exec.v0+json';\n",
       "  const CLASS_NAME = 'output_bokeh rendered_html';\n",
       "\n",
       "  /**\n",
       "   * Render data to the DOM node\n",
       "   */\n",
       "  function render(props, node) {\n",
       "    const script = document.createElement(\"script\");\n",
       "    node.appendChild(script);\n",
       "  }\n",
       "\n",
       "  /**\n",
       "   * Handle when an output is cleared or removed\n",
       "   */\n",
       "  function handleClearOutput(event, handle) {\n",
       "    const cell = handle.cell;\n",
       "\n",
       "    const id = cell.output_area._bokeh_element_id;\n",
       "    const server_id = cell.output_area._bokeh_server_id;\n",
       "    // Clean up Bokeh references\n",
       "    if (id != null && id in Bokeh.index) {\n",
       "      Bokeh.index[id].model.document.clear();\n",
       "      delete Bokeh.index[id];\n",
       "    }\n",
       "\n",
       "    if (server_id !== undefined) {\n",
       "      // Clean up Bokeh references\n",
       "      const cmd_clean = \"from bokeh.io.state import curstate; print(curstate().uuid_to_server['\" + server_id + \"'].get_sessions()[0].document.roots[0]._id)\";\n",
       "      cell.notebook.kernel.execute(cmd_clean, {\n",
       "        iopub: {\n",
       "          output: function(msg) {\n",
       "            const id = msg.content.text.trim();\n",
       "            if (id in Bokeh.index) {\n",
       "              Bokeh.index[id].model.document.clear();\n",
       "              delete Bokeh.index[id];\n",
       "            }\n",
       "          }\n",
       "        }\n",
       "      });\n",
       "      // Destroy server and session\n",
       "      const cmd_destroy = \"import bokeh.io.notebook as ion; ion.destroy_server('\" + server_id + \"')\";\n",
       "      cell.notebook.kernel.execute(cmd_destroy);\n",
       "    }\n",
       "  }\n",
       "\n",
       "  /**\n",
       "   * Handle when a new output is added\n",
       "   */\n",
       "  function handleAddOutput(event, handle) {\n",
       "    const output_area = handle.output_area;\n",
       "    const output = handle.output;\n",
       "\n",
       "    // limit handleAddOutput to display_data with EXEC_MIME_TYPE content only\n",
       "    if ((output.output_type != \"display_data\") || (!Object.prototype.hasOwnProperty.call(output.data, EXEC_MIME_TYPE))) {\n",
       "      return\n",
       "    }\n",
       "\n",
       "    const toinsert = output_area.element.find(\".\" + CLASS_NAME.split(' ')[0]);\n",
       "\n",
       "    if (output.metadata[EXEC_MIME_TYPE][\"id\"] !== undefined) {\n",
       "      toinsert[toinsert.length - 1].firstChild.textContent = output.data[JS_MIME_TYPE];\n",
       "      // store reference to embed id on output_area\n",
       "      output_area._bokeh_element_id = output.metadata[EXEC_MIME_TYPE][\"id\"];\n",
       "    }\n",
       "    if (output.metadata[EXEC_MIME_TYPE][\"server_id\"] !== undefined) {\n",
       "      const bk_div = document.createElement(\"div\");\n",
       "      bk_div.innerHTML = output.data[HTML_MIME_TYPE];\n",
       "      const script_attrs = bk_div.children[0].attributes;\n",
       "      for (let i = 0; i < script_attrs.length; i++) {\n",
       "        toinsert[toinsert.length - 1].firstChild.setAttribute(script_attrs[i].name, script_attrs[i].value);\n",
       "        toinsert[toinsert.length - 1].firstChild.textContent = bk_div.children[0].textContent\n",
       "      }\n",
       "      // store reference to server id on output_area\n",
       "      output_area._bokeh_server_id = output.metadata[EXEC_MIME_TYPE][\"server_id\"];\n",
       "    }\n",
       "  }\n",
       "\n",
       "  function register_renderer(events, OutputArea) {\n",
       "\n",
       "    function append_mime(data, metadata, element) {\n",
       "      // create a DOM node to render to\n",
       "      const toinsert = this.create_output_subarea(\n",
       "        metadata,\n",
       "        CLASS_NAME,\n",
       "        EXEC_MIME_TYPE\n",
       "      );\n",
       "      this.keyboard_manager.register_events(toinsert);\n",
       "      // Render to node\n",
       "      const props = {data: data, metadata: metadata[EXEC_MIME_TYPE]};\n",
       "      render(props, toinsert[toinsert.length - 1]);\n",
       "      element.append(toinsert);\n",
       "      return toinsert\n",
       "    }\n",
       "\n",
       "    /* Handle when an output is cleared or removed */\n",
       "    events.on('clear_output.CodeCell', handleClearOutput);\n",
       "    events.on('delete.Cell', handleClearOutput);\n",
       "\n",
       "    /* Handle when a new output is added */\n",
       "    events.on('output_added.OutputArea', handleAddOutput);\n",
       "\n",
       "    /**\n",
       "     * Register the mime type and append_mime function with output_area\n",
       "     */\n",
       "    OutputArea.prototype.register_mime_type(EXEC_MIME_TYPE, append_mime, {\n",
       "      /* Is output safe? */\n",
       "      safe: true,\n",
       "      /* Index of renderer in `output_area.display_order` */\n",
       "      index: 0\n",
       "    });\n",
       "  }\n",
       "\n",
       "  // register the mime type if in Jupyter Notebook environment and previously unregistered\n",
       "  if (root.Jupyter !== undefined) {\n",
       "    const events = require('base/js/events');\n",
       "    const OutputArea = require('notebook/js/outputarea').OutputArea;\n",
       "\n",
       "    if (OutputArea.prototype.mime_types().indexOf(EXEC_MIME_TYPE) == -1) {\n",
       "      register_renderer(events, OutputArea);\n",
       "    }\n",
       "  }\n",
       "  if (typeof (root._bokeh_timeout) === \"undefined\" || force === true) {\n",
       "    root._bokeh_timeout = Date.now() + 5000;\n",
       "    root._bokeh_failed_load = false;\n",
       "  }\n",
       "\n",
       "  const NB_LOAD_WARNING = {'data': {'text/html':\n",
       "     \"<div style='background-color: #fdd'>\\n\"+\n",
       "     \"<p>\\n\"+\n",
       "     \"BokehJS does not appear to have successfully loaded. If loading BokehJS from CDN, this \\n\"+\n",
       "     \"may be due to a slow or bad network connection. Possible fixes:\\n\"+\n",
       "     \"</p>\\n\"+\n",
       "     \"<ul>\\n\"+\n",
       "     \"<li>re-rerun `output_notebook()` to attempt to load from CDN again, or</li>\\n\"+\n",
       "     \"<li>use INLINE resources instead, as so:</li>\\n\"+\n",
       "     \"</ul>\\n\"+\n",
       "     \"<code>\\n\"+\n",
       "     \"from bokeh.resources import INLINE\\n\"+\n",
       "     \"output_notebook(resources=INLINE)\\n\"+\n",
       "     \"</code>\\n\"+\n",
       "     \"</div>\"}};\n",
       "\n",
       "  function display_loaded() {\n",
       "    const el = document.getElementById(\"p1002\");\n",
       "    if (el != null) {\n",
       "      el.textContent = \"BokehJS is loading...\";\n",
       "    }\n",
       "    if (root.Bokeh !== undefined) {\n",
       "      if (el != null) {\n",
       "        el.textContent = \"BokehJS \" + root.Bokeh.version + \" successfully loaded.\";\n",
       "      }\n",
       "    } else if (Date.now() < root._bokeh_timeout) {\n",
       "      setTimeout(display_loaded, 100)\n",
       "    }\n",
       "  }\n",
       "\n",
       "  function run_callbacks() {\n",
       "    try {\n",
       "      root._bokeh_onload_callbacks.forEach(function(callback) {\n",
       "        if (callback != null)\n",
       "          callback();\n",
       "      });\n",
       "    } finally {\n",
       "      delete root._bokeh_onload_callbacks\n",
       "    }\n",
       "    console.debug(\"Bokeh: all callbacks have finished\");\n",
       "  }\n",
       "\n",
       "  function load_libs(css_urls, js_urls, callback) {\n",
       "    if (css_urls == null) css_urls = [];\n",
       "    if (js_urls == null) js_urls = [];\n",
       "\n",
       "    root._bokeh_onload_callbacks.push(callback);\n",
       "    if (root._bokeh_is_loading > 0) {\n",
       "      console.debug(\"Bokeh: BokehJS is being loaded, scheduling callback at\", now());\n",
       "      return null;\n",
       "    }\n",
       "    if (js_urls == null || js_urls.length === 0) {\n",
       "      run_callbacks();\n",
       "      return null;\n",
       "    }\n",
       "    console.debug(\"Bokeh: BokehJS not loaded, scheduling load and callback at\", now());\n",
       "    root._bokeh_is_loading = css_urls.length + js_urls.length;\n",
       "\n",
       "    function on_load() {\n",
       "      root._bokeh_is_loading--;\n",
       "      if (root._bokeh_is_loading === 0) {\n",
       "        console.debug(\"Bokeh: all BokehJS libraries/stylesheets loaded\");\n",
       "        run_callbacks()\n",
       "      }\n",
       "    }\n",
       "\n",
       "    function on_error(url) {\n",
       "      console.error(\"failed to load \" + url);\n",
       "    }\n",
       "\n",
       "    for (let i = 0; i < css_urls.length; i++) {\n",
       "      const url = css_urls[i];\n",
       "      const element = document.createElement(\"link\");\n",
       "      element.onload = on_load;\n",
       "      element.onerror = on_error.bind(null, url);\n",
       "      element.rel = \"stylesheet\";\n",
       "      element.type = \"text/css\";\n",
       "      element.href = url;\n",
       "      console.debug(\"Bokeh: injecting link tag for BokehJS stylesheet: \", url);\n",
       "      document.body.appendChild(element);\n",
       "    }\n",
       "\n",
       "    for (let i = 0; i < js_urls.length; i++) {\n",
       "      const url = js_urls[i];\n",
       "      const element = document.createElement('script');\n",
       "      element.onload = on_load;\n",
       "      element.onerror = on_error.bind(null, url);\n",
       "      element.async = false;\n",
       "      element.src = url;\n",
       "      console.debug(\"Bokeh: injecting script tag for BokehJS library: \", url);\n",
       "      document.head.appendChild(element);\n",
       "    }\n",
       "  };\n",
       "\n",
       "  function inject_raw_css(css) {\n",
       "    const element = document.createElement(\"style\");\n",
       "    element.appendChild(document.createTextNode(css));\n",
       "    document.body.appendChild(element);\n",
       "  }\n",
       "\n",
       "  const js_urls = [\"https://cdn.bokeh.org/bokeh/release/bokeh-3.0.3.min.js\", \"https://cdn.bokeh.org/bokeh/release/bokeh-gl-3.0.3.min.js\", \"https://cdn.bokeh.org/bokeh/release/bokeh-widgets-3.0.3.min.js\", \"https://cdn.bokeh.org/bokeh/release/bokeh-tables-3.0.3.min.js\", \"https://cdn.bokeh.org/bokeh/release/bokeh-mathjax-3.0.3.min.js\"];\n",
       "  const css_urls = [];\n",
       "\n",
       "  const inline_js = [    function(Bokeh) {\n",
       "      Bokeh.set_log_level(\"info\");\n",
       "    },\n",
       "function(Bokeh) {\n",
       "    }\n",
       "  ];\n",
       "\n",
       "  function run_inline_js() {\n",
       "    if (root.Bokeh !== undefined || force === true) {\n",
       "          for (let i = 0; i < inline_js.length; i++) {\n",
       "      inline_js[i].call(root, root.Bokeh);\n",
       "    }\n",
       "if (force === true) {\n",
       "        display_loaded();\n",
       "      }} else if (Date.now() < root._bokeh_timeout) {\n",
       "      setTimeout(run_inline_js, 100);\n",
       "    } else if (!root._bokeh_failed_load) {\n",
       "      console.log(\"Bokeh: BokehJS failed to load within specified timeout.\");\n",
       "      root._bokeh_failed_load = true;\n",
       "    } else if (force !== true) {\n",
       "      const cell = $(document.getElementById(\"p1002\")).parents('.cell').data().cell;\n",
       "      cell.output_area.append_execute_result(NB_LOAD_WARNING)\n",
       "    }\n",
       "  }\n",
       "\n",
       "  if (root._bokeh_is_loading === 0) {\n",
       "    console.debug(\"Bokeh: BokehJS loaded, going straight to plotting\");\n",
       "    run_inline_js();\n",
       "  } else {\n",
       "    load_libs(css_urls, js_urls, function() {\n",
       "      console.debug(\"Bokeh: BokehJS plotting callback run at\", now());\n",
       "      run_inline_js();\n",
       "    });\n",
       "  }\n",
       "}(window));"
      ],
      "application/vnd.bokehjs_load.v0+json": "(function(root) {\n  function now() {\n    return new Date();\n  }\n\n  const force = true;\n\n  if (typeof root._bokeh_onload_callbacks === \"undefined\" || force === true) {\n    root._bokeh_onload_callbacks = [];\n    root._bokeh_is_loading = undefined;\n  }\n\n\n  if (typeof (root._bokeh_timeout) === \"undefined\" || force === true) {\n    root._bokeh_timeout = Date.now() + 5000;\n    root._bokeh_failed_load = false;\n  }\n\n  const NB_LOAD_WARNING = {'data': {'text/html':\n     \"<div style='background-color: #fdd'>\\n\"+\n     \"<p>\\n\"+\n     \"BokehJS does not appear to have successfully loaded. If loading BokehJS from CDN, this \\n\"+\n     \"may be due to a slow or bad network connection. Possible fixes:\\n\"+\n     \"</p>\\n\"+\n     \"<ul>\\n\"+\n     \"<li>re-rerun `output_notebook()` to attempt to load from CDN again, or</li>\\n\"+\n     \"<li>use INLINE resources instead, as so:</li>\\n\"+\n     \"</ul>\\n\"+\n     \"<code>\\n\"+\n     \"from bokeh.resources import INLINE\\n\"+\n     \"output_notebook(resources=INLINE)\\n\"+\n     \"</code>\\n\"+\n     \"</div>\"}};\n\n  function display_loaded() {\n    const el = document.getElementById(\"p1002\");\n    if (el != null) {\n      el.textContent = \"BokehJS is loading...\";\n    }\n    if (root.Bokeh !== undefined) {\n      if (el != null) {\n        el.textContent = \"BokehJS \" + root.Bokeh.version + \" successfully loaded.\";\n      }\n    } else if (Date.now() < root._bokeh_timeout) {\n      setTimeout(display_loaded, 100)\n    }\n  }\n\n  function run_callbacks() {\n    try {\n      root._bokeh_onload_callbacks.forEach(function(callback) {\n        if (callback != null)\n          callback();\n      });\n    } finally {\n      delete root._bokeh_onload_callbacks\n    }\n    console.debug(\"Bokeh: all callbacks have finished\");\n  }\n\n  function load_libs(css_urls, js_urls, callback) {\n    if (css_urls == null) css_urls = [];\n    if (js_urls == null) js_urls = [];\n\n    root._bokeh_onload_callbacks.push(callback);\n    if (root._bokeh_is_loading > 0) {\n      console.debug(\"Bokeh: BokehJS is being loaded, scheduling callback at\", now());\n      return null;\n    }\n    if (js_urls == null || js_urls.length === 0) {\n      run_callbacks();\n      return null;\n    }\n    console.debug(\"Bokeh: BokehJS not loaded, scheduling load and callback at\", now());\n    root._bokeh_is_loading = css_urls.length + js_urls.length;\n\n    function on_load() {\n      root._bokeh_is_loading--;\n      if (root._bokeh_is_loading === 0) {\n        console.debug(\"Bokeh: all BokehJS libraries/stylesheets loaded\");\n        run_callbacks()\n      }\n    }\n\n    function on_error(url) {\n      console.error(\"failed to load \" + url);\n    }\n\n    for (let i = 0; i < css_urls.length; i++) {\n      const url = css_urls[i];\n      const element = document.createElement(\"link\");\n      element.onload = on_load;\n      element.onerror = on_error.bind(null, url);\n      element.rel = \"stylesheet\";\n      element.type = \"text/css\";\n      element.href = url;\n      console.debug(\"Bokeh: injecting link tag for BokehJS stylesheet: \", url);\n      document.body.appendChild(element);\n    }\n\n    for (let i = 0; i < js_urls.length; i++) {\n      const url = js_urls[i];\n      const element = document.createElement('script');\n      element.onload = on_load;\n      element.onerror = on_error.bind(null, url);\n      element.async = false;\n      element.src = url;\n      console.debug(\"Bokeh: injecting script tag for BokehJS library: \", url);\n      document.head.appendChild(element);\n    }\n  };\n\n  function inject_raw_css(css) {\n    const element = document.createElement(\"style\");\n    element.appendChild(document.createTextNode(css));\n    document.body.appendChild(element);\n  }\n\n  const js_urls = [\"https://cdn.bokeh.org/bokeh/release/bokeh-3.0.3.min.js\", \"https://cdn.bokeh.org/bokeh/release/bokeh-gl-3.0.3.min.js\", \"https://cdn.bokeh.org/bokeh/release/bokeh-widgets-3.0.3.min.js\", \"https://cdn.bokeh.org/bokeh/release/bokeh-tables-3.0.3.min.js\", \"https://cdn.bokeh.org/bokeh/release/bokeh-mathjax-3.0.3.min.js\"];\n  const css_urls = [];\n\n  const inline_js = [    function(Bokeh) {\n      Bokeh.set_log_level(\"info\");\n    },\nfunction(Bokeh) {\n    }\n  ];\n\n  function run_inline_js() {\n    if (root.Bokeh !== undefined || force === true) {\n          for (let i = 0; i < inline_js.length; i++) {\n      inline_js[i].call(root, root.Bokeh);\n    }\nif (force === true) {\n        display_loaded();\n      }} else if (Date.now() < root._bokeh_timeout) {\n      setTimeout(run_inline_js, 100);\n    } else if (!root._bokeh_failed_load) {\n      console.log(\"Bokeh: BokehJS failed to load within specified timeout.\");\n      root._bokeh_failed_load = true;\n    } else if (force !== true) {\n      const cell = $(document.getElementById(\"p1002\")).parents('.cell').data().cell;\n      cell.output_area.append_execute_result(NB_LOAD_WARNING)\n    }\n  }\n\n  if (root._bokeh_is_loading === 0) {\n    console.debug(\"Bokeh: BokehJS loaded, going straight to plotting\");\n    run_inline_js();\n  } else {\n    load_libs(css_urls, js_urls, function() {\n      console.debug(\"Bokeh: BokehJS plotting callback run at\", now());\n      run_inline_js();\n    });\n  }\n}(window));"
     },
     "metadata": {},
     "output_type": "display_data"
    }
   ],
   "source": [
    "import json\n",
    "import os\n",
    "import pickle\n",
    "import pycountry\n",
    "from datetime import datetime, timedelta\n",
    "\n",
    "import matplotlib\n",
    "import matplotlib as mpl\n",
    "import matplotlib.pyplot as plt\n",
    "import numpy as np\n",
    "import pandas as pd\n",
    "import plotly\n",
    "import plotly.express as px\n",
    "import plotly.graph_objs as go\n",
    "import scipy\n",
    "import scipy.stats as stats\n",
    "import seaborn as sns\n",
    "import statsmodels.api as sm\n",
    "from bokeh import events\n",
    "from bokeh.io import output_file, output_notebook, push_notebook, show\n",
    "from bokeh.layouts import column, gridplot, layout, row\n",
    "from bokeh.models import (\n",
    "    BooleanFilter,\n",
    "    CategoricalColorMapper,\n",
    "    CDSView,\n",
    "    ColumnDataSource,\n",
    "    CustomJS,\n",
    "    DatetimeTickFormatter,\n",
    "    Div,\n",
    "    HoverTool,\n",
    "    LinearAxis,\n",
    "    NumeralTickFormatter,\n",
    "    RadioButtonGroup,\n",
    "    Range1d,\n",
    "    RangeSlider,\n",
    "    RangeTool,\n",
    "    Spinner,\n",
    ")\n",
    "\n",
    "# from bokeh.models.widgets import Panel, Tabs\n",
    "from bokeh.plotting import figure, show\n",
    "from matplotlib import rcParams\n",
    "from statsmodels.formula.api import ols\n",
    "\n",
    "output_notebook()"
   ]
  },
  {
   "cell_type": "code",
   "execution_count": 5,
   "id": "25853dc0-173e-44eb-9db2-1cd5d6345a22",
   "metadata": {},
   "outputs": [],
   "source": [
    "# Set the default style\n",
    "plt.style.use(\"ggplot\")\n",
    "# sns.set_color_codes('bright')\n",
    "\n",
    "# Set Default Fonts\n",
    "rcParams[\"font.family\"] = \"sans-serif\"\n",
    "rcParams[\"font.sans-serif\"] = [\"Arial\", \"Tahoma\"]\n",
    "\n",
    "# Set Default font sizes\n",
    "small_size = 12\n",
    "medium_size = 14\n",
    "large_size = 16\n",
    "\n",
    "# Change the font size for individual elements\n",
    "matplotlib.rc(\"font\", size=small_size)  # controls default text sizes\n",
    "matplotlib.rc(\"axes\", titlesize=small_size)  # fontsize of the axes title\n",
    "matplotlib.rc(\"axes\", labelsize=medium_size)  # fontsize of the x and y labels\n",
    "matplotlib.rc(\"xtick\", labelsize=small_size)  # fontsize of the tick labels\n",
    "matplotlib.rc(\"ytick\", labelsize=small_size)  # fontsize of the tick labels\n",
    "matplotlib.rc(\"legend\", fontsize=small_size)  # legend fontsize\n",
    "matplotlib.rc(\"axes\", titlesize=large_size)  # title fontsize"
   ]
  },
  {
   "cell_type": "code",
   "execution_count": 45,
   "id": "80ad7424-b281-42de-8c6a-b578e35087c1",
   "metadata": {},
   "outputs": [],
   "source": [
    "# Find latest media_insight file\n",
    "media_directory = \"data/media insight\"\n",
    "media_insight_files = os.listdir(media_directory)\n",
    "media_insight_files.sort()\n",
    "\n",
    "# Find latest profile demographics file\n",
    "prof_demographic_directory = \"data/profile demographics\"\n",
    "prof_demographics_files = os.listdir(prof_demographic_directory)\n",
    "prof_demographics_files.sort()\n",
    "\n",
    "\n",
    "media_metadata = pd.read_csv(\"data/media_metadata.csv\")\n",
    "media_insight = pd.read_csv(media_directory + \"/\" + media_insight_files[-1])\n",
    "prof_insight = pd.read_csv(\"data/profile_insight.csv\")\n",
    "# Load the dictionary from a file\n",
    "with open(prof_demographic_directory  + \"/\" + prof_demographics_files[-1], 'rb') as f:\n",
    "    demographic_data = pickle.load(f)"
   ]
  },
  {
   "cell_type": "markdown",
   "id": "f60390d0",
   "metadata": {},
   "source": [
    "<a id='summary'></a>\n",
    "# Summary of profile data"
   ]
  },
  {
   "cell_type": "code",
   "execution_count": 46,
   "id": "5d6b62dd",
   "metadata": {},
   "outputs": [
    {
     "data": {
      "text/html": [
       "<div>\n",
       "<style scoped>\n",
       "    .dataframe tbody tr th:only-of-type {\n",
       "        vertical-align: middle;\n",
       "    }\n",
       "\n",
       "    .dataframe tbody tr th {\n",
       "        vertical-align: top;\n",
       "    }\n",
       "\n",
       "    .dataframe thead th {\n",
       "        text-align: right;\n",
       "    }\n",
       "</style>\n",
       "<table border=\"1\" class=\"dataframe\">\n",
       "  <thead>\n",
       "    <tr style=\"text-align: right;\">\n",
       "      <th></th>\n",
       "      <th>day</th>\n",
       "      <th>number_followers</th>\n",
       "      <th>impressions</th>\n",
       "      <th>profile_views</th>\n",
       "      <th>profile_reach</th>\n",
       "      <th>number_followers_roll</th>\n",
       "      <th>number_followers_cum</th>\n",
       "      <th>follow_views_rt</th>\n",
       "      <th>follow_views_rt_roll</th>\n",
       "      <th>views_reach_rt</th>\n",
       "      <th>views_reach_rt_roll</th>\n",
       "    </tr>\n",
       "  </thead>\n",
       "  <tbody>\n",
       "    <tr>\n",
       "      <th>147</th>\n",
       "      <td>2023-04-14</td>\n",
       "      <td>6</td>\n",
       "      <td>2525.0</td>\n",
       "      <td>54.0</td>\n",
       "      <td>1043.0</td>\n",
       "      <td>6.571429</td>\n",
       "      <td>8170</td>\n",
       "      <td>11.111111</td>\n",
       "      <td>10.062835</td>\n",
       "      <td>5.177373</td>\n",
       "      <td>3.477454</td>\n",
       "    </tr>\n",
       "    <tr>\n",
       "      <th>148</th>\n",
       "      <td>2023-04-15</td>\n",
       "      <td>2</td>\n",
       "      <td>1770.0</td>\n",
       "      <td>46.0</td>\n",
       "      <td>1006.0</td>\n",
       "      <td>7.571429</td>\n",
       "      <td>8172</td>\n",
       "      <td>4.347826</td>\n",
       "      <td>10.384586</td>\n",
       "      <td>4.572565</td>\n",
       "      <td>2.929556</td>\n",
       "    </tr>\n",
       "    <tr>\n",
       "      <th>149</th>\n",
       "      <td>2023-04-16</td>\n",
       "      <td>11</td>\n",
       "      <td>20694.0</td>\n",
       "      <td>170.0</td>\n",
       "      <td>16692.0</td>\n",
       "      <td>NaN</td>\n",
       "      <td>8183</td>\n",
       "      <td>6.470588</td>\n",
       "      <td>NaN</td>\n",
       "      <td>1.018452</td>\n",
       "      <td>NaN</td>\n",
       "    </tr>\n",
       "    <tr>\n",
       "      <th>150</th>\n",
       "      <td>2023-04-17</td>\n",
       "      <td>6</td>\n",
       "      <td>8263.0</td>\n",
       "      <td>84.0</td>\n",
       "      <td>6486.0</td>\n",
       "      <td>NaN</td>\n",
       "      <td>8189</td>\n",
       "      <td>7.142857</td>\n",
       "      <td>NaN</td>\n",
       "      <td>1.295097</td>\n",
       "      <td>NaN</td>\n",
       "    </tr>\n",
       "    <tr>\n",
       "      <th>151</th>\n",
       "      <td>2023-04-18</td>\n",
       "      <td>14</td>\n",
       "      <td>8236.0</td>\n",
       "      <td>74.0</td>\n",
       "      <td>6553.0</td>\n",
       "      <td>NaN</td>\n",
       "      <td>8203</td>\n",
       "      <td>18.918919</td>\n",
       "      <td>NaN</td>\n",
       "      <td>1.129254</td>\n",
       "      <td>NaN</td>\n",
       "    </tr>\n",
       "  </tbody>\n",
       "</table>\n",
       "</div>"
      ],
      "text/plain": [
       "           day  number_followers  impressions  profile_views  profile_reach  \\\n",
       "147 2023-04-14                 6       2525.0           54.0         1043.0   \n",
       "148 2023-04-15                 2       1770.0           46.0         1006.0   \n",
       "149 2023-04-16                11      20694.0          170.0        16692.0   \n",
       "150 2023-04-17                 6       8263.0           84.0         6486.0   \n",
       "151 2023-04-18                14       8236.0           74.0         6553.0   \n",
       "\n",
       "     number_followers_roll  number_followers_cum  follow_views_rt  \\\n",
       "147               6.571429                  8170        11.111111   \n",
       "148               7.571429                  8172         4.347826   \n",
       "149                    NaN                  8183         6.470588   \n",
       "150                    NaN                  8189         7.142857   \n",
       "151                    NaN                  8203        18.918919   \n",
       "\n",
       "     follow_views_rt_roll  views_reach_rt  views_reach_rt_roll  \n",
       "147             10.062835        5.177373             3.477454  \n",
       "148             10.384586        4.572565             2.929556  \n",
       "149                   NaN        1.018452                  NaN  \n",
       "150                   NaN        1.295097                  NaN  \n",
       "151                   NaN        1.129254                  NaN  "
      ]
     },
     "execution_count": 46,
     "metadata": {},
     "output_type": "execute_result"
    }
   ],
   "source": [
    "# Correct the number of followers to account for unfllows, \n",
    "# which cannot be obtained from the API\n",
    "prof_insight = prof_insight.copy()\n",
    "prof_insight[\"number_followers\"] = (prof_insight[\"number_followers\"]*0.95) \\\n",
    "                                        .round() \\\n",
    "                                        .astype(int)\n",
    "\n",
    "\n",
    "# Set day as datetime object and sort dataframe by descending date\n",
    "prof_insight[\"day\"] = pd.to_datetime(prof_insight[\"day\"])\n",
    "prof_insight.sort_values(by=\"day\", inplace=True, ignore_index=True)\n",
    "\n",
    "# Select data wwhere number of followers is different than 0\n",
    "prof_insight = prof_insight.iloc[:-1]\n",
    "\n",
    "# Add new features using number_followers\n",
    "prof_insight[\"number_followers_roll\"] = (\n",
    "    prof_insight[\"number_followers\"].rolling(7, center=True).mean()\n",
    ")\n",
    "prof_insight[\"number_followers_cum\"] = prof_insight[\"number_followers\"].cumsum()\n",
    "\n",
    "# Compute follower-views ratio\n",
    "prof_insight[\"follow_views_rt\"] = (\n",
    "    prof_insight[\"number_followers\"] / prof_insight[\"profile_views\"] * 100\n",
    ")\n",
    "prof_insight[\"follow_views_rt_roll\"] = (\n",
    "    prof_insight[\"follow_views_rt\"].rolling(7, center=True).mean()\n",
    ")\n",
    "\n",
    "# Compute views-reach ratio\n",
    "prof_insight[\"views_reach_rt\"] = (\n",
    "    prof_insight[\"profile_views\"] / prof_insight[\"profile_reach\"] * 100\n",
    ")\n",
    "prof_insight[\"views_reach_rt_roll\"] = (\n",
    "    prof_insight[\"views_reach_rt\"].rolling(7, center=True).mean()\n",
    ")\n",
    "\n",
    "prof_insight.tail()"
   ]
  },
  {
   "cell_type": "code",
   "execution_count": 47,
   "id": "464ac48b",
   "metadata": {},
   "outputs": [
    {
     "data": {
      "text/html": [
       "\n",
       "  <div id=\"b10c6562-1ea1-428e-8bcc-be1a6975e6cf\" data-root-id=\"p3093\" style=\"display: contents;\"></div>\n"
      ]
     },
     "metadata": {},
     "output_type": "display_data"
    },
    {
     "data": {
      "application/javascript": [
       "(function(root) {\n",
       "  function embed_document(root) {\n",
       "  const docs_json = {\"5f1c7629-3f76-48b5-8e73-901697ff5ac5\":{\"version\":\"3.0.3\",\"title\":\"Bokeh Application\",\"defs\":[],\"roots\":[{\"type\":\"object\",\"name\":\"Column\",\"id\":\"p3093\",\"attributes\":{\"children\":[{\"type\":\"object\",\"name\":\"RadioButtonGroup\",\"id\":\"p3090\",\"attributes\":{\"js_event_callbacks\":{\"type\":\"map\",\"entries\":[[\"button_click\",[{\"type\":\"object\",\"name\":\"CustomJS\",\"id\":\"p3094\",\"attributes\":{\"args\":{\"type\":\"map\",\"entries\":[[\"p1\",{\"type\":\"object\",\"name\":\"Figure\",\"id\":\"p2549\",\"attributes\":{\"width\":800,\"height\":350,\"x_range\":{\"type\":\"object\",\"name\":\"Range1d\",\"id\":\"p2559\",\"attributes\":{\"start\":1679270400000.0,\"end\":1681776000000.0}},\"y_range\":{\"type\":\"object\",\"name\":\"DataRange1d\",\"id\":\"p2551\"},\"x_scale\":{\"type\":\"object\",\"name\":\"LinearScale\",\"id\":\"p2563\"},\"y_scale\":{\"type\":\"object\",\"name\":\"LinearScale\",\"id\":\"p2565\"},\"title\":{\"type\":\"object\",\"name\":\"Title\",\"id\":\"p2552\",\"attributes\":{\"text\":\"Number of followers - Linear scale\"}},\"renderers\":[{\"type\":\"object\",\"name\":\"GlyphRenderer\",\"id\":\"p2626\",\"attributes\":{\"data_source\":{\"type\":\"object\",\"name\":\"ColumnDataSource\",\"id\":\"p2620\",\"attributes\":{\"selected\":{\"type\":\"object\",\"name\":\"Selection\",\"id\":\"p2622\",\"attributes\":{\"indices\":[],\"line_indices\":[]}},\"selection_policy\":{\"type\":\"object\",\"name\":\"UnionRenderers\",\"id\":\"p2621\"},\"data\":{\"type\":\"map\",\"entries\":[[\"x\",{\"type\":\"ndarray\",\"array\":{\"type\":\"bytes\",\"data\":\"AACAj4BIeEIAAED10kh4QgAAAFslSXhCAADAwHdJeEIAAIAmykl4QgAAQIwcSnhCAAAA8m5KeEIAAMBXwUp4QgAAgL0TS3hCAABAI2ZLeEIAAACJuEt4QgAAwO4KTHhCAACAVF1MeEIAAEC6r0x4QgAAACACTXhCAADAhVRNeEIAAIDrpk14QgAAQFH5TXhCAAAAt0tOeEIAAMAcnk54QgAAgILwTnhCAABA6EJPeEIAAABOlU94QgAAwLPnT3hCAACAGTpQeEIAAEB/jFB4QgAAAOXeUHhCAADASjFReEIAAICwg1F4QgAAQBbWUXhCAAAAfChSeEIAAMDhelJ4QgAAgEfNUnhCAABArR9TeEIAAAATclN4QgAAwHjEU3hCAACA3hZUeEIAAEBEaVR4QgAAAKq7VHhCAADADw5VeEIAAIB1YFV4QgAAQNuyVXhCAAAAQQVWeEIAAMCmV1Z4QgAAgAyqVnhCAABAcvxWeEIAAADYTld4QgAAwD2hV3hCAACAo/NXeEIAAEAJRlh4QgAAAG+YWHhCAADA1OpYeEIAAIA6PVl4QgAAQKCPWXhCAAAABuJZeEIAAMBrNFp4QgAAgNGGWnhCAABAN9laeEIAAACdK1t4QgAAwAJ+W3hCAACAaNBbeEIAAEDOIlx4QgAAADR1XHhCAADAmcdceEIAAID/GV14QgAAQGVsXXhCAAAAy75deEIAAMAwEV54QgAAgJZjXnhCAABA/LVeeEIAAABiCF94QgAAwMdaX3hCAACALa1feEIAAECT/194QgAAAPlRYHhCAADAXqRgeEIAAIDE9mB4QgAAQCpJYXhCAAAAkJtheEIAAMD17WF4QgAAgFtAYnhCAABAwZJieEIAAAAn5WJ4QgAAwIw3Y3hCAACA8oljeEIAAEBY3GN4QgAAAL4uZHhCAADAI4FkeEIAAICJ02R4QgAAQO8lZXhCAAAAVXhleEIAAMC6ymV4QgAAgCAdZnhCAABAhm9meEIAAADswWZ4QgAAwFEUZ3hCAACAt2ZneEIAAEAduWd4QgAAAIMLaHhCAADA6F1oeEIAAIBOsGh4QgAAQLQCaXhCAAAAGlVpeEIAAMB/p2l4QgAAgOX5aXhCAABAS0xqeEIAAACxnmp4QgAAwBbxanhCAACAfENreEIAAEDilWt4QgAAAEjoa3hCAADArTpseEIAAIATjWx4QgAAQHnfbHhCAAAA3zFteEIAAMBEhG14QgAAgKrWbXhCAABAEClueEIAAAB2e254QgAAwNvNbnhCAACAQSBveEIAAECncm94QgAAAA3Fb3hCAADAchdweEIAAIDYaXB4QgAAQD68cHhCAAAApA5xeEIAAMAJYXF4QgAAgG+zcXhCAABA1QVyeEIAAAA7WHJ4QgAAwKCqcnhCAACABv1yeEIAAEBsT3N4QgAAANKhc3hCAADAN/RzeEIAAICdRnR4QgAAQAOZdHhCAAAAaet0eEIAAMDOPXV4QgAAgDSQdXhCAABAmuJ1eEIAAAAANXZ4QgAAwGWHdnhCAACAy9l2eEIAAEAxLHd4QgAAAJd+d3hCAADA/NB3eEIAAIBiI3h4QgAAQMh1eHhCAAAALsh4eEIAAMCTGnl4Qg==\"},\"shape\":[152],\"dtype\":\"float64\",\"order\":\"little\"}],[\"top\",{\"type\":\"ndarray\",\"array\":{\"type\":\"bytes\",\"data\":\"AQAAAAQAAAABAAAAAwAAAAIAAAACAAAAAQAAAAQAAAAFAAAAEgAAAAcAAAAEAAAADAAAAAEAAAAOAAAAAwAAAAUAAAADAAAAAgAAAAUAAAAKAAAAEgAAABcAAAADAAAAAgAAAAgAAAAIAAAAawAAAJ8AAAAIAAAACQAAAA0AAAAdAAAAJwAAAEsAAAAgAAAAFQAAABoAAAAeAAAAJAAAABsAAAAfAAAAHgAAABAAAAAVAAAAOQAAAB8AAAAVAAAAHwAAAB8AAAAwAAAAJgAAABkAAAASAAAADwAAABMAAAALAAAACgAAAA8AAAARAAAACAAAABAAAAAXAAAAFQAAABMAAAAPAAAACAAAAAwAAAAOAAAADgAAAAoAAAAPAAAAGgAAABYAAAASAAAAHQAAAB8AAAAiAAAAQwAAAC0AAAA8AAAAMwAAAEEAAABiAAAArQAAAOUAAAA3AQAAGgEAAN4AAABTAQAAdwEAAI4BAABNAQAA+AAAAM0AAADIAAAA6QAAAOYAAADEAAAAPwAAAFUAAABGAAAAYAAAAEEAAAA7AAAAMAAAAD0AAABBAAAALQAAADQAAAAeAAAAWgAAAGYAAABVAAAAWgAAAFkAAABLAAAAWQAAADsAAABHAAAAWgAAAIcAAABFAAAAQAAAADwAAAAaAAAAFAAAAEMAAAAVAAAACgAAAA8AAAAPAAAAFQAAAA4AAAAMAAAACQAAAAMAAAAEAAAABwAAAAoAAAADAAAABgAAAAYAAAAHAAAABwAAAAkAAAAFAAAABgAAAAIAAAALAAAABgAAAA4AAAA=\"},\"shape\":[152],\"dtype\":\"int32\",\"order\":\"little\"}]]}}},\"view\":{\"type\":\"object\",\"name\":\"CDSView\",\"id\":\"p2627\",\"attributes\":{\"filter\":{\"type\":\"object\",\"name\":\"AllIndices\",\"id\":\"p2628\"}}},\"glyph\":{\"type\":\"object\",\"name\":\"VBar\",\"id\":\"p2623\",\"attributes\":{\"x\":{\"type\":\"field\",\"field\":\"x\"},\"width\":{\"type\":\"value\",\"value\":22000000},\"top\":{\"type\":\"field\",\"field\":\"top\"},\"line_color\":{\"type\":\"value\",\"value\":\"cornflowerblue\"},\"fill_color\":{\"type\":\"value\",\"value\":\"cornflowerblue\"},\"hatch_color\":{\"type\":\"value\",\"value\":\"cornflowerblue\"}}},\"nonselection_glyph\":{\"type\":\"object\",\"name\":\"VBar\",\"id\":\"p2624\",\"attributes\":{\"x\":{\"type\":\"field\",\"field\":\"x\"},\"width\":{\"type\":\"value\",\"value\":22000000},\"top\":{\"type\":\"field\",\"field\":\"top\"},\"line_color\":{\"type\":\"value\",\"value\":\"cornflowerblue\"},\"line_alpha\":{\"type\":\"value\",\"value\":0.1},\"fill_color\":{\"type\":\"value\",\"value\":\"cornflowerblue\"},\"fill_alpha\":{\"type\":\"value\",\"value\":0.1},\"hatch_color\":{\"type\":\"value\",\"value\":\"cornflowerblue\"},\"hatch_alpha\":{\"type\":\"value\",\"value\":0.1}}},\"muted_glyph\":{\"type\":\"object\",\"name\":\"VBar\",\"id\":\"p2625\",\"attributes\":{\"x\":{\"type\":\"field\",\"field\":\"x\"},\"width\":{\"type\":\"value\",\"value\":22000000},\"top\":{\"type\":\"field\",\"field\":\"top\"},\"line_color\":{\"type\":\"value\",\"value\":\"cornflowerblue\"},\"line_alpha\":{\"type\":\"value\",\"value\":0.2},\"fill_color\":{\"type\":\"value\",\"value\":\"cornflowerblue\"},\"fill_alpha\":{\"type\":\"value\",\"value\":0.2},\"hatch_color\":{\"type\":\"value\",\"value\":\"cornflowerblue\"},\"hatch_alpha\":{\"type\":\"value\",\"value\":0.2}}}}},{\"type\":\"object\",\"name\":\"GlyphRenderer\",\"id\":\"p2673\",\"attributes\":{\"data_source\":{\"type\":\"object\",\"name\":\"ColumnDataSource\",\"id\":\"p2667\",\"attributes\":{\"selected\":{\"type\":\"object\",\"name\":\"Selection\",\"id\":\"p2669\",\"attributes\":{\"indices\":[],\"line_indices\":[]}},\"selection_policy\":{\"type\":\"object\",\"name\":\"UnionRenderers\",\"id\":\"p2668\"},\"data\":{\"type\":\"map\",\"entries\":[[\"x\",{\"type\":\"ndarray\",\"array\":{\"type\":\"bytes\",\"data\":\"AADAwHdJeEIAAIAmykl4QgAAQIwcSnhCAAAA8m5KeEIAAMBXwUp4QgAAgL0TS3hCAABAI2ZLeEIAAACJuEt4QgAAwO4KTHhCAACAVF1MeEIAAEC6r0x4QgAAACACTXhCAADAhVRNeEIAAIDrpk14QgAAQFH5TXhCAAAAt0tOeEIAAMAcnk54QgAAgILwTnhCAABA6EJPeEIAAABOlU94QgAAwLPnT3hCAACAGTpQeEIAAEB/jFB4QgAAAOXeUHhCAADASjFReEIAAICwg1F4QgAAQBbWUXhCAAAAfChSeEIAAMDhelJ4QgAAgEfNUnhCAABArR9TeEIAAAATclN4QgAAwHjEU3hCAACA3hZUeEIAAEBEaVR4QgAAAKq7VHhCAADADw5VeEIAAIB1YFV4QgAAQNuyVXhCAAAAQQVWeEIAAMCmV1Z4QgAAgAyqVnhCAABAcvxWeEIAAADYTld4QgAAwD2hV3hCAACAo/NXeEIAAEAJRlh4QgAAAG+YWHhCAADA1OpYeEIAAIA6PVl4QgAAQKCPWXhCAAAABuJZeEIAAMBrNFp4QgAAgNGGWnhCAABAN9laeEIAAACdK1t4QgAAwAJ+W3hCAACAaNBbeEIAAEDOIlx4QgAAADR1XHhCAADAmcdceEIAAID/GV14QgAAQGVsXXhCAAAAy75deEIAAMAwEV54QgAAgJZjXnhCAABA/LVeeEIAAABiCF94QgAAwMdaX3hCAACALa1feEIAAECT/194QgAAAPlRYHhCAADAXqRgeEIAAIDE9mB4QgAAQCpJYXhCAAAAkJtheEIAAMD17WF4QgAAgFtAYnhCAABAwZJieEIAAAAn5WJ4QgAAwIw3Y3hCAACA8oljeEIAAEBY3GN4QgAAAL4uZHhCAADAI4FkeEIAAICJ02R4QgAAQO8lZXhCAAAAVXhleEIAAMC6ymV4QgAAgCAdZnhCAABAhm9meEIAAADswWZ4QgAAwFEUZ3hCAACAt2ZneEIAAEAduWd4QgAAAIMLaHhCAADA6F1oeEIAAIBOsGh4QgAAQLQCaXhCAAAAGlVpeEIAAMB/p2l4QgAAgOX5aXhCAABAS0xqeEIAAACxnmp4QgAAwBbxanhCAACAfENreEIAAEDilWt4QgAAAEjoa3hCAADArTpseEIAAIATjWx4QgAAQHnfbHhCAAAA3zFteEIAAMBEhG14QgAAgKrWbXhCAABAEClueEIAAAB2e254QgAAwNvNbnhCAACAQSBveEIAAECncm94QgAAAA3Fb3hCAADAchdweEIAAIDYaXB4QgAAQD68cHhCAAAApA5xeEIAAMAJYXF4QgAAgG+zcXhCAABA1QVyeEIAAAA7WHJ4QgAAwKCqcnhCAACABv1yeEIAAEBsT3N4QgAAANKhc3hCAADAN/RzeEIAAICdRnR4QgAAQAOZdHhCAAAAaet0eEIAAMDOPXV4QgAAgDSQdXhCAABAmuJ1eEIAAAAANXZ4QgAAwGWHdnhCAACAy9l2eEIAAEAxLHd4QgAAAJd+d3hCAADA/NB3eEIAAIBiI3h4Qg==\"},\"shape\":[146],\"dtype\":\"float64\",\"order\":\"little\"}],[\"y\",{\"type\":\"ndarray\",\"array\":{\"type\":\"bytes\",\"data\":\"AAAAAAAAAEDbtm3btm0DQCVJkiRJkgRAAAAAAAAAFECSJEmSJEkWQNu2bdu2bRdASZIkSZIkHUBJkiRJkiQdQNu2bdu2bSFAt23btm3bIECSJEmSJEkaQAAAAAAAABhAt23btm3bFkC3bdu2bdsSQAAAAAAAABhAkiRJkiRJGkC3bdu2bdsiQJIkSZIkSSJAAAAAAAAAIkBu27Zt27YjQCVJkiRJkiRASZIkSZIkOEBJkiRJkiRGQCVJkiRJEkVAAAAAAACARUCSJEmSJElGQJIkSZIkyUdAAAAAAAAASkBu27Zt27ZHQJIkSZIkST1ASZIkSZIkP0CSJEmSJMlAQAAAAAAAAEJAAAAAAACAQkBJkiRJkqRBQAAAAAAAAD1Abtu2bdu2PEAAAAAAAAA8QJIkSZIkSTtASZIkSZIkP0Dbtm3btm0+QCVJkiRJkj1AJUmSJEmSPUBu27Zt27Y9QEmSJEmSJEFAt23btm1bQkAlSZIkSRJAQJIkSZIkST5A27Zt27ZtPUBu27Zt27Y7QLdt27Zt2zhA27Zt27ZtM0BJkiRJkiQwQAAAAAAAAC5ASZIkSZIkK0Dbtm3btm0rQCVJkiRJkixA27Zt27ZtL0AAAAAAAAAxQAAAAAAAADFA27Zt27ZtL0CSJEmSJEkwQAAAAAAAADBA27Zt27ZtLUCSJEmSJEkqQEmSJEmSJClAkiRJkiRJLEBJkiRJkiQwQAAAAAAAADFASZIkSZIkM0AlSZIkSZI1QAAAAAAAADlAbtu2bds2QEAlSZIkSZJBQJIkSZIkSURASZIkSZKkRkBu27Zt2zZJQAAAAAAAAE5Abtu2bdv2U0AAAAAAAMBZQAAAAAAAoGFAbtu2bduWZUBJkiRJkqRoQJIkSZIkiW1A27Zt27Y9cUAAAAAAAEBzQNu2bdu2LXRA27Zt27adc0Dbtm3btu1yQLdt27Ztu3JAkiRJkiTJcUDbtm3btn1wQAAAAAAAYG1A27Zt27aNaEBJkiRJkqRlQLdt27ZtO2NAAAAAAABgYUAAAAAAAMBcQEmSJEmSpFZAt23btm1bUUCSJEmSJElRQCVJkiRJklBAt23btm1bT0Bu27Zt2zZMQG7btm3btklA27Zt27btS0CSJEmSJMlPQAAAAAAAwFBASZIkSZKkUUBu27Zt2zZTQJIkSZIkCVRASZIkSZIkVkCSJEmSJAlVQNu2bdu27VNAt23btm0bVEBu27Zt27ZVQAAAAAAAAFVAt23btm2bVEAlSZIkSZJTQEmSJEmSZFJAJUmSJEmSUEAAAAAAAIBPQLdt27ZtW0dASZIkSZIkQ0CSJEmSJEk/QLdt27Zt2zhASZIkSZIkOECSJEmSJEk3QLdt27Zt2y5A27Zt27ZtK0Dbtm3btm0pQJIkSZIkSSZAAAAAAAAAJEC3bdu2bdsgQNu2bdu2bRtAAAAAAAAAGECSJEmSJEkWQCVJkiRJkhhAkiRJkiRJGkDbtm3btm0bQCVJkiRJkhhAkiRJkiRJGkAAAAAAAAAYQLdt27Zt2xpAkiRJkiRJGkCSJEmSJEkeQA==\"},\"shape\":[146],\"dtype\":\"float64\",\"order\":\"little\"}]]}}},\"view\":{\"type\":\"object\",\"name\":\"CDSView\",\"id\":\"p2674\",\"attributes\":{\"filter\":{\"type\":\"object\",\"name\":\"AllIndices\",\"id\":\"p2675\"}}},\"glyph\":{\"type\":\"object\",\"name\":\"Line\",\"id\":\"p2670\",\"attributes\":{\"x\":{\"type\":\"field\",\"field\":\"x\"},\"y\":{\"type\":\"field\",\"field\":\"y\"},\"line_color\":\"darkblue\",\"line_width\":3}},\"nonselection_glyph\":{\"type\":\"object\",\"name\":\"Line\",\"id\":\"p2671\",\"attributes\":{\"x\":{\"type\":\"field\",\"field\":\"x\"},\"y\":{\"type\":\"field\",\"field\":\"y\"},\"line_color\":\"darkblue\",\"line_alpha\":0.1,\"line_width\":3}},\"muted_glyph\":{\"type\":\"object\",\"name\":\"Line\",\"id\":\"p2672\",\"attributes\":{\"x\":{\"type\":\"field\",\"field\":\"x\"},\"y\":{\"type\":\"field\",\"field\":\"y\"},\"line_color\":\"darkblue\",\"line_alpha\":0.2,\"line_width\":3}}}}],\"toolbar\":{\"type\":\"object\",\"name\":\"Toolbar\",\"id\":\"p2555\",\"attributes\":{\"tools\":[{\"type\":\"object\",\"name\":\"PanTool\",\"id\":\"p2617\",\"attributes\":{\"dimensions\":\"width\"}},{\"type\":\"object\",\"name\":\"HoverTool\",\"id\":\"p2891\",\"attributes\":{\"renderers\":\"auto\",\"tooltips\":[[\"index\",\"$index\"],[\"date\",\"$x{%F}\"],[\"number of followers\",\"$y\"]],\"formatters\":{\"type\":\"map\",\"entries\":[[\"$x\",\"datetime\"]]}}}]}},\"left\":[{\"type\":\"object\",\"name\":\"LinearAxis\",\"id\":\"p2610\",\"attributes\":{\"ticker\":{\"type\":\"object\",\"name\":\"BasicTicker\",\"id\":\"p2613\",\"attributes\":{\"mantissas\":[1,2,5]}},\"formatter\":{\"type\":\"object\",\"name\":\"BasicTickFormatter\",\"id\":\"p2611\"},\"axis_label\":\"Number of followers\",\"major_label_policy\":{\"type\":\"object\",\"name\":\"AllLabels\",\"id\":\"p2612\"}}}],\"above\":[{\"type\":\"object\",\"name\":\"DatetimeAxis\",\"id\":\"p2567\",\"attributes\":{\"ticker\":{\"type\":\"object\",\"name\":\"DatetimeTicker\",\"id\":\"p2570\",\"attributes\":{\"num_minor_ticks\":5,\"tickers\":[{\"type\":\"object\",\"name\":\"AdaptiveTicker\",\"id\":\"p2571\",\"attributes\":{\"num_minor_ticks\":0,\"mantissas\":[1,2,5],\"max_interval\":500.0}},{\"type\":\"object\",\"name\":\"AdaptiveTicker\",\"id\":\"p2572\",\"attributes\":{\"num_minor_ticks\":0,\"base\":60,\"mantissas\":[1,2,5,10,15,20,30],\"min_interval\":1000.0,\"max_interval\":1800000.0}},{\"type\":\"object\",\"name\":\"AdaptiveTicker\",\"id\":\"p2573\",\"attributes\":{\"num_minor_ticks\":0,\"base\":24,\"mantissas\":[1,2,4,6,8,12],\"min_interval\":3600000.0,\"max_interval\":43200000.0}},{\"type\":\"object\",\"name\":\"DaysTicker\",\"id\":\"p2574\",\"attributes\":{\"days\":[1,2,3,4,5,6,7,8,9,10,11,12,13,14,15,16,17,18,19,20,21,22,23,24,25,26,27,28,29,30,31]}},{\"type\":\"object\",\"name\":\"DaysTicker\",\"id\":\"p2575\",\"attributes\":{\"days\":[1,4,7,10,13,16,19,22,25,28]}},{\"type\":\"object\",\"name\":\"DaysTicker\",\"id\":\"p2576\",\"attributes\":{\"days\":[1,8,15,22]}},{\"type\":\"object\",\"name\":\"DaysTicker\",\"id\":\"p2577\",\"attributes\":{\"days\":[1,15]}},{\"type\":\"object\",\"name\":\"MonthsTicker\",\"id\":\"p2578\",\"attributes\":{\"months\":[0,1,2,3,4,5,6,7,8,9,10,11]}},{\"type\":\"object\",\"name\":\"MonthsTicker\",\"id\":\"p2579\",\"attributes\":{\"months\":[0,2,4,6,8,10]}},{\"type\":\"object\",\"name\":\"MonthsTicker\",\"id\":\"p2580\",\"attributes\":{\"months\":[0,4,8]}},{\"type\":\"object\",\"name\":\"MonthsTicker\",\"id\":\"p2581\",\"attributes\":{\"months\":[0,6]}},{\"type\":\"object\",\"name\":\"YearsTicker\",\"id\":\"p2582\"}]}},\"formatter\":{\"type\":\"object\",\"name\":\"DatetimeTickFormatter\",\"id\":\"p2887\",\"attributes\":{\"days\":\"%Y-%m-%d\"}},\"major_label_policy\":{\"type\":\"object\",\"name\":\"AllLabels\",\"id\":\"p2569\"}}}],\"center\":[{\"type\":\"object\",\"name\":\"Grid\",\"id\":\"p2609\",\"attributes\":{\"axis\":{\"id\":\"p2567\"},\"grid_line_color\":\"white\"}},{\"type\":\"object\",\"name\":\"Grid\",\"id\":\"p2616\",\"attributes\":{\"dimension\":1,\"axis\":{\"id\":\"p2610\"},\"grid_line_color\":\"white\"}},{\"type\":\"object\",\"name\":\"Legend\",\"id\":\"p2665\",\"attributes\":{\"location\":\"top_left\",\"items\":[{\"type\":\"object\",\"name\":\"LegendItem\",\"id\":\"p2666\",\"attributes\":{\"label\":{\"type\":\"value\",\"value\":\"Daily data\"},\"renderers\":[{\"id\":\"p2626\"}]}},{\"type\":\"object\",\"name\":\"LegendItem\",\"id\":\"p2717\",\"attributes\":{\"label\":{\"type\":\"value\",\"value\":\"7-day rolling mean\"},\"renderers\":[{\"id\":\"p2673\"}]}}]}}],\"background_fill_color\":\"#efefef\"}}],[\"p2\",{\"type\":\"object\",\"name\":\"Figure\",\"id\":\"p2718\",\"attributes\":{\"visible\":false,\"width\":800,\"height\":350,\"x_range\":{\"type\":\"object\",\"name\":\"Range1d\",\"id\":\"p2728\",\"attributes\":{\"start\":1679270400000.0,\"end\":1681776000000.0}},\"y_range\":{\"type\":\"object\",\"name\":\"Range1d\",\"id\":\"p2730\",\"attributes\":{\"start\":0.1,\"end\":408}},\"x_scale\":{\"type\":\"object\",\"name\":\"LinearScale\",\"id\":\"p2732\"},\"y_scale\":{\"type\":\"object\",\"name\":\"LogScale\",\"id\":\"p2734\"},\"title\":{\"type\":\"object\",\"name\":\"Title\",\"id\":\"p2721\",\"attributes\":{\"text\":\"Number of followers - Log scale\"}},\"renderers\":[{\"type\":\"object\",\"name\":\"GlyphRenderer\",\"id\":\"p2795\",\"attributes\":{\"data_source\":{\"type\":\"object\",\"name\":\"ColumnDataSource\",\"id\":\"p2789\",\"attributes\":{\"selected\":{\"type\":\"object\",\"name\":\"Selection\",\"id\":\"p2791\",\"attributes\":{\"indices\":[],\"line_indices\":[]}},\"selection_policy\":{\"type\":\"object\",\"name\":\"UnionRenderers\",\"id\":\"p2790\"},\"data\":{\"type\":\"map\",\"entries\":[[\"x\",{\"type\":\"ndarray\",\"array\":{\"type\":\"bytes\",\"data\":\"AACAj4BIeEIAAED10kh4QgAAAFslSXhCAADAwHdJeEIAAIAmykl4QgAAQIwcSnhCAAAA8m5KeEIAAMBXwUp4QgAAgL0TS3hCAABAI2ZLeEIAAACJuEt4QgAAwO4KTHhCAACAVF1MeEIAAEC6r0x4QgAAACACTXhCAADAhVRNeEIAAIDrpk14QgAAQFH5TXhCAAAAt0tOeEIAAMAcnk54QgAAgILwTnhCAABA6EJPeEIAAABOlU94QgAAwLPnT3hCAACAGTpQeEIAAEB/jFB4QgAAAOXeUHhCAADASjFReEIAAICwg1F4QgAAQBbWUXhCAAAAfChSeEIAAMDhelJ4QgAAgEfNUnhCAABArR9TeEIAAAATclN4QgAAwHjEU3hCAACA3hZUeEIAAEBEaVR4QgAAAKq7VHhCAADADw5VeEIAAIB1YFV4QgAAQNuyVXhCAAAAQQVWeEIAAMCmV1Z4QgAAgAyqVnhCAABAcvxWeEIAAADYTld4QgAAwD2hV3hCAACAo/NXeEIAAEAJRlh4QgAAAG+YWHhCAADA1OpYeEIAAIA6PVl4QgAAQKCPWXhCAAAABuJZeEIAAMBrNFp4QgAAgNGGWnhCAABAN9laeEIAAACdK1t4QgAAwAJ+W3hCAACAaNBbeEIAAEDOIlx4QgAAADR1XHhCAADAmcdceEIAAID/GV14QgAAQGVsXXhCAAAAy75deEIAAMAwEV54QgAAgJZjXnhCAABA/LVeeEIAAABiCF94QgAAwMdaX3hCAACALa1feEIAAECT/194QgAAAPlRYHhCAADAXqRgeEIAAIDE9mB4QgAAQCpJYXhCAAAAkJtheEIAAMD17WF4QgAAgFtAYnhCAABAwZJieEIAAAAn5WJ4QgAAwIw3Y3hCAACA8oljeEIAAEBY3GN4QgAAAL4uZHhCAADAI4FkeEIAAICJ02R4QgAAQO8lZXhCAAAAVXhleEIAAMC6ymV4QgAAgCAdZnhCAABAhm9meEIAAADswWZ4QgAAwFEUZ3hCAACAt2ZneEIAAEAduWd4QgAAAIMLaHhCAADA6F1oeEIAAIBOsGh4QgAAQLQCaXhCAAAAGlVpeEIAAMB/p2l4QgAAgOX5aXhCAABAS0xqeEIAAACxnmp4QgAAwBbxanhCAACAfENreEIAAEDilWt4QgAAAEjoa3hCAADArTpseEIAAIATjWx4QgAAQHnfbHhCAAAA3zFteEIAAMBEhG14QgAAgKrWbXhCAABAEClueEIAAAB2e254QgAAwNvNbnhCAACAQSBveEIAAECncm94QgAAAA3Fb3hCAADAchdweEIAAIDYaXB4QgAAQD68cHhCAAAApA5xeEIAAMAJYXF4QgAAgG+zcXhCAABA1QVyeEIAAAA7WHJ4QgAAwKCqcnhCAACABv1yeEIAAEBsT3N4QgAAANKhc3hCAADAN/RzeEIAAICdRnR4QgAAQAOZdHhCAAAAaet0eEIAAMDOPXV4QgAAgDSQdXhCAABAmuJ1eEIAAAAANXZ4QgAAwGWHdnhCAACAy9l2eEIAAEAxLHd4QgAAAJd+d3hCAADA/NB3eEIAAIBiI3h4QgAAQMh1eHhCAAAALsh4eEIAAMCTGnl4Qg==\"},\"shape\":[152],\"dtype\":\"float64\",\"order\":\"little\"}],[\"top\",{\"type\":\"ndarray\",\"array\":{\"type\":\"bytes\",\"data\":\"AQAAAAQAAAABAAAAAwAAAAIAAAACAAAAAQAAAAQAAAAFAAAAEgAAAAcAAAAEAAAADAAAAAEAAAAOAAAAAwAAAAUAAAADAAAAAgAAAAUAAAAKAAAAEgAAABcAAAADAAAAAgAAAAgAAAAIAAAAawAAAJ8AAAAIAAAACQAAAA0AAAAdAAAAJwAAAEsAAAAgAAAAFQAAABoAAAAeAAAAJAAAABsAAAAfAAAAHgAAABAAAAAVAAAAOQAAAB8AAAAVAAAAHwAAAB8AAAAwAAAAJgAAABkAAAASAAAADwAAABMAAAALAAAACgAAAA8AAAARAAAACAAAABAAAAAXAAAAFQAAABMAAAAPAAAACAAAAAwAAAAOAAAADgAAAAoAAAAPAAAAGgAAABYAAAASAAAAHQAAAB8AAAAiAAAAQwAAAC0AAAA8AAAAMwAAAEEAAABiAAAArQAAAOUAAAA3AQAAGgEAAN4AAABTAQAAdwEAAI4BAABNAQAA+AAAAM0AAADIAAAA6QAAAOYAAADEAAAAPwAAAFUAAABGAAAAYAAAAEEAAAA7AAAAMAAAAD0AAABBAAAALQAAADQAAAAeAAAAWgAAAGYAAABVAAAAWgAAAFkAAABLAAAAWQAAADsAAABHAAAAWgAAAIcAAABFAAAAQAAAADwAAAAaAAAAFAAAAEMAAAAVAAAACgAAAA8AAAAPAAAAFQAAAA4AAAAMAAAACQAAAAMAAAAEAAAABwAAAAoAAAADAAAABgAAAAYAAAAHAAAABwAAAAkAAAAFAAAABgAAAAIAAAALAAAABgAAAA4AAAA=\"},\"shape\":[152],\"dtype\":\"int32\",\"order\":\"little\"}]]}}},\"view\":{\"type\":\"object\",\"name\":\"CDSView\",\"id\":\"p2796\",\"attributes\":{\"filter\":{\"type\":\"object\",\"name\":\"AllIndices\",\"id\":\"p2797\"}}},\"glyph\":{\"type\":\"object\",\"name\":\"VBar\",\"id\":\"p2792\",\"attributes\":{\"x\":{\"type\":\"field\",\"field\":\"x\"},\"width\":{\"type\":\"value\",\"value\":22000000},\"bottom\":{\"type\":\"value\",\"value\":0.1},\"top\":{\"type\":\"field\",\"field\":\"top\"},\"line_color\":{\"type\":\"value\",\"value\":\"cornflowerblue\"},\"fill_color\":{\"type\":\"value\",\"value\":\"cornflowerblue\"},\"hatch_color\":{\"type\":\"value\",\"value\":\"cornflowerblue\"}}},\"nonselection_glyph\":{\"type\":\"object\",\"name\":\"VBar\",\"id\":\"p2793\",\"attributes\":{\"x\":{\"type\":\"field\",\"field\":\"x\"},\"width\":{\"type\":\"value\",\"value\":22000000},\"bottom\":{\"type\":\"value\",\"value\":0.1},\"top\":{\"type\":\"field\",\"field\":\"top\"},\"line_color\":{\"type\":\"value\",\"value\":\"cornflowerblue\"},\"line_alpha\":{\"type\":\"value\",\"value\":0.1},\"fill_color\":{\"type\":\"value\",\"value\":\"cornflowerblue\"},\"fill_alpha\":{\"type\":\"value\",\"value\":0.1},\"hatch_color\":{\"type\":\"value\",\"value\":\"cornflowerblue\"},\"hatch_alpha\":{\"type\":\"value\",\"value\":0.1}}},\"muted_glyph\":{\"type\":\"object\",\"name\":\"VBar\",\"id\":\"p2794\",\"attributes\":{\"x\":{\"type\":\"field\",\"field\":\"x\"},\"width\":{\"type\":\"value\",\"value\":22000000},\"bottom\":{\"type\":\"value\",\"value\":0.1},\"top\":{\"type\":\"field\",\"field\":\"top\"},\"line_color\":{\"type\":\"value\",\"value\":\"cornflowerblue\"},\"line_alpha\":{\"type\":\"value\",\"value\":0.2},\"fill_color\":{\"type\":\"value\",\"value\":\"cornflowerblue\"},\"fill_alpha\":{\"type\":\"value\",\"value\":0.2},\"hatch_color\":{\"type\":\"value\",\"value\":\"cornflowerblue\"},\"hatch_alpha\":{\"type\":\"value\",\"value\":0.2}}}}},{\"type\":\"object\",\"name\":\"GlyphRenderer\",\"id\":\"p2842\",\"attributes\":{\"data_source\":{\"type\":\"object\",\"name\":\"ColumnDataSource\",\"id\":\"p2836\",\"attributes\":{\"selected\":{\"type\":\"object\",\"name\":\"Selection\",\"id\":\"p2838\",\"attributes\":{\"indices\":[],\"line_indices\":[]}},\"selection_policy\":{\"type\":\"object\",\"name\":\"UnionRenderers\",\"id\":\"p2837\"},\"data\":{\"type\":\"map\",\"entries\":[[\"x\",{\"type\":\"ndarray\",\"array\":{\"type\":\"bytes\",\"data\":\"AADAwHdJeEIAAIAmykl4QgAAQIwcSnhCAAAA8m5KeEIAAMBXwUp4QgAAgL0TS3hCAABAI2ZLeEIAAACJuEt4QgAAwO4KTHhCAACAVF1MeEIAAEC6r0x4QgAAACACTXhCAADAhVRNeEIAAIDrpk14QgAAQFH5TXhCAAAAt0tOeEIAAMAcnk54QgAAgILwTnhCAABA6EJPeEIAAABOlU94QgAAwLPnT3hCAACAGTpQeEIAAEB/jFB4QgAAAOXeUHhCAADASjFReEIAAICwg1F4QgAAQBbWUXhCAAAAfChSeEIAAMDhelJ4QgAAgEfNUnhCAABArR9TeEIAAAATclN4QgAAwHjEU3hCAACA3hZUeEIAAEBEaVR4QgAAAKq7VHhCAADADw5VeEIAAIB1YFV4QgAAQNuyVXhCAAAAQQVWeEIAAMCmV1Z4QgAAgAyqVnhCAABAcvxWeEIAAADYTld4QgAAwD2hV3hCAACAo/NXeEIAAEAJRlh4QgAAAG+YWHhCAADA1OpYeEIAAIA6PVl4QgAAQKCPWXhCAAAABuJZeEIAAMBrNFp4QgAAgNGGWnhCAABAN9laeEIAAACdK1t4QgAAwAJ+W3hCAACAaNBbeEIAAEDOIlx4QgAAADR1XHhCAADAmcdceEIAAID/GV14QgAAQGVsXXhCAAAAy75deEIAAMAwEV54QgAAgJZjXnhCAABA/LVeeEIAAABiCF94QgAAwMdaX3hCAACALa1feEIAAECT/194QgAAAPlRYHhCAADAXqRgeEIAAIDE9mB4QgAAQCpJYXhCAAAAkJtheEIAAMD17WF4QgAAgFtAYnhCAABAwZJieEIAAAAn5WJ4QgAAwIw3Y3hCAACA8oljeEIAAEBY3GN4QgAAAL4uZHhCAADAI4FkeEIAAICJ02R4QgAAQO8lZXhCAAAAVXhleEIAAMC6ymV4QgAAgCAdZnhCAABAhm9meEIAAADswWZ4QgAAwFEUZ3hCAACAt2ZneEIAAEAduWd4QgAAAIMLaHhCAADA6F1oeEIAAIBOsGh4QgAAQLQCaXhCAAAAGlVpeEIAAMB/p2l4QgAAgOX5aXhCAABAS0xqeEIAAACxnmp4QgAAwBbxanhCAACAfENreEIAAEDilWt4QgAAAEjoa3hCAADArTpseEIAAIATjWx4QgAAQHnfbHhCAAAA3zFteEIAAMBEhG14QgAAgKrWbXhCAABAEClueEIAAAB2e254QgAAwNvNbnhCAACAQSBveEIAAECncm94QgAAAA3Fb3hCAADAchdweEIAAIDYaXB4QgAAQD68cHhCAAAApA5xeEIAAMAJYXF4QgAAgG+zcXhCAABA1QVyeEIAAAA7WHJ4QgAAwKCqcnhCAACABv1yeEIAAEBsT3N4QgAAANKhc3hCAADAN/RzeEIAAICdRnR4QgAAQAOZdHhCAAAAaet0eEIAAMDOPXV4QgAAgDSQdXhCAABAmuJ1eEIAAAAANXZ4QgAAwGWHdnhCAACAy9l2eEIAAEAxLHd4QgAAAJd+d3hCAADA/NB3eEIAAIBiI3h4Qg==\"},\"shape\":[146],\"dtype\":\"float64\",\"order\":\"little\"}],[\"y\",{\"type\":\"ndarray\",\"array\":{\"type\":\"bytes\",\"data\":\"AAAAAAAAAEDbtm3btm0DQCVJkiRJkgRAAAAAAAAAFECSJEmSJEkWQNu2bdu2bRdASZIkSZIkHUBJkiRJkiQdQNu2bdu2bSFAt23btm3bIECSJEmSJEkaQAAAAAAAABhAt23btm3bFkC3bdu2bdsSQAAAAAAAABhAkiRJkiRJGkC3bdu2bdsiQJIkSZIkSSJAAAAAAAAAIkBu27Zt27YjQCVJkiRJkiRASZIkSZIkOEBJkiRJkiRGQCVJkiRJEkVAAAAAAACARUCSJEmSJElGQJIkSZIkyUdAAAAAAAAASkBu27Zt27ZHQJIkSZIkST1ASZIkSZIkP0CSJEmSJMlAQAAAAAAAAEJAAAAAAACAQkBJkiRJkqRBQAAAAAAAAD1Abtu2bdu2PEAAAAAAAAA8QJIkSZIkSTtASZIkSZIkP0Dbtm3btm0+QCVJkiRJkj1AJUmSJEmSPUBu27Zt27Y9QEmSJEmSJEFAt23btm1bQkAlSZIkSRJAQJIkSZIkST5A27Zt27ZtPUBu27Zt27Y7QLdt27Zt2zhA27Zt27ZtM0BJkiRJkiQwQAAAAAAAAC5ASZIkSZIkK0Dbtm3btm0rQCVJkiRJkixA27Zt27ZtL0AAAAAAAAAxQAAAAAAAADFA27Zt27ZtL0CSJEmSJEkwQAAAAAAAADBA27Zt27ZtLUCSJEmSJEkqQEmSJEmSJClAkiRJkiRJLEBJkiRJkiQwQAAAAAAAADFASZIkSZIkM0AlSZIkSZI1QAAAAAAAADlAbtu2bds2QEAlSZIkSZJBQJIkSZIkSURASZIkSZKkRkBu27Zt2zZJQAAAAAAAAE5Abtu2bdv2U0AAAAAAAMBZQAAAAAAAoGFAbtu2bduWZUBJkiRJkqRoQJIkSZIkiW1A27Zt27Y9cUAAAAAAAEBzQNu2bdu2LXRA27Zt27adc0Dbtm3btu1yQLdt27Ztu3JAkiRJkiTJcUDbtm3btn1wQAAAAAAAYG1A27Zt27aNaEBJkiRJkqRlQLdt27ZtO2NAAAAAAABgYUAAAAAAAMBcQEmSJEmSpFZAt23btm1bUUCSJEmSJElRQCVJkiRJklBAt23btm1bT0Bu27Zt2zZMQG7btm3btklA27Zt27btS0CSJEmSJMlPQAAAAAAAwFBASZIkSZKkUUBu27Zt2zZTQJIkSZIkCVRASZIkSZIkVkCSJEmSJAlVQNu2bdu27VNAt23btm0bVEBu27Zt27ZVQAAAAAAAAFVAt23btm2bVEAlSZIkSZJTQEmSJEmSZFJAJUmSJEmSUEAAAAAAAIBPQLdt27ZtW0dASZIkSZIkQ0CSJEmSJEk/QLdt27Zt2zhASZIkSZIkOECSJEmSJEk3QLdt27Zt2y5A27Zt27ZtK0Dbtm3btm0pQJIkSZIkSSZAAAAAAAAAJEC3bdu2bdsgQNu2bdu2bRtAAAAAAAAAGECSJEmSJEkWQCVJkiRJkhhAkiRJkiRJGkDbtm3btm0bQCVJkiRJkhhAkiRJkiRJGkAAAAAAAAAYQLdt27Zt2xpAkiRJkiRJGkCSJEmSJEkeQA==\"},\"shape\":[146],\"dtype\":\"float64\",\"order\":\"little\"}]]}}},\"view\":{\"type\":\"object\",\"name\":\"CDSView\",\"id\":\"p2843\",\"attributes\":{\"filter\":{\"type\":\"object\",\"name\":\"AllIndices\",\"id\":\"p2844\"}}},\"glyph\":{\"type\":\"object\",\"name\":\"Line\",\"id\":\"p2839\",\"attributes\":{\"x\":{\"type\":\"field\",\"field\":\"x\"},\"y\":{\"type\":\"field\",\"field\":\"y\"},\"line_color\":\"darkblue\",\"line_width\":3}},\"nonselection_glyph\":{\"type\":\"object\",\"name\":\"Line\",\"id\":\"p2840\",\"attributes\":{\"x\":{\"type\":\"field\",\"field\":\"x\"},\"y\":{\"type\":\"field\",\"field\":\"y\"},\"line_color\":\"darkblue\",\"line_alpha\":0.1,\"line_width\":3}},\"muted_glyph\":{\"type\":\"object\",\"name\":\"Line\",\"id\":\"p2841\",\"attributes\":{\"x\":{\"type\":\"field\",\"field\":\"x\"},\"y\":{\"type\":\"field\",\"field\":\"y\"},\"line_color\":\"darkblue\",\"line_alpha\":0.2,\"line_width\":3}}}}],\"toolbar\":{\"type\":\"object\",\"name\":\"Toolbar\",\"id\":\"p2724\",\"attributes\":{\"tools\":[{\"type\":\"object\",\"name\":\"PanTool\",\"id\":\"p2786\",\"attributes\":{\"dimensions\":\"width\"}},{\"id\":\"p2891\"}]}},\"left\":[{\"type\":\"object\",\"name\":\"LogAxis\",\"id\":\"p2779\",\"attributes\":{\"ticker\":{\"type\":\"object\",\"name\":\"LogTicker\",\"id\":\"p2782\",\"attributes\":{\"num_minor_ticks\":10,\"mantissas\":[1,5]}},\"formatter\":{\"type\":\"object\",\"name\":\"LogTickFormatter\",\"id\":\"p2780\"},\"axis_label\":\"Number of followers\",\"major_label_policy\":{\"type\":\"object\",\"name\":\"AllLabels\",\"id\":\"p2781\"}}}],\"above\":[{\"type\":\"object\",\"name\":\"DatetimeAxis\",\"id\":\"p2736\",\"attributes\":{\"ticker\":{\"type\":\"object\",\"name\":\"DatetimeTicker\",\"id\":\"p2739\",\"attributes\":{\"num_minor_ticks\":5,\"tickers\":[{\"type\":\"object\",\"name\":\"AdaptiveTicker\",\"id\":\"p2740\",\"attributes\":{\"num_minor_ticks\":0,\"mantissas\":[1,2,5],\"max_interval\":500.0}},{\"type\":\"object\",\"name\":\"AdaptiveTicker\",\"id\":\"p2741\",\"attributes\":{\"num_minor_ticks\":0,\"base\":60,\"mantissas\":[1,2,5,10,15,20,30],\"min_interval\":1000.0,\"max_interval\":1800000.0}},{\"type\":\"object\",\"name\":\"AdaptiveTicker\",\"id\":\"p2742\",\"attributes\":{\"num_minor_ticks\":0,\"base\":24,\"mantissas\":[1,2,4,6,8,12],\"min_interval\":3600000.0,\"max_interval\":43200000.0}},{\"type\":\"object\",\"name\":\"DaysTicker\",\"id\":\"p2743\",\"attributes\":{\"days\":[1,2,3,4,5,6,7,8,9,10,11,12,13,14,15,16,17,18,19,20,21,22,23,24,25,26,27,28,29,30,31]}},{\"type\":\"object\",\"name\":\"DaysTicker\",\"id\":\"p2744\",\"attributes\":{\"days\":[1,4,7,10,13,16,19,22,25,28]}},{\"type\":\"object\",\"name\":\"DaysTicker\",\"id\":\"p2745\",\"attributes\":{\"days\":[1,8,15,22]}},{\"type\":\"object\",\"name\":\"DaysTicker\",\"id\":\"p2746\",\"attributes\":{\"days\":[1,15]}},{\"type\":\"object\",\"name\":\"MonthsTicker\",\"id\":\"p2747\",\"attributes\":{\"months\":[0,1,2,3,4,5,6,7,8,9,10,11]}},{\"type\":\"object\",\"name\":\"MonthsTicker\",\"id\":\"p2748\",\"attributes\":{\"months\":[0,2,4,6,8,10]}},{\"type\":\"object\",\"name\":\"MonthsTicker\",\"id\":\"p2749\",\"attributes\":{\"months\":[0,4,8]}},{\"type\":\"object\",\"name\":\"MonthsTicker\",\"id\":\"p2750\",\"attributes\":{\"months\":[0,6]}},{\"type\":\"object\",\"name\":\"YearsTicker\",\"id\":\"p2751\"}]}},\"formatter\":{\"type\":\"object\",\"name\":\"DatetimeTickFormatter\",\"id\":\"p2889\",\"attributes\":{\"days\":\"%Y-%m-%d\"}},\"major_label_policy\":{\"type\":\"object\",\"name\":\"AllLabels\",\"id\":\"p2738\"}}}],\"center\":[{\"type\":\"object\",\"name\":\"Grid\",\"id\":\"p2778\",\"attributes\":{\"axis\":{\"id\":\"p2736\"},\"grid_line_color\":\"white\"}},{\"type\":\"object\",\"name\":\"Grid\",\"id\":\"p2785\",\"attributes\":{\"dimension\":1,\"axis\":{\"id\":\"p2779\"},\"grid_line_color\":\"white\"}},{\"type\":\"object\",\"name\":\"Legend\",\"id\":\"p2834\",\"attributes\":{\"location\":\"top_left\",\"items\":[{\"type\":\"object\",\"name\":\"LegendItem\",\"id\":\"p2835\",\"attributes\":{\"label\":{\"type\":\"value\",\"value\":\"Daily data\"},\"renderers\":[{\"id\":\"p2795\"}]}},{\"type\":\"object\",\"name\":\"LegendItem\",\"id\":\"p2886\",\"attributes\":{\"label\":{\"type\":\"value\",\"value\":\"7-day rolling mean\"},\"renderers\":[{\"id\":\"p2842\"}]}}]}}],\"background_fill_color\":\"#efefef\"}}],[\"select1\",{\"type\":\"object\",\"name\":\"Figure\",\"id\":\"p2894\",\"attributes\":{\"width\":800,\"height\":200,\"x_range\":{\"type\":\"object\",\"name\":\"DataRange1d\",\"id\":\"p2896\"},\"y_range\":{\"type\":\"object\",\"name\":\"DataRange1d\",\"id\":\"p2895\"},\"x_scale\":{\"type\":\"object\",\"name\":\"LinearScale\",\"id\":\"p2908\"},\"y_scale\":{\"type\":\"object\",\"name\":\"LinearScale\",\"id\":\"p2910\"},\"title\":{\"type\":\"object\",\"name\":\"Title\",\"id\":\"p2897\",\"attributes\":{\"text\":\"Cumulative number of followers - Linear scale\"}},\"renderers\":[{\"type\":\"object\",\"name\":\"GlyphRenderer\",\"id\":\"p2969\",\"attributes\":{\"data_source\":{\"type\":\"object\",\"name\":\"ColumnDataSource\",\"id\":\"p2963\",\"attributes\":{\"selected\":{\"type\":\"object\",\"name\":\"Selection\",\"id\":\"p2965\",\"attributes\":{\"indices\":[],\"line_indices\":[]}},\"selection_policy\":{\"type\":\"object\",\"name\":\"UnionRenderers\",\"id\":\"p2964\"},\"data\":{\"type\":\"map\",\"entries\":[[\"x\",{\"type\":\"ndarray\",\"array\":{\"type\":\"bytes\",\"data\":\"AACAj4BIeEIAAED10kh4QgAAAFslSXhCAADAwHdJeEIAAIAmykl4QgAAQIwcSnhCAAAA8m5KeEIAAMBXwUp4QgAAgL0TS3hCAABAI2ZLeEIAAACJuEt4QgAAwO4KTHhCAACAVF1MeEIAAEC6r0x4QgAAACACTXhCAADAhVRNeEIAAIDrpk14QgAAQFH5TXhCAAAAt0tOeEIAAMAcnk54QgAAgILwTnhCAABA6EJPeEIAAABOlU94QgAAwLPnT3hCAACAGTpQeEIAAEB/jFB4QgAAAOXeUHhCAADASjFReEIAAICwg1F4QgAAQBbWUXhCAAAAfChSeEIAAMDhelJ4QgAAgEfNUnhCAABArR9TeEIAAAATclN4QgAAwHjEU3hCAACA3hZUeEIAAEBEaVR4QgAAAKq7VHhCAADADw5VeEIAAIB1YFV4QgAAQNuyVXhCAAAAQQVWeEIAAMCmV1Z4QgAAgAyqVnhCAABAcvxWeEIAAADYTld4QgAAwD2hV3hCAACAo/NXeEIAAEAJRlh4QgAAAG+YWHhCAADA1OpYeEIAAIA6PVl4QgAAQKCPWXhCAAAABuJZeEIAAMBrNFp4QgAAgNGGWnhCAABAN9laeEIAAACdK1t4QgAAwAJ+W3hCAACAaNBbeEIAAEDOIlx4QgAAADR1XHhCAADAmcdceEIAAID/GV14QgAAQGVsXXhCAAAAy75deEIAAMAwEV54QgAAgJZjXnhCAABA/LVeeEIAAABiCF94QgAAwMdaX3hCAACALa1feEIAAECT/194QgAAAPlRYHhCAADAXqRgeEIAAIDE9mB4QgAAQCpJYXhCAAAAkJtheEIAAMD17WF4QgAAgFtAYnhCAABAwZJieEIAAAAn5WJ4QgAAwIw3Y3hCAACA8oljeEIAAEBY3GN4QgAAAL4uZHhCAADAI4FkeEIAAICJ02R4QgAAQO8lZXhCAAAAVXhleEIAAMC6ymV4QgAAgCAdZnhCAABAhm9meEIAAADswWZ4QgAAwFEUZ3hCAACAt2ZneEIAAEAduWd4QgAAAIMLaHhCAADA6F1oeEIAAIBOsGh4QgAAQLQCaXhCAAAAGlVpeEIAAMB/p2l4QgAAgOX5aXhCAABAS0xqeEIAAACxnmp4QgAAwBbxanhCAACAfENreEIAAEDilWt4QgAAAEjoa3hCAADArTpseEIAAIATjWx4QgAAQHnfbHhCAAAA3zFteEIAAMBEhG14QgAAgKrWbXhCAABAEClueEIAAAB2e254QgAAwNvNbnhCAACAQSBveEIAAECncm94QgAAAA3Fb3hCAADAchdweEIAAIDYaXB4QgAAQD68cHhCAAAApA5xeEIAAMAJYXF4QgAAgG+zcXhCAABA1QVyeEIAAAA7WHJ4QgAAwKCqcnhCAACABv1yeEIAAEBsT3N4QgAAANKhc3hCAADAN/RzeEIAAICdRnR4QgAAQAOZdHhCAAAAaet0eEIAAMDOPXV4QgAAgDSQdXhCAABAmuJ1eEIAAAAANXZ4QgAAwGWHdnhCAACAy9l2eEIAAEAxLHd4QgAAAJd+d3hCAADA/NB3eEIAAIBiI3h4QgAAQMh1eHhCAAAALsh4eEIAAMCTGnl4Qg==\"},\"shape\":[152],\"dtype\":\"float64\",\"order\":\"little\"}],[\"y2\",{\"type\":\"ndarray\",\"array\":{\"type\":\"bytes\",\"data\":\"AQAAAAUAAAAGAAAACQAAAAsAAAANAAAADgAAABIAAAAXAAAAKQAAADAAAAA0AAAAQAAAAEEAAABPAAAAUgAAAFcAAABaAAAAXAAAAGEAAABrAAAAfQAAAJQAAACXAAAAmQAAAKEAAACpAAAAFAEAALMBAAC7AQAAxAEAANEBAADuAQAAFQIAAGACAACAAgAAlQIAAK8CAADNAgAA8QIAAAwDAAArAwAASQMAAFkDAABuAwAApwMAAMYDAADbAwAA+gMAABkEAABJBAAAbwQAAIgEAACaBAAAqQQAALwEAADHBAAA0QQAAOAEAADxBAAA+QQAAAkFAAAgBQAANQUAAEgFAABXBQAAXwUAAGsFAAB5BQAAhwUAAJEFAACgBQAAugUAANAFAADiBQAA/wUAAB4GAABABgAAgwYAALAGAADsBgAAHwcAAGAHAADCBwAAbwgAAFQJAACLCgAApQsAAIMMAADWDQAATQ8AANsQAAAoEgAAIBMAAO0TAAC1FAAAnhUAAIQWAABIFwAAhxcAANwXAAAiGAAAghgAAMMYAAD+GAAALhkAAGsZAACsGQAA2RkAAA0aAAArGgAAhRoAAOsaAABAGwAAmhsAAPMbAAA+HAAAlxwAANIcAAAZHQAAcx0AAPodAAA/HgAAfx4AALseAADVHgAA6R4AACwfAABBHwAASx8AAFofAABpHwAAfh8AAIwfAACYHwAAoR8AAKQfAACoHwAArx8AALkfAAC8HwAAwh8AAMgfAADPHwAA1h8AAN8fAADkHwAA6h8AAOwfAAD3HwAA/R8AAAsgAAA=\"},\"shape\":[152],\"dtype\":\"int32\",\"order\":\"little\"}]]}}},\"view\":{\"type\":\"object\",\"name\":\"CDSView\",\"id\":\"p2970\",\"attributes\":{\"filter\":{\"type\":\"object\",\"name\":\"AllIndices\",\"id\":\"p2971\"}}},\"glyph\":{\"type\":\"object\",\"name\":\"VArea\",\"id\":\"p2966\",\"attributes\":{\"x\":{\"type\":\"field\",\"field\":\"x\"},\"y1\":{\"type\":\"value\",\"value\":0.1},\"y2\":{\"type\":\"field\",\"field\":\"y2\"},\"fill_color\":\"lightsteelblue\"}},\"nonselection_glyph\":{\"type\":\"object\",\"name\":\"VArea\",\"id\":\"p2967\",\"attributes\":{\"x\":{\"type\":\"field\",\"field\":\"x\"},\"y1\":{\"type\":\"value\",\"value\":0.1},\"y2\":{\"type\":\"field\",\"field\":\"y2\"},\"fill_color\":\"lightsteelblue\",\"fill_alpha\":0.1,\"hatch_alpha\":{\"type\":\"value\",\"value\":0.1}}},\"muted_glyph\":{\"type\":\"object\",\"name\":\"VArea\",\"id\":\"p2968\",\"attributes\":{\"x\":{\"type\":\"field\",\"field\":\"x\"},\"y1\":{\"type\":\"value\",\"value\":0.1},\"y2\":{\"type\":\"field\",\"field\":\"y2\"},\"fill_color\":\"lightsteelblue\",\"fill_alpha\":0.2,\"hatch_alpha\":{\"type\":\"value\",\"value\":0.2}}}}},{\"type\":\"object\",\"name\":\"GlyphRenderer\",\"id\":\"p2978\",\"attributes\":{\"data_source\":{\"type\":\"object\",\"name\":\"ColumnDataSource\",\"id\":\"p2972\",\"attributes\":{\"selected\":{\"type\":\"object\",\"name\":\"Selection\",\"id\":\"p2974\",\"attributes\":{\"indices\":[],\"line_indices\":[]}},\"selection_policy\":{\"type\":\"object\",\"name\":\"UnionRenderers\",\"id\":\"p2973\"},\"data\":{\"type\":\"map\",\"entries\":[[\"x\",{\"type\":\"ndarray\",\"array\":{\"type\":\"bytes\",\"data\":\"AACAj4BIeEIAAED10kh4QgAAAFslSXhCAADAwHdJeEIAAIAmykl4QgAAQIwcSnhCAAAA8m5KeEIAAMBXwUp4QgAAgL0TS3hCAABAI2ZLeEIAAACJuEt4QgAAwO4KTHhCAACAVF1MeEIAAEC6r0x4QgAAACACTXhCAADAhVRNeEIAAIDrpk14QgAAQFH5TXhCAAAAt0tOeEIAAMAcnk54QgAAgILwTnhCAABA6EJPeEIAAABOlU94QgAAwLPnT3hCAACAGTpQeEIAAEB/jFB4QgAAAOXeUHhCAADASjFReEIAAICwg1F4QgAAQBbWUXhCAAAAfChSeEIAAMDhelJ4QgAAgEfNUnhCAABArR9TeEIAAAATclN4QgAAwHjEU3hCAACA3hZUeEIAAEBEaVR4QgAAAKq7VHhCAADADw5VeEIAAIB1YFV4QgAAQNuyVXhCAAAAQQVWeEIAAMCmV1Z4QgAAgAyqVnhCAABAcvxWeEIAAADYTld4QgAAwD2hV3hCAACAo/NXeEIAAEAJRlh4QgAAAG+YWHhCAADA1OpYeEIAAIA6PVl4QgAAQKCPWXhCAAAABuJZeEIAAMBrNFp4QgAAgNGGWnhCAABAN9laeEIAAACdK1t4QgAAwAJ+W3hCAACAaNBbeEIAAEDOIlx4QgAAADR1XHhCAADAmcdceEIAAID/GV14QgAAQGVsXXhCAAAAy75deEIAAMAwEV54QgAAgJZjXnhCAABA/LVeeEIAAABiCF94QgAAwMdaX3hCAACALa1feEIAAECT/194QgAAAPlRYHhCAADAXqRgeEIAAIDE9mB4QgAAQCpJYXhCAAAAkJtheEIAAMD17WF4QgAAgFtAYnhCAABAwZJieEIAAAAn5WJ4QgAAwIw3Y3hCAACA8oljeEIAAEBY3GN4QgAAAL4uZHhCAADAI4FkeEIAAICJ02R4QgAAQO8lZXhCAAAAVXhleEIAAMC6ymV4QgAAgCAdZnhCAABAhm9meEIAAADswWZ4QgAAwFEUZ3hCAACAt2ZneEIAAEAduWd4QgAAAIMLaHhCAADA6F1oeEIAAIBOsGh4QgAAQLQCaXhCAAAAGlVpeEIAAMB/p2l4QgAAgOX5aXhCAABAS0xqeEIAAACxnmp4QgAAwBbxanhCAACAfENreEIAAEDilWt4QgAAAEjoa3hCAADArTpseEIAAIATjWx4QgAAQHnfbHhCAAAA3zFteEIAAMBEhG14QgAAgKrWbXhCAABAEClueEIAAAB2e254QgAAwNvNbnhCAACAQSBveEIAAECncm94QgAAAA3Fb3hCAADAchdweEIAAIDYaXB4QgAAQD68cHhCAAAApA5xeEIAAMAJYXF4QgAAgG+zcXhCAABA1QVyeEIAAAA7WHJ4QgAAwKCqcnhCAACABv1yeEIAAEBsT3N4QgAAANKhc3hCAADAN/RzeEIAAICdRnR4QgAAQAOZdHhCAAAAaet0eEIAAMDOPXV4QgAAgDSQdXhCAABAmuJ1eEIAAAAANXZ4QgAAwGWHdnhCAACAy9l2eEIAAEAxLHd4QgAAAJd+d3hCAADA/NB3eEIAAIBiI3h4QgAAQMh1eHhCAAAALsh4eEIAAMCTGnl4Qg==\"},\"shape\":[152],\"dtype\":\"float64\",\"order\":\"little\"}],[\"y\",{\"type\":\"ndarray\",\"array\":{\"type\":\"bytes\",\"data\":\"AQAAAAUAAAAGAAAACQAAAAsAAAANAAAADgAAABIAAAAXAAAAKQAAADAAAAA0AAAAQAAAAEEAAABPAAAAUgAAAFcAAABaAAAAXAAAAGEAAABrAAAAfQAAAJQAAACXAAAAmQAAAKEAAACpAAAAFAEAALMBAAC7AQAAxAEAANEBAADuAQAAFQIAAGACAACAAgAAlQIAAK8CAADNAgAA8QIAAAwDAAArAwAASQMAAFkDAABuAwAApwMAAMYDAADbAwAA+gMAABkEAABJBAAAbwQAAIgEAACaBAAAqQQAALwEAADHBAAA0QQAAOAEAADxBAAA+QQAAAkFAAAgBQAANQUAAEgFAABXBQAAXwUAAGsFAAB5BQAAhwUAAJEFAACgBQAAugUAANAFAADiBQAA/wUAAB4GAABABgAAgwYAALAGAADsBgAAHwcAAGAHAADCBwAAbwgAAFQJAACLCgAApQsAAIMMAADWDQAATQ8AANsQAAAoEgAAIBMAAO0TAAC1FAAAnhUAAIQWAABIFwAAhxcAANwXAAAiGAAAghgAAMMYAAD+GAAALhkAAGsZAACsGQAA2RkAAA0aAAArGgAAhRoAAOsaAABAGwAAmhsAAPMbAAA+HAAAlxwAANIcAAAZHQAAcx0AAPodAAA/HgAAfx4AALseAADVHgAA6R4AACwfAABBHwAASx8AAFofAABpHwAAfh8AAIwfAACYHwAAoR8AAKQfAACoHwAArx8AALkfAAC8HwAAwh8AAMgfAADPHwAA1h8AAN8fAADkHwAA6h8AAOwfAAD3HwAA/R8AAAsgAAA=\"},\"shape\":[152],\"dtype\":\"int32\",\"order\":\"little\"}]]}}},\"view\":{\"type\":\"object\",\"name\":\"CDSView\",\"id\":\"p2979\",\"attributes\":{\"filter\":{\"type\":\"object\",\"name\":\"AllIndices\",\"id\":\"p2980\"}}},\"glyph\":{\"type\":\"object\",\"name\":\"Line\",\"id\":\"p2975\",\"attributes\":{\"x\":{\"type\":\"field\",\"field\":\"x\"},\"y\":{\"type\":\"field\",\"field\":\"y\"},\"line_color\":\"darkblue\",\"line_width\":3}},\"nonselection_glyph\":{\"type\":\"object\",\"name\":\"Line\",\"id\":\"p2976\",\"attributes\":{\"x\":{\"type\":\"field\",\"field\":\"x\"},\"y\":{\"type\":\"field\",\"field\":\"y\"},\"line_color\":\"darkblue\",\"line_alpha\":0.1,\"line_width\":3}},\"muted_glyph\":{\"type\":\"object\",\"name\":\"Line\",\"id\":\"p2977\",\"attributes\":{\"x\":{\"type\":\"field\",\"field\":\"x\"},\"y\":{\"type\":\"field\",\"field\":\"y\"},\"line_color\":\"darkblue\",\"line_alpha\":0.2,\"line_width\":3}}}}],\"toolbar\":{\"type\":\"object\",\"name\":\"Toolbar\",\"id\":\"p2900\",\"attributes\":{\"tools\":[{\"type\":\"object\",\"name\":\"RangeTool\",\"id\":\"p3068\",\"attributes\":{\"x_range\":{\"id\":\"p2559\"},\"overlay\":{\"type\":\"object\",\"name\":\"BoxAnnotation\",\"id\":\"p3069\",\"attributes\":{\"syncable\":false,\"level\":\"overlay\",\"line_color\":\"black\",\"line_alpha\":1.0,\"line_width\":0.5,\"line_dash\":[2,2],\"fill_color\":\"navy\",\"fill_alpha\":0.2}}}}],\"active_multi\":{\"id\":\"p3068\"}}},\"toolbar_location\":null,\"left\":[{\"type\":\"object\",\"name\":\"LinearAxis\",\"id\":\"p2955\",\"attributes\":{\"ticker\":{\"type\":\"object\",\"name\":\"BasicTicker\",\"id\":\"p2958\",\"attributes\":{\"mantissas\":[1,2,5]}},\"formatter\":{\"type\":\"object\",\"name\":\"BasicTickFormatter\",\"id\":\"p2956\"},\"major_label_policy\":{\"type\":\"object\",\"name\":\"AllLabels\",\"id\":\"p2957\"}}}],\"below\":[{\"type\":\"object\",\"name\":\"DatetimeAxis\",\"id\":\"p2912\",\"attributes\":{\"ticker\":{\"type\":\"object\",\"name\":\"DatetimeTicker\",\"id\":\"p2915\",\"attributes\":{\"num_minor_ticks\":5,\"tickers\":[{\"type\":\"object\",\"name\":\"AdaptiveTicker\",\"id\":\"p2916\",\"attributes\":{\"num_minor_ticks\":0,\"mantissas\":[1,2,5],\"max_interval\":500.0}},{\"type\":\"object\",\"name\":\"AdaptiveTicker\",\"id\":\"p2917\",\"attributes\":{\"num_minor_ticks\":0,\"base\":60,\"mantissas\":[1,2,5,10,15,20,30],\"min_interval\":1000.0,\"max_interval\":1800000.0}},{\"type\":\"object\",\"name\":\"AdaptiveTicker\",\"id\":\"p2918\",\"attributes\":{\"num_minor_ticks\":0,\"base\":24,\"mantissas\":[1,2,4,6,8,12],\"min_interval\":3600000.0,\"max_interval\":43200000.0}},{\"type\":\"object\",\"name\":\"DaysTicker\",\"id\":\"p2919\",\"attributes\":{\"days\":[1,2,3,4,5,6,7,8,9,10,11,12,13,14,15,16,17,18,19,20,21,22,23,24,25,26,27,28,29,30,31]}},{\"type\":\"object\",\"name\":\"DaysTicker\",\"id\":\"p2920\",\"attributes\":{\"days\":[1,4,7,10,13,16,19,22,25,28]}},{\"type\":\"object\",\"name\":\"DaysTicker\",\"id\":\"p2921\",\"attributes\":{\"days\":[1,8,15,22]}},{\"type\":\"object\",\"name\":\"DaysTicker\",\"id\":\"p2922\",\"attributes\":{\"days\":[1,15]}},{\"type\":\"object\",\"name\":\"MonthsTicker\",\"id\":\"p2923\",\"attributes\":{\"months\":[0,1,2,3,4,5,6,7,8,9,10,11]}},{\"type\":\"object\",\"name\":\"MonthsTicker\",\"id\":\"p2924\",\"attributes\":{\"months\":[0,2,4,6,8,10]}},{\"type\":\"object\",\"name\":\"MonthsTicker\",\"id\":\"p2925\",\"attributes\":{\"months\":[0,4,8]}},{\"type\":\"object\",\"name\":\"MonthsTicker\",\"id\":\"p2926\",\"attributes\":{\"months\":[0,6]}},{\"type\":\"object\",\"name\":\"YearsTicker\",\"id\":\"p2927\"}]}},\"formatter\":{\"type\":\"object\",\"name\":\"DatetimeTickFormatter\",\"id\":\"p3078\",\"attributes\":{\"days\":\"%Y-%m-%d\"}},\"major_label_policy\":{\"type\":\"object\",\"name\":\"AllLabels\",\"id\":\"p2914\"}}}],\"center\":[{\"type\":\"object\",\"name\":\"Grid\",\"id\":\"p2954\",\"attributes\":{\"axis\":{\"id\":\"p2912\"},\"grid_line_color\":\"white\"}},{\"type\":\"object\",\"name\":\"Grid\",\"id\":\"p2961\",\"attributes\":{\"dimension\":1,\"axis\":{\"id\":\"p2955\"},\"grid_line_color\":\"white\"}}],\"background_fill_color\":\"#efefef\"}}],[\"select2\",{\"type\":\"object\",\"name\":\"Figure\",\"id\":\"p2981\",\"attributes\":{\"visible\":false,\"width\":800,\"height\":200,\"x_range\":{\"type\":\"object\",\"name\":\"DataRange1d\",\"id\":\"p2983\"},\"y_range\":{\"type\":\"object\",\"name\":\"DataRange1d\",\"id\":\"p2982\"},\"x_scale\":{\"type\":\"object\",\"name\":\"LinearScale\",\"id\":\"p2995\"},\"y_scale\":{\"type\":\"object\",\"name\":\"LogScale\",\"id\":\"p2997\"},\"title\":{\"type\":\"object\",\"name\":\"Title\",\"id\":\"p2984\",\"attributes\":{\"text\":\"Cumulative number of followers - Log scale\"}},\"renderers\":[{\"type\":\"object\",\"name\":\"GlyphRenderer\",\"id\":\"p3056\",\"attributes\":{\"data_source\":{\"type\":\"object\",\"name\":\"ColumnDataSource\",\"id\":\"p3050\",\"attributes\":{\"selected\":{\"type\":\"object\",\"name\":\"Selection\",\"id\":\"p3052\",\"attributes\":{\"indices\":[],\"line_indices\":[]}},\"selection_policy\":{\"type\":\"object\",\"name\":\"UnionRenderers\",\"id\":\"p3051\"},\"data\":{\"type\":\"map\",\"entries\":[[\"x\",{\"type\":\"ndarray\",\"array\":{\"type\":\"bytes\",\"data\":\"AACAj4BIeEIAAED10kh4QgAAAFslSXhCAADAwHdJeEIAAIAmykl4QgAAQIwcSnhCAAAA8m5KeEIAAMBXwUp4QgAAgL0TS3hCAABAI2ZLeEIAAACJuEt4QgAAwO4KTHhCAACAVF1MeEIAAEC6r0x4QgAAACACTXhCAADAhVRNeEIAAIDrpk14QgAAQFH5TXhCAAAAt0tOeEIAAMAcnk54QgAAgILwTnhCAABA6EJPeEIAAABOlU94QgAAwLPnT3hCAACAGTpQeEIAAEB/jFB4QgAAAOXeUHhCAADASjFReEIAAICwg1F4QgAAQBbWUXhCAAAAfChSeEIAAMDhelJ4QgAAgEfNUnhCAABArR9TeEIAAAATclN4QgAAwHjEU3hCAACA3hZUeEIAAEBEaVR4QgAAAKq7VHhCAADADw5VeEIAAIB1YFV4QgAAQNuyVXhCAAAAQQVWeEIAAMCmV1Z4QgAAgAyqVnhCAABAcvxWeEIAAADYTld4QgAAwD2hV3hCAACAo/NXeEIAAEAJRlh4QgAAAG+YWHhCAADA1OpYeEIAAIA6PVl4QgAAQKCPWXhCAAAABuJZeEIAAMBrNFp4QgAAgNGGWnhCAABAN9laeEIAAACdK1t4QgAAwAJ+W3hCAACAaNBbeEIAAEDOIlx4QgAAADR1XHhCAADAmcdceEIAAID/GV14QgAAQGVsXXhCAAAAy75deEIAAMAwEV54QgAAgJZjXnhCAABA/LVeeEIAAABiCF94QgAAwMdaX3hCAACALa1feEIAAECT/194QgAAAPlRYHhCAADAXqRgeEIAAIDE9mB4QgAAQCpJYXhCAAAAkJtheEIAAMD17WF4QgAAgFtAYnhCAABAwZJieEIAAAAn5WJ4QgAAwIw3Y3hCAACA8oljeEIAAEBY3GN4QgAAAL4uZHhCAADAI4FkeEIAAICJ02R4QgAAQO8lZXhCAAAAVXhleEIAAMC6ymV4QgAAgCAdZnhCAABAhm9meEIAAADswWZ4QgAAwFEUZ3hCAACAt2ZneEIAAEAduWd4QgAAAIMLaHhCAADA6F1oeEIAAIBOsGh4QgAAQLQCaXhCAAAAGlVpeEIAAMB/p2l4QgAAgOX5aXhCAABAS0xqeEIAAACxnmp4QgAAwBbxanhCAACAfENreEIAAEDilWt4QgAAAEjoa3hCAADArTpseEIAAIATjWx4QgAAQHnfbHhCAAAA3zFteEIAAMBEhG14QgAAgKrWbXhCAABAEClueEIAAAB2e254QgAAwNvNbnhCAACAQSBveEIAAECncm94QgAAAA3Fb3hCAADAchdweEIAAIDYaXB4QgAAQD68cHhCAAAApA5xeEIAAMAJYXF4QgAAgG+zcXhCAABA1QVyeEIAAAA7WHJ4QgAAwKCqcnhCAACABv1yeEIAAEBsT3N4QgAAANKhc3hCAADAN/RzeEIAAICdRnR4QgAAQAOZdHhCAAAAaet0eEIAAMDOPXV4QgAAgDSQdXhCAABAmuJ1eEIAAAAANXZ4QgAAwGWHdnhCAACAy9l2eEIAAEAxLHd4QgAAAJd+d3hCAADA/NB3eEIAAIBiI3h4QgAAQMh1eHhCAAAALsh4eEIAAMCTGnl4Qg==\"},\"shape\":[152],\"dtype\":\"float64\",\"order\":\"little\"}],[\"y2\",{\"type\":\"ndarray\",\"array\":{\"type\":\"bytes\",\"data\":\"AQAAAAUAAAAGAAAACQAAAAsAAAANAAAADgAAABIAAAAXAAAAKQAAADAAAAA0AAAAQAAAAEEAAABPAAAAUgAAAFcAAABaAAAAXAAAAGEAAABrAAAAfQAAAJQAAACXAAAAmQAAAKEAAACpAAAAFAEAALMBAAC7AQAAxAEAANEBAADuAQAAFQIAAGACAACAAgAAlQIAAK8CAADNAgAA8QIAAAwDAAArAwAASQMAAFkDAABuAwAApwMAAMYDAADbAwAA+gMAABkEAABJBAAAbwQAAIgEAACaBAAAqQQAALwEAADHBAAA0QQAAOAEAADxBAAA+QQAAAkFAAAgBQAANQUAAEgFAABXBQAAXwUAAGsFAAB5BQAAhwUAAJEFAACgBQAAugUAANAFAADiBQAA/wUAAB4GAABABgAAgwYAALAGAADsBgAAHwcAAGAHAADCBwAAbwgAAFQJAACLCgAApQsAAIMMAADWDQAATQ8AANsQAAAoEgAAIBMAAO0TAAC1FAAAnhUAAIQWAABIFwAAhxcAANwXAAAiGAAAghgAAMMYAAD+GAAALhkAAGsZAACsGQAA2RkAAA0aAAArGgAAhRoAAOsaAABAGwAAmhsAAPMbAAA+HAAAlxwAANIcAAAZHQAAcx0AAPodAAA/HgAAfx4AALseAADVHgAA6R4AACwfAABBHwAASx8AAFofAABpHwAAfh8AAIwfAACYHwAAoR8AAKQfAACoHwAArx8AALkfAAC8HwAAwh8AAMgfAADPHwAA1h8AAN8fAADkHwAA6h8AAOwfAAD3HwAA/R8AAAsgAAA=\"},\"shape\":[152],\"dtype\":\"int32\",\"order\":\"little\"}]]}}},\"view\":{\"type\":\"object\",\"name\":\"CDSView\",\"id\":\"p3057\",\"attributes\":{\"filter\":{\"type\":\"object\",\"name\":\"AllIndices\",\"id\":\"p3058\"}}},\"glyph\":{\"type\":\"object\",\"name\":\"VArea\",\"id\":\"p3053\",\"attributes\":{\"x\":{\"type\":\"field\",\"field\":\"x\"},\"y1\":{\"type\":\"value\",\"value\":0.1},\"y2\":{\"type\":\"field\",\"field\":\"y2\"},\"fill_color\":\"lightsteelblue\"}},\"nonselection_glyph\":{\"type\":\"object\",\"name\":\"VArea\",\"id\":\"p3054\",\"attributes\":{\"x\":{\"type\":\"field\",\"field\":\"x\"},\"y1\":{\"type\":\"value\",\"value\":0.1},\"y2\":{\"type\":\"field\",\"field\":\"y2\"},\"fill_color\":\"lightsteelblue\",\"fill_alpha\":0.1,\"hatch_alpha\":{\"type\":\"value\",\"value\":0.1}}},\"muted_glyph\":{\"type\":\"object\",\"name\":\"VArea\",\"id\":\"p3055\",\"attributes\":{\"x\":{\"type\":\"field\",\"field\":\"x\"},\"y1\":{\"type\":\"value\",\"value\":0.1},\"y2\":{\"type\":\"field\",\"field\":\"y2\"},\"fill_color\":\"lightsteelblue\",\"fill_alpha\":0.2,\"hatch_alpha\":{\"type\":\"value\",\"value\":0.2}}}}},{\"type\":\"object\",\"name\":\"GlyphRenderer\",\"id\":\"p3065\",\"attributes\":{\"data_source\":{\"type\":\"object\",\"name\":\"ColumnDataSource\",\"id\":\"p3059\",\"attributes\":{\"selected\":{\"type\":\"object\",\"name\":\"Selection\",\"id\":\"p3061\",\"attributes\":{\"indices\":[],\"line_indices\":[]}},\"selection_policy\":{\"type\":\"object\",\"name\":\"UnionRenderers\",\"id\":\"p3060\"},\"data\":{\"type\":\"map\",\"entries\":[[\"x\",{\"type\":\"ndarray\",\"array\":{\"type\":\"bytes\",\"data\":\"AACAj4BIeEIAAED10kh4QgAAAFslSXhCAADAwHdJeEIAAIAmykl4QgAAQIwcSnhCAAAA8m5KeEIAAMBXwUp4QgAAgL0TS3hCAABAI2ZLeEIAAACJuEt4QgAAwO4KTHhCAACAVF1MeEIAAEC6r0x4QgAAACACTXhCAADAhVRNeEIAAIDrpk14QgAAQFH5TXhCAAAAt0tOeEIAAMAcnk54QgAAgILwTnhCAABA6EJPeEIAAABOlU94QgAAwLPnT3hCAACAGTpQeEIAAEB/jFB4QgAAAOXeUHhCAADASjFReEIAAICwg1F4QgAAQBbWUXhCAAAAfChSeEIAAMDhelJ4QgAAgEfNUnhCAABArR9TeEIAAAATclN4QgAAwHjEU3hCAACA3hZUeEIAAEBEaVR4QgAAAKq7VHhCAADADw5VeEIAAIB1YFV4QgAAQNuyVXhCAAAAQQVWeEIAAMCmV1Z4QgAAgAyqVnhCAABAcvxWeEIAAADYTld4QgAAwD2hV3hCAACAo/NXeEIAAEAJRlh4QgAAAG+YWHhCAADA1OpYeEIAAIA6PVl4QgAAQKCPWXhCAAAABuJZeEIAAMBrNFp4QgAAgNGGWnhCAABAN9laeEIAAACdK1t4QgAAwAJ+W3hCAACAaNBbeEIAAEDOIlx4QgAAADR1XHhCAADAmcdceEIAAID/GV14QgAAQGVsXXhCAAAAy75deEIAAMAwEV54QgAAgJZjXnhCAABA/LVeeEIAAABiCF94QgAAwMdaX3hCAACALa1feEIAAECT/194QgAAAPlRYHhCAADAXqRgeEIAAIDE9mB4QgAAQCpJYXhCAAAAkJtheEIAAMD17WF4QgAAgFtAYnhCAABAwZJieEIAAAAn5WJ4QgAAwIw3Y3hCAACA8oljeEIAAEBY3GN4QgAAAL4uZHhCAADAI4FkeEIAAICJ02R4QgAAQO8lZXhCAAAAVXhleEIAAMC6ymV4QgAAgCAdZnhCAABAhm9meEIAAADswWZ4QgAAwFEUZ3hCAACAt2ZneEIAAEAduWd4QgAAAIMLaHhCAADA6F1oeEIAAIBOsGh4QgAAQLQCaXhCAAAAGlVpeEIAAMB/p2l4QgAAgOX5aXhCAABAS0xqeEIAAACxnmp4QgAAwBbxanhCAACAfENreEIAAEDilWt4QgAAAEjoa3hCAADArTpseEIAAIATjWx4QgAAQHnfbHhCAAAA3zFteEIAAMBEhG14QgAAgKrWbXhCAABAEClueEIAAAB2e254QgAAwNvNbnhCAACAQSBveEIAAECncm94QgAAAA3Fb3hCAADAchdweEIAAIDYaXB4QgAAQD68cHhCAAAApA5xeEIAAMAJYXF4QgAAgG+zcXhCAABA1QVyeEIAAAA7WHJ4QgAAwKCqcnhCAACABv1yeEIAAEBsT3N4QgAAANKhc3hCAADAN/RzeEIAAICdRnR4QgAAQAOZdHhCAAAAaet0eEIAAMDOPXV4QgAAgDSQdXhCAABAmuJ1eEIAAAAANXZ4QgAAwGWHdnhCAACAy9l2eEIAAEAxLHd4QgAAAJd+d3hCAADA/NB3eEIAAIBiI3h4QgAAQMh1eHhCAAAALsh4eEIAAMCTGnl4Qg==\"},\"shape\":[152],\"dtype\":\"float64\",\"order\":\"little\"}],[\"y\",{\"type\":\"ndarray\",\"array\":{\"type\":\"bytes\",\"data\":\"AQAAAAUAAAAGAAAACQAAAAsAAAANAAAADgAAABIAAAAXAAAAKQAAADAAAAA0AAAAQAAAAEEAAABPAAAAUgAAAFcAAABaAAAAXAAAAGEAAABrAAAAfQAAAJQAAACXAAAAmQAAAKEAAACpAAAAFAEAALMBAAC7AQAAxAEAANEBAADuAQAAFQIAAGACAACAAgAAlQIAAK8CAADNAgAA8QIAAAwDAAArAwAASQMAAFkDAABuAwAApwMAAMYDAADbAwAA+gMAABkEAABJBAAAbwQAAIgEAACaBAAAqQQAALwEAADHBAAA0QQAAOAEAADxBAAA+QQAAAkFAAAgBQAANQUAAEgFAABXBQAAXwUAAGsFAAB5BQAAhwUAAJEFAACgBQAAugUAANAFAADiBQAA/wUAAB4GAABABgAAgwYAALAGAADsBgAAHwcAAGAHAADCBwAAbwgAAFQJAACLCgAApQsAAIMMAADWDQAATQ8AANsQAAAoEgAAIBMAAO0TAAC1FAAAnhUAAIQWAABIFwAAhxcAANwXAAAiGAAAghgAAMMYAAD+GAAALhkAAGsZAACsGQAA2RkAAA0aAAArGgAAhRoAAOsaAABAGwAAmhsAAPMbAAA+HAAAlxwAANIcAAAZHQAAcx0AAPodAAA/HgAAfx4AALseAADVHgAA6R4AACwfAABBHwAASx8AAFofAABpHwAAfh8AAIwfAACYHwAAoR8AAKQfAACoHwAArx8AALkfAAC8HwAAwh8AAMgfAADPHwAA1h8AAN8fAADkHwAA6h8AAOwfAAD3HwAA/R8AAAsgAAA=\"},\"shape\":[152],\"dtype\":\"int32\",\"order\":\"little\"}]]}}},\"view\":{\"type\":\"object\",\"name\":\"CDSView\",\"id\":\"p3066\",\"attributes\":{\"filter\":{\"type\":\"object\",\"name\":\"AllIndices\",\"id\":\"p3067\"}}},\"glyph\":{\"type\":\"object\",\"name\":\"Line\",\"id\":\"p3062\",\"attributes\":{\"x\":{\"type\":\"field\",\"field\":\"x\"},\"y\":{\"type\":\"field\",\"field\":\"y\"},\"line_color\":\"darkblue\",\"line_width\":3}},\"nonselection_glyph\":{\"type\":\"object\",\"name\":\"Line\",\"id\":\"p3063\",\"attributes\":{\"x\":{\"type\":\"field\",\"field\":\"x\"},\"y\":{\"type\":\"field\",\"field\":\"y\"},\"line_color\":\"darkblue\",\"line_alpha\":0.1,\"line_width\":3}},\"muted_glyph\":{\"type\":\"object\",\"name\":\"Line\",\"id\":\"p3064\",\"attributes\":{\"x\":{\"type\":\"field\",\"field\":\"x\"},\"y\":{\"type\":\"field\",\"field\":\"y\"},\"line_color\":\"darkblue\",\"line_alpha\":0.2,\"line_width\":3}}}}],\"toolbar\":{\"type\":\"object\",\"name\":\"Toolbar\",\"id\":\"p2987\",\"attributes\":{\"tools\":[{\"type\":\"object\",\"name\":\"RangeTool\",\"id\":\"p3072\",\"attributes\":{\"x_range\":{\"id\":\"p2728\"},\"overlay\":{\"type\":\"object\",\"name\":\"BoxAnnotation\",\"id\":\"p3073\",\"attributes\":{\"syncable\":false,\"level\":\"overlay\",\"line_color\":\"black\",\"line_alpha\":1.0,\"line_width\":0.5,\"line_dash\":[2,2],\"fill_color\":\"navy\",\"fill_alpha\":0.2}}}}],\"active_multi\":{\"id\":\"p3072\"}}},\"toolbar_location\":null,\"left\":[{\"type\":\"object\",\"name\":\"LogAxis\",\"id\":\"p3042\",\"attributes\":{\"ticker\":{\"type\":\"object\",\"name\":\"LogTicker\",\"id\":\"p3045\",\"attributes\":{\"num_minor_ticks\":10,\"mantissas\":[1,5]}},\"formatter\":{\"type\":\"object\",\"name\":\"LogTickFormatter\",\"id\":\"p3043\"},\"major_label_policy\":{\"type\":\"object\",\"name\":\"AllLabels\",\"id\":\"p3044\"}}}],\"below\":[{\"type\":\"object\",\"name\":\"DatetimeAxis\",\"id\":\"p2999\",\"attributes\":{\"ticker\":{\"type\":\"object\",\"name\":\"DatetimeTicker\",\"id\":\"p3002\",\"attributes\":{\"num_minor_ticks\":5,\"tickers\":[{\"type\":\"object\",\"name\":\"AdaptiveTicker\",\"id\":\"p3003\",\"attributes\":{\"num_minor_ticks\":0,\"mantissas\":[1,2,5],\"max_interval\":500.0}},{\"type\":\"object\",\"name\":\"AdaptiveTicker\",\"id\":\"p3004\",\"attributes\":{\"num_minor_ticks\":0,\"base\":60,\"mantissas\":[1,2,5,10,15,20,30],\"min_interval\":1000.0,\"max_interval\":1800000.0}},{\"type\":\"object\",\"name\":\"AdaptiveTicker\",\"id\":\"p3005\",\"attributes\":{\"num_minor_ticks\":0,\"base\":24,\"mantissas\":[1,2,4,6,8,12],\"min_interval\":3600000.0,\"max_interval\":43200000.0}},{\"type\":\"object\",\"name\":\"DaysTicker\",\"id\":\"p3006\",\"attributes\":{\"days\":[1,2,3,4,5,6,7,8,9,10,11,12,13,14,15,16,17,18,19,20,21,22,23,24,25,26,27,28,29,30,31]}},{\"type\":\"object\",\"name\":\"DaysTicker\",\"id\":\"p3007\",\"attributes\":{\"days\":[1,4,7,10,13,16,19,22,25,28]}},{\"type\":\"object\",\"name\":\"DaysTicker\",\"id\":\"p3008\",\"attributes\":{\"days\":[1,8,15,22]}},{\"type\":\"object\",\"name\":\"DaysTicker\",\"id\":\"p3009\",\"attributes\":{\"days\":[1,15]}},{\"type\":\"object\",\"name\":\"MonthsTicker\",\"id\":\"p3010\",\"attributes\":{\"months\":[0,1,2,3,4,5,6,7,8,9,10,11]}},{\"type\":\"object\",\"name\":\"MonthsTicker\",\"id\":\"p3011\",\"attributes\":{\"months\":[0,2,4,6,8,10]}},{\"type\":\"object\",\"name\":\"MonthsTicker\",\"id\":\"p3012\",\"attributes\":{\"months\":[0,4,8]}},{\"type\":\"object\",\"name\":\"MonthsTicker\",\"id\":\"p3013\",\"attributes\":{\"months\":[0,6]}},{\"type\":\"object\",\"name\":\"YearsTicker\",\"id\":\"p3014\"}]}},\"formatter\":{\"type\":\"object\",\"name\":\"DatetimeTickFormatter\",\"id\":\"p3082\",\"attributes\":{\"days\":\"%Y-%m-%d\"}},\"major_label_policy\":{\"type\":\"object\",\"name\":\"AllLabels\",\"id\":\"p3001\"}}}],\"center\":[{\"type\":\"object\",\"name\":\"Grid\",\"id\":\"p3041\",\"attributes\":{\"axis\":{\"id\":\"p2999\"},\"grid_line_color\":\"white\"}},{\"type\":\"object\",\"name\":\"Grid\",\"id\":\"p3048\",\"attributes\":{\"dimension\":1,\"axis\":{\"id\":\"p3042\"},\"grid_line_color\":\"white\"}}],\"background_fill_color\":\"#efefef\"}}],[\"range_slider1\",{\"type\":\"object\",\"name\":\"RangeSlider\",\"id\":\"p3084\",\"attributes\":{\"js_property_callbacks\":{\"type\":\"map\",\"entries\":[[\"change:value\",[{\"type\":\"object\",\"name\":\"CustomJS\",\"id\":\"p3085\",\"attributes\":{\"args\":{\"type\":\"map\",\"entries\":[[\"other\",{\"id\":\"p2551\"}]]},\"code\":\"other.start = this.value[0]\"}},{\"type\":\"object\",\"name\":\"CustomJS\",\"id\":\"p3086\",\"attributes\":{\"args\":{\"type\":\"map\",\"entries\":[[\"other\",{\"id\":\"p2551\"}]]},\"code\":\"other.end = this.value[1]\"}}]]]},\"width\":150,\"title\":\"Adjust y-axis range\",\"value\":[1.1,408],\"start\":1.1,\"end\":408}}],[\"range_slider2\",{\"type\":\"object\",\"name\":\"RangeSlider\",\"id\":\"p3087\",\"attributes\":{\"js_property_callbacks\":{\"type\":\"map\",\"entries\":[[\"change:value\",[{\"type\":\"object\",\"name\":\"CustomJS\",\"id\":\"p3088\",\"attributes\":{\"args\":{\"type\":\"map\",\"entries\":[[\"other\",{\"id\":\"p2730\"}]]},\"code\":\"other.start = this.value[0]\"}},{\"type\":\"object\",\"name\":\"CustomJS\",\"id\":\"p3089\",\"attributes\":{\"args\":{\"type\":\"map\",\"entries\":[[\"other\",{\"id\":\"p2730\"}]]},\"code\":\"other.end = this.value[1]\"}}]]]},\"visible\":false,\"width\":150,\"title\":\"Adjust y-axis range\",\"value\":[1.1,408],\"start\":1.1,\"end\":408}}]]},\"code\":\"\\n              if (p1.visible == true) {\\n                p1.visible = false;\\n                p2.visible = true;\\n                range_slider1.visible=false;\\n                select1.visible=false;\\n                select2.visible=true;\\n                range_slider2.visible=true;\\n\\n              }\\n              else {\\n                p1.visible = true;\\n                p2.visible = false;\\n                range_slider1.visible=true;\\n                select1.visible=true;\\n                select2.visible=false;\\n                range_slider2.visible=false;\\n\\n              }\\n            \"}}]]]},\"labels\":[\"Linear Scale\",\"Log Scale\"],\"active\":0}},{\"type\":\"object\",\"name\":\"Row\",\"id\":\"p3091\",\"attributes\":{\"children\":[{\"id\":\"p2549\"},{\"id\":\"p3084\"}]}},{\"type\":\"object\",\"name\":\"Row\",\"id\":\"p3092\",\"attributes\":{\"children\":[{\"id\":\"p2718\"},{\"id\":\"p3087\"}]}},{\"id\":\"p2894\"},{\"id\":\"p2981\"}]}}]}};\n",
       "  const render_items = [{\"docid\":\"5f1c7629-3f76-48b5-8e73-901697ff5ac5\",\"roots\":{\"p3093\":\"b10c6562-1ea1-428e-8bcc-be1a6975e6cf\"},\"root_ids\":[\"p3093\"]}];\n",
       "  root.Bokeh.embed.embed_items_notebook(docs_json, render_items);\n",
       "  }\n",
       "  if (root.Bokeh !== undefined) {\n",
       "    embed_document(root);\n",
       "  } else {\n",
       "    let attempts = 0;\n",
       "    const timer = setInterval(function(root) {\n",
       "      if (root.Bokeh !== undefined) {\n",
       "        clearInterval(timer);\n",
       "        embed_document(root);\n",
       "      } else {\n",
       "        attempts++;\n",
       "        if (attempts > 100) {\n",
       "          clearInterval(timer);\n",
       "          console.log(\"Bokeh: ERROR: Unable to run BokehJS code because BokehJS library is missing\");\n",
       "        }\n",
       "      }\n",
       "    }, 10, root)\n",
       "  }\n",
       "})(window);"
      ],
      "application/vnd.bokehjs_exec.v0+json": ""
     },
     "metadata": {
      "application/vnd.bokehjs_exec.v0+json": {
       "id": "p3093"
      }
     },
     "output_type": "display_data"
    }
   ],
   "source": [
    "# This cell creates an interactive plot where two plots are shown:\n",
    "#   Plot 1: shows the daily number of followers and the 7-day rolling mean\n",
    "#   Plot 2: shows the cumulative number of followers and serves as\n",
    "#     as x-axis raneg slider to control plot1 x-axis\n",
    "# It includes a button to switch between linear and log scales. To achieve this,\n",
    "# 2 pairs of 2 plots are created. One pair is created with the y_axis_range\n",
    "# set to 'linear' and the second pair is created with the y_axis_range set to\n",
    "# 'log'. The button toggles the visibility of the plots on and off to select the\n",
    "# those plots with linear or log scales\n",
    "# Finally, a slider has been added to control the y-axis range of the first plot\n",
    "\n",
    "prof_insight_plot = prof_insight.loc[\n",
    "    prof_insight[\"number_followers_roll\"].isna() == False\n",
    "]\n",
    "\n",
    "# Create plot1 for the linear-scale figrue\n",
    "p1 = figure(\n",
    "    height=350,\n",
    "    width=800,\n",
    "    tools=\"xpan\",\n",
    "    x_axis_type=\"datetime\",\n",
    "    x_axis_location=\"above\",\n",
    "    background_fill_color=\"#efefef\",\n",
    "    x_range=(prof_insight[\"day\"].iloc[-30], prof_insight[\"day\"].iloc[-1]),\n",
    "    title=\"Number of followers - Linear scale\",\n",
    "    y_axis_type=\"linear\",\n",
    ")\n",
    "\n",
    "# plot1 (Linear scale) - Add vertical bar plot (daily number of followers)\n",
    "p1.vbar(\n",
    "    x=prof_insight[\"day\"],\n",
    "    top=prof_insight[\"number_followers\"],\n",
    "    width=22000000,\n",
    "    bottom=0,\n",
    "    legend_label=\"Daily data\",\n",
    "    color=\"cornflowerblue\",\n",
    ")\n",
    "\n",
    "# plot1 (Linear scale) - Add line plot (7-day rolling mean)\n",
    "p1.line(\n",
    "    x=prof_insight_plot[\"day\"],\n",
    "    y=prof_insight_plot[\"number_followers_roll\"],\n",
    "    line_width=3,\n",
    "    legend_label=\"7-day rolling mean\",\n",
    "    color=\"darkblue\",\n",
    ")\n",
    "\n",
    "# Create plot1 for the log-scale figrue\n",
    "p2 = figure(\n",
    "    height=350,\n",
    "    width=800,\n",
    "    tools=\"xpan\",\n",
    "    x_axis_type=\"datetime\",\n",
    "    x_axis_location=\"above\",\n",
    "    background_fill_color=\"#efefef\",\n",
    "    x_range=(prof_insight[\"day\"].iloc[-30], prof_insight[\"day\"].iloc[-1]),\n",
    "    title=\"Number of followers - Log scale\",\n",
    "    y_axis_type=\"log\",\n",
    "    y_range=(0.1, prof_insight[\"number_followers\"].max() + 10),\n",
    ")\n",
    "\n",
    "# plot1 (Log scale) - Add vertical bar plot (daily number of followers)\n",
    "p2.vbar(\n",
    "    x=prof_insight[\"day\"],\n",
    "    top=prof_insight[\"number_followers\"],\n",
    "    width=22000000,\n",
    "    bottom=0.1,\n",
    "    legend_label=\"Daily data\",\n",
    "    color=\"cornflowerblue\",\n",
    ")\n",
    "\n",
    "# plot1 (Log scale) - Add line plot (7-day rolling mean)\n",
    "p2.line(\n",
    "    x=prof_insight_plot[\"day\"],\n",
    "    y=prof_insight_plot[\"number_followers_roll\"],\n",
    "    line_width=3,\n",
    "    legend_label=\"7-day rolling mean\",\n",
    "    color=\"darkblue\",\n",
    ")\n",
    "\n",
    "\n",
    "# Define axis labels and plot titles\n",
    "p1.yaxis.axis_label = \"Number of followers\"\n",
    "p1.legend.location = \"top_left\"\n",
    "p1.grid.grid_line_color = \"white\"\n",
    "p1.xaxis.formatter = DatetimeTickFormatter(days=\"%Y-%m-%d\")\n",
    "\n",
    "p2.yaxis.axis_label = \"Number of followers\"\n",
    "p2.legend.location = \"top_left\"\n",
    "p2.grid.grid_line_color = \"white\"\n",
    "p2.xaxis.formatter = DatetimeTickFormatter(days=\"%Y-%m-%d\")\n",
    "\n",
    "# Add hover tool\n",
    "TOOLTIPS = [\n",
    "    (\"index\", \"$index\"),\n",
    "    (\"date\", \"$x{%F}\"),\n",
    "    (\"number of followers\", \"$y\"),\n",
    "]\n",
    "hover_tool = HoverTool(tooltips=TOOLTIPS, formatters={\"$x\": \"datetime\"})\n",
    "p1.add_tools(hover_tool)\n",
    "p2.add_tools(hover_tool)\n",
    "\n",
    "# Create plot2 for the linear-scale figrue\n",
    "select1 = figure(\n",
    "    title=\"Cumulative number of followers - Linear scale\",\n",
    "    height=200,\n",
    "    width=800,\n",
    "    x_axis_type=\"datetime\",\n",
    "    tools=\"\",\n",
    "    toolbar_location=None,\n",
    "    background_fill_color=\"#efefef\",\n",
    "    y_axis_type=\"linear\",\n",
    ")\n",
    "\n",
    "# plot2 (Linear scale) - Fill area under the curve\n",
    "select1.varea(\n",
    "    x=prof_insight[\"day\"],\n",
    "    y1=0.1,\n",
    "    y2=prof_insight[\"number_followers_cum\"],\n",
    "    # line_width=2,\n",
    "    # color=\"darkblue\",\n",
    "    fill_color=\"lightsteelblue\",\n",
    ")\n",
    "\n",
    "# plot2 (Linear scale) - Add line plot (cumulative number of followers)\n",
    "select1.line(\n",
    "    x=prof_insight[\"day\"],\n",
    "    y=prof_insight[\"number_followers_cum\"],\n",
    "    line_width=3,\n",
    "    color=\"darkblue\",\n",
    ")\n",
    "\n",
    "# Create plot2 for the log-scale figrue\n",
    "select2 = figure(\n",
    "    title=\"Cumulative number of followers - Log scale\",\n",
    "    height=200,\n",
    "    width=800,\n",
    "    x_axis_type=\"datetime\",\n",
    "    tools=\"\",\n",
    "    toolbar_location=None,\n",
    "    background_fill_color=\"#efefef\",\n",
    "    y_axis_type=\"log\",\n",
    ")\n",
    "\n",
    "# plot2 (Log scale) - Fill area under the curve\n",
    "select2.varea(\n",
    "    x=prof_insight[\"day\"],\n",
    "    y1=0.1,\n",
    "    y2=prof_insight[\"number_followers_cum\"],\n",
    "    # line_width=2,\n",
    "    # color=\"darkblue\",\n",
    "    fill_color=\"lightsteelblue\",\n",
    ")\n",
    "\n",
    "# plot2 (Log scale) - Add line plot (cumulative number of followers)\n",
    "select2.line(\n",
    "    x=prof_insight[\"day\"],\n",
    "    y=prof_insight[\"number_followers_cum\"],\n",
    "    line_width=3,\n",
    "    color=\"darkblue\",\n",
    ")\n",
    "\n",
    "# Define x-axis range slider for both pictures (linear and log scales)\n",
    "range_tool1 = RangeTool(x_range=p1.x_range)\n",
    "range_tool1.overlay.fill_color = \"navy\"\n",
    "range_tool1.overlay.fill_alpha = 0.2\n",
    "\n",
    "range_tool2 = RangeTool(x_range=p2.x_range)\n",
    "range_tool2.overlay.fill_color = \"navy\"\n",
    "range_tool2.overlay.fill_alpha = 0.2\n",
    "\n",
    "# Assign the x-axis slider to each plot\n",
    "select1.grid.grid_line_color = \"white\"\n",
    "select1.add_tools(range_tool1)\n",
    "select1.toolbar.active_multi = range_tool1\n",
    "select1.xaxis.formatter = DatetimeTickFormatter(days=\"%Y-%m-%d\")\n",
    "\n",
    "select2.grid.grid_line_color = \"white\"\n",
    "select2.add_tools(range_tool2)\n",
    "select2.toolbar.active_multi = range_tool2\n",
    "select2.xaxis.formatter = DatetimeTickFormatter(days=\"%Y-%m-%d\")\n",
    "\n",
    "# set up RangeSlider to control y-axis\n",
    "# first rangeSlider to control plot with linear scale\n",
    "y_min = prof_insight[\"number_followers\"].min() + 0.1\n",
    "y_max = prof_insight[\"number_followers\"].max() + 10\n",
    "range_slider1 = RangeSlider(\n",
    "    title=\"Adjust y-axis range\",\n",
    "    start=y_min,\n",
    "    end=y_max,\n",
    "    step=1,\n",
    "    width=150,\n",
    "    value=(y_min, y_max),\n",
    ")\n",
    "range_slider1.js_link(\"value\", p1.y_range, \"start\", attr_selector=0)\n",
    "range_slider1.js_link(\"value\", p1.y_range, \"end\", attr_selector=1)\n",
    "\n",
    "# second rangeSlider to control plot with log scale\n",
    "range_slider2 = RangeSlider(\n",
    "    title=\"Adjust y-axis range\",\n",
    "    start=y_min,\n",
    "    end=y_max,\n",
    "    step=1,\n",
    "    width=150,\n",
    "    value=(y_min, y_max),\n",
    ")\n",
    "range_slider2.js_link(\"value\", p2.y_range, \"start\", attr_selector=0)\n",
    "range_slider2.js_link(\"value\", p2.y_range, \"end\", attr_selector=1)\n",
    "\n",
    "# Define the default visibility of the figures.\n",
    "# The figures whose viosibility is set to true will be displayed\n",
    "# when this cell is compiled\n",
    "p1.visible = True\n",
    "p2.visible = False\n",
    "range_slider1.visible = True\n",
    "select1.visible = True\n",
    "select2.visible = False\n",
    "range_slider2.visible = False\n",
    "\n",
    "# Define the layout of the plot\n",
    "LABELS = [\"Linear Scale\", \"Log Scale\"]\n",
    "radio_button_group = RadioButtonGroup(labels=LABELS, active=0)\n",
    "layout = column(\n",
    "    children=[\n",
    "        radio_button_group,\n",
    "        row(p1, range_slider1),\n",
    "        row(p2, range_slider2),\n",
    "        select1,\n",
    "        select2,\n",
    "    ]\n",
    ")\n",
    "\n",
    "# Define button to switch bwteen plots with linear and log scales\n",
    "# The button works by toggling on and off the visibility of the figures and sliders\n",
    "radio_button_group.js_on_event(\n",
    "    events.ButtonClick,\n",
    "    CustomJS(\n",
    "        args=dict(\n",
    "            p1=p1,\n",
    "            p2=p2,\n",
    "            select1=select1,\n",
    "            select2=select2,\n",
    "            range_slider1=range_slider1,\n",
    "            range_slider2=range_slider2,\n",
    "        ),\n",
    "        code=\"\"\"\n",
    "              if (p1.visible == true) {\n",
    "                p1.visible = false;\n",
    "                p2.visible = true;\n",
    "                range_slider1.visible=false;\n",
    "                select1.visible=false;\n",
    "                select2.visible=true;\n",
    "                range_slider2.visible=true;\n",
    "\n",
    "              }\n",
    "              else {\n",
    "                p1.visible = true;\n",
    "                p2.visible = false;\n",
    "                range_slider1.visible=true;\n",
    "                select1.visible=true;\n",
    "                select2.visible=false;\n",
    "                range_slider2.visible=false;\n",
    "\n",
    "              }\n",
    "            \"\"\",\n",
    "    ),\n",
    ")\n",
    "\n",
    "# Code for Kaggle\n",
    "# radio_button_group.js_on_click(\n",
    "#     CustomJS(\n",
    "#         args=dict(\n",
    "#             p1=p1,\n",
    "#             p2=p2,\n",
    "#             select1=select1,\n",
    "#             select2=select2,\n",
    "#             range_slider1=range_slider1,\n",
    "#             range_slider2=range_slider2,\n",
    "#         ),\n",
    "#         code=\"\"\"\n",
    "#               if (p1.visible == true) {\n",
    "#                 p1.visible = false;\n",
    "#                 p2.visible = true;\n",
    "#                 range_slider1.visible=false;\n",
    "#                 select1.visible=false;\n",
    "#                 select2.visible=true;\n",
    "#                 range_slider2.visible=true;\n",
    "\n",
    "#               }\n",
    "#               else {\n",
    "#                 p1.visible = true;\n",
    "#                 p2.visible = false;\n",
    "#                 range_slider1.visible=true;\n",
    "#                 select1.visible=true;\n",
    "#                 select2.visible=false;\n",
    "#                 range_slider2.visible=false;\n",
    "\n",
    "#               }\n",
    "#             \"\"\",\n",
    "#     ),\n",
    "# )\n",
    "\n",
    "show(layout)"
   ]
  },
  {
   "cell_type": "code",
   "execution_count": 48,
   "id": "789255b4",
   "metadata": {},
   "outputs": [],
   "source": [
    "# # Define the data sources for both figures\n",
    "# source_data = [\n",
    "#     dict(\n",
    "#         date=prof_insight[\"day\"],\n",
    "#         y_bar_1 = prof_insight[\"profile_views\"],\n",
    "#         y_line_1 = prof_insight[\"profile_views\"].rolling(7, center=True).mean(),\n",
    "#         y_circle = prof_insight[\"follow_views_rt\"],\n",
    "#         y_line_2 = prof_insight[\"follow_views_rt\"],\n",
    "#         y_line_3 = prof_insight[\"follow_views_rt_roll\"]  \n",
    "#     ),\n",
    "#     dict(\n",
    "#         date=prof_insight[\"day\"],\n",
    "#         y_bar_1 = prof_insight[\"profile_reach\"],\n",
    "#         y_line_1 = prof_insight[\"profile_reach\"].rolling(7, center=True).mean(),\n",
    "#         y_circle = prof_insight[\"views_reach_rt\"],\n",
    "#         y_line_2 = prof_insight[\"views_reach_rt\"],\n",
    "#         y_line_3 = prof_insight[\"views_reach_rt_roll\"]  \n",
    "#     )\n",
    "# ]\n",
    "\n",
    "# # Define the secondary y-axes ranges for both figures\n",
    "# range_limits = [(0,100), (0, 5)]\n",
    "\n",
    "# # Define the legend labels for both figures\n",
    "# legend_labels = [\n",
    "#     [\n",
    "#         \"Profile views\",\n",
    "#         \"Profile views 7-day rolling mean\",\n",
    "#         \"Followers - views percentage\",\n",
    "#         \"Followers - views pctg rolling mean\",\n",
    "#         \"Prof views 7-day roll mean\",\n",
    "#         \"Followers - views pctg roll mean\"\n",
    "#     ],\n",
    "#     [\n",
    "#         \"Profile reach\",\n",
    "#         \"Profile reach 7-day rolling mean\",\n",
    "#         \"Views - reach percentage\",\n",
    "#         \"Views - reach pctg rolling mean\",\n",
    "#         \"Prof reach 7-day roll mean\",\n",
    "#         \"Views - reach pctg roll mean\"\n",
    "#     ]\n",
    "# ]\n",
    "\n",
    "# # Define y-axis labels for both figures\n",
    "# y_axis_labels = [\n",
    "#     [\n",
    "#         \"Number of profile views\",\n",
    "#         \"Followers to views percentage (%)\",\n",
    "#         \"Views\",\n",
    "#         \"Follow pctg (%)\"\n",
    "#     ],\n",
    "#     [\n",
    "#         \"Number of profile interactions\",\n",
    "#         \"Views to reach percentage (%)\",\n",
    "#         \"Interactions\",\n",
    "#         \"View pctg (%)\"\n",
    "#     ]\n",
    "# ]\n",
    "\n",
    "# # Define figrue titles\n",
    "# titles = [\n",
    "#     \"Profile views and new followers-views ratio\", \n",
    "#     \"Profile reach and profile views ratio\"\n",
    "# ]\n",
    "\n",
    "# # Zip variable to allow easier access during for loop\n",
    "# zipped_variables = zip(source_data, range_limits, legend_labels, y_axis_labels, titles)\n",
    "\n",
    "# # Create an empty list containing the different sets of figures\n",
    "# panels = []\n",
    "\n",
    "# for (source_data, range_vals, legend_labels, y_label, title) in zipped_variables:\n",
    "#     # Define the data source\n",
    "#     source= ColumnDataSource(data=source_data)\n",
    "    \n",
    "#     # Create the first figure\n",
    "#     p = figure(\n",
    "#         title=title,\n",
    "#         x_axis_type=\"datetime\",\n",
    "#         x_axis_location=\"above\",\n",
    "#         width=800,\n",
    "#         height=450,\n",
    "#         background_fill_color=\"#efefef\",\n",
    "#         x_range=(prof_insight[\"day\"].iloc[-14], prof_insight[\"day\"].iloc[-1]),\n",
    "#     )\n",
    "\n",
    "#     # Plot data in the first figure\n",
    "#     p.vbar(\n",
    "#         x=\"date\",\n",
    "#         top=\"y_bar_1\",\n",
    "#         source=source,\n",
    "#         width=22000000,\n",
    "#         bottom=0,\n",
    "#         legend_label=legend_labels[0],\n",
    "#         color=\"cornflowerblue\",\n",
    "#     )\n",
    "#     p.line(\n",
    "#         x=\"date\",\n",
    "#         y=\"y_line_1\",\n",
    "#         source=source,\n",
    "#         line_width=3,\n",
    "#         legend_label=legend_labels[1],\n",
    "#         color=\"darkblue\",\n",
    "#     )\n",
    "\n",
    "#     # Format the primary axis of the first figure\n",
    "#     p.yaxis.axis_label = y_label[0]\n",
    "#     p.yaxis.axis_label_text_color = \"darkblue\"\n",
    "#     p.yaxis.major_label_text_color = \"darkblue\"\n",
    "#     p.yaxis.major_tick_line_color = \"darkblue\"\n",
    "#     p.yaxis.minor_tick_line_color = \"darkblue\"\n",
    "#     p.yaxis.axis_line_color = \"darkblue\"\n",
    "#     p.yaxis.major_tick_line_width = 2\n",
    "#     p.yaxis.minor_tick_line_width = 2\n",
    "\n",
    "#     # Format other figure elements\n",
    "#     p.legend.location = \"top_left\"\n",
    "#     p.grid.grid_line_color = \"white\"\n",
    "#     p.xaxis.formatter = DatetimeTickFormatter(days=\"%Y-%m-%d\")\n",
    "    \n",
    "#     # Add a secondary axids for the first figure and plot the data\n",
    "#     p.extra_y_ranges[\"foo\"] = Range1d(*range_vals)\n",
    "#     p.circle(\n",
    "#         x = \"date\",\n",
    "#         y = \"y_circle\",\n",
    "#         source=source,\n",
    "#         color=\"salmon\",\n",
    "#         size=3,\n",
    "#         y_range_name=\"foo\",\n",
    "#         legend_label=legend_labels[2],\n",
    "#     )\n",
    "#     p.line(\n",
    "#         x = \"date\",\n",
    "#         y = \"y_line_2\",\n",
    "#         source = source,\n",
    "#         color=\"salmon\",\n",
    "#         line_width=1.25,\n",
    "#         # size=8,\n",
    "#         y_range_name=\"foo\",\n",
    "#         legend_label=legend_labels[2],\n",
    "#     )\n",
    "#     p.line(\n",
    "#         x = \"date\",\n",
    "#         y = \"y_line_3\",\n",
    "#         source=source,\n",
    "#         color=\"red\",\n",
    "#         line_width=3,\n",
    "#         # size=8,\n",
    "#         y_range_name=\"foo\",\n",
    "#         legend_label=legend_labels[3],\n",
    "#     )\n",
    "\n",
    "#     # Format the secondary axis of the first plot\n",
    "#     ax2 = LinearAxis(y_range_name=\"foo\", axis_label=y_label[1])\n",
    "#     ax2.axis_label_text_color = \"red\"\n",
    "#     ax2.major_label_text_color = \"red\"\n",
    "#     ax2.major_tick_line_color = \"red\"\n",
    "#     ax2.minor_tick_line_color = \"red\"\n",
    "#     ax2.axis_line_color = \"red\"\n",
    "#     ax2.major_tick_line_width = 2\n",
    "#     ax2.minor_tick_line_width = 2\n",
    "#     p.add_layout(ax2, \"right\")\n",
    "\n",
    "#     # Create the second plot\n",
    "#     select = figure(\n",
    "#         title=\"Drag the middle and edges of the selection box to change the range above\",\n",
    "#         height=200,\n",
    "#         width=800,\n",
    "#         x_axis_type=\"datetime\",\n",
    "#         x_axis_label=\"Date\",\n",
    "#         tools=\"\",\n",
    "#         toolbar_location=None,\n",
    "#         background_fill_color=\"#efefef\",\n",
    "#     )\n",
    "    \n",
    "#     # Add a range slider in the secondary plot to control the \n",
    "#     # x-axis range of the first plot\n",
    "#     range_tool = RangeTool(x_range=p.x_range)\n",
    "#     range_tool.overlay.fill_color = \"navy\"\n",
    "#     range_tool.overlay.fill_alpha = 0.2\n",
    "\n",
    "#     # Add the first line of the second plot\n",
    "#     select.line(\n",
    "#         x=\"date\",\n",
    "#         y=\"y_line_1\",\n",
    "#         source=source,\n",
    "#         line_width=3,\n",
    "#         color=\"darkblue\",\n",
    "#         legend_label=legend_labels[4],\n",
    "#     )\n",
    "\n",
    "#     # Format primary axis of the second plot\n",
    "#     select.yaxis.axis_label = y_label[2]\n",
    "#     select.yaxis.axis_label_text_color = \"darkblue\"\n",
    "#     select.yaxis.major_label_text_color = \"darkblue\"\n",
    "#     select.yaxis.major_tick_line_color = \"darkblue\"\n",
    "#     select.yaxis.minor_tick_line_color = \"darkblue\"\n",
    "#     select.yaxis.axis_line_color = \"darkblue\"\n",
    "#     select.yaxis.major_tick_line_width = 1\n",
    "#     select.yaxis.minor_tick_line_width = 1\n",
    "\n",
    "#     # Add a line that is plotted in the secondary y-axis of the \n",
    "#     # second plot\n",
    "#     select.extra_y_ranges[\"foo\"] = Range1d(*range_vals)\n",
    "#     select.line(\n",
    "#         x=\"date\",\n",
    "#         y=\"y_line_3\",\n",
    "#         source=source,\n",
    "#         color=\"red\",\n",
    "#         line_width=3,\n",
    "#         # size=8,\n",
    "#         y_range_name=\"foo\",\n",
    "#         legend_label=legend_labels[5],\n",
    "#     )\n",
    "\n",
    "#     # Format secondary y-axis of the second plot\n",
    "#     select_ax2 = LinearAxis(y_range_name=\"foo\", axis_label=y_label[3])\n",
    "#     select_ax2.axis_label_text_color = \"red\"\n",
    "#     select_ax2.major_label_text_color = \"red\"\n",
    "#     select_ax2.major_tick_line_color = \"red\"\n",
    "#     select_ax2.minor_tick_line_color = \"red\"\n",
    "#     select_ax2.axis_line_color = \"red\"\n",
    "#     select_ax2.major_tick_line_width = 1\n",
    "#     select_ax2.minor_tick_line_width = 1\n",
    "#     select.add_layout(select_ax2, \"right\")\n",
    "\n",
    "    \n",
    "#     select.legend.location = \"top_left\"\n",
    "#     select.grid.grid_line_color = \"white\"\n",
    "#     select.add_tools(range_tool)\n",
    "#     select.toolbar.active_multi = range_tool\n",
    "\n",
    "#     select.xaxis.formatter = DatetimeTickFormatter(days=\"%Y-%m-%d\")\n",
    "\n",
    "    \n",
    "\n",
    "#     # Create the layout for the tab\n",
    "#     layout = column(p, select)\n",
    "\n",
    "#     # Create the panel and add it to the list of panels\n",
    "#     panel = Panel(child=layout, title=title)\n",
    "#     panels.append(panel)\n",
    "\n",
    "# # Create the tabs and show the plot\n",
    "# tabs = Tabs(tabs=panels)\n",
    "# show(tabs)\n"
   ]
  },
  {
   "cell_type": "markdown",
   "id": "59c0e88a",
   "metadata": {},
   "source": [
    "# Dashboard - Geographical data of followers"
   ]
  },
  {
   "cell_type": "code",
   "execution_count": 49,
   "id": "d66c4376",
   "metadata": {},
   "outputs": [],
   "source": [
    "data = demographic_data[1][\"values\"][0][\"value\"]\n",
    "\n",
    "# map abbreviations to country names\n",
    "country_names = {c.alpha_2: c.name for c in pycountry.countries}\n",
    "\n",
    "# create a list of country names\n",
    "names = [country_names.get(abbr, abbr) for abbr in data.keys()]\n",
    "\n",
    "df_country = pd.DataFrame({\"country\": names, \"followers\": data.values()})"
   ]
  },
  {
   "cell_type": "code",
   "execution_count": 50,
   "id": "1931797b",
   "metadata": {},
   "outputs": [
    {
     "data": {
      "application/vnd.plotly.v1+json": {
       "config": {
        "plotlyServerURL": "https://plot.ly"
       },
       "data": [
        {
         "coloraxis": "coloraxis",
         "customdata": [
          [
           37
          ],
          [
           486
          ],
          [
           24
          ],
          [
           24
          ],
          [
           30
          ],
          [
           47
          ],
          [
           61
          ],
          [
           99
          ],
          [
           26
          ],
          [
           47
          ],
          [
           35
          ],
          [
           247
          ],
          [
           27
          ],
          [
           27
          ],
          [
           148
          ],
          [
           76
          ],
          [
           30
          ],
          [
           74
          ],
          [
           83
          ],
          [
           756
          ],
          [
           30
          ],
          [
           367
          ],
          [
           2846
          ],
          [
           42
          ],
          [
           69
          ],
          [
           172
          ],
          [
           65
          ],
          [
           77
          ],
          [
           132
          ],
          [
           160
          ],
          [
           57
          ],
          [
           91
          ],
          [
           175
          ],
          [
           28
          ],
          [
           50
          ],
          [
           71
          ],
          [
           25
          ],
          [
           277
          ],
          [
           35
          ],
          [
           55
          ],
          [
           90
          ],
          [
           105
          ],
          [
           52
          ],
          [
           53
          ],
          [
           171
          ]
         ],
         "geo": "geo",
         "hovertemplate": "<b>%{hovertext}</b><br><br>country=%{location}<br>followers=%{z}<extra></extra>",
         "hovertext": [
          "Norway",
          "Germany",
          "Puerto Rico",
          "Taiwan, Province of China",
          "Finland",
          "Hong Kong",
          "Belgium",
          "Portugal",
          "Japan",
          "Denmark",
          "New Zealand",
          "France",
          "Hungary",
          "Saudi Arabia",
          "Brazil",
          "Sweden",
          "Morocco",
          "Singapore",
          "Indonesia",
          "United Kingdom",
          "Ireland",
          "Canada",
          "United States",
          "United Arab Emirates",
          "Switzerland",
          "India",
          "South Africa",
          "Chile",
          "Mexico",
          "Italy",
          "Colombia",
          "Malaysia",
          "Spain",
          "Venezuela, Bolivarian Republic of",
          "Argentina",
          "Austria",
          "Thailand",
          "Australia",
          "Peru",
          "Czechia",
          "Philippines",
          "Poland",
          "Romania",
          "Turkey",
          "Netherlands"
         ],
         "locationmode": "country names",
         "locations": [
          "Norway",
          "Germany",
          "Puerto Rico",
          "Taiwan, Province of China",
          "Finland",
          "Hong Kong",
          "Belgium",
          "Portugal",
          "Japan",
          "Denmark",
          "New Zealand",
          "France",
          "Hungary",
          "Saudi Arabia",
          "Brazil",
          "Sweden",
          "Morocco",
          "Singapore",
          "Indonesia",
          "United Kingdom",
          "Ireland",
          "Canada",
          "United States",
          "United Arab Emirates",
          "Switzerland",
          "India",
          "South Africa",
          "Chile",
          "Mexico",
          "Italy",
          "Colombia",
          "Malaysia",
          "Spain",
          "Venezuela, Bolivarian Republic of",
          "Argentina",
          "Austria",
          "Thailand",
          "Australia",
          "Peru",
          "Czechia",
          "Philippines",
          "Poland",
          "Romania",
          "Turkey",
          "Netherlands"
         ],
         "name": "",
         "type": "choropleth",
         "z": [
          37,
          486,
          24,
          24,
          30,
          47,
          61,
          99,
          26,
          47,
          35,
          247,
          27,
          27,
          148,
          76,
          30,
          74,
          83,
          756,
          30,
          367,
          2846,
          42,
          69,
          172,
          65,
          77,
          132,
          160,
          57,
          91,
          175,
          28,
          50,
          71,
          25,
          277,
          35,
          55,
          90,
          105,
          52,
          53,
          171
         ]
        }
       ],
       "layout": {
        "autosize": false,
        "coloraxis": {
         "colorbar": {
          "title": {
           "text": "followers"
          }
         },
         "colorscale": [
          [
           0,
           "rgb(255,255,229)"
          ],
          [
           0.125,
           "rgb(255,247,188)"
          ],
          [
           0.25,
           "rgb(254,227,145)"
          ],
          [
           0.375,
           "rgb(254,196,79)"
          ],
          [
           0.5,
           "rgb(254,153,41)"
          ],
          [
           0.625,
           "rgb(236,112,20)"
          ],
          [
           0.75,
           "rgb(204,76,2)"
          ],
          [
           0.875,
           "rgb(153,52,4)"
          ],
          [
           1,
           "rgb(102,37,6)"
          ]
         ]
        },
        "geo": {
         "center": {},
         "domain": {
          "x": [
           0,
           1
          ],
          "y": [
           0,
           1
          ]
         }
        },
        "height": 600,
        "legend": {
         "orientation": "v",
         "tracegroupgap": 0,
         "x": 1,
         "xanchor": "right",
         "y": 1.02,
         "yanchor": "auto"
        },
        "margin": {
         "b": 50,
         "l": 50,
         "pad": 1,
         "r": 50,
         "t": 50
        },
        "paper_bgcolor": "rgb(234, 234, 242)",
        "template": {
         "data": {
          "bar": [
           {
            "error_x": {
             "color": "rgb(51,51,51)"
            },
            "error_y": {
             "color": "rgb(51,51,51)"
            },
            "marker": {
             "line": {
              "color": "rgb(237,237,237)",
              "width": 0.5
             },
             "pattern": {
              "fillmode": "overlay",
              "size": 10,
              "solidity": 0.2
             }
            },
            "type": "bar"
           }
          ],
          "barpolar": [
           {
            "marker": {
             "line": {
              "color": "rgb(237,237,237)",
              "width": 0.5
             },
             "pattern": {
              "fillmode": "overlay",
              "size": 10,
              "solidity": 0.2
             }
            },
            "type": "barpolar"
           }
          ],
          "carpet": [
           {
            "aaxis": {
             "endlinecolor": "rgb(51,51,51)",
             "gridcolor": "white",
             "linecolor": "white",
             "minorgridcolor": "white",
             "startlinecolor": "rgb(51,51,51)"
            },
            "baxis": {
             "endlinecolor": "rgb(51,51,51)",
             "gridcolor": "white",
             "linecolor": "white",
             "minorgridcolor": "white",
             "startlinecolor": "rgb(51,51,51)"
            },
            "type": "carpet"
           }
          ],
          "choropleth": [
           {
            "colorbar": {
             "outlinewidth": 0,
             "tickcolor": "rgb(237,237,237)",
             "ticklen": 6,
             "ticks": "inside"
            },
            "type": "choropleth"
           }
          ],
          "contour": [
           {
            "colorbar": {
             "outlinewidth": 0,
             "tickcolor": "rgb(237,237,237)",
             "ticklen": 6,
             "ticks": "inside"
            },
            "colorscale": [
             [
              0,
              "rgb(20,44,66)"
             ],
             [
              1,
              "rgb(90,179,244)"
             ]
            ],
            "type": "contour"
           }
          ],
          "contourcarpet": [
           {
            "colorbar": {
             "outlinewidth": 0,
             "tickcolor": "rgb(237,237,237)",
             "ticklen": 6,
             "ticks": "inside"
            },
            "type": "contourcarpet"
           }
          ],
          "heatmap": [
           {
            "colorbar": {
             "outlinewidth": 0,
             "tickcolor": "rgb(237,237,237)",
             "ticklen": 6,
             "ticks": "inside"
            },
            "colorscale": [
             [
              0,
              "rgb(20,44,66)"
             ],
             [
              1,
              "rgb(90,179,244)"
             ]
            ],
            "type": "heatmap"
           }
          ],
          "heatmapgl": [
           {
            "colorbar": {
             "outlinewidth": 0,
             "tickcolor": "rgb(237,237,237)",
             "ticklen": 6,
             "ticks": "inside"
            },
            "colorscale": [
             [
              0,
              "rgb(20,44,66)"
             ],
             [
              1,
              "rgb(90,179,244)"
             ]
            ],
            "type": "heatmapgl"
           }
          ],
          "histogram": [
           {
            "marker": {
             "pattern": {
              "fillmode": "overlay",
              "size": 10,
              "solidity": 0.2
             }
            },
            "type": "histogram"
           }
          ],
          "histogram2d": [
           {
            "colorbar": {
             "outlinewidth": 0,
             "tickcolor": "rgb(237,237,237)",
             "ticklen": 6,
             "ticks": "inside"
            },
            "colorscale": [
             [
              0,
              "rgb(20,44,66)"
             ],
             [
              1,
              "rgb(90,179,244)"
             ]
            ],
            "type": "histogram2d"
           }
          ],
          "histogram2dcontour": [
           {
            "colorbar": {
             "outlinewidth": 0,
             "tickcolor": "rgb(237,237,237)",
             "ticklen": 6,
             "ticks": "inside"
            },
            "colorscale": [
             [
              0,
              "rgb(20,44,66)"
             ],
             [
              1,
              "rgb(90,179,244)"
             ]
            ],
            "type": "histogram2dcontour"
           }
          ],
          "mesh3d": [
           {
            "colorbar": {
             "outlinewidth": 0,
             "tickcolor": "rgb(237,237,237)",
             "ticklen": 6,
             "ticks": "inside"
            },
            "type": "mesh3d"
           }
          ],
          "parcoords": [
           {
            "line": {
             "colorbar": {
              "outlinewidth": 0,
              "tickcolor": "rgb(237,237,237)",
              "ticklen": 6,
              "ticks": "inside"
             }
            },
            "type": "parcoords"
           }
          ],
          "pie": [
           {
            "automargin": true,
            "type": "pie"
           }
          ],
          "scatter": [
           {
            "marker": {
             "colorbar": {
              "outlinewidth": 0,
              "tickcolor": "rgb(237,237,237)",
              "ticklen": 6,
              "ticks": "inside"
             }
            },
            "type": "scatter"
           }
          ],
          "scatter3d": [
           {
            "line": {
             "colorbar": {
              "outlinewidth": 0,
              "tickcolor": "rgb(237,237,237)",
              "ticklen": 6,
              "ticks": "inside"
             }
            },
            "marker": {
             "colorbar": {
              "outlinewidth": 0,
              "tickcolor": "rgb(237,237,237)",
              "ticklen": 6,
              "ticks": "inside"
             }
            },
            "type": "scatter3d"
           }
          ],
          "scattercarpet": [
           {
            "marker": {
             "colorbar": {
              "outlinewidth": 0,
              "tickcolor": "rgb(237,237,237)",
              "ticklen": 6,
              "ticks": "inside"
             }
            },
            "type": "scattercarpet"
           }
          ],
          "scattergeo": [
           {
            "marker": {
             "colorbar": {
              "outlinewidth": 0,
              "tickcolor": "rgb(237,237,237)",
              "ticklen": 6,
              "ticks": "inside"
             }
            },
            "type": "scattergeo"
           }
          ],
          "scattergl": [
           {
            "marker": {
             "colorbar": {
              "outlinewidth": 0,
              "tickcolor": "rgb(237,237,237)",
              "ticklen": 6,
              "ticks": "inside"
             }
            },
            "type": "scattergl"
           }
          ],
          "scattermapbox": [
           {
            "marker": {
             "colorbar": {
              "outlinewidth": 0,
              "tickcolor": "rgb(237,237,237)",
              "ticklen": 6,
              "ticks": "inside"
             }
            },
            "type": "scattermapbox"
           }
          ],
          "scatterpolar": [
           {
            "marker": {
             "colorbar": {
              "outlinewidth": 0,
              "tickcolor": "rgb(237,237,237)",
              "ticklen": 6,
              "ticks": "inside"
             }
            },
            "type": "scatterpolar"
           }
          ],
          "scatterpolargl": [
           {
            "marker": {
             "colorbar": {
              "outlinewidth": 0,
              "tickcolor": "rgb(237,237,237)",
              "ticklen": 6,
              "ticks": "inside"
             }
            },
            "type": "scatterpolargl"
           }
          ],
          "scatterternary": [
           {
            "marker": {
             "colorbar": {
              "outlinewidth": 0,
              "tickcolor": "rgb(237,237,237)",
              "ticklen": 6,
              "ticks": "inside"
             }
            },
            "type": "scatterternary"
           }
          ],
          "surface": [
           {
            "colorbar": {
             "outlinewidth": 0,
             "tickcolor": "rgb(237,237,237)",
             "ticklen": 6,
             "ticks": "inside"
            },
            "colorscale": [
             [
              0,
              "rgb(20,44,66)"
             ],
             [
              1,
              "rgb(90,179,244)"
             ]
            ],
            "type": "surface"
           }
          ],
          "table": [
           {
            "cells": {
             "fill": {
              "color": "rgb(237,237,237)"
             },
             "line": {
              "color": "white"
             }
            },
            "header": {
             "fill": {
              "color": "rgb(217,217,217)"
             },
             "line": {
              "color": "white"
             }
            },
            "type": "table"
           }
          ]
         },
         "layout": {
          "annotationdefaults": {
           "arrowhead": 0,
           "arrowwidth": 1
          },
          "autotypenumbers": "strict",
          "coloraxis": {
           "colorbar": {
            "outlinewidth": 0,
            "tickcolor": "rgb(237,237,237)",
            "ticklen": 6,
            "ticks": "inside"
           }
          },
          "colorscale": {
           "sequential": [
            [
             0,
             "rgb(20,44,66)"
            ],
            [
             1,
             "rgb(90,179,244)"
            ]
           ],
           "sequentialminus": [
            [
             0,
             "rgb(20,44,66)"
            ],
            [
             1,
             "rgb(90,179,244)"
            ]
           ]
          },
          "colorway": [
           "#F8766D",
           "#A3A500",
           "#00BF7D",
           "#00B0F6",
           "#E76BF3"
          ],
          "font": {
           "color": "rgb(51,51,51)"
          },
          "geo": {
           "bgcolor": "white",
           "lakecolor": "white",
           "landcolor": "rgb(237,237,237)",
           "showlakes": true,
           "showland": true,
           "subunitcolor": "white"
          },
          "hoverlabel": {
           "align": "left"
          },
          "hovermode": "closest",
          "paper_bgcolor": "white",
          "plot_bgcolor": "rgb(237,237,237)",
          "polar": {
           "angularaxis": {
            "gridcolor": "white",
            "linecolor": "white",
            "showgrid": true,
            "tickcolor": "rgb(51,51,51)",
            "ticks": "outside"
           },
           "bgcolor": "rgb(237,237,237)",
           "radialaxis": {
            "gridcolor": "white",
            "linecolor": "white",
            "showgrid": true,
            "tickcolor": "rgb(51,51,51)",
            "ticks": "outside"
           }
          },
          "scene": {
           "xaxis": {
            "backgroundcolor": "rgb(237,237,237)",
            "gridcolor": "white",
            "gridwidth": 2,
            "linecolor": "white",
            "showbackground": true,
            "showgrid": true,
            "tickcolor": "rgb(51,51,51)",
            "ticks": "outside",
            "zerolinecolor": "white"
           },
           "yaxis": {
            "backgroundcolor": "rgb(237,237,237)",
            "gridcolor": "white",
            "gridwidth": 2,
            "linecolor": "white",
            "showbackground": true,
            "showgrid": true,
            "tickcolor": "rgb(51,51,51)",
            "ticks": "outside",
            "zerolinecolor": "white"
           },
           "zaxis": {
            "backgroundcolor": "rgb(237,237,237)",
            "gridcolor": "white",
            "gridwidth": 2,
            "linecolor": "white",
            "showbackground": true,
            "showgrid": true,
            "tickcolor": "rgb(51,51,51)",
            "ticks": "outside",
            "zerolinecolor": "white"
           }
          },
          "shapedefaults": {
           "fillcolor": "black",
           "line": {
            "width": 0
           },
           "opacity": 0.3
          },
          "ternary": {
           "aaxis": {
            "gridcolor": "white",
            "linecolor": "white",
            "showgrid": true,
            "tickcolor": "rgb(51,51,51)",
            "ticks": "outside"
           },
           "baxis": {
            "gridcolor": "white",
            "linecolor": "white",
            "showgrid": true,
            "tickcolor": "rgb(51,51,51)",
            "ticks": "outside"
           },
           "bgcolor": "rgb(237,237,237)",
           "caxis": {
            "gridcolor": "white",
            "linecolor": "white",
            "showgrid": true,
            "tickcolor": "rgb(51,51,51)",
            "ticks": "outside"
           }
          },
          "xaxis": {
           "automargin": true,
           "gridcolor": "white",
           "linecolor": "white",
           "showgrid": true,
           "tickcolor": "rgb(51,51,51)",
           "ticks": "outside",
           "title": {
            "standoff": 15
           },
           "zerolinecolor": "white"
          },
          "yaxis": {
           "automargin": true,
           "gridcolor": "white",
           "linecolor": "white",
           "showgrid": true,
           "tickcolor": "rgb(51,51,51)",
           "ticks": "outside",
           "title": {
            "standoff": 15
           },
           "zerolinecolor": "white"
          }
         }
        },
        "title": {
         "text": "Number of followers per country"
        },
        "width": 1000
       }
      },
      "image/png": "[encoded data removed]",
      "text/html": [
       "<div>                            <div id=\"0d101e3e-67b0-446b-9952-afff87282c23\" class=\"plotly-graph-div\" style=\"height:600px; width:1000px;\"></div>            <script type=\"text/javascript\">                require([\"plotly\"], function(Plotly) {                    window.PLOTLYENV=window.PLOTLYENV || {};                                    if (document.getElementById(\"0d101e3e-67b0-446b-9952-afff87282c23\")) {                    Plotly.newPlot(                        \"0d101e3e-67b0-446b-9952-afff87282c23\",                        [{\"coloraxis\":\"coloraxis\",\"customdata\":[[37],[486],[24],[24],[30],[47],[61],[99],[26],[47],[35],[247],[27],[27],[148],[76],[30],[74],[83],[756],[30],[367],[2846],[42],[69],[172],[65],[77],[132],[160],[57],[91],[175],[28],[50],[71],[25],[277],[35],[55],[90],[105],[52],[53],[171]],\"geo\":\"geo\",\"hovertemplate\":\"<b>%{hovertext}</b><br><br>country=%{location}<br>followers=%{z}<extra></extra>\",\"hovertext\":[\"Norway\",\"Germany\",\"Puerto Rico\",\"Taiwan, Province of China\",\"Finland\",\"Hong Kong\",\"Belgium\",\"Portugal\",\"Japan\",\"Denmark\",\"New Zealand\",\"France\",\"Hungary\",\"Saudi Arabia\",\"Brazil\",\"Sweden\",\"Morocco\",\"Singapore\",\"Indonesia\",\"United Kingdom\",\"Ireland\",\"Canada\",\"United States\",\"United Arab Emirates\",\"Switzerland\",\"India\",\"South Africa\",\"Chile\",\"Mexico\",\"Italy\",\"Colombia\",\"Malaysia\",\"Spain\",\"Venezuela, Bolivarian Republic of\",\"Argentina\",\"Austria\",\"Thailand\",\"Australia\",\"Peru\",\"Czechia\",\"Philippines\",\"Poland\",\"Romania\",\"Turkey\",\"Netherlands\"],\"locationmode\":\"country names\",\"locations\":[\"Norway\",\"Germany\",\"Puerto Rico\",\"Taiwan, Province of China\",\"Finland\",\"Hong Kong\",\"Belgium\",\"Portugal\",\"Japan\",\"Denmark\",\"New Zealand\",\"France\",\"Hungary\",\"Saudi Arabia\",\"Brazil\",\"Sweden\",\"Morocco\",\"Singapore\",\"Indonesia\",\"United Kingdom\",\"Ireland\",\"Canada\",\"United States\",\"United Arab Emirates\",\"Switzerland\",\"India\",\"South Africa\",\"Chile\",\"Mexico\",\"Italy\",\"Colombia\",\"Malaysia\",\"Spain\",\"Venezuela, Bolivarian Republic of\",\"Argentina\",\"Austria\",\"Thailand\",\"Australia\",\"Peru\",\"Czechia\",\"Philippines\",\"Poland\",\"Romania\",\"Turkey\",\"Netherlands\"],\"name\":\"\",\"z\":[37,486,24,24,30,47,61,99,26,47,35,247,27,27,148,76,30,74,83,756,30,367,2846,42,69,172,65,77,132,160,57,91,175,28,50,71,25,277,35,55,90,105,52,53,171],\"type\":\"choropleth\"}],                        {\"template\":{\"data\":{\"barpolar\":[{\"marker\":{\"line\":{\"color\":\"rgb(237,237,237)\",\"width\":0.5},\"pattern\":{\"fillmode\":\"overlay\",\"size\":10,\"solidity\":0.2}},\"type\":\"barpolar\"}],\"bar\":[{\"error_x\":{\"color\":\"rgb(51,51,51)\"},\"error_y\":{\"color\":\"rgb(51,51,51)\"},\"marker\":{\"line\":{\"color\":\"rgb(237,237,237)\",\"width\":0.5},\"pattern\":{\"fillmode\":\"overlay\",\"size\":10,\"solidity\":0.2}},\"type\":\"bar\"}],\"carpet\":[{\"aaxis\":{\"endlinecolor\":\"rgb(51,51,51)\",\"gridcolor\":\"white\",\"linecolor\":\"white\",\"minorgridcolor\":\"white\",\"startlinecolor\":\"rgb(51,51,51)\"},\"baxis\":{\"endlinecolor\":\"rgb(51,51,51)\",\"gridcolor\":\"white\",\"linecolor\":\"white\",\"minorgridcolor\":\"white\",\"startlinecolor\":\"rgb(51,51,51)\"},\"type\":\"carpet\"}],\"choropleth\":[{\"colorbar\":{\"outlinewidth\":0,\"tickcolor\":\"rgb(237,237,237)\",\"ticklen\":6,\"ticks\":\"inside\"},\"type\":\"choropleth\"}],\"contourcarpet\":[{\"colorbar\":{\"outlinewidth\":0,\"tickcolor\":\"rgb(237,237,237)\",\"ticklen\":6,\"ticks\":\"inside\"},\"type\":\"contourcarpet\"}],\"contour\":[{\"colorbar\":{\"outlinewidth\":0,\"tickcolor\":\"rgb(237,237,237)\",\"ticklen\":6,\"ticks\":\"inside\"},\"colorscale\":[[0,\"rgb(20,44,66)\"],[1,\"rgb(90,179,244)\"]],\"type\":\"contour\"}],\"heatmapgl\":[{\"colorbar\":{\"outlinewidth\":0,\"tickcolor\":\"rgb(237,237,237)\",\"ticklen\":6,\"ticks\":\"inside\"},\"colorscale\":[[0,\"rgb(20,44,66)\"],[1,\"rgb(90,179,244)\"]],\"type\":\"heatmapgl\"}],\"heatmap\":[{\"colorbar\":{\"outlinewidth\":0,\"tickcolor\":\"rgb(237,237,237)\",\"ticklen\":6,\"ticks\":\"inside\"},\"colorscale\":[[0,\"rgb(20,44,66)\"],[1,\"rgb(90,179,244)\"]],\"type\":\"heatmap\"}],\"histogram2dcontour\":[{\"colorbar\":{\"outlinewidth\":0,\"tickcolor\":\"rgb(237,237,237)\",\"ticklen\":6,\"ticks\":\"inside\"},\"colorscale\":[[0,\"rgb(20,44,66)\"],[1,\"rgb(90,179,244)\"]],\"type\":\"histogram2dcontour\"}],\"histogram2d\":[{\"colorbar\":{\"outlinewidth\":0,\"tickcolor\":\"rgb(237,237,237)\",\"ticklen\":6,\"ticks\":\"inside\"},\"colorscale\":[[0,\"rgb(20,44,66)\"],[1,\"rgb(90,179,244)\"]],\"type\":\"histogram2d\"}],\"histogram\":[{\"marker\":{\"pattern\":{\"fillmode\":\"overlay\",\"size\":10,\"solidity\":0.2}},\"type\":\"histogram\"}],\"mesh3d\":[{\"colorbar\":{\"outlinewidth\":0,\"tickcolor\":\"rgb(237,237,237)\",\"ticklen\":6,\"ticks\":\"inside\"},\"type\":\"mesh3d\"}],\"parcoords\":[{\"line\":{\"colorbar\":{\"outlinewidth\":0,\"tickcolor\":\"rgb(237,237,237)\",\"ticklen\":6,\"ticks\":\"inside\"}},\"type\":\"parcoords\"}],\"pie\":[{\"automargin\":true,\"type\":\"pie\"}],\"scatter3d\":[{\"line\":{\"colorbar\":{\"outlinewidth\":0,\"tickcolor\":\"rgb(237,237,237)\",\"ticklen\":6,\"ticks\":\"inside\"}},\"marker\":{\"colorbar\":{\"outlinewidth\":0,\"tickcolor\":\"rgb(237,237,237)\",\"ticklen\":6,\"ticks\":\"inside\"}},\"type\":\"scatter3d\"}],\"scattercarpet\":[{\"marker\":{\"colorbar\":{\"outlinewidth\":0,\"tickcolor\":\"rgb(237,237,237)\",\"ticklen\":6,\"ticks\":\"inside\"}},\"type\":\"scattercarpet\"}],\"scattergeo\":[{\"marker\":{\"colorbar\":{\"outlinewidth\":0,\"tickcolor\":\"rgb(237,237,237)\",\"ticklen\":6,\"ticks\":\"inside\"}},\"type\":\"scattergeo\"}],\"scattergl\":[{\"marker\":{\"colorbar\":{\"outlinewidth\":0,\"tickcolor\":\"rgb(237,237,237)\",\"ticklen\":6,\"ticks\":\"inside\"}},\"type\":\"scattergl\"}],\"scattermapbox\":[{\"marker\":{\"colorbar\":{\"outlinewidth\":0,\"tickcolor\":\"rgb(237,237,237)\",\"ticklen\":6,\"ticks\":\"inside\"}},\"type\":\"scattermapbox\"}],\"scatterpolargl\":[{\"marker\":{\"colorbar\":{\"outlinewidth\":0,\"tickcolor\":\"rgb(237,237,237)\",\"ticklen\":6,\"ticks\":\"inside\"}},\"type\":\"scatterpolargl\"}],\"scatterpolar\":[{\"marker\":{\"colorbar\":{\"outlinewidth\":0,\"tickcolor\":\"rgb(237,237,237)\",\"ticklen\":6,\"ticks\":\"inside\"}},\"type\":\"scatterpolar\"}],\"scatter\":[{\"marker\":{\"colorbar\":{\"outlinewidth\":0,\"tickcolor\":\"rgb(237,237,237)\",\"ticklen\":6,\"ticks\":\"inside\"}},\"type\":\"scatter\"}],\"scatterternary\":[{\"marker\":{\"colorbar\":{\"outlinewidth\":0,\"tickcolor\":\"rgb(237,237,237)\",\"ticklen\":6,\"ticks\":\"inside\"}},\"type\":\"scatterternary\"}],\"surface\":[{\"colorbar\":{\"outlinewidth\":0,\"tickcolor\":\"rgb(237,237,237)\",\"ticklen\":6,\"ticks\":\"inside\"},\"colorscale\":[[0,\"rgb(20,44,66)\"],[1,\"rgb(90,179,244)\"]],\"type\":\"surface\"}],\"table\":[{\"cells\":{\"fill\":{\"color\":\"rgb(237,237,237)\"},\"line\":{\"color\":\"white\"}},\"header\":{\"fill\":{\"color\":\"rgb(217,217,217)\"},\"line\":{\"color\":\"white\"}},\"type\":\"table\"}]},\"layout\":{\"annotationdefaults\":{\"arrowhead\":0,\"arrowwidth\":1},\"autotypenumbers\":\"strict\",\"coloraxis\":{\"colorbar\":{\"outlinewidth\":0,\"tickcolor\":\"rgb(237,237,237)\",\"ticklen\":6,\"ticks\":\"inside\"}},\"colorscale\":{\"sequential\":[[0,\"rgb(20,44,66)\"],[1,\"rgb(90,179,244)\"]],\"sequentialminus\":[[0,\"rgb(20,44,66)\"],[1,\"rgb(90,179,244)\"]]},\"colorway\":[\"#F8766D\",\"#A3A500\",\"#00BF7D\",\"#00B0F6\",\"#E76BF3\"],\"font\":{\"color\":\"rgb(51,51,51)\"},\"geo\":{\"bgcolor\":\"white\",\"lakecolor\":\"white\",\"landcolor\":\"rgb(237,237,237)\",\"showlakes\":true,\"showland\":true,\"subunitcolor\":\"white\"},\"hoverlabel\":{\"align\":\"left\"},\"hovermode\":\"closest\",\"paper_bgcolor\":\"white\",\"plot_bgcolor\":\"rgb(237,237,237)\",\"polar\":{\"angularaxis\":{\"gridcolor\":\"white\",\"linecolor\":\"white\",\"showgrid\":true,\"tickcolor\":\"rgb(51,51,51)\",\"ticks\":\"outside\"},\"bgcolor\":\"rgb(237,237,237)\",\"radialaxis\":{\"gridcolor\":\"white\",\"linecolor\":\"white\",\"showgrid\":true,\"tickcolor\":\"rgb(51,51,51)\",\"ticks\":\"outside\"}},\"scene\":{\"xaxis\":{\"backgroundcolor\":\"rgb(237,237,237)\",\"gridcolor\":\"white\",\"gridwidth\":2,\"linecolor\":\"white\",\"showbackground\":true,\"showgrid\":true,\"tickcolor\":\"rgb(51,51,51)\",\"ticks\":\"outside\",\"zerolinecolor\":\"white\"},\"yaxis\":{\"backgroundcolor\":\"rgb(237,237,237)\",\"gridcolor\":\"white\",\"gridwidth\":2,\"linecolor\":\"white\",\"showbackground\":true,\"showgrid\":true,\"tickcolor\":\"rgb(51,51,51)\",\"ticks\":\"outside\",\"zerolinecolor\":\"white\"},\"zaxis\":{\"backgroundcolor\":\"rgb(237,237,237)\",\"gridcolor\":\"white\",\"gridwidth\":2,\"linecolor\":\"white\",\"showbackground\":true,\"showgrid\":true,\"tickcolor\":\"rgb(51,51,51)\",\"ticks\":\"outside\",\"zerolinecolor\":\"white\"}},\"shapedefaults\":{\"fillcolor\":\"black\",\"line\":{\"width\":0},\"opacity\":0.3},\"ternary\":{\"aaxis\":{\"gridcolor\":\"white\",\"linecolor\":\"white\",\"showgrid\":true,\"tickcolor\":\"rgb(51,51,51)\",\"ticks\":\"outside\"},\"baxis\":{\"gridcolor\":\"white\",\"linecolor\":\"white\",\"showgrid\":true,\"tickcolor\":\"rgb(51,51,51)\",\"ticks\":\"outside\"},\"bgcolor\":\"rgb(237,237,237)\",\"caxis\":{\"gridcolor\":\"white\",\"linecolor\":\"white\",\"showgrid\":true,\"tickcolor\":\"rgb(51,51,51)\",\"ticks\":\"outside\"}},\"xaxis\":{\"automargin\":true,\"gridcolor\":\"white\",\"linecolor\":\"white\",\"showgrid\":true,\"tickcolor\":\"rgb(51,51,51)\",\"ticks\":\"outside\",\"title\":{\"standoff\":15},\"zerolinecolor\":\"white\"},\"yaxis\":{\"automargin\":true,\"gridcolor\":\"white\",\"linecolor\":\"white\",\"showgrid\":true,\"tickcolor\":\"rgb(51,51,51)\",\"ticks\":\"outside\",\"title\":{\"standoff\":15},\"zerolinecolor\":\"white\"}}},\"geo\":{\"domain\":{\"x\":[0.0,1.0],\"y\":[0.0,1.0]},\"center\":{}},\"coloraxis\":{\"colorbar\":{\"title\":{\"text\":\"followers\"}},\"colorscale\":[[0.0,\"rgb(255,255,229)\"],[0.125,\"rgb(255,247,188)\"],[0.25,\"rgb(254,227,145)\"],[0.375,\"rgb(254,196,79)\"],[0.5,\"rgb(254,153,41)\"],[0.625,\"rgb(236,112,20)\"],[0.75,\"rgb(204,76,2)\"],[0.875,\"rgb(153,52,4)\"],[1.0,\"rgb(102,37,6)\"]]},\"legend\":{\"tracegroupgap\":0,\"orientation\":\"v\",\"yanchor\":\"auto\",\"y\":1.02,\"xanchor\":\"right\",\"x\":1},\"title\":{\"text\":\"Number of followers per country\"},\"margin\":{\"l\":50,\"r\":50,\"b\":50,\"t\":50,\"pad\":1},\"autosize\":false,\"width\":1000,\"height\":600,\"paper_bgcolor\":\"rgb(234, 234, 242)\"},                        {\"responsive\": true}                    ).then(function(){\n",
       "                            \n",
       "var gd = document.getElementById('0d101e3e-67b0-446b-9952-afff87282c23');\n",
       "var x = new MutationObserver(function (mutations, observer) {{\n",
       "        var display = window.getComputedStyle(gd).display;\n",
       "        if (!display || display === 'none') {{\n",
       "            console.log([gd, 'removed!']);\n",
       "            Plotly.purge(gd);\n",
       "            observer.disconnect();\n",
       "        }}\n",
       "}});\n",
       "\n",
       "// Listen for the removal of the full notebook cells\n",
       "var notebookContainer = gd.closest('#notebook-container');\n",
       "if (notebookContainer) {{\n",
       "    x.observe(notebookContainer, {childList: true});\n",
       "}}\n",
       "\n",
       "// Listen for the clearing of the current output cell\n",
       "var outputEl = gd.closest('.output');\n",
       "if (outputEl) {{\n",
       "    x.observe(outputEl, {childList: true});\n",
       "}}\n",
       "\n",
       "                        })                };                });            </script>        </div>"
      ]
     },
     "metadata": {},
     "output_type": "display_data"
    }
   ],
   "source": [
    "fig = px.choropleth(df_country, locations=\"country\", # used plotly express choropleth for animation plot\n",
    "                    color=\"followers\", \n",
    "                    locationmode='country names',\n",
    "                    hover_name=\"country\",\n",
    "                    hover_data=['followers'],\n",
    "                    title = 'Number of followers per country',\n",
    "                    color_continuous_scale='YlOrBr',\n",
    "                    \n",
    "                \n",
    ")\n",
    "\n",
    "# adjusting size of map, legend place, and background colour\n",
    "fig.update_layout(\n",
    "    autosize=False,\n",
    "    width=1000,\n",
    "    height=600,\n",
    "    margin=dict(l=50, r=50, b=50, t=50, pad=1),\n",
    "    template='ggplot2',\n",
    "    paper_bgcolor=\"rgb(234, 234, 242)\",\n",
    "    legend=dict(\n",
    "        orientation=\"v\",\n",
    "        yanchor=\"auto\",\n",
    "        y=1.02,\n",
    "        xanchor=\"right\",\n",
    "        x=1\n",
    "))\n",
    "\n",
    "\n",
    "fig.show()"
   ]
  },
  {
   "cell_type": "markdown",
   "id": "faf7d028",
   "metadata": {},
   "source": [
    "# Dashboard - Demographics"
   ]
  },
  {
   "cell_type": "code",
   "execution_count": 51,
   "id": "64c15492",
   "metadata": {},
   "outputs": [
    {
     "data": {
      "application/vnd.plotly.v1+json": {
       "config": {
        "linkText": "Export to plot.ly",
        "plotlyServerURL": "https://plot.ly",
        "showLink": false
       },
       "data": [
        {
         "hoverinfo": "x",
         "marker": {
          "color": "powderblue"
         },
         "name": "Men",
         "orientation": "h",
         "text": [
          13,
          133,
          413,
          228,
          107,
          70,
          34
         ],
         "type": "bar",
         "x": [
          13,
          133,
          413,
          228,
          107,
          70,
          34
         ],
         "y": [
          17,
          24,
          34,
          44,
          54,
          64,
          74
         ]
        },
        {
         "hoverinfo": "text",
         "marker": {
          "color": "seagreen"
         },
         "name": "Women",
         "orientation": "h",
         "text": [
          66,
          837,
          2272,
          978,
          605,
          346,
          218
         ],
         "type": "bar",
         "x": [
          -66,
          -837,
          -2272,
          -978,
          -605,
          -346,
          -218
         ],
         "y": [
          17,
          24,
          34,
          44,
          54,
          64,
          74
         ]
        }
       ],
       "layout": {
        "bargap": 0.1,
        "barmode": "overlay",
        "height": 500,
        "legend": {
         "bgcolor": "rgba(255, 255, 255, 0.7)",
         "bordercolor": "rgba(0, 0, 0, 0.5)",
         "borderwidth": 1,
         "x": 0.85,
         "y": 0.95
        },
        "template": {
         "data": {
          "bar": [
           {
            "error_x": {
             "color": "rgb(51,51,51)"
            },
            "error_y": {
             "color": "rgb(51,51,51)"
            },
            "marker": {
             "line": {
              "color": "rgb(237,237,237)",
              "width": 0.5
             },
             "pattern": {
              "fillmode": "overlay",
              "size": 10,
              "solidity": 0.2
             }
            },
            "type": "bar"
           }
          ],
          "barpolar": [
           {
            "marker": {
             "line": {
              "color": "rgb(237,237,237)",
              "width": 0.5
             },
             "pattern": {
              "fillmode": "overlay",
              "size": 10,
              "solidity": 0.2
             }
            },
            "type": "barpolar"
           }
          ],
          "carpet": [
           {
            "aaxis": {
             "endlinecolor": "rgb(51,51,51)",
             "gridcolor": "white",
             "linecolor": "white",
             "minorgridcolor": "white",
             "startlinecolor": "rgb(51,51,51)"
            },
            "baxis": {
             "endlinecolor": "rgb(51,51,51)",
             "gridcolor": "white",
             "linecolor": "white",
             "minorgridcolor": "white",
             "startlinecolor": "rgb(51,51,51)"
            },
            "type": "carpet"
           }
          ],
          "choropleth": [
           {
            "colorbar": {
             "outlinewidth": 0,
             "tickcolor": "rgb(237,237,237)",
             "ticklen": 6,
             "ticks": "inside"
            },
            "type": "choropleth"
           }
          ],
          "contour": [
           {
            "colorbar": {
             "outlinewidth": 0,
             "tickcolor": "rgb(237,237,237)",
             "ticklen": 6,
             "ticks": "inside"
            },
            "colorscale": [
             [
              0,
              "rgb(20,44,66)"
             ],
             [
              1,
              "rgb(90,179,244)"
             ]
            ],
            "type": "contour"
           }
          ],
          "contourcarpet": [
           {
            "colorbar": {
             "outlinewidth": 0,
             "tickcolor": "rgb(237,237,237)",
             "ticklen": 6,
             "ticks": "inside"
            },
            "type": "contourcarpet"
           }
          ],
          "heatmap": [
           {
            "colorbar": {
             "outlinewidth": 0,
             "tickcolor": "rgb(237,237,237)",
             "ticklen": 6,
             "ticks": "inside"
            },
            "colorscale": [
             [
              0,
              "rgb(20,44,66)"
             ],
             [
              1,
              "rgb(90,179,244)"
             ]
            ],
            "type": "heatmap"
           }
          ],
          "heatmapgl": [
           {
            "colorbar": {
             "outlinewidth": 0,
             "tickcolor": "rgb(237,237,237)",
             "ticklen": 6,
             "ticks": "inside"
            },
            "colorscale": [
             [
              0,
              "rgb(20,44,66)"
             ],
             [
              1,
              "rgb(90,179,244)"
             ]
            ],
            "type": "heatmapgl"
           }
          ],
          "histogram": [
           {
            "marker": {
             "pattern": {
              "fillmode": "overlay",
              "size": 10,
              "solidity": 0.2
             }
            },
            "type": "histogram"
           }
          ],
          "histogram2d": [
           {
            "colorbar": {
             "outlinewidth": 0,
             "tickcolor": "rgb(237,237,237)",
             "ticklen": 6,
             "ticks": "inside"
            },
            "colorscale": [
             [
              0,
              "rgb(20,44,66)"
             ],
             [
              1,
              "rgb(90,179,244)"
             ]
            ],
            "type": "histogram2d"
           }
          ],
          "histogram2dcontour": [
           {
            "colorbar": {
             "outlinewidth": 0,
             "tickcolor": "rgb(237,237,237)",
             "ticklen": 6,
             "ticks": "inside"
            },
            "colorscale": [
             [
              0,
              "rgb(20,44,66)"
             ],
             [
              1,
              "rgb(90,179,244)"
             ]
            ],
            "type": "histogram2dcontour"
           }
          ],
          "mesh3d": [
           {
            "colorbar": {
             "outlinewidth": 0,
             "tickcolor": "rgb(237,237,237)",
             "ticklen": 6,
             "ticks": "inside"
            },
            "type": "mesh3d"
           }
          ],
          "parcoords": [
           {
            "line": {
             "colorbar": {
              "outlinewidth": 0,
              "tickcolor": "rgb(237,237,237)",
              "ticklen": 6,
              "ticks": "inside"
             }
            },
            "type": "parcoords"
           }
          ],
          "pie": [
           {
            "automargin": true,
            "type": "pie"
           }
          ],
          "scatter": [
           {
            "marker": {
             "colorbar": {
              "outlinewidth": 0,
              "tickcolor": "rgb(237,237,237)",
              "ticklen": 6,
              "ticks": "inside"
             }
            },
            "type": "scatter"
           }
          ],
          "scatter3d": [
           {
            "line": {
             "colorbar": {
              "outlinewidth": 0,
              "tickcolor": "rgb(237,237,237)",
              "ticklen": 6,
              "ticks": "inside"
             }
            },
            "marker": {
             "colorbar": {
              "outlinewidth": 0,
              "tickcolor": "rgb(237,237,237)",
              "ticklen": 6,
              "ticks": "inside"
             }
            },
            "type": "scatter3d"
           }
          ],
          "scattercarpet": [
           {
            "marker": {
             "colorbar": {
              "outlinewidth": 0,
              "tickcolor": "rgb(237,237,237)",
              "ticklen": 6,
              "ticks": "inside"
             }
            },
            "type": "scattercarpet"
           }
          ],
          "scattergeo": [
           {
            "marker": {
             "colorbar": {
              "outlinewidth": 0,
              "tickcolor": "rgb(237,237,237)",
              "ticklen": 6,
              "ticks": "inside"
             }
            },
            "type": "scattergeo"
           }
          ],
          "scattergl": [
           {
            "marker": {
             "colorbar": {
              "outlinewidth": 0,
              "tickcolor": "rgb(237,237,237)",
              "ticklen": 6,
              "ticks": "inside"
             }
            },
            "type": "scattergl"
           }
          ],
          "scattermapbox": [
           {
            "marker": {
             "colorbar": {
              "outlinewidth": 0,
              "tickcolor": "rgb(237,237,237)",
              "ticklen": 6,
              "ticks": "inside"
             }
            },
            "type": "scattermapbox"
           }
          ],
          "scatterpolar": [
           {
            "marker": {
             "colorbar": {
              "outlinewidth": 0,
              "tickcolor": "rgb(237,237,237)",
              "ticklen": 6,
              "ticks": "inside"
             }
            },
            "type": "scatterpolar"
           }
          ],
          "scatterpolargl": [
           {
            "marker": {
             "colorbar": {
              "outlinewidth": 0,
              "tickcolor": "rgb(237,237,237)",
              "ticklen": 6,
              "ticks": "inside"
             }
            },
            "type": "scatterpolargl"
           }
          ],
          "scatterternary": [
           {
            "marker": {
             "colorbar": {
              "outlinewidth": 0,
              "tickcolor": "rgb(237,237,237)",
              "ticklen": 6,
              "ticks": "inside"
             }
            },
            "type": "scatterternary"
           }
          ],
          "surface": [
           {
            "colorbar": {
             "outlinewidth": 0,
             "tickcolor": "rgb(237,237,237)",
             "ticklen": 6,
             "ticks": "inside"
            },
            "colorscale": [
             [
              0,
              "rgb(20,44,66)"
             ],
             [
              1,
              "rgb(90,179,244)"
             ]
            ],
            "type": "surface"
           }
          ],
          "table": [
           {
            "cells": {
             "fill": {
              "color": "rgb(237,237,237)"
             },
             "line": {
              "color": "white"
             }
            },
            "header": {
             "fill": {
              "color": "rgb(217,217,217)"
             },
             "line": {
              "color": "white"
             }
            },
            "type": "table"
           }
          ]
         },
         "layout": {
          "annotationdefaults": {
           "arrowhead": 0,
           "arrowwidth": 1
          },
          "autotypenumbers": "strict",
          "coloraxis": {
           "colorbar": {
            "outlinewidth": 0,
            "tickcolor": "rgb(237,237,237)",
            "ticklen": 6,
            "ticks": "inside"
           }
          },
          "colorscale": {
           "sequential": [
            [
             0,
             "rgb(20,44,66)"
            ],
            [
             1,
             "rgb(90,179,244)"
            ]
           ],
           "sequentialminus": [
            [
             0,
             "rgb(20,44,66)"
            ],
            [
             1,
             "rgb(90,179,244)"
            ]
           ]
          },
          "colorway": [
           "#F8766D",
           "#A3A500",
           "#00BF7D",
           "#00B0F6",
           "#E76BF3"
          ],
          "font": {
           "color": "rgb(51,51,51)"
          },
          "geo": {
           "bgcolor": "white",
           "lakecolor": "white",
           "landcolor": "rgb(237,237,237)",
           "showlakes": true,
           "showland": true,
           "subunitcolor": "white"
          },
          "hoverlabel": {
           "align": "left"
          },
          "hovermode": "closest",
          "paper_bgcolor": "white",
          "plot_bgcolor": "rgb(237,237,237)",
          "polar": {
           "angularaxis": {
            "gridcolor": "white",
            "linecolor": "white",
            "showgrid": true,
            "tickcolor": "rgb(51,51,51)",
            "ticks": "outside"
           },
           "bgcolor": "rgb(237,237,237)",
           "radialaxis": {
            "gridcolor": "white",
            "linecolor": "white",
            "showgrid": true,
            "tickcolor": "rgb(51,51,51)",
            "ticks": "outside"
           }
          },
          "scene": {
           "xaxis": {
            "backgroundcolor": "rgb(237,237,237)",
            "gridcolor": "white",
            "gridwidth": 2,
            "linecolor": "white",
            "showbackground": true,
            "showgrid": true,
            "tickcolor": "rgb(51,51,51)",
            "ticks": "outside",
            "zerolinecolor": "white"
           },
           "yaxis": {
            "backgroundcolor": "rgb(237,237,237)",
            "gridcolor": "white",
            "gridwidth": 2,
            "linecolor": "white",
            "showbackground": true,
            "showgrid": true,
            "tickcolor": "rgb(51,51,51)",
            "ticks": "outside",
            "zerolinecolor": "white"
           },
           "zaxis": {
            "backgroundcolor": "rgb(237,237,237)",
            "gridcolor": "white",
            "gridwidth": 2,
            "linecolor": "white",
            "showbackground": true,
            "showgrid": true,
            "tickcolor": "rgb(51,51,51)",
            "ticks": "outside",
            "zerolinecolor": "white"
           }
          },
          "shapedefaults": {
           "fillcolor": "black",
           "line": {
            "width": 0
           },
           "opacity": 0.3
          },
          "ternary": {
           "aaxis": {
            "gridcolor": "white",
            "linecolor": "white",
            "showgrid": true,
            "tickcolor": "rgb(51,51,51)",
            "ticks": "outside"
           },
           "baxis": {
            "gridcolor": "white",
            "linecolor": "white",
            "showgrid": true,
            "tickcolor": "rgb(51,51,51)",
            "ticks": "outside"
           },
           "bgcolor": "rgb(237,237,237)",
           "caxis": {
            "gridcolor": "white",
            "linecolor": "white",
            "showgrid": true,
            "tickcolor": "rgb(51,51,51)",
            "ticks": "outside"
           }
          },
          "xaxis": {
           "automargin": true,
           "gridcolor": "white",
           "linecolor": "white",
           "showgrid": true,
           "tickcolor": "rgb(51,51,51)",
           "ticks": "outside",
           "title": {
            "standoff": 15
           },
           "zerolinecolor": "white"
          },
          "yaxis": {
           "automargin": true,
           "gridcolor": "white",
           "linecolor": "white",
           "showgrid": true,
           "tickcolor": "rgb(51,51,51)",
           "ticks": "outside",
           "title": {
            "standoff": 15
           },
           "zerolinecolor": "white"
          }
         }
        },
        "title": {
         "text": "Number of followers by gender and age",
         "x": 0.5,
         "xanchor": "center",
         "y": 0.85,
         "yanchor": "top"
        },
        "width": 1000,
        "xaxis": {
         "range": [
          -2386,
          2386
         ],
         "ticktext": [
          2200,
          2000,
          1800,
          1600,
          1400,
          1200,
          1000,
          800,
          600,
          400,
          200,
          0,
          200,
          400,
          600,
          800,
          1000,
          1200,
          1400,
          1600,
          1800,
          2000,
          2200
         ],
         "tickvals": [
          -2200,
          -2000,
          -1800,
          -1600,
          -1400,
          -1200,
          -1000,
          -800,
          -600,
          -400,
          -200,
          0,
          200,
          400,
          600,
          800,
          1000,
          1200,
          1400,
          1600,
          1800,
          2000,
          2200
         ],
         "title": {
          "text": "Number of followers"
         },
         "type": "linear"
        },
        "yaxis": {
         "autorange": true,
         "range": [
          13.5,
          77.5
         ],
         "title": {
          "text": "Age"
         },
         "type": "linear"
        }
       }
      },
      "image/png": "[encoded data removed]",
      "text/html": [
       "<div>                            <div id=\"0d693c78-781b-4ad5-bd15-876be8ffa640\" class=\"plotly-graph-div\" style=\"height:500px; width:1000px;\"></div>            <script type=\"text/javascript\">                require([\"plotly\"], function(Plotly) {                    window.PLOTLYENV=window.PLOTLYENV || {};                                    if (document.getElementById(\"0d693c78-781b-4ad5-bd15-876be8ffa640\")) {                    Plotly.newPlot(                        \"0d693c78-781b-4ad5-bd15-876be8ffa640\",                        [{\"hoverinfo\":\"x\",\"marker\":{\"color\":\"powderblue\"},\"name\":\"Men\",\"orientation\":\"h\",\"text\":[13.0,133.0,413.0,228.0,107.0,70.0,34.0],\"x\":[13,133,413,228,107,70,34],\"y\":[17,24,34,44,54,64,74],\"type\":\"bar\"},{\"hoverinfo\":\"text\",\"marker\":{\"color\":\"seagreen\"},\"name\":\"Women\",\"orientation\":\"h\",\"text\":[66.0,837.0,2272.0,978.0,605.0,346.0,218.0],\"x\":[-66,-837,-2272,-978,-605,-346,-218],\"y\":[17,24,34,44,54,64,74],\"type\":\"bar\"}],                        {\"bargap\":0.1,\"barmode\":\"overlay\",\"height\":500,\"legend\":{\"bgcolor\":\"rgba(255, 255, 255, 0.7)\",\"bordercolor\":\"rgba(0, 0, 0, 0.5)\",\"borderwidth\":1,\"x\":0.85,\"y\":0.95},\"template\":{\"data\":{\"barpolar\":[{\"marker\":{\"line\":{\"color\":\"rgb(237,237,237)\",\"width\":0.5},\"pattern\":{\"fillmode\":\"overlay\",\"size\":10,\"solidity\":0.2}},\"type\":\"barpolar\"}],\"bar\":[{\"error_x\":{\"color\":\"rgb(51,51,51)\"},\"error_y\":{\"color\":\"rgb(51,51,51)\"},\"marker\":{\"line\":{\"color\":\"rgb(237,237,237)\",\"width\":0.5},\"pattern\":{\"fillmode\":\"overlay\",\"size\":10,\"solidity\":0.2}},\"type\":\"bar\"}],\"carpet\":[{\"aaxis\":{\"endlinecolor\":\"rgb(51,51,51)\",\"gridcolor\":\"white\",\"linecolor\":\"white\",\"minorgridcolor\":\"white\",\"startlinecolor\":\"rgb(51,51,51)\"},\"baxis\":{\"endlinecolor\":\"rgb(51,51,51)\",\"gridcolor\":\"white\",\"linecolor\":\"white\",\"minorgridcolor\":\"white\",\"startlinecolor\":\"rgb(51,51,51)\"},\"type\":\"carpet\"}],\"choropleth\":[{\"colorbar\":{\"outlinewidth\":0,\"tickcolor\":\"rgb(237,237,237)\",\"ticklen\":6,\"ticks\":\"inside\"},\"type\":\"choropleth\"}],\"contourcarpet\":[{\"colorbar\":{\"outlinewidth\":0,\"tickcolor\":\"rgb(237,237,237)\",\"ticklen\":6,\"ticks\":\"inside\"},\"type\":\"contourcarpet\"}],\"contour\":[{\"colorbar\":{\"outlinewidth\":0,\"tickcolor\":\"rgb(237,237,237)\",\"ticklen\":6,\"ticks\":\"inside\"},\"colorscale\":[[0,\"rgb(20,44,66)\"],[1,\"rgb(90,179,244)\"]],\"type\":\"contour\"}],\"heatmapgl\":[{\"colorbar\":{\"outlinewidth\":0,\"tickcolor\":\"rgb(237,237,237)\",\"ticklen\":6,\"ticks\":\"inside\"},\"colorscale\":[[0,\"rgb(20,44,66)\"],[1,\"rgb(90,179,244)\"]],\"type\":\"heatmapgl\"}],\"heatmap\":[{\"colorbar\":{\"outlinewidth\":0,\"tickcolor\":\"rgb(237,237,237)\",\"ticklen\":6,\"ticks\":\"inside\"},\"colorscale\":[[0,\"rgb(20,44,66)\"],[1,\"rgb(90,179,244)\"]],\"type\":\"heatmap\"}],\"histogram2dcontour\":[{\"colorbar\":{\"outlinewidth\":0,\"tickcolor\":\"rgb(237,237,237)\",\"ticklen\":6,\"ticks\":\"inside\"},\"colorscale\":[[0,\"rgb(20,44,66)\"],[1,\"rgb(90,179,244)\"]],\"type\":\"histogram2dcontour\"}],\"histogram2d\":[{\"colorbar\":{\"outlinewidth\":0,\"tickcolor\":\"rgb(237,237,237)\",\"ticklen\":6,\"ticks\":\"inside\"},\"colorscale\":[[0,\"rgb(20,44,66)\"],[1,\"rgb(90,179,244)\"]],\"type\":\"histogram2d\"}],\"histogram\":[{\"marker\":{\"pattern\":{\"fillmode\":\"overlay\",\"size\":10,\"solidity\":0.2}},\"type\":\"histogram\"}],\"mesh3d\":[{\"colorbar\":{\"outlinewidth\":0,\"tickcolor\":\"rgb(237,237,237)\",\"ticklen\":6,\"ticks\":\"inside\"},\"type\":\"mesh3d\"}],\"parcoords\":[{\"line\":{\"colorbar\":{\"outlinewidth\":0,\"tickcolor\":\"rgb(237,237,237)\",\"ticklen\":6,\"ticks\":\"inside\"}},\"type\":\"parcoords\"}],\"pie\":[{\"automargin\":true,\"type\":\"pie\"}],\"scatter3d\":[{\"line\":{\"colorbar\":{\"outlinewidth\":0,\"tickcolor\":\"rgb(237,237,237)\",\"ticklen\":6,\"ticks\":\"inside\"}},\"marker\":{\"colorbar\":{\"outlinewidth\":0,\"tickcolor\":\"rgb(237,237,237)\",\"ticklen\":6,\"ticks\":\"inside\"}},\"type\":\"scatter3d\"}],\"scattercarpet\":[{\"marker\":{\"colorbar\":{\"outlinewidth\":0,\"tickcolor\":\"rgb(237,237,237)\",\"ticklen\":6,\"ticks\":\"inside\"}},\"type\":\"scattercarpet\"}],\"scattergeo\":[{\"marker\":{\"colorbar\":{\"outlinewidth\":0,\"tickcolor\":\"rgb(237,237,237)\",\"ticklen\":6,\"ticks\":\"inside\"}},\"type\":\"scattergeo\"}],\"scattergl\":[{\"marker\":{\"colorbar\":{\"outlinewidth\":0,\"tickcolor\":\"rgb(237,237,237)\",\"ticklen\":6,\"ticks\":\"inside\"}},\"type\":\"scattergl\"}],\"scattermapbox\":[{\"marker\":{\"colorbar\":{\"outlinewidth\":0,\"tickcolor\":\"rgb(237,237,237)\",\"ticklen\":6,\"ticks\":\"inside\"}},\"type\":\"scattermapbox\"}],\"scatterpolargl\":[{\"marker\":{\"colorbar\":{\"outlinewidth\":0,\"tickcolor\":\"rgb(237,237,237)\",\"ticklen\":6,\"ticks\":\"inside\"}},\"type\":\"scatterpolargl\"}],\"scatterpolar\":[{\"marker\":{\"colorbar\":{\"outlinewidth\":0,\"tickcolor\":\"rgb(237,237,237)\",\"ticklen\":6,\"ticks\":\"inside\"}},\"type\":\"scatterpolar\"}],\"scatter\":[{\"marker\":{\"colorbar\":{\"outlinewidth\":0,\"tickcolor\":\"rgb(237,237,237)\",\"ticklen\":6,\"ticks\":\"inside\"}},\"type\":\"scatter\"}],\"scatterternary\":[{\"marker\":{\"colorbar\":{\"outlinewidth\":0,\"tickcolor\":\"rgb(237,237,237)\",\"ticklen\":6,\"ticks\":\"inside\"}},\"type\":\"scatterternary\"}],\"surface\":[{\"colorbar\":{\"outlinewidth\":0,\"tickcolor\":\"rgb(237,237,237)\",\"ticklen\":6,\"ticks\":\"inside\"},\"colorscale\":[[0,\"rgb(20,44,66)\"],[1,\"rgb(90,179,244)\"]],\"type\":\"surface\"}],\"table\":[{\"cells\":{\"fill\":{\"color\":\"rgb(237,237,237)\"},\"line\":{\"color\":\"white\"}},\"header\":{\"fill\":{\"color\":\"rgb(217,217,217)\"},\"line\":{\"color\":\"white\"}},\"type\":\"table\"}]},\"layout\":{\"annotationdefaults\":{\"arrowhead\":0,\"arrowwidth\":1},\"autotypenumbers\":\"strict\",\"coloraxis\":{\"colorbar\":{\"outlinewidth\":0,\"tickcolor\":\"rgb(237,237,237)\",\"ticklen\":6,\"ticks\":\"inside\"}},\"colorscale\":{\"sequential\":[[0,\"rgb(20,44,66)\"],[1,\"rgb(90,179,244)\"]],\"sequentialminus\":[[0,\"rgb(20,44,66)\"],[1,\"rgb(90,179,244)\"]]},\"colorway\":[\"#F8766D\",\"#A3A500\",\"#00BF7D\",\"#00B0F6\",\"#E76BF3\"],\"font\":{\"color\":\"rgb(51,51,51)\"},\"geo\":{\"bgcolor\":\"white\",\"lakecolor\":\"white\",\"landcolor\":\"rgb(237,237,237)\",\"showlakes\":true,\"showland\":true,\"subunitcolor\":\"white\"},\"hoverlabel\":{\"align\":\"left\"},\"hovermode\":\"closest\",\"paper_bgcolor\":\"white\",\"plot_bgcolor\":\"rgb(237,237,237)\",\"polar\":{\"angularaxis\":{\"gridcolor\":\"white\",\"linecolor\":\"white\",\"showgrid\":true,\"tickcolor\":\"rgb(51,51,51)\",\"ticks\":\"outside\"},\"bgcolor\":\"rgb(237,237,237)\",\"radialaxis\":{\"gridcolor\":\"white\",\"linecolor\":\"white\",\"showgrid\":true,\"tickcolor\":\"rgb(51,51,51)\",\"ticks\":\"outside\"}},\"scene\":{\"xaxis\":{\"backgroundcolor\":\"rgb(237,237,237)\",\"gridcolor\":\"white\",\"gridwidth\":2,\"linecolor\":\"white\",\"showbackground\":true,\"showgrid\":true,\"tickcolor\":\"rgb(51,51,51)\",\"ticks\":\"outside\",\"zerolinecolor\":\"white\"},\"yaxis\":{\"backgroundcolor\":\"rgb(237,237,237)\",\"gridcolor\":\"white\",\"gridwidth\":2,\"linecolor\":\"white\",\"showbackground\":true,\"showgrid\":true,\"tickcolor\":\"rgb(51,51,51)\",\"ticks\":\"outside\",\"zerolinecolor\":\"white\"},\"zaxis\":{\"backgroundcolor\":\"rgb(237,237,237)\",\"gridcolor\":\"white\",\"gridwidth\":2,\"linecolor\":\"white\",\"showbackground\":true,\"showgrid\":true,\"tickcolor\":\"rgb(51,51,51)\",\"ticks\":\"outside\",\"zerolinecolor\":\"white\"}},\"shapedefaults\":{\"fillcolor\":\"black\",\"line\":{\"width\":0},\"opacity\":0.3},\"ternary\":{\"aaxis\":{\"gridcolor\":\"white\",\"linecolor\":\"white\",\"showgrid\":true,\"tickcolor\":\"rgb(51,51,51)\",\"ticks\":\"outside\"},\"baxis\":{\"gridcolor\":\"white\",\"linecolor\":\"white\",\"showgrid\":true,\"tickcolor\":\"rgb(51,51,51)\",\"ticks\":\"outside\"},\"bgcolor\":\"rgb(237,237,237)\",\"caxis\":{\"gridcolor\":\"white\",\"linecolor\":\"white\",\"showgrid\":true,\"tickcolor\":\"rgb(51,51,51)\",\"ticks\":\"outside\"}},\"xaxis\":{\"automargin\":true,\"gridcolor\":\"white\",\"linecolor\":\"white\",\"showgrid\":true,\"tickcolor\":\"rgb(51,51,51)\",\"ticks\":\"outside\",\"title\":{\"standoff\":15},\"zerolinecolor\":\"white\"},\"yaxis\":{\"automargin\":true,\"gridcolor\":\"white\",\"linecolor\":\"white\",\"showgrid\":true,\"tickcolor\":\"rgb(51,51,51)\",\"ticks\":\"outside\",\"title\":{\"standoff\":15},\"zerolinecolor\":\"white\"}}},\"title\":{\"text\":\"Number of followers by gender and age\",\"x\":0.5,\"xanchor\":\"center\",\"y\":0.85,\"yanchor\":\"top\"},\"width\":1000,\"xaxis\":{\"range\":[-2386,2386],\"ticktext\":[2200,2000,1800,1600,1400,1200,1000,800,600,400,200,0,200,400,600,800,1000,1200,1400,1600,1800,2000,2200],\"tickvals\":[-2200,-2000,-1800,-1600,-1400,-1200,-1000,-800,-600,-400,-200,0,200,400,600,800,1000,1200,1400,1600,1800,2000,2200],\"title\":{\"text\":\"Number of followers\"}},\"yaxis\":{\"title\":{\"text\":\"Age\"}}},                        {\"responsive\": true}                    ).then(function(){\n",
       "                            \n",
       "var gd = document.getElementById('0d693c78-781b-4ad5-bd15-876be8ffa640');\n",
       "var x = new MutationObserver(function (mutations, observer) {{\n",
       "        var display = window.getComputedStyle(gd).display;\n",
       "        if (!display || display === 'none') {{\n",
       "            console.log([gd, 'removed!']);\n",
       "            Plotly.purge(gd);\n",
       "            observer.disconnect();\n",
       "        }}\n",
       "}});\n",
       "\n",
       "// Listen for the removal of the full notebook cells\n",
       "var notebookContainer = gd.closest('#notebook-container');\n",
       "if (notebookContainer) {{\n",
       "    x.observe(notebookContainer, {childList: true});\n",
       "}}\n",
       "\n",
       "// Listen for the clearing of the current output cell\n",
       "var outputEl = gd.closest('.output');\n",
       "if (outputEl) {{\n",
       "    x.observe(outputEl, {childList: true});\n",
       "}}\n",
       "\n",
       "                        })                };                });            </script>        </div>"
      ]
     },
     "metadata": {},
     "output_type": "display_data"
    }
   ],
   "source": [
    "age_gender = demographic_data[2][\"values\"][0][\"value\"]\n",
    "male = np.array([v for k,v in age_gender.items() if \"M\" in k])\n",
    "female = np.array([-v for k,v in age_gender.items() if \"F\" in k])\n",
    "age_bins = [k for k,v in age_gender.items() if \"M\" in k]\n",
    "age_bins[-1] = age_bins[-1].split(\"+\")[0]+\"-74\"\n",
    "x_axis_bin = [int(s.split('.')[1].split('-')[1]) for s in age_bins]\n",
    "\n",
    "# Define range for x axis based on max value\n",
    "max_range = int(np.round(np.max(np.concatenate((np.abs(female), male)))*1.05))\n",
    "x_range = list(range(0, max_range, 200))\n",
    "x_range_neg = [-1*x for x in x_range]\n",
    "\n",
    "# Define x axis ticks and x axis ticks labels\n",
    "x_ticks = sorted(set(x_range+x_range_neg))\n",
    "x_ticks_text = [np.abs(x) for x in x_ticks]\n",
    "\n",
    "layout = go.Layout(yaxis=go.layout.YAxis(title='Age'),\n",
    "                   xaxis=go.layout.XAxis(\n",
    "                       range=[-max_range, max_range],\n",
    "                       tickvals=x_ticks,\n",
    "                       ticktext=x_ticks_text,\n",
    "                       title='Number of followers'),\n",
    "                   barmode='overlay',\n",
    "                   bargap=0.1,\n",
    "                   title={\n",
    "                        'text': \"Number of followers by gender and age\",\n",
    "                        'x': 0.5,\n",
    "                        'y': 0.85,\n",
    "                        'xanchor': 'center',\n",
    "                        'yanchor': 'top'\n",
    "                    },\n",
    "                    legend=dict(\n",
    "                        x=0.85,\n",
    "                        y=0.95,\n",
    "                        bgcolor='rgba(255, 255, 255, 0.7)',\n",
    "                        bordercolor='rgba(0, 0, 0, 0.5)',\n",
    "                        borderwidth=1\n",
    "                    ),\n",
    "                    height=500,\n",
    "                    width=1000,\n",
    "                    template=\"ggplot2\"\n",
    "                   )\n",
    "\n",
    "data = [go.Bar(y=x_axis_bin,\n",
    "               x=male,\n",
    "               orientation='h',\n",
    "               name='Men',\n",
    "               hoverinfo='x',\n",
    "               text=male.astype('int'),\n",
    "               marker=dict(color='powderblue')\n",
    "               ),\n",
    "        go.Bar(y=x_axis_bin,\n",
    "               x=female,\n",
    "               orientation='h',\n",
    "               name='Women',\n",
    "               text=-1 * female.astype('int'),\n",
    "               hoverinfo='text',\n",
    "               marker=dict(color='seagreen')\n",
    "               )]\n",
    "plotly.offline.iplot(dict(data=data, layout=layout))\n"
   ]
  },
  {
   "cell_type": "markdown",
   "id": "b1b1207c",
   "metadata": {},
   "source": [
    "<a id='day'></a>\n",
    "# Does the day when the post is shared make a difference?"
   ]
  },
  {
   "cell_type": "markdown",
   "id": "79d9c295",
   "metadata": {},
   "source": [
    "## Prepare the data"
   ]
  },
  {
   "cell_type": "code",
   "execution_count": 52,
   "id": "9ed7abdd-e93c-41d4-ae5c-3b61e03a2967",
   "metadata": {},
   "outputs": [
    {
     "data": {
      "text/html": [
       "<div>\n",
       "<style scoped>\n",
       "    .dataframe tbody tr th:only-of-type {\n",
       "        vertical-align: middle;\n",
       "    }\n",
       "\n",
       "    .dataframe tbody tr th {\n",
       "        vertical-align: top;\n",
       "    }\n",
       "\n",
       "    .dataframe thead th {\n",
       "        text-align: right;\n",
       "    }\n",
       "</style>\n",
       "<table border=\"1\" class=\"dataframe\">\n",
       "  <thead>\n",
       "    <tr style=\"text-align: right;\">\n",
       "      <th></th>\n",
       "      <th>media_id</th>\n",
       "      <th>media_type</th>\n",
       "      <th>engagement</th>\n",
       "      <th>impressions</th>\n",
       "      <th>reach</th>\n",
       "      <th>saved</th>\n",
       "      <th>video_views</th>\n",
       "      <th>video_comments</th>\n",
       "      <th>video_likes</th>\n",
       "      <th>video_plays</th>\n",
       "      <th>...</th>\n",
       "      <th>date</th>\n",
       "      <th>time</th>\n",
       "      <th>caption</th>\n",
       "      <th>day</th>\n",
       "      <th>hour</th>\n",
       "      <th>hashtags</th>\n",
       "      <th>extra_hashtags</th>\n",
       "      <th>core_hashtags_bool</th>\n",
       "      <th>core_hashtags_ratio</th>\n",
       "      <th>core_hashtags</th>\n",
       "    </tr>\n",
       "  </thead>\n",
       "  <tbody>\n",
       "    <tr>\n",
       "      <th>0</th>\n",
       "      <td>17985478951995508</td>\n",
       "      <td>VIDEO</td>\n",
       "      <td>NaN</td>\n",
       "      <td>NaN</td>\n",
       "      <td>NaN</td>\n",
       "      <td>NaN</td>\n",
       "      <td>NaN</td>\n",
       "      <td>5.0</td>\n",
       "      <td>128.0</td>\n",
       "      <td>572.0</td>\n",
       "      <td>...</td>\n",
       "      <td>2023-04-20</td>\n",
       "      <td>16:45:01</td>\n",
       "      <td>Would you tell Luna she’s cute with that littl...</td>\n",
       "      <td>3</td>\n",
       "      <td>16</td>\n",
       "      <td>[#cuteanimals, #cutecat, #cutecats, #cutecatso...</td>\n",
       "      <td>[#cuteanimals, #cutecat, #cutecats, #cutecatso...</td>\n",
       "      <td>[False, False, False, False, False, False, Fal...</td>\n",
       "      <td>0.230769</td>\n",
       "      <td>False</td>\n",
       "    </tr>\n",
       "    <tr>\n",
       "      <th>1</th>\n",
       "      <td>17873150894867029</td>\n",
       "      <td>CAROUSEL_ALBUM</td>\n",
       "      <td>150.0</td>\n",
       "      <td>789.0</td>\n",
       "      <td>686.0</td>\n",
       "      <td>1.0</td>\n",
       "      <td>0.0</td>\n",
       "      <td>NaN</td>\n",
       "      <td>NaN</td>\n",
       "      <td>NaN</td>\n",
       "      <td>...</td>\n",
       "      <td>2023-04-19</td>\n",
       "      <td>16:22:29</td>\n",
       "      <td>Just a pretty princess amongst flowers 🌺🤍\\n\\n....</td>\n",
       "      <td>2</td>\n",
       "      <td>16</td>\n",
       "      <td>[#catphoto, #catphotography, #catphotos, #catp...</td>\n",
       "      <td>[#catphoto, #catphotography, #catphotos, #catp...</td>\n",
       "      <td>[False, False, False, False, False, False, Fal...</td>\n",
       "      <td>0.076923</td>\n",
       "      <td>False</td>\n",
       "    </tr>\n",
       "    <tr>\n",
       "      <th>2</th>\n",
       "      <td>17944971179622291</td>\n",
       "      <td>VIDEO</td>\n",
       "      <td>NaN</td>\n",
       "      <td>NaN</td>\n",
       "      <td>NaN</td>\n",
       "      <td>NaN</td>\n",
       "      <td>NaN</td>\n",
       "      <td>7.0</td>\n",
       "      <td>574.0</td>\n",
       "      <td>7491.0</td>\n",
       "      <td>...</td>\n",
       "      <td>2023-04-18</td>\n",
       "      <td>17:40:45</td>\n",
       "      <td>SOUND ON 🔊 can you guys relate to the high sta...</td>\n",
       "      <td>1</td>\n",
       "      <td>17</td>\n",
       "      <td>[#funnycat, #funnycats, #funnycatsvideo, #funn...</td>\n",
       "      <td>[#funnycat, #funnycats, #funnycatsvideo, #funn...</td>\n",
       "      <td>[False, False, False, False, False, False, Fal...</td>\n",
       "      <td>0.230769</td>\n",
       "      <td>False</td>\n",
       "    </tr>\n",
       "    <tr>\n",
       "      <th>3</th>\n",
       "      <td>18285817321129936</td>\n",
       "      <td>VIDEO</td>\n",
       "      <td>NaN</td>\n",
       "      <td>NaN</td>\n",
       "      <td>NaN</td>\n",
       "      <td>NaN</td>\n",
       "      <td>NaN</td>\n",
       "      <td>9.0</td>\n",
       "      <td>393.0</td>\n",
       "      <td>3626.0</td>\n",
       "      <td>...</td>\n",
       "      <td>2023-04-17</td>\n",
       "      <td>17:22:56</td>\n",
       "      <td>The second we met Luna, we knew it had to be h...</td>\n",
       "      <td>0</td>\n",
       "      <td>17</td>\n",
       "      <td>[#cuteanimals, #cutecat, #cutecats, #ilovemyca...</td>\n",
       "      <td>[#cuteanimals, #cutecat, #cutecats, #ilovemyca...</td>\n",
       "      <td>[False, False, False, False, False, False, Fal...</td>\n",
       "      <td>0.230769</td>\n",
       "      <td>False</td>\n",
       "    </tr>\n",
       "    <tr>\n",
       "      <th>4</th>\n",
       "      <td>17999574067650485</td>\n",
       "      <td>VIDEO</td>\n",
       "      <td>NaN</td>\n",
       "      <td>NaN</td>\n",
       "      <td>NaN</td>\n",
       "      <td>NaN</td>\n",
       "      <td>NaN</td>\n",
       "      <td>22.0</td>\n",
       "      <td>2962.0</td>\n",
       "      <td>25384.0</td>\n",
       "      <td>...</td>\n",
       "      <td>2023-04-16</td>\n",
       "      <td>16:32:13</td>\n",
       "      <td>It’s a love story… the boyfriend himself reque...</td>\n",
       "      <td>6</td>\n",
       "      <td>16</td>\n",
       "      <td>[#boyfriend, #catboy, #loveaffair, #catlover, ...</td>\n",
       "      <td>[#boyfriend, #catboy, #loveaffair, #ilovemycat...</td>\n",
       "      <td>[False, False, True, True, True, True, True, T...</td>\n",
       "      <td>0.846154</td>\n",
       "      <td>False</td>\n",
       "    </tr>\n",
       "  </tbody>\n",
       "</table>\n",
       "<p>5 rows × 25 columns</p>\n",
       "</div>"
      ],
      "text/plain": [
       "            media_id      media_type  engagement  impressions  reach  saved  \\\n",
       "0  17985478951995508           VIDEO         NaN          NaN    NaN    NaN   \n",
       "1  17873150894867029  CAROUSEL_ALBUM       150.0        789.0  686.0    1.0   \n",
       "2  17944971179622291           VIDEO         NaN          NaN    NaN    NaN   \n",
       "3  18285817321129936           VIDEO         NaN          NaN    NaN    NaN   \n",
       "4  17999574067650485           VIDEO         NaN          NaN    NaN    NaN   \n",
       "\n",
       "   video_views  video_comments  video_likes  video_plays  ...        date  \\\n",
       "0          NaN             5.0        128.0        572.0  ...  2023-04-20   \n",
       "1          0.0             NaN          NaN          NaN  ...  2023-04-19   \n",
       "2          NaN             7.0        574.0       7491.0  ...  2023-04-18   \n",
       "3          NaN             9.0        393.0       3626.0  ...  2023-04-17   \n",
       "4          NaN            22.0       2962.0      25384.0  ...  2023-04-16   \n",
       "\n",
       "       time                                            caption  day hour  \\\n",
       "0  16:45:01  Would you tell Luna she’s cute with that littl...    3   16   \n",
       "1  16:22:29  Just a pretty princess amongst flowers 🌺🤍\\n\\n....    2   16   \n",
       "2  17:40:45  SOUND ON 🔊 can you guys relate to the high sta...    1   17   \n",
       "3  17:22:56  The second we met Luna, we knew it had to be h...    0   17   \n",
       "4  16:32:13  It’s a love story… the boyfriend himself reque...    6   16   \n",
       "\n",
       "                                            hashtags  \\\n",
       "0  [#cuteanimals, #cutecat, #cutecats, #cutecatso...   \n",
       "1  [#catphoto, #catphotography, #catphotos, #catp...   \n",
       "2  [#funnycat, #funnycats, #funnycatsvideo, #funn...   \n",
       "3  [#cuteanimals, #cutecat, #cutecats, #ilovemyca...   \n",
       "4  [#boyfriend, #catboy, #loveaffair, #catlover, ...   \n",
       "\n",
       "                                      extra_hashtags  \\\n",
       "0  [#cuteanimals, #cutecat, #cutecats, #cutecatso...   \n",
       "1  [#catphoto, #catphotography, #catphotos, #catp...   \n",
       "2  [#funnycat, #funnycats, #funnycatsvideo, #funn...   \n",
       "3  [#cuteanimals, #cutecat, #cutecats, #ilovemyca...   \n",
       "4  [#boyfriend, #catboy, #loveaffair, #ilovemycat...   \n",
       "\n",
       "                                  core_hashtags_bool  core_hashtags_ratio  \\\n",
       "0  [False, False, False, False, False, False, Fal...             0.230769   \n",
       "1  [False, False, False, False, False, False, Fal...             0.076923   \n",
       "2  [False, False, False, False, False, False, Fal...             0.230769   \n",
       "3  [False, False, False, False, False, False, Fal...             0.230769   \n",
       "4  [False, False, True, True, True, True, True, T...             0.846154   \n",
       "\n",
       "   core_hashtags  \n",
       "0          False  \n",
       "1          False  \n",
       "2          False  \n",
       "3          False  \n",
       "4          False  \n",
       "\n",
       "[5 rows x 25 columns]"
      ]
     },
     "execution_count": 52,
     "metadata": {},
     "output_type": "execute_result"
    }
   ],
   "source": [
    "\n",
    "# Extract day and hour from date_time column\n",
    "publish_date = pd.to_datetime(media_metadata[\"date_time\"])\n",
    "media_metadata[\"day\"] = publish_date.dt.dayofweek\n",
    "media_metadata[\"hour\"] = publish_date.dt.hour\n",
    "\n",
    "\n",
    "# Define core hashtags\n",
    "core_hashtags = [\n",
    "    \"#kittengram\",\n",
    "    \"#petslife\",\n",
    "    \"#fortheloveofpets\",\n",
    "    \"#petsoftheday\",\n",
    "    \"#pets_of_our_world\",\n",
    "    \"#petslovers\",\n",
    "    \"#petsarefamily\",\n",
    "    \"#snowbengalsofinstagram\",\n",
    "    \"#snowbengal\",\n",
    "    \"#bengalcatsrule\",\n",
    "    \"#bengalcatsofinstagram\",\n",
    "    \"#bengalcatworld\",\n",
    "    \"#bengalcat\",\n",
    "    \"#sweetcatclub\",\n",
    "    \"#kittylove\",\n",
    "    \"#cats_today\",\n",
    "    \"#cats_of_day\",\n",
    "    \"#crazycatlady\",\n",
    "    \"#catfeatures\",\n",
    "    \"#catlover\",\n",
    "    \"#catlife\",\n",
    "    \"#catagram\",\n",
    "    \"#catsarethebest\",\n",
    "    \"#catsclub\",\n",
    "    \"#catloversclub\",\n",
    "    \"#instacat\",\n",
    "]\n",
    "\n",
    "# Crate all-media dataframe\n",
    "media_all = media_insight.merge(\n",
    "    media_metadata,\n",
    "    left_on=[\"media_id\", \"media_type\"],\n",
    "    right_on=[\"media_id\", \"media_type\"],\n",
    ")\n",
    "\n",
    "media_all[\"hashtags\"] = media_all[\"caption\"].apply(\n",
    "    lambda caption: [hashtag for hashtag in caption.split() if hashtag.startswith(\"#\")]\n",
    ")\n",
    "media_all[\"extra_hashtags\"] = media_all[\"hashtags\"].apply(\n",
    "    lambda hashtag_list: [\n",
    "        hashtag for hashtag in hashtag_list if hashtag not in core_hashtags\n",
    "    ]\n",
    ")\n",
    "media_all[\"core_hashtags_bool\"] = media_all[\"hashtags\"].apply(\n",
    "    lambda hashtag_list: [hashtag in hashtag_list for hashtag in core_hashtags]\n",
    ")\n",
    "\n",
    "media_all[\"core_hashtags_ratio\"] = media_all[\"core_hashtags_bool\"].apply(\n",
    "    lambda hashtag_list: np.sum(hashtag_list) / len(hashtag_list)\n",
    ")\n",
    "\n",
    "media_all[\"core_hashtags\"] = media_all[\"core_hashtags_ratio\"] > 0.85\n",
    "\n",
    "media_all.head()"
   ]
  },
  {
   "cell_type": "markdown",
   "id": "0afadfc8",
   "metadata": {},
   "source": [
    "## Understanding the data"
   ]
  },
  {
   "cell_type": "code",
   "execution_count": 53,
   "id": "72d2d817-da37-4178-b49d-811a61e06615",
   "metadata": {},
   "outputs": [
    {
     "data": {
      "image/png": "[encoded data removed]",
      "text/plain": [
       "<Figure size 864x360 with 3 Axes>"
      ]
     },
     "metadata": {},
     "output_type": "display_data"
    }
   ],
   "source": [
    "media_out_int = media_all.loc[(media_all[\"video_likes\"] < 20000)]\n",
    "media_out = media_all.loc[(media_all[\"video_likes\"] < 1500)]\n",
    "\n",
    "fig, axes = plt.subplots(1, 3, figsize=(12, 5))\n",
    "sns.boxplot(y=\"video_likes\", data=media_all, ax=axes[0])\n",
    "sns.boxplot(y=\"video_likes\", data=media_out_int, ax=axes[1])\n",
    "sns.boxplot(y=\"video_likes\", data=media_out, ax=axes[2])\n",
    "\n",
    "axes[0].set_ylabel(\"Video likes\")\n",
    "axes[1].set_ylabel(\"\")\n",
    "axes[2].set_ylabel(\"\");"
   ]
  },
  {
   "cell_type": "code",
   "execution_count": 54,
   "id": "790ecdc8-3fac-4f9f-89c9-b715a5d5c18c",
   "metadata": {},
   "outputs": [
    {
     "data": {
      "image/png": "[encoded data removed]",
      "text/plain": [
       "<Figure size 504x360 with 1 Axes>"
      ]
     },
     "metadata": {},
     "output_type": "display_data"
    }
   ],
   "source": [
    "days = [\"Monday\", \"Tuesday\", \"Wednesday\", \"Thursday\", \"Friday\", \"Saturday\", \"Sunday\"]\n",
    "fig, ax = plt.subplots(figsize=(7, 5))\n",
    "media_out[\"day\"].value_counts().to_frame().sort_index().plot(\n",
    "    kind=\"bar\",\n",
    "    ax=ax,\n",
    "    xlabel=\"Day\",\n",
    "    ylabel=\"Number of posts\",\n",
    "    title=\"Number of posts per day\",\n",
    ")\n",
    "\n",
    "ax.set_xticklabels(days, rotation=30);"
   ]
  },
  {
   "cell_type": "code",
   "execution_count": 55,
   "id": "5c84a271-63de-4d65-b6fe-4d7066ee3920",
   "metadata": {},
   "outputs": [
    {
     "data": {
      "text/plain": [
       "<AxesSubplot:xlabel='day', ylabel='video_likes'>"
      ]
     },
     "execution_count": 55,
     "metadata": {},
     "output_type": "execute_result"
    },
    {
     "data": {
      "image/png": "[encoded data removed]",
      "text/plain": [
       "<Figure size 1080x360 with 1 Axes>"
      ]
     },
     "metadata": {},
     "output_type": "display_data"
    }
   ],
   "source": [
    "fig, ax = plt.subplots(figsize=(15, 5))\n",
    "\n",
    "sns.violinplot(x=\"day\", y=\"video_likes\", data=media_out, cut=0, ax=ax)"
   ]
  },
  {
   "cell_type": "code",
   "execution_count": 56,
   "id": "c0b0dbd9-d66b-496c-93a2-67e7b9db9a22",
   "metadata": {},
   "outputs": [
    {
     "data": {
      "image/png": "[encoded data removed]",
      "text/plain": [
       "<Figure size 1080x864 with 8 Axes>"
      ]
     },
     "metadata": {},
     "output_type": "display_data"
    }
   ],
   "source": [
    "# sns.displot(data=media_out, x=\"video_likes\", col=\"hour\")\n",
    "day_list = [0,1,2,3,4,5,6]\n",
    "fig, axes = plt.subplots(2,4, figsize=(15,12))\n",
    "axes = axes.ravel()\n",
    "\n",
    "for i, (ax,day) in enumerate(zip(axes, range(7))):\n",
    "    sns.histplot(media_out.loc[media_out[\"day\"] == day][\"video_likes\"], ax=ax)\n",
    "    \n",
    "    ax.set_title(f\"Distribution for day {day}\")\n",
    "    \n",
    "    if i == 0 or i == 4:\n",
    "        ax.set_ylabel(\"Count\")\n",
    "    else:\n",
    "        ax.set_ylabel(\"\")"
   ]
  },
  {
   "cell_type": "markdown",
   "id": "769aa21f-0719-4776-8e7d-cd9a4eaea0b8",
   "metadata": {},
   "source": [
    "## Statistical analysis\n",
    "\n",
    "[statsmodelsANOVA](https://www.statsmodels.org/dev/generated/statsmodels.stats.oneway.anova_oneway.html#generated-statsmodels-stats-oneway-anova-oneway--page-root)"
   ]
  },
  {
   "cell_type": "code",
   "execution_count": 57,
   "id": "f2e15ef7-b0b2-4f2d-8b73-37b2c20c2c48",
   "metadata": {},
   "outputs": [
    {
     "name": "stdout",
     "output_type": "stream",
     "text": [
      "F-statistic of the one-way non-parametric ANOVA: 3.62\n",
      "p-value a one-way non-parametric ANOVA: 0.73\n"
     ]
    }
   ],
   "source": [
    "# Perform one-way non-parametric ANOVA test\n",
    "day_0 = media_out.query(\"day == 0\")[\"video_likes\"]\n",
    "day_1 = media_out.query(\"day == 1\")[\"video_likes\"]\n",
    "day_2 = media_out.query(\"day == 2\")[\"video_likes\"]\n",
    "day_3 = media_out.query(\"day == 3\")[\"video_likes\"]\n",
    "day_4 = media_out.query(\"day == 4\")[\"video_likes\"]\n",
    "day_5 = media_out.query(\"day == 5\")[\"video_likes\"]\n",
    "day_6 = media_out.query(\"day == 6\")[\"video_likes\"]\n",
    "H, p = stats.kruskal(day_0, day_1, day_2, day_3, day_4, day_5, day_6)\n",
    "\n",
    "print(f\"F-statistic of the one-way non-parametric ANOVA: {H:.2f}\")\n",
    "print(f\"p-value a one-way non-parametric ANOVA: {p:.2f}\")"
   ]
  },
  {
   "cell_type": "code",
   "execution_count": 58,
   "id": "816fb028-c861-4275-9e7b-1a46d95f1ffe",
   "metadata": {},
   "outputs": [
    {
     "name": "stdout",
     "output_type": "stream",
     "text": [
      "F-statistic of Welch ANOVA: 0.21\n",
      "p-value of Welch ANOVA: 0.97\n"
     ]
    }
   ],
   "source": [
    "# Perform one-way parametric ANOVA test\n",
    "F, p = sm.stats.anova_oneway(media_out[\"video_likes\"], media_out[\"day\"])\n",
    "\n",
    "# Print the results\n",
    "print(f\"F-statistic of Welch ANOVA: {F:.2f}\")\n",
    "print(f\"p-value of Welch ANOVA: {p:.2f}\")"
   ]
  },
  {
   "cell_type": "markdown",
   "id": "2bcc4f6b-37ac-481d-975c-c376d409e4c4",
   "metadata": {},
   "source": [
    "I checked the variance before performing the ANOVA test, which shows that the asusmption of homocedasticidity doesn't seem accurate for this data. However, what if we I had rushed things and not checked the variance? In that case, I would have used a simple one-way ANOVA test that assumes that the population standard deviations of the groups are equal (see [documentation](https://docs.scipy.org/doc/scipy/reference/generated/scipy.stats.f_oneway.html) for more information)"
   ]
  },
  {
   "cell_type": "markdown",
   "id": "8a5d3931-5678-4bfb-a023-5cda6109c73c",
   "metadata": {},
   "source": [
    "The results are consistent in that we have very weak evidence agains the null hypothesis, but the resulting p-values differ significantly. This could have been a problem is the difference were close to the significance level. \n",
    "\n",
    "However, I'm a very stubborn person and I believe that day 5 has a significantly different mean than the other days. Let's compare two days on their own, such as day 5 and day 1:"
   ]
  },
  {
   "cell_type": "code",
   "execution_count": 59,
   "id": "dca6c9a2-150b-45cb-ae89-2dbccb40512f",
   "metadata": {},
   "outputs": [
    {
     "name": "stdout",
     "output_type": "stream",
     "text": [
      "T-statistic: 81.0\n",
      "p-value: 0.5386755507626598\n"
     ]
    }
   ],
   "source": [
    "# non-parametric test to compare two samples\n",
    "U, p = stats.mannwhitneyu(day_1, day_5)\n",
    "\n",
    "# Print the results\n",
    "print(\"T-statistic:\", U)\n",
    "print(\"p-value:\", p)"
   ]
  },
  {
   "cell_type": "code",
   "execution_count": 60,
   "id": "5252bc2d-218b-46f5-bdbe-835ed7f891e4",
   "metadata": {},
   "outputs": [
    {
     "name": "stdout",
     "output_type": "stream",
     "text": [
      "T-statistic: 0.08562939941838549\n",
      "p-value: 0.9329749079041407\n"
     ]
    }
   ],
   "source": [
    "T, p = stats.ttest_ind(day_1, day_5, equal_var=False)\n",
    "\n",
    "# Print the results\n",
    "print(\"T-statistic:\", T)\n",
    "print(\"p-value:\", p)"
   ]
  },
  {
   "cell_type": "markdown",
   "id": "7ad72e84-fd01-4ed7-86ba-e9ba2476cc71",
   "metadata": {},
   "source": [
    "The p-value is lower, but still far from the significance level. Still, there's weak evidence against the null hypotheis that the mean number of likes is the same regarless of the day when the post is shared. Therefore, we fail to reject the null hypothesis and one can claim that the day when the post is shared on Instagram doesn't affect the mean number of likes."
   ]
  },
  {
   "cell_type": "markdown",
   "id": "d1e43d20-bdef-4807-be2e-a6020b92defd",
   "metadata": {},
   "source": [
    "<a id='hour'></a>\n",
    "# Does the hour when the post is shared make a difference?\n",
    "\n",
    "## Understanding the data"
   ]
  },
  {
   "cell_type": "code",
   "execution_count": 61,
   "id": "56fc73c3-97db-42e0-86ba-cdfb04a2fbcf",
   "metadata": {},
   "outputs": [
    {
     "data": {
      "image/png": "[encoded data removed]",
      "text/plain": [
       "<Figure size 648x360 with 1 Axes>"
      ]
     },
     "metadata": {},
     "output_type": "display_data"
    }
   ],
   "source": [
    "media_out = media_all.loc[(media_all[\"video_likes\"] < 800)]\n",
    "\n",
    "hour_df = media_out[\"hour\"].value_counts().to_frame().sort_index()\n",
    "\n",
    "hour_df.plot(\n",
    "    kind=\"bar\",\n",
    "    figsize=(9, 5),\n",
    "    ylabel=\"Number of posts\",\n",
    "    xlabel=\"Hour\",\n",
    "    title=\"Number of posts per hour\",\n",
    "    rot=0,\n",
    ");"
   ]
  },
  {
   "cell_type": "code",
   "execution_count": 62,
   "id": "1efa8950-11ee-419a-973b-e5ef5a8a3e23",
   "metadata": {},
   "outputs": [],
   "source": [
    "hour_include = hour_df.query(\"hour > 2\").index.to_list()\n",
    "media_out = media_all.loc[\n",
    "    (media_all[\"video_likes\"] < 1500)\n",
    "    & media_out[\"hour\"].isin(hour_include)\n",
    "]"
   ]
  },
  {
   "cell_type": "code",
   "execution_count": 63,
   "id": "74a277a7-d136-4be9-b555-97e07276e2a6",
   "metadata": {},
   "outputs": [
    {
     "data": {
      "text/html": [
       "<div>\n",
       "<style scoped>\n",
       "    .dataframe tbody tr th:only-of-type {\n",
       "        vertical-align: middle;\n",
       "    }\n",
       "\n",
       "    .dataframe tbody tr th {\n",
       "        vertical-align: top;\n",
       "    }\n",
       "\n",
       "    .dataframe thead th {\n",
       "        text-align: right;\n",
       "    }\n",
       "</style>\n",
       "<table border=\"1\" class=\"dataframe\">\n",
       "  <thead>\n",
       "    <tr style=\"text-align: right;\">\n",
       "      <th></th>\n",
       "      <th>mean</th>\n",
       "      <th>std</th>\n",
       "      <th>var</th>\n",
       "      <th>size</th>\n",
       "    </tr>\n",
       "    <tr>\n",
       "      <th>hour</th>\n",
       "      <th></th>\n",
       "      <th></th>\n",
       "      <th></th>\n",
       "      <th></th>\n",
       "    </tr>\n",
       "  </thead>\n",
       "  <tbody>\n",
       "    <tr>\n",
       "      <th>11</th>\n",
       "      <td>243.500000</td>\n",
       "      <td>266.164736</td>\n",
       "      <td>70843.666667</td>\n",
       "      <td>4</td>\n",
       "    </tr>\n",
       "    <tr>\n",
       "      <th>12</th>\n",
       "      <td>264.000000</td>\n",
       "      <td>179.734526</td>\n",
       "      <td>32304.500000</td>\n",
       "      <td>5</td>\n",
       "    </tr>\n",
       "    <tr>\n",
       "      <th>14</th>\n",
       "      <td>367.750000</td>\n",
       "      <td>226.479396</td>\n",
       "      <td>51292.916667</td>\n",
       "      <td>4</td>\n",
       "    </tr>\n",
       "    <tr>\n",
       "      <th>15</th>\n",
       "      <td>264.666667</td>\n",
       "      <td>241.334484</td>\n",
       "      <td>58242.333333</td>\n",
       "      <td>3</td>\n",
       "    </tr>\n",
       "    <tr>\n",
       "      <th>16</th>\n",
       "      <td>338.333333</td>\n",
       "      <td>136.011274</td>\n",
       "      <td>18499.066667</td>\n",
       "      <td>6</td>\n",
       "    </tr>\n",
       "    <tr>\n",
       "      <th>17</th>\n",
       "      <td>343.227273</td>\n",
       "      <td>113.473694</td>\n",
       "      <td>12876.279221</td>\n",
       "      <td>22</td>\n",
       "    </tr>\n",
       "    <tr>\n",
       "      <th>18</th>\n",
       "      <td>412.400000</td>\n",
       "      <td>176.463531</td>\n",
       "      <td>31139.377778</td>\n",
       "      <td>10</td>\n",
       "    </tr>\n",
       "    <tr>\n",
       "      <th>19</th>\n",
       "      <td>307.500000</td>\n",
       "      <td>126.333949</td>\n",
       "      <td>15960.266667</td>\n",
       "      <td>16</td>\n",
       "    </tr>\n",
       "    <tr>\n",
       "      <th>20</th>\n",
       "      <td>338.857143</td>\n",
       "      <td>232.439547</td>\n",
       "      <td>54028.142857</td>\n",
       "      <td>7</td>\n",
       "    </tr>\n",
       "    <tr>\n",
       "      <th>21</th>\n",
       "      <td>305.333333</td>\n",
       "      <td>64.694152</td>\n",
       "      <td>4185.333333</td>\n",
       "      <td>3</td>\n",
       "    </tr>\n",
       "  </tbody>\n",
       "</table>\n",
       "</div>"
      ],
      "text/plain": [
       "            mean         std           var  size\n",
       "hour                                            \n",
       "11    243.500000  266.164736  70843.666667     4\n",
       "12    264.000000  179.734526  32304.500000     5\n",
       "14    367.750000  226.479396  51292.916667     4\n",
       "15    264.666667  241.334484  58242.333333     3\n",
       "16    338.333333  136.011274  18499.066667     6\n",
       "17    343.227273  113.473694  12876.279221    22\n",
       "18    412.400000  176.463531  31139.377778    10\n",
       "19    307.500000  126.333949  15960.266667    16\n",
       "20    338.857143  232.439547  54028.142857     7\n",
       "21    305.333333   64.694152   4185.333333     3"
      ]
     },
     "execution_count": 63,
     "metadata": {},
     "output_type": "execute_result"
    }
   ],
   "source": [
    "media_out.groupby(\"hour\")[\"video_likes\"].agg([\"mean\", \"std\", \"var\", \"size\"])"
   ]
  },
  {
   "cell_type": "code",
   "execution_count": 64,
   "id": "6a68fcde-d1e5-429a-9885-cf20790dc1c8",
   "metadata": {},
   "outputs": [
    {
     "data": {
      "text/plain": [
       "<AxesSubplot:xlabel='hour', ylabel='video_likes'>"
      ]
     },
     "execution_count": 64,
     "metadata": {},
     "output_type": "execute_result"
    },
    {
     "data": {
      "image/png": "[encoded data removed]",
      "text/plain": [
       "<Figure size 1080x360 with 1 Axes>"
      ]
     },
     "metadata": {},
     "output_type": "display_data"
    }
   ],
   "source": [
    "fig, ax = plt.subplots(figsize=(15, 5))\n",
    "\n",
    "sns.violinplot(x=\"hour\", y=\"video_likes\", data=media_out, ax=ax, cut=0, scale=\"width\")"
   ]
  },
  {
   "cell_type": "code",
   "execution_count": 65,
   "id": "df630c97-292a-4885-b571-0f3994530c20",
   "metadata": {},
   "outputs": [
    {
     "data": {
      "image/png": "[encoded data removed]",
      "text/plain": [
       "<Figure size 1296x864 with 10 Axes>"
      ]
     },
     "metadata": {},
     "output_type": "display_data"
    }
   ],
   "source": [
    "# sns.displot(data=media_out, x=\"video_likes\", col=\"hour\")\n",
    "\n",
    "fig, axes = plt.subplots(2,5, figsize=(18,12))\n",
    "axes = axes.ravel()\n",
    "\n",
    "for i, (ax, hour) in enumerate(zip(axes, hour_include)):\n",
    "    sns.histplot(media_out.loc[media_out[\"hour\"] == hour][\"video_likes\"], ax=ax)\n",
    "    \n",
    "    ax.set_title(f\"Distribution for hour {hour}\")\n",
    "    \n",
    "    if i == 0 or i == 5:\n",
    "        ax.set_ylabel(\"Count\")\n",
    "    else:\n",
    "        ax.set_ylabel(\"\")"
   ]
  },
  {
   "cell_type": "code",
   "execution_count": 66,
   "id": "a7e198b1-a7d8-4b12-8fda-61065fdb20b1",
   "metadata": {},
   "outputs": [
    {
     "name": "stdout",
     "output_type": "stream",
     "text": [
      "F-statistic of the one-way non-parametric ANOVA: 5.50\n",
      "p-value a one-way non-parametric ANOVA: 0.79\n"
     ]
    }
   ],
   "source": [
    "# Perform one-way non-parametric ANOVA test\n",
    "hour_values = []\n",
    "for i, hour in enumerate(hour_include):\n",
    "    hour_values.append(media_out.loc[media_out[\"hour\"] == hour][\"video_likes\"].to_list())\n",
    "\n",
    "H, p = stats.kruskal(*hour_values)\n",
    "\n",
    "print(f\"F-statistic of the one-way non-parametric ANOVA: {H:.2f}\")\n",
    "print(f\"p-value a one-way non-parametric ANOVA: {p:.2f}\")"
   ]
  },
  {
   "cell_type": "code",
   "execution_count": 67,
   "id": "f23c9e43-f6fc-4d84-8a0a-e6a496eb61bd",
   "metadata": {},
   "outputs": [
    {
     "name": "stdout",
     "output_type": "stream",
     "text": [
      "F-statistic of Welch ANOVA: 0.40\n",
      "p-value of Welch ANOVA: 0.92\n"
     ]
    }
   ],
   "source": [
    "# Perform one-way parametric ANOVA test\n",
    "F, p = sm.stats.anova_oneway(media_out[\"video_likes\"], media_out[\"hour\"])\n",
    "\n",
    "# Print the results\n",
    "print(f\"F-statistic of Welch ANOVA: {F:.2f}\")\n",
    "print(f\"p-value of Welch ANOVA: {p:.2f}\")"
   ]
  },
  {
   "cell_type": "code",
   "execution_count": 68,
   "id": "0c22fa7a-ec0b-4467-be1c-212a8f65ea97",
   "metadata": {},
   "outputs": [
    {
     "data": {
      "text/html": [
       "<div>\n",
       "<style scoped>\n",
       "    .dataframe tbody tr th:only-of-type {\n",
       "        vertical-align: middle;\n",
       "    }\n",
       "\n",
       "    .dataframe tbody tr th {\n",
       "        vertical-align: top;\n",
       "    }\n",
       "\n",
       "    .dataframe thead th {\n",
       "        text-align: right;\n",
       "    }\n",
       "</style>\n",
       "<table border=\"1\" class=\"dataframe\">\n",
       "  <thead>\n",
       "    <tr style=\"text-align: right;\">\n",
       "      <th></th>\n",
       "      <th>mean</th>\n",
       "      <th>std</th>\n",
       "      <th>size</th>\n",
       "    </tr>\n",
       "    <tr>\n",
       "      <th>hour</th>\n",
       "      <th></th>\n",
       "      <th></th>\n",
       "      <th></th>\n",
       "    </tr>\n",
       "  </thead>\n",
       "  <tbody>\n",
       "    <tr>\n",
       "      <th>11</th>\n",
       "      <td>243.500000</td>\n",
       "      <td>266.164736</td>\n",
       "      <td>4</td>\n",
       "    </tr>\n",
       "    <tr>\n",
       "      <th>12</th>\n",
       "      <td>264.000000</td>\n",
       "      <td>179.734526</td>\n",
       "      <td>5</td>\n",
       "    </tr>\n",
       "    <tr>\n",
       "      <th>14</th>\n",
       "      <td>367.750000</td>\n",
       "      <td>226.479396</td>\n",
       "      <td>4</td>\n",
       "    </tr>\n",
       "    <tr>\n",
       "      <th>15</th>\n",
       "      <td>264.666667</td>\n",
       "      <td>241.334484</td>\n",
       "      <td>3</td>\n",
       "    </tr>\n",
       "    <tr>\n",
       "      <th>16</th>\n",
       "      <td>338.333333</td>\n",
       "      <td>136.011274</td>\n",
       "      <td>6</td>\n",
       "    </tr>\n",
       "    <tr>\n",
       "      <th>17</th>\n",
       "      <td>343.227273</td>\n",
       "      <td>113.473694</td>\n",
       "      <td>22</td>\n",
       "    </tr>\n",
       "    <tr>\n",
       "      <th>18</th>\n",
       "      <td>412.400000</td>\n",
       "      <td>176.463531</td>\n",
       "      <td>10</td>\n",
       "    </tr>\n",
       "    <tr>\n",
       "      <th>19</th>\n",
       "      <td>307.500000</td>\n",
       "      <td>126.333949</td>\n",
       "      <td>16</td>\n",
       "    </tr>\n",
       "    <tr>\n",
       "      <th>20</th>\n",
       "      <td>338.857143</td>\n",
       "      <td>232.439547</td>\n",
       "      <td>7</td>\n",
       "    </tr>\n",
       "    <tr>\n",
       "      <th>21</th>\n",
       "      <td>305.333333</td>\n",
       "      <td>64.694152</td>\n",
       "      <td>3</td>\n",
       "    </tr>\n",
       "  </tbody>\n",
       "</table>\n",
       "</div>"
      ],
      "text/plain": [
       "            mean         std  size\n",
       "hour                              \n",
       "11    243.500000  266.164736     4\n",
       "12    264.000000  179.734526     5\n",
       "14    367.750000  226.479396     4\n",
       "15    264.666667  241.334484     3\n",
       "16    338.333333  136.011274     6\n",
       "17    343.227273  113.473694    22\n",
       "18    412.400000  176.463531    10\n",
       "19    307.500000  126.333949    16\n",
       "20    338.857143  232.439547     7\n",
       "21    305.333333   64.694152     3"
      ]
     },
     "execution_count": 68,
     "metadata": {},
     "output_type": "execute_result"
    }
   ],
   "source": [
    "media_out.groupby(\"hour\")[\"video_likes\"].agg([\"mean\", \"std\", \"size\"])"
   ]
  },
  {
   "cell_type": "code",
   "execution_count": 69,
   "id": "02412c32-7cdd-4ea4-9603-b43cc9b03c64",
   "metadata": {},
   "outputs": [
    {
     "data": {
      "text/html": [
       "<div>\n",
       "<style scoped>\n",
       "    .dataframe tbody tr th:only-of-type {\n",
       "        vertical-align: middle;\n",
       "    }\n",
       "\n",
       "    .dataframe tbody tr th {\n",
       "        vertical-align: top;\n",
       "    }\n",
       "\n",
       "    .dataframe thead th {\n",
       "        text-align: right;\n",
       "    }\n",
       "</style>\n",
       "<table border=\"1\" class=\"dataframe\">\n",
       "  <thead>\n",
       "    <tr style=\"text-align: right;\">\n",
       "      <th>day</th>\n",
       "      <th>0</th>\n",
       "      <th>1</th>\n",
       "      <th>2</th>\n",
       "      <th>3</th>\n",
       "      <th>4</th>\n",
       "      <th>5</th>\n",
       "      <th>6</th>\n",
       "    </tr>\n",
       "    <tr>\n",
       "      <th>hour</th>\n",
       "      <th></th>\n",
       "      <th></th>\n",
       "      <th></th>\n",
       "      <th></th>\n",
       "      <th></th>\n",
       "      <th></th>\n",
       "      <th></th>\n",
       "    </tr>\n",
       "  </thead>\n",
       "  <tbody>\n",
       "    <tr>\n",
       "      <th>11</th>\n",
       "      <td>0</td>\n",
       "      <td>0</td>\n",
       "      <td>0</td>\n",
       "      <td>0</td>\n",
       "      <td>0</td>\n",
       "      <td>1</td>\n",
       "      <td>3</td>\n",
       "    </tr>\n",
       "    <tr>\n",
       "      <th>12</th>\n",
       "      <td>0</td>\n",
       "      <td>1</td>\n",
       "      <td>0</td>\n",
       "      <td>0</td>\n",
       "      <td>0</td>\n",
       "      <td>3</td>\n",
       "      <td>1</td>\n",
       "    </tr>\n",
       "    <tr>\n",
       "      <th>14</th>\n",
       "      <td>0</td>\n",
       "      <td>0</td>\n",
       "      <td>0</td>\n",
       "      <td>0</td>\n",
       "      <td>0</td>\n",
       "      <td>2</td>\n",
       "      <td>2</td>\n",
       "    </tr>\n",
       "    <tr>\n",
       "      <th>15</th>\n",
       "      <td>0</td>\n",
       "      <td>0</td>\n",
       "      <td>0</td>\n",
       "      <td>0</td>\n",
       "      <td>0</td>\n",
       "      <td>0</td>\n",
       "      <td>3</td>\n",
       "    </tr>\n",
       "    <tr>\n",
       "      <th>16</th>\n",
       "      <td>2</td>\n",
       "      <td>0</td>\n",
       "      <td>0</td>\n",
       "      <td>2</td>\n",
       "      <td>0</td>\n",
       "      <td>1</td>\n",
       "      <td>1</td>\n",
       "    </tr>\n",
       "    <tr>\n",
       "      <th>17</th>\n",
       "      <td>3</td>\n",
       "      <td>4</td>\n",
       "      <td>4</td>\n",
       "      <td>5</td>\n",
       "      <td>4</td>\n",
       "      <td>1</td>\n",
       "      <td>1</td>\n",
       "    </tr>\n",
       "    <tr>\n",
       "      <th>18</th>\n",
       "      <td>0</td>\n",
       "      <td>3</td>\n",
       "      <td>4</td>\n",
       "      <td>2</td>\n",
       "      <td>1</td>\n",
       "      <td>0</td>\n",
       "      <td>0</td>\n",
       "    </tr>\n",
       "    <tr>\n",
       "      <th>19</th>\n",
       "      <td>6</td>\n",
       "      <td>3</td>\n",
       "      <td>0</td>\n",
       "      <td>3</td>\n",
       "      <td>3</td>\n",
       "      <td>0</td>\n",
       "      <td>1</td>\n",
       "    </tr>\n",
       "    <tr>\n",
       "      <th>20</th>\n",
       "      <td>1</td>\n",
       "      <td>1</td>\n",
       "      <td>1</td>\n",
       "      <td>2</td>\n",
       "      <td>2</td>\n",
       "      <td>0</td>\n",
       "      <td>0</td>\n",
       "    </tr>\n",
       "    <tr>\n",
       "      <th>21</th>\n",
       "      <td>0</td>\n",
       "      <td>1</td>\n",
       "      <td>1</td>\n",
       "      <td>1</td>\n",
       "      <td>0</td>\n",
       "      <td>0</td>\n",
       "      <td>0</td>\n",
       "    </tr>\n",
       "  </tbody>\n",
       "</table>\n",
       "</div>"
      ],
      "text/plain": [
       "day   0  1  2  3  4  5  6\n",
       "hour                     \n",
       "11    0  0  0  0  0  1  3\n",
       "12    0  1  0  0  0  3  1\n",
       "14    0  0  0  0  0  2  2\n",
       "15    0  0  0  0  0  0  3\n",
       "16    2  0  0  2  0  1  1\n",
       "17    3  4  4  5  4  1  1\n",
       "18    0  3  4  2  1  0  0\n",
       "19    6  3  0  3  3  0  1\n",
       "20    1  1  1  2  2  0  0\n",
       "21    0  1  1  1  0  0  0"
      ]
     },
     "execution_count": 69,
     "metadata": {},
     "output_type": "execute_result"
    }
   ],
   "source": [
    "pd.crosstab(media_out[\"hour\"], media_out[\"day\"])"
   ]
  },
  {
   "cell_type": "markdown",
   "id": "0e7d9949-7250-48fe-89bf-480bec9783c9",
   "metadata": {},
   "source": [
    "### Analysing the hashtags"
   ]
  },
  {
   "cell_type": "code",
   "execution_count": 70,
   "id": "1c7f5a17-8486-47d8-94c7-b0d076c320ed",
   "metadata": {},
   "outputs": [
    {
     "data": {
      "text/html": [
       "<div>\n",
       "<style scoped>\n",
       "    .dataframe tbody tr th:only-of-type {\n",
       "        vertical-align: middle;\n",
       "    }\n",
       "\n",
       "    .dataframe tbody tr th {\n",
       "        vertical-align: top;\n",
       "    }\n",
       "\n",
       "    .dataframe thead th {\n",
       "        text-align: right;\n",
       "    }\n",
       "</style>\n",
       "<table border=\"1\" class=\"dataframe\">\n",
       "  <thead>\n",
       "    <tr style=\"text-align: right;\">\n",
       "      <th></th>\n",
       "      <th>mean</th>\n",
       "      <th>std</th>\n",
       "      <th>size</th>\n",
       "    </tr>\n",
       "    <tr>\n",
       "      <th>core_hashtags</th>\n",
       "      <th></th>\n",
       "      <th></th>\n",
       "      <th></th>\n",
       "    </tr>\n",
       "  </thead>\n",
       "  <tbody>\n",
       "    <tr>\n",
       "      <th>False</th>\n",
       "      <td>343.871795</td>\n",
       "      <td>183.223214</td>\n",
       "      <td>39</td>\n",
       "    </tr>\n",
       "    <tr>\n",
       "      <th>True</th>\n",
       "      <td>316.044444</td>\n",
       "      <td>136.553013</td>\n",
       "      <td>45</td>\n",
       "    </tr>\n",
       "  </tbody>\n",
       "</table>\n",
       "</div>"
      ],
      "text/plain": [
       "                     mean         std  size\n",
       "core_hashtags                              \n",
       "False          343.871795  183.223214    39\n",
       "True           316.044444  136.553013    45"
      ]
     },
     "execution_count": 70,
     "metadata": {},
     "output_type": "execute_result"
    }
   ],
   "source": [
    "media_out = media_all.loc[(media_all[\"video_likes\"] < 800)]\n",
    "\n",
    "media_out.groupby(\"core_hashtags\")[\"video_likes\"].agg([\"mean\", \"std\", \"size\"])"
   ]
  },
  {
   "cell_type": "code",
   "execution_count": 71,
   "id": "ef9ad29b-f907-414e-9d72-d64056bfdb8c",
   "metadata": {},
   "outputs": [
    {
     "data": {
      "image/png": "[encoded data removed]",
      "text/plain": [
       "<Figure size 720x360 with 1 Axes>"
      ]
     },
     "metadata": {},
     "output_type": "display_data"
    }
   ],
   "source": [
    "fig, ax = plt.subplots(figsize=(10, 5))\n",
    "\n",
    "sns.violinplot(x=\"core_hashtags\", y=\"video_likes\", data=media_out, ax=ax, cut=0);"
   ]
  },
  {
   "cell_type": "code",
   "execution_count": 72,
   "id": "a1d16ea2-6438-4752-aaaf-9499910b95b9",
   "metadata": {},
   "outputs": [
    {
     "data": {
      "image/png": "[encoded data removed]",
      "text/plain": [
       "<Figure size 720x360 with 2 Axes>"
      ]
     },
     "metadata": {},
     "output_type": "display_data"
    }
   ],
   "source": [
    "sns.displot(kind=\"hist\", x=\"video_likes\", col=\"core_hashtags\", data=media_out);"
   ]
  },
  {
   "cell_type": "code",
   "execution_count": 73,
   "id": "e0d88aa4-b98e-4a81-86ff-4bc572efb466",
   "metadata": {},
   "outputs": [
    {
     "name": "stdout",
     "output_type": "stream",
     "text": [
      "Test statistic of Mann-Whitney U rank test: 817.00\n",
      "p-value of Mann-Whitney U rank: 0.59\n"
     ]
    }
   ],
   "source": [
    "# Perform the Mann-Whitney U rank test\n",
    "U, p = stats.mannwhitneyu(\n",
    "    media_out.query(\"core_hashtags == True\")[\"video_likes\"],\n",
    "    media_out.query(\"core_hashtags == False\")[\"video_likes\"]\n",
    ")\n",
    "\n",
    "# Print the results\n",
    "print(f\"Test statistic of Mann-Whitney U rank test: {U:.2f}\")\n",
    "print(f\"p-value of Mann-Whitney U rank: {p:.2f}\")"
   ]
  },
  {
   "cell_type": "markdown",
   "id": "5ef0ee12-dcdd-42ab-9f12-286e03de6b1e",
   "metadata": {},
   "source": [
    "### Analysis of pictures"
   ]
  },
  {
   "cell_type": "code",
   "execution_count": 74,
   "id": "bae6363e-32e0-46d8-a90e-1690527cf8fc",
   "metadata": {},
   "outputs": [],
   "source": [
    "image_df = media_all.loc[\n",
    "    (media_all[\"media_type\"] == \"CAROUSEL_ALBUM\") | (media_all[\"media_type\"] == \"IMAGE\")\n",
    "]"
   ]
  },
  {
   "cell_type": "code",
   "execution_count": 75,
   "id": "70291311-14ea-4c69-9047-0a9443421040",
   "metadata": {},
   "outputs": [
    {
     "data": {
      "text/plain": [
       "<AxesSubplot:ylabel='Frequency'>"
      ]
     },
     "execution_count": 75,
     "metadata": {},
     "output_type": "execute_result"
    },
    {
     "data": {
      "image/png": "[encoded data removed]",
      "text/plain": [
       "<Figure size 432x288 with 1 Axes>"
      ]
     },
     "metadata": {},
     "output_type": "display_data"
    }
   ],
   "source": [
    "image_df[\"engagement\"].plot(kind=\"hist\")"
   ]
  },
  {
   "cell_type": "code",
   "execution_count": 76,
   "id": "04946fb6-3438-4107-b3fa-640fd8ae9714",
   "metadata": {},
   "outputs": [
    {
     "data": {
      "text/plain": [
       "<AxesSubplot:xlabel='date'>"
      ]
     },
     "execution_count": 76,
     "metadata": {},
     "output_type": "execute_result"
    },
    {
     "data": {
      "image/png": "[encoded data removed]",
      "text/plain": [
       "<Figure size 432x288 with 1 Axes>"
      ]
     },
     "metadata": {},
     "output_type": "display_data"
    }
   ],
   "source": [
    "image_date = image_df.copy()\n",
    "image_date[\"date\"] = pd.to_datetime(image_date[\"date\"])\n",
    "\n",
    "image_date.set_index(\"date\", inplace=True)\n",
    "image_date.sort_index(ascending=True, inplace=True)\n",
    "image_date[\"engagement\"].plot(kind=\"bar\")"
   ]
  },
  {
   "cell_type": "code",
   "execution_count": null,
   "id": "5d743ec0-08d1-41ba-8778-f4b436c1ea3e",
   "metadata": {},
   "outputs": [],
   "source": []
  },
  {
   "cell_type": "code",
   "execution_count": null,
   "id": "8fd00260-1e04-4f99-bd09-4c40ca02e1b6",
   "metadata": {},
   "outputs": [],
   "source": []
  }
 ],
 "metadata": {
  "kernelspec": {
   "display_name": "Python 3 (ipykernel)",
   "language": "python",
   "name": "python3"
  },
  "language_info": {
   "codemirror_mode": {
    "name": "ipython",
    "version": 3
   },
   "file_extension": ".py",
   "mimetype": "text/x-python",
   "name": "python",
   "nbconvert_exporter": "python",
   "pygments_lexer": "ipython3",
   "version": "3.9.12"
  },
  "vscode": {
   "interpreter": {
    "hash": "85c51566f197991eef0ebc27e876f5bda7b17af2cc7c97277dd59908854d7eaa"
   }
  }
 },
 "nbformat": 4,
 "nbformat_minor": 5
}
