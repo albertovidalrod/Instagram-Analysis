{
 "cells": [
  {
   "attachments": {},
   "cell_type": "markdown",
   "id": "605f10a2",
   "metadata": {},
   "source": [
    "# Introduction\n",
    "\n",
    "In November 2022, I got a cat with my girlfriend (the cuttest cat in the world if I say so myself). My girlfriend started a Instagram account (currently at 6 k followers), and while she's great at creating content, I'm terrible at it (other than being featured in a video every now and then as \"the boyfrind who didn't want account and he now loves the cat\"). Therefore, I decided to do help by doing what I'm good at, gathering and analysing data to understand patterns and how to best run the account to maximise its reach.\n",
    "\n",
    "In this notebook, I use the account's data obtained using [Instagram Graph API](https://developers.facebook.com/docs/instagram-api/) to create [several dashboards](#summary) to understand how people's engagement with the account and to answer several questions, such as:\n",
    "* [Does the day when the post is shared make a difference?](#day)\n",
    "\n",
    "* [Does the hour when the post is shared make a difference?](#hour)\n",
    "\n",
    "The account is fairly recent and I've only gathered two months worth of data, which make several tasks very difficult to perform, such as forecasting the number of followers. As I gather more data, I will be able to expand the sections in this notebook.\n",
    "\n"
   ]
  },
  {
   "attachments": {},
   "cell_type": "markdown",
   "id": "1371e8c6",
   "metadata": {},
   "source": [
    "# Table of contents\n",
    "\n",
    "* [Dashboards - Summary of profile data](#summary)\n",
    "\n",
    "* [Does the day when the post is shared make a difference?](#day)\n",
    "\n",
    "* [Does the hour when the post is shared make a difference?](#hour)"
   ]
  },
  {
   "cell_type": "code",
   "execution_count": 1,
   "id": "8d12e586-202b-49eb-a289-4b82eb3a5ee7",
   "metadata": {},
   "outputs": [
    {
     "data": {
      "text/html": [
       "<div class=\"bk-root\">\n",
       "        <a href=\"https://bokeh.org\" target=\"_blank\" class=\"bk-logo bk-logo-small bk-logo-notebook\"></a>\n",
       "        <span id=\"1002\">Loading BokehJS ...</span>\n",
       "    </div>\n"
      ]
     },
     "metadata": {},
     "output_type": "display_data"
    },
    {
     "data": {
      "application/javascript": "(function(root) {\n  function now() {\n    return new Date();\n  }\n\n  const force = true;\n\n  if (typeof root._bokeh_onload_callbacks === \"undefined\" || force === true) {\n    root._bokeh_onload_callbacks = [];\n    root._bokeh_is_loading = undefined;\n  }\n\nconst JS_MIME_TYPE = 'application/javascript';\n  const HTML_MIME_TYPE = 'text/html';\n  const EXEC_MIME_TYPE = 'application/vnd.bokehjs_exec.v0+json';\n  const CLASS_NAME = 'output_bokeh rendered_html';\n\n  /**\n   * Render data to the DOM node\n   */\n  function render(props, node) {\n    const script = document.createElement(\"script\");\n    node.appendChild(script);\n  }\n\n  /**\n   * Handle when an output is cleared or removed\n   */\n  function handleClearOutput(event, handle) {\n    const cell = handle.cell;\n\n    const id = cell.output_area._bokeh_element_id;\n    const server_id = cell.output_area._bokeh_server_id;\n    // Clean up Bokeh references\n    if (id != null && id in Bokeh.index) {\n      Bokeh.index[id].model.document.clear();\n      delete Bokeh.index[id];\n    }\n\n    if (server_id !== undefined) {\n      // Clean up Bokeh references\n      const cmd_clean = \"from bokeh.io.state import curstate; print(curstate().uuid_to_server['\" + server_id + \"'].get_sessions()[0].document.roots[0]._id)\";\n      cell.notebook.kernel.execute(cmd_clean, {\n        iopub: {\n          output: function(msg) {\n            const id = msg.content.text.trim();\n            if (id in Bokeh.index) {\n              Bokeh.index[id].model.document.clear();\n              delete Bokeh.index[id];\n            }\n          }\n        }\n      });\n      // Destroy server and session\n      const cmd_destroy = \"import bokeh.io.notebook as ion; ion.destroy_server('\" + server_id + \"')\";\n      cell.notebook.kernel.execute(cmd_destroy);\n    }\n  }\n\n  /**\n   * Handle when a new output is added\n   */\n  function handleAddOutput(event, handle) {\n    const output_area = handle.output_area;\n    const output = handle.output;\n\n    // limit handleAddOutput to display_data with EXEC_MIME_TYPE content only\n    if ((output.output_type != \"display_data\") || (!Object.prototype.hasOwnProperty.call(output.data, EXEC_MIME_TYPE))) {\n      return\n    }\n\n    const toinsert = output_area.element.find(\".\" + CLASS_NAME.split(' ')[0]);\n\n    if (output.metadata[EXEC_MIME_TYPE][\"id\"] !== undefined) {\n      toinsert[toinsert.length - 1].firstChild.textContent = output.data[JS_MIME_TYPE];\n      // store reference to embed id on output_area\n      output_area._bokeh_element_id = output.metadata[EXEC_MIME_TYPE][\"id\"];\n    }\n    if (output.metadata[EXEC_MIME_TYPE][\"server_id\"] !== undefined) {\n      const bk_div = document.createElement(\"div\");\n      bk_div.innerHTML = output.data[HTML_MIME_TYPE];\n      const script_attrs = bk_div.children[0].attributes;\n      for (let i = 0; i < script_attrs.length; i++) {\n        toinsert[toinsert.length - 1].firstChild.setAttribute(script_attrs[i].name, script_attrs[i].value);\n        toinsert[toinsert.length - 1].firstChild.textContent = bk_div.children[0].textContent\n      }\n      // store reference to server id on output_area\n      output_area._bokeh_server_id = output.metadata[EXEC_MIME_TYPE][\"server_id\"];\n    }\n  }\n\n  function register_renderer(events, OutputArea) {\n\n    function append_mime(data, metadata, element) {\n      // create a DOM node to render to\n      const toinsert = this.create_output_subarea(\n        metadata,\n        CLASS_NAME,\n        EXEC_MIME_TYPE\n      );\n      this.keyboard_manager.register_events(toinsert);\n      // Render to node\n      const props = {data: data, metadata: metadata[EXEC_MIME_TYPE]};\n      render(props, toinsert[toinsert.length - 1]);\n      element.append(toinsert);\n      return toinsert\n    }\n\n    /* Handle when an output is cleared or removed */\n    events.on('clear_output.CodeCell', handleClearOutput);\n    events.on('delete.Cell', handleClearOutput);\n\n    /* Handle when a new output is added */\n    events.on('output_added.OutputArea', handleAddOutput);\n\n    /**\n     * Register the mime type and append_mime function with output_area\n     */\n    OutputArea.prototype.register_mime_type(EXEC_MIME_TYPE, append_mime, {\n      /* Is output safe? */\n      safe: true,\n      /* Index of renderer in `output_area.display_order` */\n      index: 0\n    });\n  }\n\n  // register the mime type if in Jupyter Notebook environment and previously unregistered\n  if (root.Jupyter !== undefined) {\n    const events = require('base/js/events');\n    const OutputArea = require('notebook/js/outputarea').OutputArea;\n\n    if (OutputArea.prototype.mime_types().indexOf(EXEC_MIME_TYPE) == -1) {\n      register_renderer(events, OutputArea);\n    }\n  }\n  if (typeof (root._bokeh_timeout) === \"undefined\" || force === true) {\n    root._bokeh_timeout = Date.now() + 5000;\n    root._bokeh_failed_load = false;\n  }\n\n  const NB_LOAD_WARNING = {'data': {'text/html':\n     \"<div style='background-color: #fdd'>\\n\"+\n     \"<p>\\n\"+\n     \"BokehJS does not appear to have successfully loaded. If loading BokehJS from CDN, this \\n\"+\n     \"may be due to a slow or bad network connection. Possible fixes:\\n\"+\n     \"</p>\\n\"+\n     \"<ul>\\n\"+\n     \"<li>re-rerun `output_notebook()` to attempt to load from CDN again, or</li>\\n\"+\n     \"<li>use INLINE resources instead, as so:</li>\\n\"+\n     \"</ul>\\n\"+\n     \"<code>\\n\"+\n     \"from bokeh.resources import INLINE\\n\"+\n     \"output_notebook(resources=INLINE)\\n\"+\n     \"</code>\\n\"+\n     \"</div>\"}};\n\n  function display_loaded() {\n    const el = document.getElementById(\"1002\");\n    if (el != null) {\n      el.textContent = \"BokehJS is loading...\";\n    }\n    if (root.Bokeh !== undefined) {\n      if (el != null) {\n        el.textContent = \"BokehJS \" + root.Bokeh.version + \" successfully loaded.\";\n      }\n    } else if (Date.now() < root._bokeh_timeout) {\n      setTimeout(display_loaded, 100)\n    }\n  }\n\n  function run_callbacks() {\n    try {\n      root._bokeh_onload_callbacks.forEach(function(callback) {\n        if (callback != null)\n          callback();\n      });\n    } finally {\n      delete root._bokeh_onload_callbacks\n    }\n    console.debug(\"Bokeh: all callbacks have finished\");\n  }\n\n  function load_libs(css_urls, js_urls, callback) {\n    if (css_urls == null) css_urls = [];\n    if (js_urls == null) js_urls = [];\n\n    root._bokeh_onload_callbacks.push(callback);\n    if (root._bokeh_is_loading > 0) {\n      console.debug(\"Bokeh: BokehJS is being loaded, scheduling callback at\", now());\n      return null;\n    }\n    if (js_urls == null || js_urls.length === 0) {\n      run_callbacks();\n      return null;\n    }\n    console.debug(\"Bokeh: BokehJS not loaded, scheduling load and callback at\", now());\n    root._bokeh_is_loading = css_urls.length + js_urls.length;\n\n    function on_load() {\n      root._bokeh_is_loading--;\n      if (root._bokeh_is_loading === 0) {\n        console.debug(\"Bokeh: all BokehJS libraries/stylesheets loaded\");\n        run_callbacks()\n      }\n    }\n\n    function on_error(url) {\n      console.error(\"failed to load \" + url);\n    }\n\n    for (let i = 0; i < css_urls.length; i++) {\n      const url = css_urls[i];\n      const element = document.createElement(\"link\");\n      element.onload = on_load;\n      element.onerror = on_error.bind(null, url);\n      element.rel = \"stylesheet\";\n      element.type = \"text/css\";\n      element.href = url;\n      console.debug(\"Bokeh: injecting link tag for BokehJS stylesheet: \", url);\n      document.body.appendChild(element);\n    }\n\n    for (let i = 0; i < js_urls.length; i++) {\n      const url = js_urls[i];\n      const element = document.createElement('script');\n      element.onload = on_load;\n      element.onerror = on_error.bind(null, url);\n      element.async = false;\n      element.src = url;\n      console.debug(\"Bokeh: injecting script tag for BokehJS library: \", url);\n      document.head.appendChild(element);\n    }\n  };\n\n  function inject_raw_css(css) {\n    const element = document.createElement(\"style\");\n    element.appendChild(document.createTextNode(css));\n    document.body.appendChild(element);\n  }\n\n  const js_urls = [\"https://cdn.bokeh.org/bokeh/release/bokeh-2.4.3.min.js\", \"https://cdn.bokeh.org/bokeh/release/bokeh-gl-2.4.3.min.js\", \"https://cdn.bokeh.org/bokeh/release/bokeh-widgets-2.4.3.min.js\", \"https://cdn.bokeh.org/bokeh/release/bokeh-tables-2.4.3.min.js\", \"https://cdn.bokeh.org/bokeh/release/bokeh-mathjax-2.4.3.min.js\"];\n  const css_urls = [];\n\n  const inline_js = [    function(Bokeh) {\n      Bokeh.set_log_level(\"info\");\n    },\nfunction(Bokeh) {\n    }\n  ];\n\n  function run_inline_js() {\n    if (root.Bokeh !== undefined || force === true) {\n          for (let i = 0; i < inline_js.length; i++) {\n      inline_js[i].call(root, root.Bokeh);\n    }\nif (force === true) {\n        display_loaded();\n      }} else if (Date.now() < root._bokeh_timeout) {\n      setTimeout(run_inline_js, 100);\n    } else if (!root._bokeh_failed_load) {\n      console.log(\"Bokeh: BokehJS failed to load within specified timeout.\");\n      root._bokeh_failed_load = true;\n    } else if (force !== true) {\n      const cell = $(document.getElementById(\"1002\")).parents('.cell').data().cell;\n      cell.output_area.append_execute_result(NB_LOAD_WARNING)\n    }\n  }\n\n  if (root._bokeh_is_loading === 0) {\n    console.debug(\"Bokeh: BokehJS loaded, going straight to plotting\");\n    run_inline_js();\n  } else {\n    load_libs(css_urls, js_urls, function() {\n      console.debug(\"Bokeh: BokehJS plotting callback run at\", now());\n      run_inline_js();\n    });\n  }\n}(window));",
      "application/vnd.bokehjs_load.v0+json": ""
     },
     "metadata": {},
     "output_type": "display_data"
    }
   ],
   "source": [
    "import json\n",
    "import os\n",
    "import pickle\n",
    "import pycountry\n",
    "from datetime import datetime, timedelta\n",
    "\n",
    "import matplotlib\n",
    "import matplotlib as mpl\n",
    "import matplotlib.pyplot as plt\n",
    "import numpy as np\n",
    "import pandas as pd\n",
    "import plotly\n",
    "import plotly.express as px\n",
    "import plotly.graph_objs as go\n",
    "import scipy\n",
    "import scipy.stats as stats\n",
    "import seaborn as sns\n",
    "import statsmodels.api as sm\n",
    "from bokeh import events\n",
    "from bokeh.io import output_file, output_notebook, push_notebook, show\n",
    "from bokeh.layouts import column, gridplot, layout, row\n",
    "from bokeh.models import (\n",
    "    BooleanFilter,\n",
    "    CategoricalColorMapper,\n",
    "    CDSView,\n",
    "    ColumnDataSource,\n",
    "    CustomJS,\n",
    "    DatetimeTickFormatter,\n",
    "    Div,\n",
    "    HoverTool,\n",
    "    LinearAxis,\n",
    "    NumeralTickFormatter,\n",
    "    RadioButtonGroup,\n",
    "    Range1d,\n",
    "    RangeSlider,\n",
    "    RangeTool,\n",
    "    Spinner,\n",
    ")\n",
    "\n",
    "# from bokeh.models.widgets import Panel, Tabs\n",
    "from bokeh.plotting import figure, show\n",
    "from matplotlib import rcParams\n",
    "from statsmodels.formula.api import ols\n",
    "\n",
    "output_notebook()"
   ]
  },
  {
   "cell_type": "code",
   "execution_count": 2,
   "id": "25853dc0-173e-44eb-9db2-1cd5d6345a22",
   "metadata": {},
   "outputs": [],
   "source": [
    "# Set the default style\n",
    "plt.style.use(\"ggplot\")\n",
    "# sns.set_color_codes('bright')\n",
    "\n",
    "# Set Default Fonts\n",
    "rcParams[\"font.family\"] = \"sans-serif\"\n",
    "rcParams[\"font.sans-serif\"] = [\"Arial\", \"Tahoma\"]\n",
    "\n",
    "# Set Default font sizes\n",
    "small_size = 12\n",
    "medium_size = 14\n",
    "large_size = 16\n",
    "\n",
    "# Change the font size for individual elements\n",
    "matplotlib.rc(\"font\", size=small_size)  # controls default text sizes\n",
    "matplotlib.rc(\"axes\", titlesize=small_size)  # fontsize of the axes title\n",
    "matplotlib.rc(\"axes\", labelsize=medium_size)  # fontsize of the x and y labels\n",
    "matplotlib.rc(\"xtick\", labelsize=small_size)  # fontsize of the tick labels\n",
    "matplotlib.rc(\"ytick\", labelsize=small_size)  # fontsize of the tick labels\n",
    "matplotlib.rc(\"legend\", fontsize=small_size)  # legend fontsize\n",
    "matplotlib.rc(\"axes\", titlesize=large_size)  # title fontsize"
   ]
  },
  {
   "cell_type": "code",
   "execution_count": 3,
   "id": "80ad7424-b281-42de-8c6a-b578e35087c1",
   "metadata": {},
   "outputs": [],
   "source": [
    "# Find latest media_insight file\n",
    "media_directory = \"data/media insight\"\n",
    "media_insight_files = os.listdir(media_directory)\n",
    "media_insight_files.sort()\n",
    "\n",
    "# Find latest profile demographics file\n",
    "prof_demographic_directory = \"data/profile demographics\"\n",
    "prof_demographics_files = os.listdir(prof_demographic_directory)\n",
    "prof_demographics_files.sort()\n",
    "\n",
    "\n",
    "media_metadata = pd.read_csv(\"data/media_metadata.csv\")\n",
    "media_insight = pd.read_csv(media_directory + \"/\" + media_insight_files[-1])\n",
    "prof_insight = pd.read_csv(\"data/profile_insight.csv\")\n",
    "# Load the dictionary from a file\n",
    "with open(prof_demographic_directory  + \"/\" + prof_demographics_files[-1], 'rb') as f:\n",
    "    demographic_data = pickle.load(f)"
   ]
  },
  {
   "attachments": {},
   "cell_type": "markdown",
   "id": "f60390d0",
   "metadata": {},
   "source": [
    "<a id='summary'></a>\n",
    "# Summary of profile data"
   ]
  },
  {
   "cell_type": "code",
   "execution_count": 4,
   "id": "5d6b62dd",
   "metadata": {},
   "outputs": [
    {
     "data": {
      "text/html": [
       "<div>\n",
       "<style scoped>\n",
       "    .dataframe tbody tr th:only-of-type {\n",
       "        vertical-align: middle;\n",
       "    }\n",
       "\n",
       "    .dataframe tbody tr th {\n",
       "        vertical-align: top;\n",
       "    }\n",
       "\n",
       "    .dataframe thead th {\n",
       "        text-align: right;\n",
       "    }\n",
       "</style>\n",
       "<table border=\"1\" class=\"dataframe\">\n",
       "  <thead>\n",
       "    <tr style=\"text-align: right;\">\n",
       "      <th></th>\n",
       "      <th>day</th>\n",
       "      <th>number_followers</th>\n",
       "      <th>impressions</th>\n",
       "      <th>profile_views</th>\n",
       "      <th>profile_reach</th>\n",
       "      <th>number_followers_roll</th>\n",
       "      <th>number_followers_cum</th>\n",
       "      <th>follow_views_rt</th>\n",
       "      <th>follow_views_rt_roll</th>\n",
       "      <th>views_reach_rt</th>\n",
       "      <th>views_reach_rt_roll</th>\n",
       "    </tr>\n",
       "  </thead>\n",
       "  <tbody>\n",
       "    <tr>\n",
       "      <th>209</th>\n",
       "      <td>2023-07-01</td>\n",
       "      <td>38</td>\n",
       "      <td>10101.0</td>\n",
       "      <td>109.0</td>\n",
       "      <td>8524.0</td>\n",
       "      <td>32.428571</td>\n",
       "      <td>9411</td>\n",
       "      <td>34.862385</td>\n",
       "      <td>38.417570</td>\n",
       "      <td>1.278742</td>\n",
       "      <td>1.217467</td>\n",
       "    </tr>\n",
       "    <tr>\n",
       "      <th>210</th>\n",
       "      <td>2023-07-02</td>\n",
       "      <td>42</td>\n",
       "      <td>8905.0</td>\n",
       "      <td>94.0</td>\n",
       "      <td>7778.0</td>\n",
       "      <td>30.571429</td>\n",
       "      <td>9453</td>\n",
       "      <td>44.680851</td>\n",
       "      <td>35.038315</td>\n",
       "      <td>1.208537</td>\n",
       "      <td>1.315476</td>\n",
       "    </tr>\n",
       "    <tr>\n",
       "      <th>211</th>\n",
       "      <td>2023-07-03</td>\n",
       "      <td>33</td>\n",
       "      <td>8519.0</td>\n",
       "      <td>83.0</td>\n",
       "      <td>7287.0</td>\n",
       "      <td>NaN</td>\n",
       "      <td>9486</td>\n",
       "      <td>39.759036</td>\n",
       "      <td>NaN</td>\n",
       "      <td>1.139015</td>\n",
       "      <td>NaN</td>\n",
       "    </tr>\n",
       "    <tr>\n",
       "      <th>212</th>\n",
       "      <td>2023-07-04</td>\n",
       "      <td>23</td>\n",
       "      <td>5530.0</td>\n",
       "      <td>59.0</td>\n",
       "      <td>4913.0</td>\n",
       "      <td>NaN</td>\n",
       "      <td>9509</td>\n",
       "      <td>38.983051</td>\n",
       "      <td>NaN</td>\n",
       "      <td>1.200896</td>\n",
       "      <td>NaN</td>\n",
       "    </tr>\n",
       "    <tr>\n",
       "      <th>213</th>\n",
       "      <td>2023-07-05</td>\n",
       "      <td>12</td>\n",
       "      <td>3914.0</td>\n",
       "      <td>53.0</td>\n",
       "      <td>3304.0</td>\n",
       "      <td>NaN</td>\n",
       "      <td>9521</td>\n",
       "      <td>22.641509</td>\n",
       "      <td>NaN</td>\n",
       "      <td>1.604116</td>\n",
       "      <td>NaN</td>\n",
       "    </tr>\n",
       "  </tbody>\n",
       "</table>\n",
       "</div>"
      ],
      "text/plain": [
       "           day  number_followers  impressions  profile_views  profile_reach  \\\n",
       "209 2023-07-01                38      10101.0          109.0         8524.0   \n",
       "210 2023-07-02                42       8905.0           94.0         7778.0   \n",
       "211 2023-07-03                33       8519.0           83.0         7287.0   \n",
       "212 2023-07-04                23       5530.0           59.0         4913.0   \n",
       "213 2023-07-05                12       3914.0           53.0         3304.0   \n",
       "\n",
       "     number_followers_roll  number_followers_cum  follow_views_rt  \\\n",
       "209              32.428571                  9411        34.862385   \n",
       "210              30.571429                  9453        44.680851   \n",
       "211                    NaN                  9486        39.759036   \n",
       "212                    NaN                  9509        38.983051   \n",
       "213                    NaN                  9521        22.641509   \n",
       "\n",
       "     follow_views_rt_roll  views_reach_rt  views_reach_rt_roll  \n",
       "209             38.417570        1.278742             1.217467  \n",
       "210             35.038315        1.208537             1.315476  \n",
       "211                   NaN        1.139015                  NaN  \n",
       "212                   NaN        1.200896                  NaN  \n",
       "213                   NaN        1.604116                  NaN  "
      ]
     },
     "execution_count": 4,
     "metadata": {},
     "output_type": "execute_result"
    }
   ],
   "source": [
    "# Correct the number of followers to account for unfllows, \n",
    "# which cannot be obtained from the API\n",
    "prof_insight = prof_insight.copy()\n",
    "prof_insight[\"number_followers\"] = (prof_insight[\"number_followers\"]*0.95) \\\n",
    "                                        .round() \\\n",
    "                                        .astype(int)\n",
    "\n",
    "\n",
    "# Set day as datetime object and sort dataframe by descending date\n",
    "prof_insight[\"day\"] = pd.to_datetime(prof_insight[\"day\"])\n",
    "prof_insight.sort_values(by=\"day\", inplace=True, ignore_index=True)\n",
    "\n",
    "# Select data wwhere number of followers is different than 0\n",
    "prof_insight = prof_insight.iloc[:-1]\n",
    "\n",
    "# Add new features using number_followers\n",
    "prof_insight[\"number_followers_roll\"] = (\n",
    "    prof_insight[\"number_followers\"].rolling(7, center=True).mean()\n",
    ")\n",
    "prof_insight[\"number_followers_cum\"] = prof_insight[\"number_followers\"].cumsum()\n",
    "\n",
    "# Compute follower-views ratio\n",
    "prof_insight[\"follow_views_rt\"] = (\n",
    "    prof_insight[\"number_followers\"] / prof_insight[\"profile_views\"] * 100\n",
    ")\n",
    "prof_insight[\"follow_views_rt_roll\"] = (\n",
    "    prof_insight[\"follow_views_rt\"].rolling(7, center=True).mean()\n",
    ")\n",
    "\n",
    "# Compute views-reach ratio\n",
    "prof_insight[\"views_reach_rt\"] = (\n",
    "    prof_insight[\"profile_views\"] / prof_insight[\"profile_reach\"] * 100\n",
    ")\n",
    "prof_insight[\"views_reach_rt_roll\"] = (\n",
    "    prof_insight[\"views_reach_rt\"].rolling(7, center=True).mean()\n",
    ")\n",
    "\n",
    "prof_insight.tail()"
   ]
  },
  {
   "cell_type": "code",
   "execution_count": 5,
   "id": "464ac48b",
   "metadata": {},
   "outputs": [
    {
     "data": {
      "text/html": [
       "\n",
       "  <div class=\"bk-root\" id=\"46bcfdec-8e10-4ac7-b432-4e9cb5a66c8d\" data-root-id=\"1259\"></div>\n"
      ]
     },
     "metadata": {},
     "output_type": "display_data"
    },
    {
     "data": {
      "application/javascript": "(function(root) {\n  function embed_document(root) {\n  const docs_json = {\"bc359603-f676-4b96-9a99-becf2afc38c5\":{\"defs\":[],\"roots\":{\"references\":[{\"attributes\":{\"children\":[{\"id\":\"1256\"},{\"id\":\"1257\"},{\"id\":\"1258\"},{\"id\":\"1172\"},{\"id\":\"1204\"}]},\"id\":\"1259\",\"type\":\"Column\"},{\"attributes\":{},\"id\":\"1132\",\"type\":\"YearsTicker\"},{\"attributes\":{\"months\":[0,6]},\"id\":\"1131\",\"type\":\"MonthsTicker\"},{\"attributes\":{\"months\":[0,2,4,6,8,10]},\"id\":\"1129\",\"type\":\"MonthsTicker\"},{\"attributes\":{\"line_color\":\"darkblue\",\"line_width\":3,\"x\":{\"field\":\"x\"},\"y\":{\"field\":\"y\"}},\"id\":\"1136\",\"type\":\"Line\"},{\"attributes\":{},\"id\":\"1286\",\"type\":\"Selection\"},{\"attributes\":{\"months\":[0,4,8]},\"id\":\"1130\",\"type\":\"MonthsTicker\"},{\"attributes\":{\"args\":{\"p1\":{\"id\":\"1003\"},\"p2\":{\"id\":\"1084\"},\"range_slider1\":{\"id\":\"1250\"},\"range_slider2\":{\"id\":\"1253\"},\"select1\":{\"id\":\"1172\"},\"select2\":{\"id\":\"1204\"}},\"code\":\"\\n              if (p1.visible == true) {\\n                p1.visible = false;\\n                p2.visible = true;\\n                range_slider1.visible=false;\\n                select1.visible=false;\\n                select2.visible=true;\\n                range_slider2.visible=true;\\n\\n              }\\n              else {\\n                p1.visible = true;\\n                p2.visible = false;\\n                range_slider1.visible=true;\\n                select1.visible=true;\\n                select2.visible=false;\\n                range_slider2.visible=false;\\n\\n              }\\n            \"},\"id\":\"1260\",\"type\":\"CustomJS\"},{\"attributes\":{\"end\":1688515200000.0,\"start\":1686009600000.0},\"id\":\"1087\",\"type\":\"Range1d\"},{\"attributes\":{},\"id\":\"1285\",\"type\":\"UnionRenderers\"},{\"attributes\":{},\"id\":\"1037\",\"type\":\"AllLabels\"},{\"attributes\":{\"days\":[\"%Y-%m-%d\"]},\"id\":\"1248\",\"type\":\"DatetimeTickFormatter\"},{\"attributes\":{\"line_color\":\"darkblue\",\"line_width\":3,\"x\":{\"field\":\"x\"},\"y\":{\"field\":\"y\"}},\"id\":\"1055\",\"type\":\"Line\"},{\"attributes\":{\"label\":{\"value\":\"Daily data\"},\"renderers\":[{\"id\":\"1029\"}]},\"id\":\"1053\",\"type\":\"LegendItem\"},{\"attributes\":{\"coordinates\":null,\"data_source\":{\"id\":\"1230\"},\"glyph\":{\"id\":\"1231\"},\"group\":null,\"hover_glyph\":null,\"muted_glyph\":{\"id\":\"1233\"},\"nonselection_glyph\":{\"id\":\"1232\"},\"view\":{\"id\":\"1235\"}},\"id\":\"1234\",\"type\":\"GlyphRenderer\"},{\"attributes\":{},\"id\":\"1269\",\"type\":\"AllLabels\"},{\"attributes\":{\"data\":{\"x\":{\"__ndarray__\":\"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\",\"dtype\":\"float64\",\"order\":\"little\",\"shape\":[208]},\"y\":{\"__ndarray__\":\"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\",\"dtype\":\"float64\",\"order\":\"little\",\"shape\":[208]}},\"selected\":{\"id\":\"1070\"},\"selection_policy\":{\"id\":\"1069\"}},\"id\":\"1054\",\"type\":\"ColumnDataSource\"},{\"attributes\":{},\"id\":\"1034\",\"type\":\"AllLabels\"},{\"attributes\":{\"num_minor_ticks\":5,\"tickers\":[{\"id\":\"1307\"},{\"id\":\"1308\"},{\"id\":\"1309\"},{\"id\":\"1310\"},{\"id\":\"1311\"},{\"id\":\"1312\"},{\"id\":\"1313\"},{\"id\":\"1314\"},{\"id\":\"1315\"},{\"id\":\"1316\"},{\"id\":\"1317\"},{\"id\":\"1318\"}]},\"id\":\"1216\",\"type\":\"DatetimeTicker\"},{\"attributes\":{\"months\":[0,1,2,3,4,5,6,7,8,9,10,11]},\"id\":\"1047\",\"type\":\"MonthsTicker\"},{\"attributes\":{\"children\":[{\"id\":\"1003\"},{\"id\":\"1250\"}]},\"id\":\"1257\",\"type\":\"Row\"},{\"attributes\":{},\"id\":\"1033\",\"type\":\"BasicTickFormatter\"},{\"attributes\":{\"args\":{\"other\":{\"id\":\"1008\"}},\"code\":\"other.end = this.value[1]\"},\"id\":\"1252\",\"type\":\"CustomJS\"},{\"attributes\":{\"children\":[{\"id\":\"1084\"},{\"id\":\"1253\"}]},\"id\":\"1258\",\"type\":\"Row\"},{\"attributes\":{\"coordinates\":null,\"fill_alpha\":0.2,\"fill_color\":\"navy\",\"group\":null,\"level\":\"overlay\",\"line_alpha\":1.0,\"line_color\":\"black\",\"line_dash\":[2,2],\"line_width\":0.5,\"syncable\":false},\"id\":\"1240\",\"type\":\"BoxAnnotation\"},{\"attributes\":{\"source\":{\"id\":\"1025\"}},\"id\":\"1030\",\"type\":\"CDSView\"},{\"attributes\":{\"end\":408,\"js_property_callbacks\":{\"change:value\":[{\"id\":\"1254\"},{\"id\":\"1255\"}]},\"start\":1.1,\"title\":\"Adjust y-axis range\",\"value\":[1.1,408],\"visible\":false,\"width\":150},\"id\":\"1253\",\"type\":\"RangeSlider\"},{\"attributes\":{\"coordinates\":null,\"group\":null,\"text\":\"Cumulative number of followers - Log scale\"},\"id\":\"1205\",\"type\":\"Title\"},{\"attributes\":{\"mantissas\":[1,2,5],\"max_interval\":500.0,\"num_minor_ticks\":0},\"id\":\"1307\",\"type\":\"AdaptiveTicker\"},{\"attributes\":{\"data\":{\"x\":{\"__ndarray__\":\"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\",\"dtype\":\"float64\",\"order\":\"little\",\"shape\":[214]},\"y\":[1,5,6,9,11,13,14,18,23,41,48,52,64,65,79,82,87,90,92,97,107,125,148,151,153,161,169,276,435,443,452,465,494,533,608,640,661,687,717,753,780,811,841,857,878,935,966,987,1018,1049,1097,1135,1160,1178,1193,1212,1223,1233,1248,1265,1273,1289,1312,1333,1352,1367,1375,1387,1401,1415,1425,1440,1466,1488,1506,1535,1566,1600,1667,1712,1772,1823,1888,1986,2159,2388,2699,2981,3203,3542,3917,4315,4648,4896,5101,5301,5534,5764,5960,6023,6108,6178,6274,6339,6398,6446,6507,6572,6617,6669,6699,6789,6891,6976,7066,7155,7230,7319,7378,7449,7539,7674,7743,7807,7867,7893,7913,7980,8001,8011,8026,8041,8062,8076,8088,8097,8100,8104,8111,8121,8124,8130,8136,8143,8150,8159,8164,8170,8172,8183,8189,8203,8221,8233,8241,8269,8284,8295,8312,8325,8335,8351,8369,8375,8383,8388,8392,8397,8412,8423,8434,8442,8461,8480,8496,8514,8519,8527,8535,8541,8552,8569,8589,8624,8653,8673,8699,8715,8755,8774,8793,8807,8827,8853,8889,8924,8974,9031,9079,9111,9132,9160,9189,9223,9252,9282,9307,9334,9373,9411,9453,9486,9509,9521]},\"selected\":{\"id\":\"1305\"},\"selection_policy\":{\"id\":\"1304\"}},\"id\":\"1230\",\"type\":\"ColumnDataSource\"},{\"attributes\":{\"coordinates\":null,\"data_source\":{\"id\":\"1198\"},\"glyph\":{\"id\":\"1199\"},\"group\":null,\"hover_glyph\":null,\"muted_glyph\":{\"id\":\"1201\"},\"nonselection_glyph\":{\"id\":\"1200\"},\"view\":{\"id\":\"1203\"}},\"id\":\"1202\",\"type\":\"GlyphRenderer\"},{\"attributes\":{\"line_alpha\":0.2,\"line_color\":\"darkblue\",\"line_width\":3,\"x\":{\"field\":\"x\"},\"y\":{\"field\":\"y\"}},\"id\":\"1201\",\"type\":\"Line\"},{\"attributes\":{\"base\":60,\"mantissas\":[1,2,5,10,15,20,30],\"max_interval\":1800000.0,\"min_interval\":1000.0,\"num_minor_ticks\":0},\"id\":\"1308\",\"type\":\"AdaptiveTicker\"},{\"attributes\":{\"source\":{\"id\":\"1230\"}},\"id\":\"1235\",\"type\":\"CDSView\"},{\"attributes\":{\"num_minor_ticks\":5,\"tickers\":[{\"id\":\"1121\"},{\"id\":\"1122\"},{\"id\":\"1123\"},{\"id\":\"1124\"},{\"id\":\"1125\"},{\"id\":\"1126\"},{\"id\":\"1127\"},{\"id\":\"1128\"},{\"id\":\"1129\"},{\"id\":\"1130\"},{\"id\":\"1131\"},{\"id\":\"1132\"}]},\"id\":\"1096\",\"type\":\"DatetimeTicker\"},{\"attributes\":{\"fill_alpha\":0.1,\"fill_color\":\"lightsteelblue\",\"hatch_alpha\":{\"value\":0.1},\"x\":{\"field\":\"x\"},\"y1\":{\"value\":0.1},\"y2\":{\"field\":\"y2\"}},\"id\":\"1194\",\"type\":\"VArea\"},{\"attributes\":{},\"id\":\"1274\",\"type\":\"AllLabels\"},{\"attributes\":{\"months\":[0,1,2,3,4,5,6,7,8,9,10,11]},\"id\":\"1314\",\"type\":\"MonthsTicker\"},{\"attributes\":{\"coordinates\":null,\"data_source\":{\"id\":\"1224\"},\"glyph\":{\"id\":\"1225\"},\"group\":null,\"hover_glyph\":null,\"muted_glyph\":{\"id\":\"1227\"},\"nonselection_glyph\":{\"id\":\"1226\"},\"view\":{\"id\":\"1229\"}},\"id\":\"1228\",\"type\":\"GlyphRenderer\"},{\"attributes\":{\"axis_label\":\"Number of followers\",\"coordinates\":null,\"formatter\":{\"id\":\"1114\"},\"group\":null,\"major_label_policy\":{\"id\":\"1115\"},\"ticker\":{\"id\":\"1100\"}},\"id\":\"1099\",\"type\":\"LogAxis\"},{\"attributes\":{\"days\":[1,8,15,22]},\"id\":\"1312\",\"type\":\"DaysTicker\"},{\"attributes\":{\"coordinates\":null,\"formatter\":{\"id\":\"1248\"},\"group\":null,\"major_label_policy\":{\"id\":\"1274\"},\"ticker\":{\"id\":\"1216\"}},\"id\":\"1215\",\"type\":\"DatetimeAxis\"},{\"attributes\":{},\"id\":\"1266\",\"type\":\"BasicTickFormatter\"},{\"attributes\":{\"fill_color\":{\"value\":\"cornflowerblue\"},\"hatch_color\":{\"value\":\"cornflowerblue\"},\"line_color\":{\"value\":\"cornflowerblue\"},\"top\":{\"field\":\"top\"},\"width\":{\"value\":22000000},\"x\":{\"field\":\"x\"}},\"id\":\"1026\",\"type\":\"VBar\"},{\"attributes\":{},\"id\":\"1213\",\"type\":\"LogScale\"},{\"attributes\":{},\"id\":\"1272\",\"type\":\"AllLabels\"},{\"attributes\":{\"base\":24,\"mantissas\":[1,2,4,6,8,12],\"max_interval\":43200000.0,\"min_interval\":3600000.0,\"num_minor_ticks\":0},\"id\":\"1309\",\"type\":\"AdaptiveTicker\"},{\"attributes\":{\"axis\":{\"id\":\"1215\"},\"coordinates\":null,\"grid_line_color\":\"white\",\"group\":null,\"ticker\":null},\"id\":\"1218\",\"type\":\"Grid\"},{\"attributes\":{\"coordinates\":null,\"group\":null,\"items\":[{\"id\":\"1053\"},{\"id\":\"1083\"}],\"location\":\"top_left\"},\"id\":\"1052\",\"type\":\"Legend\"},{\"attributes\":{\"days\":[1,2,3,4,5,6,7,8,9,10,11,12,13,14,15,16,17,18,19,20,21,22,23,24,25,26,27,28,29,30,31]},\"id\":\"1310\",\"type\":\"DaysTicker\"},{\"attributes\":{},\"id\":\"1091\",\"type\":\"LinearScale\"},{\"attributes\":{\"data\":{\"top\":[1,4,1,3,2,2,1,4,5,18,7,4,12,1,14,3,5,3,2,5,10,18,23,3,2,8,8,107,159,8,9,13,29,39,75,32,21,26,30,36,27,31,30,16,21,57,31,21,31,31,48,38,25,18,15,19,11,10,15,17,8,16,23,21,19,15,8,12,14,14,10,15,26,22,18,29,31,34,67,45,60,51,65,98,173,229,311,282,222,339,375,398,333,248,205,200,233,230,196,63,85,70,96,65,59,48,61,65,45,52,30,90,102,85,90,89,75,89,59,71,90,135,69,64,60,26,20,67,21,10,15,15,21,14,12,9,3,4,7,10,3,6,6,7,7,9,5,6,2,11,6,14,18,12,8,28,15,11,17,13,10,16,18,6,8,5,4,5,15,11,11,8,19,19,16,18,5,8,8,6,11,17,20,35,29,20,26,16,40,19,19,14,20,26,36,35,50,57,48,32,21,28,29,34,29,30,25,27,39,38,42,33,23,12],\"x\":{\"__ndarray__\":\"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\",\"dtype\":\"float64\",\"order\":\"little\",\"shape\":[214]}},\"selected\":{\"id\":\"1039\"},\"selection_policy\":{\"id\":\"1038\"}},\"id\":\"1025\",\"type\":\"ColumnDataSource\"},{\"attributes\":{\"days\":[1,4,7,10,13,16,19,22,25,28]},\"id\":\"1311\",\"type\":\"DaysTicker\"},{\"attributes\":{\"axis\":{\"id\":\"1095\"},\"coordinates\":null,\"grid_line_color\":\"white\",\"group\":null,\"ticker\":null},\"id\":\"1098\",\"type\":\"Grid\"},{\"attributes\":{\"fill_alpha\":0.2,\"fill_color\":\"lightsteelblue\",\"hatch_alpha\":{\"value\":0.2},\"x\":{\"field\":\"x\"},\"y1\":{\"value\":0.1},\"y2\":{\"field\":\"y2\"}},\"id\":\"1195\",\"type\":\"VArea\"},{\"attributes\":{\"ticker\":null},\"id\":\"1271\",\"type\":\"LogTickFormatter\"},{\"attributes\":{\"coordinates\":null,\"formatter\":{\"id\":\"1271\"},\"group\":null,\"major_label_policy\":{\"id\":\"1272\"},\"ticker\":{\"id\":\"1220\"}},\"id\":\"1219\",\"type\":\"LogAxis\"},{\"attributes\":{\"days\":[1,15]},\"id\":\"1313\",\"type\":\"DaysTicker\"},{\"attributes\":{\"months\":[0,6]},\"id\":\"1317\",\"type\":\"MonthsTicker\"},{\"attributes\":{\"data\":{\"x\":{\"__ndarray__\":\"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\",\"dtype\":\"float64\",\"order\":\"little\",\"shape\":[214]},\"y\":[1,5,6,9,11,13,14,18,23,41,48,52,64,65,79,82,87,90,92,97,107,125,148,151,153,161,169,276,435,443,452,465,494,533,608,640,661,687,717,753,780,811,841,857,878,935,966,987,1018,1049,1097,1135,1160,1178,1193,1212,1223,1233,1248,1265,1273,1289,1312,1333,1352,1367,1375,1387,1401,1415,1425,1440,1466,1488,1506,1535,1566,1600,1667,1712,1772,1823,1888,1986,2159,2388,2699,2981,3203,3542,3917,4315,4648,4896,5101,5301,5534,5764,5960,6023,6108,6178,6274,6339,6398,6446,6507,6572,6617,6669,6699,6789,6891,6976,7066,7155,7230,7319,7378,7449,7539,7674,7743,7807,7867,7893,7913,7980,8001,8011,8026,8041,8062,8076,8088,8097,8100,8104,8111,8121,8124,8130,8136,8143,8150,8159,8164,8170,8172,8183,8189,8203,8221,8233,8241,8269,8284,8295,8312,8325,8335,8351,8369,8375,8383,8388,8392,8397,8412,8423,8434,8442,8461,8480,8496,8514,8519,8527,8535,8541,8552,8569,8589,8624,8653,8673,8699,8715,8755,8774,8793,8807,8827,8853,8889,8924,8974,9031,9079,9111,9132,9160,9189,9223,9252,9282,9307,9334,9373,9411,9453,9486,9509,9521]},\"selected\":{\"id\":\"1288\"},\"selection_policy\":{\"id\":\"1287\"}},\"id\":\"1198\",\"type\":\"ColumnDataSource\"},{\"attributes\":{\"tools\":[{\"id\":\"1022\"},{\"id\":\"1169\"}]},\"id\":\"1023\",\"type\":\"Toolbar\"},{\"attributes\":{\"months\":[0,2,4,6,8,10]},\"id\":\"1315\",\"type\":\"MonthsTicker\"},{\"attributes\":{\"label\":{\"value\":\"Daily data\"},\"renderers\":[{\"id\":\"1110\"}]},\"id\":\"1134\",\"type\":\"LegendItem\"},{\"attributes\":{\"months\":[0,4,8]},\"id\":\"1316\",\"type\":\"MonthsTicker\"},{\"attributes\":{\"fill_color\":\"lightsteelblue\",\"x\":{\"field\":\"x\"},\"y1\":{\"value\":0.1},\"y2\":{\"field\":\"y2\"}},\"id\":\"1193\",\"type\":\"VArea\"},{\"attributes\":{\"dimensions\":\"width\"},\"id\":\"1022\",\"type\":\"PanTool\"},{\"attributes\":{\"coordinates\":null,\"group\":null,\"items\":[{\"id\":\"1134\"},{\"id\":\"1164\"}],\"location\":\"top_left\"},\"id\":\"1133\",\"type\":\"Legend\"},{\"attributes\":{\"coordinates\":null,\"data_source\":{\"id\":\"1192\"},\"glyph\":{\"id\":\"1193\"},\"group\":null,\"hover_glyph\":null,\"muted_glyph\":{\"id\":\"1195\"},\"nonselection_glyph\":{\"id\":\"1194\"},\"view\":{\"id\":\"1197\"}},\"id\":\"1196\",\"type\":\"GlyphRenderer\"},{\"attributes\":{},\"id\":\"1019\",\"type\":\"BasicTicker\"},{\"attributes\":{\"background_fill_color\":\"#efefef\",\"below\":[{\"id\":\"1215\"}],\"center\":[{\"id\":\"1218\"},{\"id\":\"1222\"}],\"height\":200,\"left\":[{\"id\":\"1219\"}],\"renderers\":[{\"id\":\"1228\"},{\"id\":\"1234\"}],\"title\":{\"id\":\"1205\"},\"toolbar\":{\"id\":\"1223\"},\"toolbar_location\":null,\"visible\":false,\"width\":800,\"x_range\":{\"id\":\"1207\"},\"x_scale\":{\"id\":\"1211\"},\"y_range\":{\"id\":\"1209\"},\"y_scale\":{\"id\":\"1213\"}},\"id\":\"1204\",\"subtype\":\"Figure\",\"type\":\"Plot\"},{\"attributes\":{\"axis\":{\"id\":\"1018\"},\"coordinates\":null,\"dimension\":1,\"grid_line_color\":\"white\",\"group\":null,\"ticker\":null},\"id\":\"1021\",\"type\":\"Grid\"},{\"attributes\":{\"active_multi\":{\"id\":\"1236\"},\"tools\":[{\"id\":\"1236\"}]},\"id\":\"1191\",\"type\":\"Toolbar\"},{\"attributes\":{\"axis_label\":\"Number of followers\",\"coordinates\":null,\"formatter\":{\"id\":\"1033\"},\"group\":null,\"major_label_policy\":{\"id\":\"1034\"},\"ticker\":{\"id\":\"1019\"}},\"id\":\"1018\",\"type\":\"LinearAxis\"},{\"attributes\":{},\"id\":\"1188\",\"type\":\"BasicTicker\"},{\"attributes\":{\"axis\":{\"id\":\"1014\"},\"coordinates\":null,\"grid_line_color\":\"white\",\"group\":null,\"ticker\":null},\"id\":\"1017\",\"type\":\"Grid\"},{\"attributes\":{\"axis\":{\"id\":\"1187\"},\"coordinates\":null,\"dimension\":1,\"grid_line_color\":\"white\",\"group\":null,\"ticker\":null},\"id\":\"1190\",\"type\":\"Grid\"},{\"attributes\":{},\"id\":\"1010\",\"type\":\"LinearScale\"},{\"attributes\":{\"source\":{\"id\":\"1106\"}},\"id\":\"1111\",\"type\":\"CDSView\"},{\"attributes\":{\"coordinates\":null,\"formatter\":{\"id\":\"1266\"},\"group\":null,\"major_label_policy\":{\"id\":\"1267\"},\"ticker\":{\"id\":\"1188\"}},\"id\":\"1187\",\"type\":\"LinearAxis\"},{\"attributes\":{},\"id\":\"1012\",\"type\":\"LinearScale\"},{\"attributes\":{\"axis\":{\"id\":\"1183\"},\"coordinates\":null,\"grid_line_color\":\"white\",\"group\":null,\"ticker\":null},\"id\":\"1186\",\"type\":\"Grid\"},{\"attributes\":{\"callback\":null,\"formatters\":{\"$x\":\"datetime\"},\"tooltips\":[[\"index\",\"$index\"],[\"date\",\"$x{%F}\"],[\"number of followers\",\"$y\"]]},\"id\":\"1169\",\"type\":\"HoverTool\"},{\"attributes\":{\"coordinates\":null,\"formatter\":{\"id\":\"1244\"},\"group\":null,\"major_label_policy\":{\"id\":\"1269\"},\"ticker\":{\"id\":\"1184\"}},\"id\":\"1183\",\"type\":\"DatetimeAxis\"},{\"attributes\":{\"num_minor_ticks\":5,\"tickers\":[{\"id\":\"1290\"},{\"id\":\"1291\"},{\"id\":\"1292\"},{\"id\":\"1293\"},{\"id\":\"1294\"},{\"id\":\"1295\"},{\"id\":\"1296\"},{\"id\":\"1297\"},{\"id\":\"1298\"},{\"id\":\"1299\"},{\"id\":\"1300\"},{\"id\":\"1301\"}]},\"id\":\"1184\",\"type\":\"DatetimeTicker\"},{\"attributes\":{\"num_minor_ticks\":5,\"tickers\":[{\"id\":\"1040\"},{\"id\":\"1041\"},{\"id\":\"1042\"},{\"id\":\"1043\"},{\"id\":\"1044\"},{\"id\":\"1045\"},{\"id\":\"1046\"},{\"id\":\"1047\"},{\"id\":\"1048\"},{\"id\":\"1049\"},{\"id\":\"1050\"},{\"id\":\"1051\"}]},\"id\":\"1015\",\"type\":\"DatetimeTicker\"},{\"attributes\":{\"source\":{\"id\":\"1198\"}},\"id\":\"1203\",\"type\":\"CDSView\"},{\"attributes\":{\"data\":{\"x\":{\"__ndarray__\":\"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\",\"dtype\":\"float64\",\"order\":\"little\",\"shape\":[214]},\"y2\":[1,5,6,9,11,13,14,18,23,41,48,52,64,65,79,82,87,90,92,97,107,125,148,151,153,161,169,276,435,443,452,465,494,533,608,640,661,687,717,753,780,811,841,857,878,935,966,987,1018,1049,1097,1135,1160,1178,1193,1212,1223,1233,1248,1265,1273,1289,1312,1333,1352,1367,1375,1387,1401,1415,1425,1440,1466,1488,1506,1535,1566,1600,1667,1712,1772,1823,1888,1986,2159,2388,2699,2981,3203,3542,3917,4315,4648,4896,5101,5301,5534,5764,5960,6023,6108,6178,6274,6339,6398,6446,6507,6572,6617,6669,6699,6789,6891,6976,7066,7155,7230,7319,7378,7449,7539,7674,7743,7807,7867,7893,7913,7980,8001,8011,8026,8041,8062,8076,8088,8097,8100,8104,8111,8121,8124,8130,8136,8143,8150,8159,8164,8170,8172,8183,8189,8203,8221,8233,8241,8269,8284,8295,8312,8325,8335,8351,8369,8375,8383,8388,8392,8397,8412,8423,8434,8442,8461,8480,8496,8514,8519,8527,8535,8541,8552,8569,8589,8624,8653,8673,8699,8715,8755,8774,8793,8807,8827,8853,8889,8924,8974,9031,9079,9111,9132,9160,9189,9223,9252,9282,9307,9334,9373,9411,9453,9486,9509,9521]},\"selected\":{\"id\":\"1286\"},\"selection_policy\":{\"id\":\"1285\"}},\"id\":\"1192\",\"type\":\"ColumnDataSource\"},{\"attributes\":{},\"id\":\"1179\",\"type\":\"LinearScale\"},{\"attributes\":{},\"id\":\"1177\",\"type\":\"DataRange1d\"},{\"attributes\":{},\"id\":\"1181\",\"type\":\"LinearScale\"},{\"attributes\":{\"coordinates\":null,\"group\":null,\"text\":\"Number of followers - Linear scale\"},\"id\":\"1004\",\"type\":\"Title\"},{\"attributes\":{},\"id\":\"1211\",\"type\":\"LinearScale\"},{\"attributes\":{\"above\":[{\"id\":\"1095\"}],\"background_fill_color\":\"#efefef\",\"center\":[{\"id\":\"1098\"},{\"id\":\"1102\"},{\"id\":\"1133\"}],\"height\":350,\"left\":[{\"id\":\"1099\"}],\"renderers\":[{\"id\":\"1110\"},{\"id\":\"1139\"}],\"title\":{\"id\":\"1085\"},\"toolbar\":{\"id\":\"1104\"},\"visible\":false,\"width\":800,\"x_range\":{\"id\":\"1087\"},\"x_scale\":{\"id\":\"1091\"},\"y_range\":{\"id\":\"1089\"},\"y_scale\":{\"id\":\"1093\"}},\"id\":\"1084\",\"subtype\":\"Figure\",\"type\":\"Plot\"},{\"attributes\":{},\"id\":\"1175\",\"type\":\"DataRange1d\"},{\"attributes\":{\"line_alpha\":0.2,\"line_color\":\"darkblue\",\"line_width\":3,\"x\":{\"field\":\"x\"},\"y\":{\"field\":\"y\"}},\"id\":\"1057\",\"type\":\"Line\"},{\"attributes\":{\"axis\":{\"id\":\"1099\"},\"coordinates\":null,\"dimension\":1,\"grid_line_color\":\"white\",\"group\":null,\"ticker\":null},\"id\":\"1102\",\"type\":\"Grid\"},{\"attributes\":{\"line_color\":\"darkblue\",\"line_width\":3,\"x\":{\"field\":\"x\"},\"y\":{\"field\":\"y\"}},\"id\":\"1199\",\"type\":\"Line\"},{\"attributes\":{\"source\":{\"id\":\"1054\"}},\"id\":\"1059\",\"type\":\"CDSView\"},{\"attributes\":{\"coordinates\":null,\"group\":null,\"text\":\"Cumulative number of followers - Linear scale\"},\"id\":\"1173\",\"type\":\"Title\"},{\"attributes\":{\"coordinates\":null,\"data_source\":{\"id\":\"1054\"},\"glyph\":{\"id\":\"1055\"},\"group\":null,\"hover_glyph\":null,\"muted_glyph\":{\"id\":\"1057\"},\"nonselection_glyph\":{\"id\":\"1056\"},\"view\":{\"id\":\"1059\"}},\"id\":\"1058\",\"type\":\"GlyphRenderer\"},{\"attributes\":{\"label\":{\"value\":\"7-day rolling mean\"},\"renderers\":[{\"id\":\"1058\"}]},\"id\":\"1083\",\"type\":\"LegendItem\"},{\"attributes\":{\"num_minor_ticks\":10},\"id\":\"1100\",\"type\":\"LogTicker\"},{\"attributes\":{\"months\":[0,1,2,3,4,5,6,7,8,9,10,11]},\"id\":\"1128\",\"type\":\"MonthsTicker\"},{\"attributes\":{\"coordinates\":null,\"data_source\":{\"id\":\"1106\"},\"glyph\":{\"id\":\"1107\"},\"group\":null,\"hover_glyph\":null,\"muted_glyph\":{\"id\":\"1109\"},\"nonselection_glyph\":{\"id\":\"1108\"},\"view\":{\"id\":\"1111\"}},\"id\":\"1110\",\"type\":\"GlyphRenderer\"},{\"attributes\":{\"line_alpha\":0.1,\"line_color\":\"darkblue\",\"line_width\":3,\"x\":{\"field\":\"x\"},\"y\":{\"field\":\"y\"}},\"id\":\"1056\",\"type\":\"Line\"},{\"attributes\":{\"end\":408,\"js_property_callbacks\":{\"change:value\":[{\"id\":\"1251\"},{\"id\":\"1252\"}]},\"start\":1.1,\"title\":\"Adjust y-axis range\",\"value\":[1.1,408],\"width\":150},\"id\":\"1250\",\"type\":\"RangeSlider\"},{\"attributes\":{},\"id\":\"1209\",\"type\":\"DataRange1d\"},{\"attributes\":{\"dimensions\":\"width\"},\"id\":\"1103\",\"type\":\"PanTool\"},{\"attributes\":{\"tools\":[{\"id\":\"1103\"},{\"id\":\"1169\"}]},\"id\":\"1104\",\"type\":\"Toolbar\"},{\"attributes\":{\"above\":[{\"id\":\"1014\"}],\"background_fill_color\":\"#efefef\",\"center\":[{\"id\":\"1017\"},{\"id\":\"1021\"},{\"id\":\"1052\"}],\"height\":350,\"left\":[{\"id\":\"1018\"}],\"renderers\":[{\"id\":\"1029\"},{\"id\":\"1058\"}],\"title\":{\"id\":\"1004\"},\"toolbar\":{\"id\":\"1023\"},\"width\":800,\"x_range\":{\"id\":\"1006\"},\"x_scale\":{\"id\":\"1010\"},\"y_range\":{\"id\":\"1008\"},\"y_scale\":{\"id\":\"1012\"}},\"id\":\"1003\",\"subtype\":\"Figure\",\"type\":\"Plot\"},{\"attributes\":{},\"id\":\"1302\",\"type\":\"UnionRenderers\"},{\"attributes\":{\"line_alpha\":0.2,\"line_color\":\"darkblue\",\"line_width\":3,\"x\":{\"field\":\"x\"},\"y\":{\"field\":\"y\"}},\"id\":\"1233\",\"type\":\"Line\"},{\"attributes\":{},\"id\":\"1070\",\"type\":\"Selection\"},{\"attributes\":{\"bottom\":{\"value\":0.1},\"fill_alpha\":{\"value\":0.2},\"fill_color\":{\"value\":\"cornflowerblue\"},\"hatch_alpha\":{\"value\":0.2},\"hatch_color\":{\"value\":\"cornflowerblue\"},\"line_alpha\":{\"value\":0.2},\"line_color\":{\"value\":\"cornflowerblue\"},\"top\":{\"field\":\"top\"},\"width\":{\"value\":22000000},\"x\":{\"field\":\"x\"}},\"id\":\"1109\",\"type\":\"VBar\"},{\"attributes\":{\"coordinates\":null,\"formatter\":{\"id\":\"1165\"},\"group\":null,\"major_label_policy\":{\"id\":\"1037\"},\"ticker\":{\"id\":\"1015\"}},\"id\":\"1014\",\"type\":\"DatetimeAxis\"},{\"attributes\":{\"end\":1688515200000.0,\"start\":1686009600000.0},\"id\":\"1006\",\"type\":\"Range1d\"},{\"attributes\":{},\"id\":\"1069\",\"type\":\"UnionRenderers\"},{\"attributes\":{},\"id\":\"1115\",\"type\":\"AllLabels\"},{\"attributes\":{},\"id\":\"1008\",\"type\":\"DataRange1d\"},{\"attributes\":{\"base\":60,\"mantissas\":[1,2,5,10,15,20,30],\"max_interval\":1800000.0,\"min_interval\":1000.0,\"num_minor_ticks\":0},\"id\":\"1122\",\"type\":\"AdaptiveTicker\"},{\"attributes\":{},\"id\":\"1120\",\"type\":\"Selection\"},{\"attributes\":{\"bottom\":{\"value\":0.1},\"fill_alpha\":{\"value\":0.1},\"fill_color\":{\"value\":\"cornflowerblue\"},\"hatch_alpha\":{\"value\":0.1},\"hatch_color\":{\"value\":\"cornflowerblue\"},\"line_alpha\":{\"value\":0.1},\"line_color\":{\"value\":\"cornflowerblue\"},\"top\":{\"field\":\"top\"},\"width\":{\"value\":22000000},\"x\":{\"field\":\"x\"}},\"id\":\"1108\",\"type\":\"VBar\"},{\"attributes\":{\"mantissas\":[1,2,5],\"max_interval\":500.0,\"num_minor_ticks\":0},\"id\":\"1121\",\"type\":\"AdaptiveTicker\"},{\"attributes\":{\"months\":[0,4,8]},\"id\":\"1299\",\"type\":\"MonthsTicker\"},{\"attributes\":{},\"id\":\"1051\",\"type\":\"YearsTicker\"},{\"attributes\":{\"months\":[0,2,4,6,8,10]},\"id\":\"1298\",\"type\":\"MonthsTicker\"},{\"attributes\":{},\"id\":\"1304\",\"type\":\"UnionRenderers\"},{\"attributes\":{\"months\":[0,6]},\"id\":\"1300\",\"type\":\"MonthsTicker\"},{\"attributes\":{\"data\":{\"x\":{\"__ndarray__\":\"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\",\"dtype\":\"float64\",\"order\":\"little\",\"shape\":[208]},\"y\":{\"__ndarray__\":\"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\",\"dtype\":\"float64\",\"order\":\"little\",\"shape\":[208]}},\"selected\":{\"id\":\"1151\"},\"selection_policy\":{\"id\":\"1150\"}},\"id\":\"1135\",\"type\":\"ColumnDataSource\"},{\"attributes\":{\"days\":[1,15]},\"id\":\"1296\",\"type\":\"DaysTicker\"},{\"attributes\":{\"months\":[0,6]},\"id\":\"1050\",\"type\":\"MonthsTicker\"},{\"attributes\":{\"days\":[1,4,7,10,13,16,19,22,25,28]},\"id\":\"1294\",\"type\":\"DaysTicker\"},{\"attributes\":{\"days\":[1,15]},\"id\":\"1046\",\"type\":\"DaysTicker\"},{\"attributes\":{\"days\":[1,2,3,4,5,6,7,8,9,10,11,12,13,14,15,16,17,18,19,20,21,22,23,24,25,26,27,28,29,30,31]},\"id\":\"1293\",\"type\":\"DaysTicker\"},{\"attributes\":{\"days\":[1,4,7,10,13,16,19,22,25,28]},\"id\":\"1044\",\"type\":\"DaysTicker\"},{\"attributes\":{\"base\":24,\"mantissas\":[1,2,4,6,8,12],\"max_interval\":43200000.0,\"min_interval\":3600000.0,\"num_minor_ticks\":0},\"id\":\"1292\",\"type\":\"AdaptiveTicker\"},{\"attributes\":{\"label\":{\"value\":\"7-day rolling mean\"},\"renderers\":[{\"id\":\"1139\"}]},\"id\":\"1164\",\"type\":\"LegendItem\"},{\"attributes\":{\"active\":0,\"js_event_callbacks\":{\"button_click\":[{\"id\":\"1260\"}]},\"labels\":[\"Linear Scale\",\"Log Scale\"]},\"id\":\"1256\",\"type\":\"RadioButtonGroup\"},{\"attributes\":{\"days\":[1,2,3,4,5,6,7,8,9,10,11,12,13,14,15,16,17,18,19,20,21,22,23,24,25,26,27,28,29,30,31]},\"id\":\"1043\",\"type\":\"DaysTicker\"},{\"attributes\":{\"base\":24,\"mantissas\":[1,2,4,6,8,12],\"max_interval\":43200000.0,\"min_interval\":3600000.0,\"num_minor_ticks\":0},\"id\":\"1042\",\"type\":\"AdaptiveTicker\"},{\"attributes\":{\"days\":[1,8,15,22]},\"id\":\"1045\",\"type\":\"DaysTicker\"},{\"attributes\":{\"args\":{\"other\":{\"id\":\"1089\"}},\"code\":\"other.end = this.value[1]\"},\"id\":\"1255\",\"type\":\"CustomJS\"},{\"attributes\":{},\"id\":\"1151\",\"type\":\"Selection\"},{\"attributes\":{\"args\":{\"other\":{\"id\":\"1089\"}},\"code\":\"other.start = this.value[0]\"},\"id\":\"1254\",\"type\":\"CustomJS\"},{\"attributes\":{},\"id\":\"1303\",\"type\":\"Selection\"},{\"attributes\":{\"base\":60,\"mantissas\":[1,2,5,10,15,20,30],\"max_interval\":1800000.0,\"min_interval\":1000.0,\"num_minor_ticks\":0},\"id\":\"1041\",\"type\":\"AdaptiveTicker\"},{\"attributes\":{\"bottom\":{\"value\":0.1},\"fill_color\":{\"value\":\"cornflowerblue\"},\"hatch_color\":{\"value\":\"cornflowerblue\"},\"line_color\":{\"value\":\"cornflowerblue\"},\"top\":{\"field\":\"top\"},\"width\":{\"value\":22000000},\"x\":{\"field\":\"x\"}},\"id\":\"1107\",\"type\":\"VBar\"},{\"attributes\":{},\"id\":\"1301\",\"type\":\"YearsTicker\"},{\"attributes\":{\"source\":{\"id\":\"1135\"}},\"id\":\"1140\",\"type\":\"CDSView\"},{\"attributes\":{\"days\":[1,8,15,22]},\"id\":\"1295\",\"type\":\"DaysTicker\"},{\"attributes\":{\"end\":408,\"start\":0.1},\"id\":\"1089\",\"type\":\"Range1d\"},{\"attributes\":{\"months\":[0,1,2,3,4,5,6,7,8,9,10,11]},\"id\":\"1297\",\"type\":\"MonthsTicker\"},{\"attributes\":{},\"id\":\"1118\",\"type\":\"AllLabels\"},{\"attributes\":{\"mantissas\":[1,2,5],\"max_interval\":500.0,\"num_minor_ticks\":0},\"id\":\"1040\",\"type\":\"AdaptiveTicker\"},{\"attributes\":{\"overlay\":{\"id\":\"1240\"},\"x_range\":{\"id\":\"1087\"},\"y_range\":null},\"id\":\"1239\",\"type\":\"RangeTool\"},{\"attributes\":{\"base\":60,\"mantissas\":[1,2,5,10,15,20,30],\"max_interval\":1800000.0,\"min_interval\":1000.0,\"num_minor_ticks\":0},\"id\":\"1291\",\"type\":\"AdaptiveTicker\"},{\"attributes\":{\"days\":[\"%Y-%m-%d\"]},\"id\":\"1167\",\"type\":\"DatetimeTickFormatter\"},{\"attributes\":{\"mantissas\":[1,2,5],\"max_interval\":500.0,\"num_minor_ticks\":0},\"id\":\"1290\",\"type\":\"AdaptiveTicker\"},{\"attributes\":{\"source\":{\"id\":\"1192\"}},\"id\":\"1197\",\"type\":\"CDSView\"},{\"attributes\":{\"data\":{\"top\":[1,4,1,3,2,2,1,4,5,18,7,4,12,1,14,3,5,3,2,5,10,18,23,3,2,8,8,107,159,8,9,13,29,39,75,32,21,26,30,36,27,31,30,16,21,57,31,21,31,31,48,38,25,18,15,19,11,10,15,17,8,16,23,21,19,15,8,12,14,14,10,15,26,22,18,29,31,34,67,45,60,51,65,98,173,229,311,282,222,339,375,398,333,248,205,200,233,230,196,63,85,70,96,65,59,48,61,65,45,52,30,90,102,85,90,89,75,89,59,71,90,135,69,64,60,26,20,67,21,10,15,15,21,14,12,9,3,4,7,10,3,6,6,7,7,9,5,6,2,11,6,14,18,12,8,28,15,11,17,13,10,16,18,6,8,5,4,5,15,11,11,8,19,19,16,18,5,8,8,6,11,17,20,35,29,20,26,16,40,19,19,14,20,26,36,35,50,57,48,32,21,28,29,34,29,30,25,27,39,38,42,33,23,12],\"x\":{\"__ndarray__\":\"AACAj4BIeEIAAED10kh4QgAAAFslSXhCAADAwHdJeEIAAIAmykl4QgAAQIwcSnhCAAAA8m5KeEIAAMBXwUp4QgAAgL0TS3hCAABAI2ZLeEIAAACJuEt4QgAAwO4KTHhCAACAVF1MeEIAAEC6r0x4QgAAACACTXhCAADAhVRNeEIAAIDrpk14QgAAQFH5TXhCAAAAt0tOeEIAAMAcnk54QgAAgILwTnhCAABA6EJPeEIAAABOlU94QgAAwLPnT3hCAACAGTpQeEIAAEB/jFB4QgAAAOXeUHhCAADASjFReEIAAICwg1F4QgAAQBbWUXhCAAAAfChSeEIAAMDhelJ4QgAAgEfNUnhCAABArR9TeEIAAAATclN4QgAAwHjEU3hCAACA3hZUeEIAAEBEaVR4QgAAAKq7VHhCAADADw5VeEIAAIB1YFV4QgAAQNuyVXhCAAAAQQVWeEIAAMCmV1Z4QgAAgAyqVnhCAABAcvxWeEIAAADYTld4QgAAwD2hV3hCAACAo/NXeEIAAEAJRlh4QgAAAG+YWHhCAADA1OpYeEIAAIA6PVl4QgAAQKCPWXhCAAAABuJZeEIAAMBrNFp4QgAAgNGGWnhCAABAN9laeEIAAACdK1t4QgAAwAJ+W3hCAACAaNBbeEIAAEDOIlx4QgAAADR1XHhCAADAmcdceEIAAID/GV14QgAAQGVsXXhCAAAAy75deEIAAMAwEV54QgAAgJZjXnhCAABA/LVeeEIAAABiCF94QgAAwMdaX3hCAACALa1feEIAAECT/194QgAAAPlRYHhCAADAXqRgeEIAAIDE9mB4QgAAQCpJYXhCAAAAkJtheEIAAMD17WF4QgAAgFtAYnhCAABAwZJieEIAAAAn5WJ4QgAAwIw3Y3hCAACA8oljeEIAAEBY3GN4QgAAAL4uZHhCAADAI4FkeEIAAICJ02R4QgAAQO8lZXhCAAAAVXhleEIAAMC6ymV4QgAAgCAdZnhCAABAhm9meEIAAADswWZ4QgAAwFEUZ3hCAACAt2ZneEIAAEAduWd4QgAAAIMLaHhCAADA6F1oeEIAAIBOsGh4QgAAQLQCaXhCAAAAGlVpeEIAAMB/p2l4QgAAgOX5aXhCAABAS0xqeEIAAACxnmp4QgAAwBbxanhCAACAfENreEIAAEDilWt4QgAAAEjoa3hCAADArTpseEIAAIATjWx4QgAAQHnfbHhCAAAA3zFteEIAAMBEhG14QgAAgKrWbXhCAABAEClueEIAAAB2e254QgAAwNvNbnhCAACAQSBveEIAAECncm94QgAAAA3Fb3hCAADAchdweEIAAIDYaXB4QgAAQD68cHhCAAAApA5xeEIAAMAJYXF4QgAAgG+zcXhCAABA1QVyeEIAAAA7WHJ4QgAAwKCqcnhCAACABv1yeEIAAEBsT3N4QgAAANKhc3hCAADAN/RzeEIAAICdRnR4QgAAQAOZdHhCAAAAaet0eEIAAMDOPXV4QgAAgDSQdXhCAABAmuJ1eEIAAAAANXZ4QgAAwGWHdnhCAACAy9l2eEIAAEAxLHd4QgAAAJd+d3hCAADA/NB3eEIAAIBiI3h4QgAAQMh1eHhCAAAALsh4eEIAAMCTGnl4QgAAgFWTfnhCAABAu+V+eEIAAAAhOH94QgAAwIaKf3hCAACA7Nx/eEIAAEBSL4B4QgAAALiBgHhCAADAHdSAeEIAAICDJoF4QgAAQOl4gXhCAAAAT8uBeEIAAMC0HYJ4QgAAgBpwgnhCAABAgMKCeEIAAADmFIN4QgAAwEtng3hCAACAsbmDeEIAAEAXDIR4QgAAAH1ehHhCAADA4rCEeEIAAIBIA4V4QgAAQK5VhXhCAAAAFKiFeEIAAMB5+oV4QgAAgN9MhnhCAABARZ+GeEIAAACr8YZ4QgAAwBBEh3hCAACAdpaHeEIAAEDc6Id4QgAAAEI7iHhCAADAp42IeEIAAIAN4Ih4QgAAQHMyiXhCAAAA2YSJeEIAAMA+14l4QgAAgKQpinhCAABACnyKeEIAAABwzop4QgAAwNUgi3hCAACAO3OLeEIAAEChxYt4QgAAAAcYjHhCAADAbGqMeEIAAIDSvIx4QgAAQDgPjXhCAAAAnmGNeEIAAMADtI14QgAAgGkGjnhCAABAz1iOeEIAAAA1q454QgAAwJr9jnhCAACAAFCPeEIAAEBmoo94QgAAAMz0j3hCAADAMUeQeEIAAICXmZB4QgAAQP3rkHhCAAAAYz6ReEIAAMDIkJF4QgAAgC7jkXhCAABAlDWSeEI=\",\"dtype\":\"float64\",\"order\":\"little\",\"shape\":[214]}},\"selected\":{\"id\":\"1120\"},\"selection_policy\":{\"id\":\"1119\"}},\"id\":\"1106\",\"type\":\"ColumnDataSource\"},{\"attributes\":{\"coordinates\":null,\"group\":null,\"text\":\"Number of followers - Log scale\"},\"id\":\"1085\",\"type\":\"Title\"},{\"attributes\":{\"line_color\":\"darkblue\",\"line_width\":3,\"x\":{\"field\":\"x\"},\"y\":{\"field\":\"y\"}},\"id\":\"1231\",\"type\":\"Line\"},{\"attributes\":{},\"id\":\"1093\",\"type\":\"LogScale\"},{\"attributes\":{\"coordinates\":null,\"formatter\":{\"id\":\"1167\"},\"group\":null,\"major_label_policy\":{\"id\":\"1118\"},\"ticker\":{\"id\":\"1096\"}},\"id\":\"1095\",\"type\":\"DatetimeAxis\"},{\"attributes\":{\"fill_color\":\"lightsteelblue\",\"x\":{\"field\":\"x\"},\"y1\":{\"value\":0.1},\"y2\":{\"field\":\"y2\"}},\"id\":\"1225\",\"type\":\"VArea\"},{\"attributes\":{\"line_alpha\":0.1,\"line_color\":\"darkblue\",\"line_width\":3,\"x\":{\"field\":\"x\"},\"y\":{\"field\":\"y\"}},\"id\":\"1200\",\"type\":\"Line\"},{\"attributes\":{\"data\":{\"x\":{\"__ndarray__\":\"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\",\"dtype\":\"float64\",\"order\":\"little\",\"shape\":[214]},\"y2\":[1,5,6,9,11,13,14,18,23,41,48,52,64,65,79,82,87,90,92,97,107,125,148,151,153,161,169,276,435,443,452,465,494,533,608,640,661,687,717,753,780,811,841,857,878,935,966,987,1018,1049,1097,1135,1160,1178,1193,1212,1223,1233,1248,1265,1273,1289,1312,1333,1352,1367,1375,1387,1401,1415,1425,1440,1466,1488,1506,1535,1566,1600,1667,1712,1772,1823,1888,1986,2159,2388,2699,2981,3203,3542,3917,4315,4648,4896,5101,5301,5534,5764,5960,6023,6108,6178,6274,6339,6398,6446,6507,6572,6617,6669,6699,6789,6891,6976,7066,7155,7230,7319,7378,7449,7539,7674,7743,7807,7867,7893,7913,7980,8001,8011,8026,8041,8062,8076,8088,8097,8100,8104,8111,8121,8124,8130,8136,8143,8150,8159,8164,8170,8172,8183,8189,8203,8221,8233,8241,8269,8284,8295,8312,8325,8335,8351,8369,8375,8383,8388,8392,8397,8412,8423,8434,8442,8461,8480,8496,8514,8519,8527,8535,8541,8552,8569,8589,8624,8653,8673,8699,8715,8755,8774,8793,8807,8827,8853,8889,8924,8974,9031,9079,9111,9132,9160,9189,9223,9252,9282,9307,9334,9373,9411,9453,9486,9509,9521]},\"selected\":{\"id\":\"1303\"},\"selection_policy\":{\"id\":\"1302\"}},\"id\":\"1224\",\"type\":\"ColumnDataSource\"},{\"attributes\":{},\"id\":\"1207\",\"type\":\"DataRange1d\"},{\"attributes\":{},\"id\":\"1119\",\"type\":\"UnionRenderers\"},{\"attributes\":{\"days\":[\"%Y-%m-%d\"]},\"id\":\"1244\",\"type\":\"DatetimeTickFormatter\"},{\"attributes\":{},\"id\":\"1305\",\"type\":\"Selection\"},{\"attributes\":{\"days\":[1,2,3,4,5,6,7,8,9,10,11,12,13,14,15,16,17,18,19,20,21,22,23,24,25,26,27,28,29,30,31]},\"id\":\"1124\",\"type\":\"DaysTicker\"},{\"attributes\":{\"base\":24,\"mantissas\":[1,2,4,6,8,12],\"max_interval\":43200000.0,\"min_interval\":3600000.0,\"num_minor_ticks\":0},\"id\":\"1123\",\"type\":\"AdaptiveTicker\"},{\"attributes\":{\"days\":[1,4,7,10,13,16,19,22,25,28]},\"id\":\"1125\",\"type\":\"DaysTicker\"},{\"attributes\":{\"fill_alpha\":{\"value\":0.1},\"fill_color\":{\"value\":\"cornflowerblue\"},\"hatch_alpha\":{\"value\":0.1},\"hatch_color\":{\"value\":\"cornflowerblue\"},\"line_alpha\":{\"value\":0.1},\"line_color\":{\"value\":\"cornflowerblue\"},\"top\":{\"field\":\"top\"},\"width\":{\"value\":22000000},\"x\":{\"field\":\"x\"}},\"id\":\"1027\",\"type\":\"VBar\"},{\"attributes\":{\"fill_alpha\":{\"value\":0.2},\"fill_color\":{\"value\":\"cornflowerblue\"},\"hatch_alpha\":{\"value\":0.2},\"hatch_color\":{\"value\":\"cornflowerblue\"},\"line_alpha\":{\"value\":0.2},\"line_color\":{\"value\":\"cornflowerblue\"},\"top\":{\"field\":\"top\"},\"width\":{\"value\":22000000},\"x\":{\"field\":\"x\"}},\"id\":\"1028\",\"type\":\"VBar\"},{\"attributes\":{\"args\":{\"other\":{\"id\":\"1008\"}},\"code\":\"other.start = this.value[0]\"},\"id\":\"1251\",\"type\":\"CustomJS\"},{\"attributes\":{},\"id\":\"1150\",\"type\":\"UnionRenderers\"},{\"attributes\":{\"coordinates\":null,\"data_source\":{\"id\":\"1025\"},\"glyph\":{\"id\":\"1026\"},\"group\":null,\"hover_glyph\":null,\"muted_glyph\":{\"id\":\"1028\"},\"nonselection_glyph\":{\"id\":\"1027\"},\"view\":{\"id\":\"1030\"}},\"id\":\"1029\",\"type\":\"GlyphRenderer\"},{\"attributes\":{\"axis\":{\"id\":\"1219\"},\"coordinates\":null,\"dimension\":1,\"grid_line_color\":\"white\",\"group\":null,\"ticker\":null},\"id\":\"1222\",\"type\":\"Grid\"},{\"attributes\":{\"line_alpha\":0.2,\"line_color\":\"darkblue\",\"line_width\":3,\"x\":{\"field\":\"x\"},\"y\":{\"field\":\"y\"}},\"id\":\"1138\",\"type\":\"Line\"},{\"attributes\":{\"num_minor_ticks\":10},\"id\":\"1220\",\"type\":\"LogTicker\"},{\"attributes\":{\"line_alpha\":0.1,\"line_color\":\"darkblue\",\"line_width\":3,\"x\":{\"field\":\"x\"},\"y\":{\"field\":\"y\"}},\"id\":\"1137\",\"type\":\"Line\"},{\"attributes\":{\"active_multi\":{\"id\":\"1239\"},\"tools\":[{\"id\":\"1239\"}]},\"id\":\"1223\",\"type\":\"Toolbar\"},{\"attributes\":{},\"id\":\"1267\",\"type\":\"AllLabels\"},{\"attributes\":{\"coordinates\":null,\"data_source\":{\"id\":\"1135\"},\"glyph\":{\"id\":\"1136\"},\"group\":null,\"hover_glyph\":null,\"muted_glyph\":{\"id\":\"1138\"},\"nonselection_glyph\":{\"id\":\"1137\"},\"view\":{\"id\":\"1140\"}},\"id\":\"1139\",\"type\":\"GlyphRenderer\"},{\"attributes\":{\"source\":{\"id\":\"1224\"}},\"id\":\"1229\",\"type\":\"CDSView\"},{\"attributes\":{\"fill_alpha\":0.1,\"fill_color\":\"lightsteelblue\",\"hatch_alpha\":{\"value\":0.1},\"x\":{\"field\":\"x\"},\"y1\":{\"value\":0.1},\"y2\":{\"field\":\"y2\"}},\"id\":\"1226\",\"type\":\"VArea\"},{\"attributes\":{\"fill_alpha\":0.2,\"fill_color\":\"lightsteelblue\",\"hatch_alpha\":{\"value\":0.2},\"x\":{\"field\":\"x\"},\"y1\":{\"value\":0.1},\"y2\":{\"field\":\"y2\"}},\"id\":\"1227\",\"type\":\"VArea\"},{\"attributes\":{\"overlay\":{\"id\":\"1237\"},\"x_range\":{\"id\":\"1006\"},\"y_range\":null},\"id\":\"1236\",\"type\":\"RangeTool\"},{\"attributes\":{},\"id\":\"1318\",\"type\":\"YearsTicker\"},{\"attributes\":{\"days\":[1,8,15,22]},\"id\":\"1126\",\"type\":\"DaysTicker\"},{\"attributes\":{\"months\":[0,2,4,6,8,10]},\"id\":\"1048\",\"type\":\"MonthsTicker\"},{\"attributes\":{},\"id\":\"1288\",\"type\":\"Selection\"},{\"attributes\":{\"coordinates\":null,\"fill_alpha\":0.2,\"fill_color\":\"navy\",\"group\":null,\"level\":\"overlay\",\"line_alpha\":1.0,\"line_color\":\"black\",\"line_dash\":[2,2],\"line_width\":0.5,\"syncable\":false},\"id\":\"1237\",\"type\":\"BoxAnnotation\"},{\"attributes\":{},\"id\":\"1287\",\"type\":\"UnionRenderers\"},{\"attributes\":{\"line_alpha\":0.1,\"line_color\":\"darkblue\",\"line_width\":3,\"x\":{\"field\":\"x\"},\"y\":{\"field\":\"y\"}},\"id\":\"1232\",\"type\":\"Line\"},{\"attributes\":{},\"id\":\"1038\",\"type\":\"UnionRenderers\"},{\"attributes\":{\"months\":[0,4,8]},\"id\":\"1049\",\"type\":\"MonthsTicker\"},{\"attributes\":{\"background_fill_color\":\"#efefef\",\"below\":[{\"id\":\"1183\"}],\"center\":[{\"id\":\"1186\"},{\"id\":\"1190\"}],\"height\":200,\"left\":[{\"id\":\"1187\"}],\"renderers\":[{\"id\":\"1196\"},{\"id\":\"1202\"}],\"title\":{\"id\":\"1173\"},\"toolbar\":{\"id\":\"1191\"},\"toolbar_location\":null,\"width\":800,\"x_range\":{\"id\":\"1175\"},\"x_scale\":{\"id\":\"1179\"},\"y_range\":{\"id\":\"1177\"},\"y_scale\":{\"id\":\"1181\"}},\"id\":\"1172\",\"subtype\":\"Figure\",\"type\":\"Plot\"},{\"attributes\":{\"ticker\":null},\"id\":\"1114\",\"type\":\"LogTickFormatter\"},{\"attributes\":{},\"id\":\"1039\",\"type\":\"Selection\"},{\"attributes\":{\"days\":[1,15]},\"id\":\"1127\",\"type\":\"DaysTicker\"},{\"attributes\":{\"days\":[\"%Y-%m-%d\"]},\"id\":\"1165\",\"type\":\"DatetimeTickFormatter\"}],\"root_ids\":[\"1259\"]},\"title\":\"Bokeh Application\",\"version\":\"2.4.3\"}};\n  const render_items = [{\"docid\":\"bc359603-f676-4b96-9a99-becf2afc38c5\",\"root_ids\":[\"1259\"],\"roots\":{\"1259\":\"46bcfdec-8e10-4ac7-b432-4e9cb5a66c8d\"}}];\n  root.Bokeh.embed.embed_items_notebook(docs_json, render_items);\n  }\n  if (root.Bokeh !== undefined) {\n    embed_document(root);\n  } else {\n    let attempts = 0;\n    const timer = setInterval(function(root) {\n      if (root.Bokeh !== undefined) {\n        clearInterval(timer);\n        embed_document(root);\n      } else {\n        attempts++;\n        if (attempts > 100) {\n          clearInterval(timer);\n          console.log(\"Bokeh: ERROR: Unable to run BokehJS code because BokehJS library is missing\");\n        }\n      }\n    }, 10, root)\n  }\n})(window);",
      "application/vnd.bokehjs_exec.v0+json": ""
     },
     "metadata": {
      "application/vnd.bokehjs_exec.v0+json": {
       "id": "1259"
      }
     },
     "output_type": "display_data"
    }
   ],
   "source": [
    "# This cell creates an interactive plot where two plots are shown:\n",
    "#   Plot 1: shows the daily number of followers and the 7-day rolling mean\n",
    "#   Plot 2: shows the cumulative number of followers and serves as\n",
    "#     as x-axis raneg slider to control plot1 x-axis\n",
    "# It includes a button to switch between linear and log scales. To achieve this,\n",
    "# 2 pairs of 2 plots are created. One pair is created with the y_axis_range\n",
    "# set to 'linear' and the second pair is created with the y_axis_range set to\n",
    "# 'log'. The button toggles the visibility of the plots on and off to select the\n",
    "# those plots with linear or log scales\n",
    "# Finally, a slider has been added to control the y-axis range of the first plot\n",
    "\n",
    "prof_insight_plot = prof_insight.loc[\n",
    "    prof_insight[\"number_followers_roll\"].isna() == False\n",
    "]\n",
    "\n",
    "# Create plot1 for the linear-scale figrue\n",
    "p1 = figure(\n",
    "    height=350,\n",
    "    width=800,\n",
    "    tools=\"xpan\",\n",
    "    x_axis_type=\"datetime\",\n",
    "    x_axis_location=\"above\",\n",
    "    background_fill_color=\"#efefef\",\n",
    "    x_range=(prof_insight[\"day\"].iloc[-30], prof_insight[\"day\"].iloc[-1]),\n",
    "    title=\"Number of followers - Linear scale\",\n",
    "    y_axis_type=\"linear\",\n",
    ")\n",
    "\n",
    "# plot1 (Linear scale) - Add vertical bar plot (daily number of followers)\n",
    "p1.vbar(\n",
    "    x=prof_insight[\"day\"],\n",
    "    top=prof_insight[\"number_followers\"],\n",
    "    width=22000000,\n",
    "    bottom=0,\n",
    "    legend_label=\"Daily data\",\n",
    "    color=\"cornflowerblue\",\n",
    ")\n",
    "\n",
    "# plot1 (Linear scale) - Add line plot (7-day rolling mean)\n",
    "p1.line(\n",
    "    x=prof_insight_plot[\"day\"],\n",
    "    y=prof_insight_plot[\"number_followers_roll\"],\n",
    "    line_width=3,\n",
    "    legend_label=\"7-day rolling mean\",\n",
    "    color=\"darkblue\",\n",
    ")\n",
    "\n",
    "# Create plot1 for the log-scale figrue\n",
    "p2 = figure(\n",
    "    height=350,\n",
    "    width=800,\n",
    "    tools=\"xpan\",\n",
    "    x_axis_type=\"datetime\",\n",
    "    x_axis_location=\"above\",\n",
    "    background_fill_color=\"#efefef\",\n",
    "    x_range=(prof_insight[\"day\"].iloc[-30], prof_insight[\"day\"].iloc[-1]),\n",
    "    title=\"Number of followers - Log scale\",\n",
    "    y_axis_type=\"log\",\n",
    "    y_range=(0.1, prof_insight[\"number_followers\"].max() + 10),\n",
    ")\n",
    "\n",
    "# plot1 (Log scale) - Add vertical bar plot (daily number of followers)\n",
    "p2.vbar(\n",
    "    x=prof_insight[\"day\"],\n",
    "    top=prof_insight[\"number_followers\"],\n",
    "    width=22000000,\n",
    "    bottom=0.1,\n",
    "    legend_label=\"Daily data\",\n",
    "    color=\"cornflowerblue\",\n",
    ")\n",
    "\n",
    "# plot1 (Log scale) - Add line plot (7-day rolling mean)\n",
    "p2.line(\n",
    "    x=prof_insight_plot[\"day\"],\n",
    "    y=prof_insight_plot[\"number_followers_roll\"],\n",
    "    line_width=3,\n",
    "    legend_label=\"7-day rolling mean\",\n",
    "    color=\"darkblue\",\n",
    ")\n",
    "\n",
    "\n",
    "# Define axis labels and plot titles\n",
    "p1.yaxis.axis_label = \"Number of followers\"\n",
    "p1.legend.location = \"top_left\"\n",
    "p1.grid.grid_line_color = \"white\"\n",
    "p1.xaxis.formatter = DatetimeTickFormatter(days=\"%Y-%m-%d\")\n",
    "\n",
    "p2.yaxis.axis_label = \"Number of followers\"\n",
    "p2.legend.location = \"top_left\"\n",
    "p2.grid.grid_line_color = \"white\"\n",
    "p2.xaxis.formatter = DatetimeTickFormatter(days=\"%Y-%m-%d\")\n",
    "\n",
    "# Add hover tool\n",
    "TOOLTIPS = [\n",
    "    (\"index\", \"$index\"),\n",
    "    (\"date\", \"$x{%F}\"),\n",
    "    (\"number of followers\", \"$y\"),\n",
    "]\n",
    "hover_tool = HoverTool(tooltips=TOOLTIPS, formatters={\"$x\": \"datetime\"})\n",
    "p1.add_tools(hover_tool)\n",
    "p2.add_tools(hover_tool)\n",
    "\n",
    "# Create plot2 for the linear-scale figrue\n",
    "select1 = figure(\n",
    "    title=\"Cumulative number of followers - Linear scale\",\n",
    "    height=200,\n",
    "    width=800,\n",
    "    x_axis_type=\"datetime\",\n",
    "    tools=\"\",\n",
    "    toolbar_location=None,\n",
    "    background_fill_color=\"#efefef\",\n",
    "    y_axis_type=\"linear\",\n",
    ")\n",
    "\n",
    "# plot2 (Linear scale) - Fill area under the curve\n",
    "select1.varea(\n",
    "    x=prof_insight[\"day\"],\n",
    "    y1=0.1,\n",
    "    y2=prof_insight[\"number_followers_cum\"],\n",
    "    # line_width=2,\n",
    "    # color=\"darkblue\",\n",
    "    fill_color=\"lightsteelblue\",\n",
    ")\n",
    "\n",
    "# plot2 (Linear scale) - Add line plot (cumulative number of followers)\n",
    "select1.line(\n",
    "    x=prof_insight[\"day\"],\n",
    "    y=prof_insight[\"number_followers_cum\"],\n",
    "    line_width=3,\n",
    "    color=\"darkblue\",\n",
    ")\n",
    "\n",
    "# Create plot2 for the log-scale figrue\n",
    "select2 = figure(\n",
    "    title=\"Cumulative number of followers - Log scale\",\n",
    "    height=200,\n",
    "    width=800,\n",
    "    x_axis_type=\"datetime\",\n",
    "    tools=\"\",\n",
    "    toolbar_location=None,\n",
    "    background_fill_color=\"#efefef\",\n",
    "    y_axis_type=\"log\",\n",
    ")\n",
    "\n",
    "# plot2 (Log scale) - Fill area under the curve\n",
    "select2.varea(\n",
    "    x=prof_insight[\"day\"],\n",
    "    y1=0.1,\n",
    "    y2=prof_insight[\"number_followers_cum\"],\n",
    "    # line_width=2,\n",
    "    # color=\"darkblue\",\n",
    "    fill_color=\"lightsteelblue\",\n",
    ")\n",
    "\n",
    "# plot2 (Log scale) - Add line plot (cumulative number of followers)\n",
    "select2.line(\n",
    "    x=prof_insight[\"day\"],\n",
    "    y=prof_insight[\"number_followers_cum\"],\n",
    "    line_width=3,\n",
    "    color=\"darkblue\",\n",
    ")\n",
    "\n",
    "# Define x-axis range slider for both pictures (linear and log scales)\n",
    "range_tool1 = RangeTool(x_range=p1.x_range)\n",
    "range_tool1.overlay.fill_color = \"navy\"\n",
    "range_tool1.overlay.fill_alpha = 0.2\n",
    "\n",
    "range_tool2 = RangeTool(x_range=p2.x_range)\n",
    "range_tool2.overlay.fill_color = \"navy\"\n",
    "range_tool2.overlay.fill_alpha = 0.2\n",
    "\n",
    "# Assign the x-axis slider to each plot\n",
    "select1.grid.grid_line_color = \"white\"\n",
    "select1.add_tools(range_tool1)\n",
    "select1.toolbar.active_multi = range_tool1\n",
    "select1.xaxis.formatter = DatetimeTickFormatter(days=\"%Y-%m-%d\")\n",
    "\n",
    "select2.grid.grid_line_color = \"white\"\n",
    "select2.add_tools(range_tool2)\n",
    "select2.toolbar.active_multi = range_tool2\n",
    "select2.xaxis.formatter = DatetimeTickFormatter(days=\"%Y-%m-%d\")\n",
    "\n",
    "# set up RangeSlider to control y-axis\n",
    "# first rangeSlider to control plot with linear scale\n",
    "y_min = prof_insight[\"number_followers\"].min() + 0.1\n",
    "y_max = prof_insight[\"number_followers\"].max() + 10\n",
    "range_slider1 = RangeSlider(\n",
    "    title=\"Adjust y-axis range\",\n",
    "    start=y_min,\n",
    "    end=y_max,\n",
    "    step=1,\n",
    "    width=150,\n",
    "    value=(y_min, y_max),\n",
    ")\n",
    "range_slider1.js_link(\"value\", p1.y_range, \"start\", attr_selector=0)\n",
    "range_slider1.js_link(\"value\", p1.y_range, \"end\", attr_selector=1)\n",
    "\n",
    "# second rangeSlider to control plot with log scale\n",
    "range_slider2 = RangeSlider(\n",
    "    title=\"Adjust y-axis range\",\n",
    "    start=y_min,\n",
    "    end=y_max,\n",
    "    step=1,\n",
    "    width=150,\n",
    "    value=(y_min, y_max),\n",
    ")\n",
    "range_slider2.js_link(\"value\", p2.y_range, \"start\", attr_selector=0)\n",
    "range_slider2.js_link(\"value\", p2.y_range, \"end\", attr_selector=1)\n",
    "\n",
    "# Define the default visibility of the figures.\n",
    "# The figures whose viosibility is set to true will be displayed\n",
    "# when this cell is compiled\n",
    "p1.visible = True\n",
    "p2.visible = False\n",
    "range_slider1.visible = True\n",
    "select1.visible = True\n",
    "select2.visible = False\n",
    "range_slider2.visible = False\n",
    "\n",
    "# Define the layout of the plot\n",
    "LABELS = [\"Linear Scale\", \"Log Scale\"]\n",
    "radio_button_group = RadioButtonGroup(labels=LABELS, active=0)\n",
    "layout = column(\n",
    "    children=[\n",
    "        radio_button_group,\n",
    "        row(p1, range_slider1),\n",
    "        row(p2, range_slider2),\n",
    "        select1,\n",
    "        select2,\n",
    "    ]\n",
    ")\n",
    "\n",
    "# Define button to switch bwteen plots with linear and log scales\n",
    "# The button works by toggling on and off the visibility of the figures and sliders\n",
    "radio_button_group.js_on_event(\n",
    "    events.ButtonClick,\n",
    "    CustomJS(\n",
    "        args=dict(\n",
    "            p1=p1,\n",
    "            p2=p2,\n",
    "            select1=select1,\n",
    "            select2=select2,\n",
    "            range_slider1=range_slider1,\n",
    "            range_slider2=range_slider2,\n",
    "        ),\n",
    "        code=\"\"\"\n",
    "              if (p1.visible == true) {\n",
    "                p1.visible = false;\n",
    "                p2.visible = true;\n",
    "                range_slider1.visible=false;\n",
    "                select1.visible=false;\n",
    "                select2.visible=true;\n",
    "                range_slider2.visible=true;\n",
    "\n",
    "              }\n",
    "              else {\n",
    "                p1.visible = true;\n",
    "                p2.visible = false;\n",
    "                range_slider1.visible=true;\n",
    "                select1.visible=true;\n",
    "                select2.visible=false;\n",
    "                range_slider2.visible=false;\n",
    "\n",
    "              }\n",
    "            \"\"\",\n",
    "    ),\n",
    ")\n",
    "\n",
    "# Code for Kaggle\n",
    "# radio_button_group.js_on_click(\n",
    "#     CustomJS(\n",
    "#         args=dict(\n",
    "#             p1=p1,\n",
    "#             p2=p2,\n",
    "#             select1=select1,\n",
    "#             select2=select2,\n",
    "#             range_slider1=range_slider1,\n",
    "#             range_slider2=range_slider2,\n",
    "#         ),\n",
    "#         code=\"\"\"\n",
    "#               if (p1.visible == true) {\n",
    "#                 p1.visible = false;\n",
    "#                 p2.visible = true;\n",
    "#                 range_slider1.visible=false;\n",
    "#                 select1.visible=false;\n",
    "#                 select2.visible=true;\n",
    "#                 range_slider2.visible=true;\n",
    "\n",
    "#               }\n",
    "#               else {\n",
    "#                 p1.visible = true;\n",
    "#                 p2.visible = false;\n",
    "#                 range_slider1.visible=true;\n",
    "#                 select1.visible=true;\n",
    "#                 select2.visible=false;\n",
    "#                 range_slider2.visible=false;\n",
    "\n",
    "#               }\n",
    "#             \"\"\",\n",
    "#     ),\n",
    "# )\n",
    "\n",
    "show(layout)"
   ]
  },
  {
   "cell_type": "code",
   "execution_count": 6,
   "id": "789255b4",
   "metadata": {},
   "outputs": [],
   "source": [
    "# # Define the data sources for both figures\n",
    "# source_data = [\n",
    "#     dict(\n",
    "#         date=prof_insight[\"day\"],\n",
    "#         y_bar_1 = prof_insight[\"profile_views\"],\n",
    "#         y_line_1 = prof_insight[\"profile_views\"].rolling(7, center=True).mean(),\n",
    "#         y_circle = prof_insight[\"follow_views_rt\"],\n",
    "#         y_line_2 = prof_insight[\"follow_views_rt\"],\n",
    "#         y_line_3 = prof_insight[\"follow_views_rt_roll\"]  \n",
    "#     ),\n",
    "#     dict(\n",
    "#         date=prof_insight[\"day\"],\n",
    "#         y_bar_1 = prof_insight[\"profile_reach\"],\n",
    "#         y_line_1 = prof_insight[\"profile_reach\"].rolling(7, center=True).mean(),\n",
    "#         y_circle = prof_insight[\"views_reach_rt\"],\n",
    "#         y_line_2 = prof_insight[\"views_reach_rt\"],\n",
    "#         y_line_3 = prof_insight[\"views_reach_rt_roll\"]  \n",
    "#     )\n",
    "# ]\n",
    "\n",
    "# # Define the secondary y-axes ranges for both figures\n",
    "# range_limits = [(0,100), (0, 5)]\n",
    "\n",
    "# # Define the legend labels for both figures\n",
    "# legend_labels = [\n",
    "#     [\n",
    "#         \"Profile views\",\n",
    "#         \"Profile views 7-day rolling mean\",\n",
    "#         \"Followers - views percentage\",\n",
    "#         \"Followers - views pctg rolling mean\",\n",
    "#         \"Prof views 7-day roll mean\",\n",
    "#         \"Followers - views pctg roll mean\"\n",
    "#     ],\n",
    "#     [\n",
    "#         \"Profile reach\",\n",
    "#         \"Profile reach 7-day rolling mean\",\n",
    "#         \"Views - reach percentage\",\n",
    "#         \"Views - reach pctg rolling mean\",\n",
    "#         \"Prof reach 7-day roll mean\",\n",
    "#         \"Views - reach pctg roll mean\"\n",
    "#     ]\n",
    "# ]\n",
    "\n",
    "# # Define y-axis labels for both figures\n",
    "# y_axis_labels = [\n",
    "#     [\n",
    "#         \"Number of profile views\",\n",
    "#         \"Followers to views percentage (%)\",\n",
    "#         \"Views\",\n",
    "#         \"Follow pctg (%)\"\n",
    "#     ],\n",
    "#     [\n",
    "#         \"Number of profile interactions\",\n",
    "#         \"Views to reach percentage (%)\",\n",
    "#         \"Interactions\",\n",
    "#         \"View pctg (%)\"\n",
    "#     ]\n",
    "# ]\n",
    "\n",
    "# # Define figrue titles\n",
    "# titles = [\n",
    "#     \"Profile views and new followers-views ratio\", \n",
    "#     \"Profile reach and profile views ratio\"\n",
    "# ]\n",
    "\n",
    "# # Zip variable to allow easier access during for loop\n",
    "# zipped_variables = zip(source_data, range_limits, legend_labels, y_axis_labels, titles)\n",
    "\n",
    "# # Create an empty list containing the different sets of figures\n",
    "# panels = []\n",
    "\n",
    "# for (source_data, range_vals, legend_labels, y_label, title) in zipped_variables:\n",
    "#     # Define the data source\n",
    "#     source= ColumnDataSource(data=source_data)\n",
    "    \n",
    "#     # Create the first figure\n",
    "#     p = figure(\n",
    "#         title=title,\n",
    "#         x_axis_type=\"datetime\",\n",
    "#         x_axis_location=\"above\",\n",
    "#         width=800,\n",
    "#         height=450,\n",
    "#         background_fill_color=\"#efefef\",\n",
    "#         x_range=(prof_insight[\"day\"].iloc[-14], prof_insight[\"day\"].iloc[-1]),\n",
    "#     )\n",
    "\n",
    "#     # Plot data in the first figure\n",
    "#     p.vbar(\n",
    "#         x=\"date\",\n",
    "#         top=\"y_bar_1\",\n",
    "#         source=source,\n",
    "#         width=22000000,\n",
    "#         bottom=0,\n",
    "#         legend_label=legend_labels[0],\n",
    "#         color=\"cornflowerblue\",\n",
    "#     )\n",
    "#     p.line(\n",
    "#         x=\"date\",\n",
    "#         y=\"y_line_1\",\n",
    "#         source=source,\n",
    "#         line_width=3,\n",
    "#         legend_label=legend_labels[1],\n",
    "#         color=\"darkblue\",\n",
    "#     )\n",
    "\n",
    "#     # Format the primary axis of the first figure\n",
    "#     p.yaxis.axis_label = y_label[0]\n",
    "#     p.yaxis.axis_label_text_color = \"darkblue\"\n",
    "#     p.yaxis.major_label_text_color = \"darkblue\"\n",
    "#     p.yaxis.major_tick_line_color = \"darkblue\"\n",
    "#     p.yaxis.minor_tick_line_color = \"darkblue\"\n",
    "#     p.yaxis.axis_line_color = \"darkblue\"\n",
    "#     p.yaxis.major_tick_line_width = 2\n",
    "#     p.yaxis.minor_tick_line_width = 2\n",
    "\n",
    "#     # Format other figure elements\n",
    "#     p.legend.location = \"top_left\"\n",
    "#     p.grid.grid_line_color = \"white\"\n",
    "#     p.xaxis.formatter = DatetimeTickFormatter(days=\"%Y-%m-%d\")\n",
    "    \n",
    "#     # Add a secondary axids for the first figure and plot the data\n",
    "#     p.extra_y_ranges[\"foo\"] = Range1d(*range_vals)\n",
    "#     p.circle(\n",
    "#         x = \"date\",\n",
    "#         y = \"y_circle\",\n",
    "#         source=source,\n",
    "#         color=\"salmon\",\n",
    "#         size=3,\n",
    "#         y_range_name=\"foo\",\n",
    "#         legend_label=legend_labels[2],\n",
    "#     )\n",
    "#     p.line(\n",
    "#         x = \"date\",\n",
    "#         y = \"y_line_2\",\n",
    "#         source = source,\n",
    "#         color=\"salmon\",\n",
    "#         line_width=1.25,\n",
    "#         # size=8,\n",
    "#         y_range_name=\"foo\",\n",
    "#         legend_label=legend_labels[2],\n",
    "#     )\n",
    "#     p.line(\n",
    "#         x = \"date\",\n",
    "#         y = \"y_line_3\",\n",
    "#         source=source,\n",
    "#         color=\"red\",\n",
    "#         line_width=3,\n",
    "#         # size=8,\n",
    "#         y_range_name=\"foo\",\n",
    "#         legend_label=legend_labels[3],\n",
    "#     )\n",
    "\n",
    "#     # Format the secondary axis of the first plot\n",
    "#     ax2 = LinearAxis(y_range_name=\"foo\", axis_label=y_label[1])\n",
    "#     ax2.axis_label_text_color = \"red\"\n",
    "#     ax2.major_label_text_color = \"red\"\n",
    "#     ax2.major_tick_line_color = \"red\"\n",
    "#     ax2.minor_tick_line_color = \"red\"\n",
    "#     ax2.axis_line_color = \"red\"\n",
    "#     ax2.major_tick_line_width = 2\n",
    "#     ax2.minor_tick_line_width = 2\n",
    "#     p.add_layout(ax2, \"right\")\n",
    "\n",
    "#     # Create the second plot\n",
    "#     select = figure(\n",
    "#         title=\"Drag the middle and edges of the selection box to change the range above\",\n",
    "#         height=200,\n",
    "#         width=800,\n",
    "#         x_axis_type=\"datetime\",\n",
    "#         x_axis_label=\"Date\",\n",
    "#         tools=\"\",\n",
    "#         toolbar_location=None,\n",
    "#         background_fill_color=\"#efefef\",\n",
    "#     )\n",
    "    \n",
    "#     # Add a range slider in the secondary plot to control the \n",
    "#     # x-axis range of the first plot\n",
    "#     range_tool = RangeTool(x_range=p.x_range)\n",
    "#     range_tool.overlay.fill_color = \"navy\"\n",
    "#     range_tool.overlay.fill_alpha = 0.2\n",
    "\n",
    "#     # Add the first line of the second plot\n",
    "#     select.line(\n",
    "#         x=\"date\",\n",
    "#         y=\"y_line_1\",\n",
    "#         source=source,\n",
    "#         line_width=3,\n",
    "#         color=\"darkblue\",\n",
    "#         legend_label=legend_labels[4],\n",
    "#     )\n",
    "\n",
    "#     # Format primary axis of the second plot\n",
    "#     select.yaxis.axis_label = y_label[2]\n",
    "#     select.yaxis.axis_label_text_color = \"darkblue\"\n",
    "#     select.yaxis.major_label_text_color = \"darkblue\"\n",
    "#     select.yaxis.major_tick_line_color = \"darkblue\"\n",
    "#     select.yaxis.minor_tick_line_color = \"darkblue\"\n",
    "#     select.yaxis.axis_line_color = \"darkblue\"\n",
    "#     select.yaxis.major_tick_line_width = 1\n",
    "#     select.yaxis.minor_tick_line_width = 1\n",
    "\n",
    "#     # Add a line that is plotted in the secondary y-axis of the \n",
    "#     # second plot\n",
    "#     select.extra_y_ranges[\"foo\"] = Range1d(*range_vals)\n",
    "#     select.line(\n",
    "#         x=\"date\",\n",
    "#         y=\"y_line_3\",\n",
    "#         source=source,\n",
    "#         color=\"red\",\n",
    "#         line_width=3,\n",
    "#         # size=8,\n",
    "#         y_range_name=\"foo\",\n",
    "#         legend_label=legend_labels[5],\n",
    "#     )\n",
    "\n",
    "#     # Format secondary y-axis of the second plot\n",
    "#     select_ax2 = LinearAxis(y_range_name=\"foo\", axis_label=y_label[3])\n",
    "#     select_ax2.axis_label_text_color = \"red\"\n",
    "#     select_ax2.major_label_text_color = \"red\"\n",
    "#     select_ax2.major_tick_line_color = \"red\"\n",
    "#     select_ax2.minor_tick_line_color = \"red\"\n",
    "#     select_ax2.axis_line_color = \"red\"\n",
    "#     select_ax2.major_tick_line_width = 1\n",
    "#     select_ax2.minor_tick_line_width = 1\n",
    "#     select.add_layout(select_ax2, \"right\")\n",
    "\n",
    "    \n",
    "#     select.legend.location = \"top_left\"\n",
    "#     select.grid.grid_line_color = \"white\"\n",
    "#     select.add_tools(range_tool)\n",
    "#     select.toolbar.active_multi = range_tool\n",
    "\n",
    "#     select.xaxis.formatter = DatetimeTickFormatter(days=\"%Y-%m-%d\")\n",
    "\n",
    "    \n",
    "\n",
    "#     # Create the layout for the tab\n",
    "#     layout = column(p, select)\n",
    "\n",
    "#     # Create the panel and add it to the list of panels\n",
    "#     panel = Panel(child=layout, title=title)\n",
    "#     panels.append(panel)\n",
    "\n",
    "# # Create the tabs and show the plot\n",
    "# tabs = Tabs(tabs=panels)\n",
    "# show(tabs)\n"
   ]
  },
  {
   "attachments": {},
   "cell_type": "markdown",
   "id": "59c0e88a",
   "metadata": {},
   "source": [
    "# Dashboard - Geographical data of followers"
   ]
  },
  {
   "cell_type": "code",
   "execution_count": 7,
   "id": "d66c4376",
   "metadata": {},
   "outputs": [],
   "source": [
    "data = demographic_data[1][\"values\"][0][\"value\"]\n",
    "\n",
    "# map abbreviations to country names\n",
    "country_names = {c.alpha_2: c.name for c in pycountry.countries}\n",
    "\n",
    "# create a list of country names\n",
    "names = [country_names.get(abbr, abbr) for abbr in data.keys()]\n",
    "\n",
    "df_country = pd.DataFrame({\"country\": names, \"followers\": data.values()})"
   ]
  },
  {
   "cell_type": "code",
   "execution_count": 8,
   "id": "1931797b",
   "metadata": {},
   "outputs": [
    {
     "data": {
      "application/vnd.plotly.v1+json": {
       "config": {
        "plotlyServerURL": "https://plot.ly"
       },
       "data": [
        {
         "coloraxis": "coloraxis",
         "customdata": [
          [
           42
          ],
          [
           528
          ],
          [
           29
          ],
          [
           43
          ],
          [
           61
          ],
          [
           68
          ],
          [
           107
          ],
          [
           52
          ],
          [
           39
          ],
          [
           299
          ],
          [
           31
          ],
          [
           34
          ],
          [
           172
          ],
          [
           92
          ],
          [
           33
          ],
          [
           94
          ],
          [
           110
          ],
          [
           873
          ],
          [
           35
          ],
          [
           445
          ],
          [
           3153
          ],
          [
           50
          ],
          [
           79
          ],
          [
           216
          ],
          [
           77
          ],
          [
           84
          ],
          [
           48
          ],
          [
           143
          ],
          [
           208
          ],
          [
           64
          ],
          [
           118
          ],
          [
           234
          ],
          [
           30
          ],
          [
           56
          ],
          [
           76
          ],
          [
           38
          ],
          [
           301
          ],
          [
           36
          ],
          [
           56
          ],
          [
           117
          ],
          [
           31
          ],
          [
           127
          ],
          [
           53
          ],
          [
           56
          ],
          [
           192
          ]
         ],
         "geo": "geo",
         "hovertemplate": "<b>%{hovertext}</b><br><br>country=%{location}<br>followers=%{z}<extra></extra>",
         "hovertext": [
          "Norway",
          "Germany",
          "Taiwan, Province of China",
          "Finland",
          "Hong Kong",
          "Belgium",
          "Portugal",
          "Denmark",
          "New Zealand",
          "France",
          "Hungary",
          "Saudi Arabia",
          "Brazil",
          "Sweden",
          "Morocco",
          "Singapore",
          "Indonesia",
          "United Kingdom",
          "Ireland",
          "Canada",
          "United States",
          "United Arab Emirates",
          "Switzerland",
          "India",
          "South Africa",
          "Chile",
          "Greece",
          "Mexico",
          "Italy",
          "Colombia",
          "Malaysia",
          "Spain",
          "Venezuela, Bolivarian Republic of",
          "Argentina",
          "Austria",
          "Thailand",
          "Australia",
          "Peru",
          "Czechia",
          "Philippines",
          "Pakistan",
          "Poland",
          "Romania",
          "Turkey",
          "Netherlands"
         ],
         "locationmode": "country names",
         "locations": [
          "Norway",
          "Germany",
          "Taiwan, Province of China",
          "Finland",
          "Hong Kong",
          "Belgium",
          "Portugal",
          "Denmark",
          "New Zealand",
          "France",
          "Hungary",
          "Saudi Arabia",
          "Brazil",
          "Sweden",
          "Morocco",
          "Singapore",
          "Indonesia",
          "United Kingdom",
          "Ireland",
          "Canada",
          "United States",
          "United Arab Emirates",
          "Switzerland",
          "India",
          "South Africa",
          "Chile",
          "Greece",
          "Mexico",
          "Italy",
          "Colombia",
          "Malaysia",
          "Spain",
          "Venezuela, Bolivarian Republic of",
          "Argentina",
          "Austria",
          "Thailand",
          "Australia",
          "Peru",
          "Czechia",
          "Philippines",
          "Pakistan",
          "Poland",
          "Romania",
          "Turkey",
          "Netherlands"
         ],
         "name": "",
         "type": "choropleth",
         "z": [
          42,
          528,
          29,
          43,
          61,
          68,
          107,
          52,
          39,
          299,
          31,
          34,
          172,
          92,
          33,
          94,
          110,
          873,
          35,
          445,
          3153,
          50,
          79,
          216,
          77,
          84,
          48,
          143,
          208,
          64,
          118,
          234,
          30,
          56,
          76,
          38,
          301,
          36,
          56,
          117,
          31,
          127,
          53,
          56,
          192
         ]
        }
       ],
       "layout": {
        "autosize": false,
        "coloraxis": {
         "colorbar": {
          "title": {
           "text": "followers"
          }
         },
         "colorscale": [
          [
           0,
           "rgb(255,255,229)"
          ],
          [
           0.125,
           "rgb(255,247,188)"
          ],
          [
           0.25,
           "rgb(254,227,145)"
          ],
          [
           0.375,
           "rgb(254,196,79)"
          ],
          [
           0.5,
           "rgb(254,153,41)"
          ],
          [
           0.625,
           "rgb(236,112,20)"
          ],
          [
           0.75,
           "rgb(204,76,2)"
          ],
          [
           0.875,
           "rgb(153,52,4)"
          ],
          [
           1,
           "rgb(102,37,6)"
          ]
         ]
        },
        "geo": {
         "center": {},
         "domain": {
          "x": [
           0,
           1
          ],
          "y": [
           0,
           1
          ]
         }
        },
        "height": 600,
        "legend": {
         "orientation": "v",
         "tracegroupgap": 0,
         "x": 1,
         "xanchor": "right",
         "y": 1.02,
         "yanchor": "auto"
        },
        "margin": {
         "b": 50,
         "l": 50,
         "pad": 1,
         "r": 50,
         "t": 50
        },
        "paper_bgcolor": "rgb(234, 234, 242)",
        "template": {
         "data": {
          "bar": [
           {
            "error_x": {
             "color": "rgb(51,51,51)"
            },
            "error_y": {
             "color": "rgb(51,51,51)"
            },
            "marker": {
             "line": {
              "color": "rgb(237,237,237)",
              "width": 0.5
             },
             "pattern": {
              "fillmode": "overlay",
              "size": 10,
              "solidity": 0.2
             }
            },
            "type": "bar"
           }
          ],
          "barpolar": [
           {
            "marker": {
             "line": {
              "color": "rgb(237,237,237)",
              "width": 0.5
             },
             "pattern": {
              "fillmode": "overlay",
              "size": 10,
              "solidity": 0.2
             }
            },
            "type": "barpolar"
           }
          ],
          "carpet": [
           {
            "aaxis": {
             "endlinecolor": "rgb(51,51,51)",
             "gridcolor": "white",
             "linecolor": "white",
             "minorgridcolor": "white",
             "startlinecolor": "rgb(51,51,51)"
            },
            "baxis": {
             "endlinecolor": "rgb(51,51,51)",
             "gridcolor": "white",
             "linecolor": "white",
             "minorgridcolor": "white",
             "startlinecolor": "rgb(51,51,51)"
            },
            "type": "carpet"
           }
          ],
          "choropleth": [
           {
            "colorbar": {
             "outlinewidth": 0,
             "tickcolor": "rgb(237,237,237)",
             "ticklen": 6,
             "ticks": "inside"
            },
            "type": "choropleth"
           }
          ],
          "contour": [
           {
            "colorbar": {
             "outlinewidth": 0,
             "tickcolor": "rgb(237,237,237)",
             "ticklen": 6,
             "ticks": "inside"
            },
            "colorscale": [
             [
              0,
              "rgb(20,44,66)"
             ],
             [
              1,
              "rgb(90,179,244)"
             ]
            ],
            "type": "contour"
           }
          ],
          "contourcarpet": [
           {
            "colorbar": {
             "outlinewidth": 0,
             "tickcolor": "rgb(237,237,237)",
             "ticklen": 6,
             "ticks": "inside"
            },
            "type": "contourcarpet"
           }
          ],
          "heatmap": [
           {
            "colorbar": {
             "outlinewidth": 0,
             "tickcolor": "rgb(237,237,237)",
             "ticklen": 6,
             "ticks": "inside"
            },
            "colorscale": [
             [
              0,
              "rgb(20,44,66)"
             ],
             [
              1,
              "rgb(90,179,244)"
             ]
            ],
            "type": "heatmap"
           }
          ],
          "heatmapgl": [
           {
            "colorbar": {
             "outlinewidth": 0,
             "tickcolor": "rgb(237,237,237)",
             "ticklen": 6,
             "ticks": "inside"
            },
            "colorscale": [
             [
              0,
              "rgb(20,44,66)"
             ],
             [
              1,
              "rgb(90,179,244)"
             ]
            ],
            "type": "heatmapgl"
           }
          ],
          "histogram": [
           {
            "marker": {
             "pattern": {
              "fillmode": "overlay",
              "size": 10,
              "solidity": 0.2
             }
            },
            "type": "histogram"
           }
          ],
          "histogram2d": [
           {
            "colorbar": {
             "outlinewidth": 0,
             "tickcolor": "rgb(237,237,237)",
             "ticklen": 6,
             "ticks": "inside"
            },
            "colorscale": [
             [
              0,
              "rgb(20,44,66)"
             ],
             [
              1,
              "rgb(90,179,244)"
             ]
            ],
            "type": "histogram2d"
           }
          ],
          "histogram2dcontour": [
           {
            "colorbar": {
             "outlinewidth": 0,
             "tickcolor": "rgb(237,237,237)",
             "ticklen": 6,
             "ticks": "inside"
            },
            "colorscale": [
             [
              0,
              "rgb(20,44,66)"
             ],
             [
              1,
              "rgb(90,179,244)"
             ]
            ],
            "type": "histogram2dcontour"
           }
          ],
          "mesh3d": [
           {
            "colorbar": {
             "outlinewidth": 0,
             "tickcolor": "rgb(237,237,237)",
             "ticklen": 6,
             "ticks": "inside"
            },
            "type": "mesh3d"
           }
          ],
          "parcoords": [
           {
            "line": {
             "colorbar": {
              "outlinewidth": 0,
              "tickcolor": "rgb(237,237,237)",
              "ticklen": 6,
              "ticks": "inside"
             }
            },
            "type": "parcoords"
           }
          ],
          "pie": [
           {
            "automargin": true,
            "type": "pie"
           }
          ],
          "scatter": [
           {
            "fillpattern": {
             "fillmode": "overlay",
             "size": 10,
             "solidity": 0.2
            },
            "type": "scatter"
           }
          ],
          "scatter3d": [
           {
            "line": {
             "colorbar": {
              "outlinewidth": 0,
              "tickcolor": "rgb(237,237,237)",
              "ticklen": 6,
              "ticks": "inside"
             }
            },
            "marker": {
             "colorbar": {
              "outlinewidth": 0,
              "tickcolor": "rgb(237,237,237)",
              "ticklen": 6,
              "ticks": "inside"
             }
            },
            "type": "scatter3d"
           }
          ],
          "scattercarpet": [
           {
            "marker": {
             "colorbar": {
              "outlinewidth": 0,
              "tickcolor": "rgb(237,237,237)",
              "ticklen": 6,
              "ticks": "inside"
             }
            },
            "type": "scattercarpet"
           }
          ],
          "scattergeo": [
           {
            "marker": {
             "colorbar": {
              "outlinewidth": 0,
              "tickcolor": "rgb(237,237,237)",
              "ticklen": 6,
              "ticks": "inside"
             }
            },
            "type": "scattergeo"
           }
          ],
          "scattergl": [
           {
            "marker": {
             "colorbar": {
              "outlinewidth": 0,
              "tickcolor": "rgb(237,237,237)",
              "ticklen": 6,
              "ticks": "inside"
             }
            },
            "type": "scattergl"
           }
          ],
          "scattermapbox": [
           {
            "marker": {
             "colorbar": {
              "outlinewidth": 0,
              "tickcolor": "rgb(237,237,237)",
              "ticklen": 6,
              "ticks": "inside"
             }
            },
            "type": "scattermapbox"
           }
          ],
          "scatterpolar": [
           {
            "marker": {
             "colorbar": {
              "outlinewidth": 0,
              "tickcolor": "rgb(237,237,237)",
              "ticklen": 6,
              "ticks": "inside"
             }
            },
            "type": "scatterpolar"
           }
          ],
          "scatterpolargl": [
           {
            "marker": {
             "colorbar": {
              "outlinewidth": 0,
              "tickcolor": "rgb(237,237,237)",
              "ticklen": 6,
              "ticks": "inside"
             }
            },
            "type": "scatterpolargl"
           }
          ],
          "scatterternary": [
           {
            "marker": {
             "colorbar": {
              "outlinewidth": 0,
              "tickcolor": "rgb(237,237,237)",
              "ticklen": 6,
              "ticks": "inside"
             }
            },
            "type": "scatterternary"
           }
          ],
          "surface": [
           {
            "colorbar": {
             "outlinewidth": 0,
             "tickcolor": "rgb(237,237,237)",
             "ticklen": 6,
             "ticks": "inside"
            },
            "colorscale": [
             [
              0,
              "rgb(20,44,66)"
             ],
             [
              1,
              "rgb(90,179,244)"
             ]
            ],
            "type": "surface"
           }
          ],
          "table": [
           {
            "cells": {
             "fill": {
              "color": "rgb(237,237,237)"
             },
             "line": {
              "color": "white"
             }
            },
            "header": {
             "fill": {
              "color": "rgb(217,217,217)"
             },
             "line": {
              "color": "white"
             }
            },
            "type": "table"
           }
          ]
         },
         "layout": {
          "annotationdefaults": {
           "arrowhead": 0,
           "arrowwidth": 1
          },
          "autotypenumbers": "strict",
          "coloraxis": {
           "colorbar": {
            "outlinewidth": 0,
            "tickcolor": "rgb(237,237,237)",
            "ticklen": 6,
            "ticks": "inside"
           }
          },
          "colorscale": {
           "sequential": [
            [
             0,
             "rgb(20,44,66)"
            ],
            [
             1,
             "rgb(90,179,244)"
            ]
           ],
           "sequentialminus": [
            [
             0,
             "rgb(20,44,66)"
            ],
            [
             1,
             "rgb(90,179,244)"
            ]
           ]
          },
          "colorway": [
           "#F8766D",
           "#A3A500",
           "#00BF7D",
           "#00B0F6",
           "#E76BF3"
          ],
          "font": {
           "color": "rgb(51,51,51)"
          },
          "geo": {
           "bgcolor": "white",
           "lakecolor": "white",
           "landcolor": "rgb(237,237,237)",
           "showlakes": true,
           "showland": true,
           "subunitcolor": "white"
          },
          "hoverlabel": {
           "align": "left"
          },
          "hovermode": "closest",
          "paper_bgcolor": "white",
          "plot_bgcolor": "rgb(237,237,237)",
          "polar": {
           "angularaxis": {
            "gridcolor": "white",
            "linecolor": "white",
            "showgrid": true,
            "tickcolor": "rgb(51,51,51)",
            "ticks": "outside"
           },
           "bgcolor": "rgb(237,237,237)",
           "radialaxis": {
            "gridcolor": "white",
            "linecolor": "white",
            "showgrid": true,
            "tickcolor": "rgb(51,51,51)",
            "ticks": "outside"
           }
          },
          "scene": {
           "xaxis": {
            "backgroundcolor": "rgb(237,237,237)",
            "gridcolor": "white",
            "gridwidth": 2,
            "linecolor": "white",
            "showbackground": true,
            "showgrid": true,
            "tickcolor": "rgb(51,51,51)",
            "ticks": "outside",
            "zerolinecolor": "white"
           },
           "yaxis": {
            "backgroundcolor": "rgb(237,237,237)",
            "gridcolor": "white",
            "gridwidth": 2,
            "linecolor": "white",
            "showbackground": true,
            "showgrid": true,
            "tickcolor": "rgb(51,51,51)",
            "ticks": "outside",
            "zerolinecolor": "white"
           },
           "zaxis": {
            "backgroundcolor": "rgb(237,237,237)",
            "gridcolor": "white",
            "gridwidth": 2,
            "linecolor": "white",
            "showbackground": true,
            "showgrid": true,
            "tickcolor": "rgb(51,51,51)",
            "ticks": "outside",
            "zerolinecolor": "white"
           }
          },
          "shapedefaults": {
           "fillcolor": "black",
           "line": {
            "width": 0
           },
           "opacity": 0.3
          },
          "ternary": {
           "aaxis": {
            "gridcolor": "white",
            "linecolor": "white",
            "showgrid": true,
            "tickcolor": "rgb(51,51,51)",
            "ticks": "outside"
           },
           "baxis": {
            "gridcolor": "white",
            "linecolor": "white",
            "showgrid": true,
            "tickcolor": "rgb(51,51,51)",
            "ticks": "outside"
           },
           "bgcolor": "rgb(237,237,237)",
           "caxis": {
            "gridcolor": "white",
            "linecolor": "white",
            "showgrid": true,
            "tickcolor": "rgb(51,51,51)",
            "ticks": "outside"
           }
          },
          "xaxis": {
           "automargin": true,
           "gridcolor": "white",
           "linecolor": "white",
           "showgrid": true,
           "tickcolor": "rgb(51,51,51)",
           "ticks": "outside",
           "title": {
            "standoff": 15
           },
           "zerolinecolor": "white"
          },
          "yaxis": {
           "automargin": true,
           "gridcolor": "white",
           "linecolor": "white",
           "showgrid": true,
           "tickcolor": "rgb(51,51,51)",
           "ticks": "outside",
           "title": {
            "standoff": 15
           },
           "zerolinecolor": "white"
          }
         }
        },
        "title": {
         "text": "Number of followers per country"
        },
        "width": 1000
       }
      }
     },
     "metadata": {},
     "output_type": "display_data"
    }
   ],
   "source": [
    "fig = px.choropleth(df_country, locations=\"country\", # used plotly express choropleth for animation plot\n",
    "                    color=\"followers\", \n",
    "                    locationmode='country names',\n",
    "                    hover_name=\"country\",\n",
    "                    hover_data=['followers'],\n",
    "                    title = 'Number of followers per country',\n",
    "                    color_continuous_scale='YlOrBr',\n",
    "                    \n",
    "                \n",
    ")\n",
    "\n",
    "# adjusting size of map, legend place, and background colour\n",
    "fig.update_layout(\n",
    "    autosize=False,\n",
    "    width=1000,\n",
    "    height=600,\n",
    "    margin=dict(l=50, r=50, b=50, t=50, pad=1),\n",
    "    template='ggplot2',\n",
    "    paper_bgcolor=\"rgb(234, 234, 242)\",\n",
    "    legend=dict(\n",
    "        orientation=\"v\",\n",
    "        yanchor=\"auto\",\n",
    "        y=1.02,\n",
    "        xanchor=\"right\",\n",
    "        x=1\n",
    "))\n",
    "\n",
    "\n",
    "fig.show()"
   ]
  },
  {
   "attachments": {},
   "cell_type": "markdown",
   "id": "faf7d028",
   "metadata": {},
   "source": [
    "# Dashboard - Demographics"
   ]
  },
  {
   "cell_type": "code",
   "execution_count": 35,
   "id": "64c15492",
   "metadata": {},
   "outputs": [
    {
     "data": {
      "application/vnd.plotly.v1+json": {
       "config": {
        "linkText": "Export to plot.ly",
        "plotlyServerURL": "https://plot.ly",
        "showLink": false
       },
       "data": [
        {
         "hoverinfo": "x",
         "marker": {
          "color": "powderblue"
         },
         "name": "Men",
         "orientation": "h",
         "text": [
          14,
          141,
          479,
          270,
          137,
          84,
          42
         ],
         "type": "bar",
         "x": [
          14,
          141,
          479,
          270,
          137,
          84,
          42
         ],
         "y": [
          17,
          24,
          34,
          44,
          54,
          64,
          74
         ]
        },
        {
         "hoverinfo": "text",
         "marker": {
          "color": "seagreen"
         },
         "name": "Women",
         "orientation": "h",
         "text": [
          65,
          857,
          2693,
          1190,
          734,
          400,
          252
         ],
         "type": "bar",
         "x": [
          -65,
          -857,
          -2693,
          -1190,
          -734,
          -400,
          -252
         ],
         "y": [
          17,
          24,
          34,
          44,
          54,
          64,
          74
         ]
        }
       ],
       "layout": {
        "bargap": 0.1,
        "barmode": "overlay",
        "height": 500,
        "legend": {
         "bgcolor": "rgba(255, 255, 255, 0.7)",
         "bordercolor": "rgba(0, 0, 0, 0.5)",
         "borderwidth": 1,
         "x": 0.85,
         "y": 0.95
        },
        "template": {
         "data": {
          "bar": [
           {
            "error_x": {
             "color": "rgb(51,51,51)"
            },
            "error_y": {
             "color": "rgb(51,51,51)"
            },
            "marker": {
             "line": {
              "color": "rgb(237,237,237)",
              "width": 0.5
             },
             "pattern": {
              "fillmode": "overlay",
              "size": 10,
              "solidity": 0.2
             }
            },
            "type": "bar"
           }
          ],
          "barpolar": [
           {
            "marker": {
             "line": {
              "color": "rgb(237,237,237)",
              "width": 0.5
             },
             "pattern": {
              "fillmode": "overlay",
              "size": 10,
              "solidity": 0.2
             }
            },
            "type": "barpolar"
           }
          ],
          "carpet": [
           {
            "aaxis": {
             "endlinecolor": "rgb(51,51,51)",
             "gridcolor": "white",
             "linecolor": "white",
             "minorgridcolor": "white",
             "startlinecolor": "rgb(51,51,51)"
            },
            "baxis": {
             "endlinecolor": "rgb(51,51,51)",
             "gridcolor": "white",
             "linecolor": "white",
             "minorgridcolor": "white",
             "startlinecolor": "rgb(51,51,51)"
            },
            "type": "carpet"
           }
          ],
          "choropleth": [
           {
            "colorbar": {
             "outlinewidth": 0,
             "tickcolor": "rgb(237,237,237)",
             "ticklen": 6,
             "ticks": "inside"
            },
            "type": "choropleth"
           }
          ],
          "contour": [
           {
            "colorbar": {
             "outlinewidth": 0,
             "tickcolor": "rgb(237,237,237)",
             "ticklen": 6,
             "ticks": "inside"
            },
            "colorscale": [
             [
              0,
              "rgb(20,44,66)"
             ],
             [
              1,
              "rgb(90,179,244)"
             ]
            ],
            "type": "contour"
           }
          ],
          "contourcarpet": [
           {
            "colorbar": {
             "outlinewidth": 0,
             "tickcolor": "rgb(237,237,237)",
             "ticklen": 6,
             "ticks": "inside"
            },
            "type": "contourcarpet"
           }
          ],
          "heatmap": [
           {
            "colorbar": {
             "outlinewidth": 0,
             "tickcolor": "rgb(237,237,237)",
             "ticklen": 6,
             "ticks": "inside"
            },
            "colorscale": [
             [
              0,
              "rgb(20,44,66)"
             ],
             [
              1,
              "rgb(90,179,244)"
             ]
            ],
            "type": "heatmap"
           }
          ],
          "heatmapgl": [
           {
            "colorbar": {
             "outlinewidth": 0,
             "tickcolor": "rgb(237,237,237)",
             "ticklen": 6,
             "ticks": "inside"
            },
            "colorscale": [
             [
              0,
              "rgb(20,44,66)"
             ],
             [
              1,
              "rgb(90,179,244)"
             ]
            ],
            "type": "heatmapgl"
           }
          ],
          "histogram": [
           {
            "marker": {
             "pattern": {
              "fillmode": "overlay",
              "size": 10,
              "solidity": 0.2
             }
            },
            "type": "histogram"
           }
          ],
          "histogram2d": [
           {
            "colorbar": {
             "outlinewidth": 0,
             "tickcolor": "rgb(237,237,237)",
             "ticklen": 6,
             "ticks": "inside"
            },
            "colorscale": [
             [
              0,
              "rgb(20,44,66)"
             ],
             [
              1,
              "rgb(90,179,244)"
             ]
            ],
            "type": "histogram2d"
           }
          ],
          "histogram2dcontour": [
           {
            "colorbar": {
             "outlinewidth": 0,
             "tickcolor": "rgb(237,237,237)",
             "ticklen": 6,
             "ticks": "inside"
            },
            "colorscale": [
             [
              0,
              "rgb(20,44,66)"
             ],
             [
              1,
              "rgb(90,179,244)"
             ]
            ],
            "type": "histogram2dcontour"
           }
          ],
          "mesh3d": [
           {
            "colorbar": {
             "outlinewidth": 0,
             "tickcolor": "rgb(237,237,237)",
             "ticklen": 6,
             "ticks": "inside"
            },
            "type": "mesh3d"
           }
          ],
          "parcoords": [
           {
            "line": {
             "colorbar": {
              "outlinewidth": 0,
              "tickcolor": "rgb(237,237,237)",
              "ticklen": 6,
              "ticks": "inside"
             }
            },
            "type": "parcoords"
           }
          ],
          "pie": [
           {
            "automargin": true,
            "type": "pie"
           }
          ],
          "scatter": [
           {
            "fillpattern": {
             "fillmode": "overlay",
             "size": 10,
             "solidity": 0.2
            },
            "type": "scatter"
           }
          ],
          "scatter3d": [
           {
            "line": {
             "colorbar": {
              "outlinewidth": 0,
              "tickcolor": "rgb(237,237,237)",
              "ticklen": 6,
              "ticks": "inside"
             }
            },
            "marker": {
             "colorbar": {
              "outlinewidth": 0,
              "tickcolor": "rgb(237,237,237)",
              "ticklen": 6,
              "ticks": "inside"
             }
            },
            "type": "scatter3d"
           }
          ],
          "scattercarpet": [
           {
            "marker": {
             "colorbar": {
              "outlinewidth": 0,
              "tickcolor": "rgb(237,237,237)",
              "ticklen": 6,
              "ticks": "inside"
             }
            },
            "type": "scattercarpet"
           }
          ],
          "scattergeo": [
           {
            "marker": {
             "colorbar": {
              "outlinewidth": 0,
              "tickcolor": "rgb(237,237,237)",
              "ticklen": 6,
              "ticks": "inside"
             }
            },
            "type": "scattergeo"
           }
          ],
          "scattergl": [
           {
            "marker": {
             "colorbar": {
              "outlinewidth": 0,
              "tickcolor": "rgb(237,237,237)",
              "ticklen": 6,
              "ticks": "inside"
             }
            },
            "type": "scattergl"
           }
          ],
          "scattermapbox": [
           {
            "marker": {
             "colorbar": {
              "outlinewidth": 0,
              "tickcolor": "rgb(237,237,237)",
              "ticklen": 6,
              "ticks": "inside"
             }
            },
            "type": "scattermapbox"
           }
          ],
          "scatterpolar": [
           {
            "marker": {
             "colorbar": {
              "outlinewidth": 0,
              "tickcolor": "rgb(237,237,237)",
              "ticklen": 6,
              "ticks": "inside"
             }
            },
            "type": "scatterpolar"
           }
          ],
          "scatterpolargl": [
           {
            "marker": {
             "colorbar": {
              "outlinewidth": 0,
              "tickcolor": "rgb(237,237,237)",
              "ticklen": 6,
              "ticks": "inside"
             }
            },
            "type": "scatterpolargl"
           }
          ],
          "scatterternary": [
           {
            "marker": {
             "colorbar": {
              "outlinewidth": 0,
              "tickcolor": "rgb(237,237,237)",
              "ticklen": 6,
              "ticks": "inside"
             }
            },
            "type": "scatterternary"
           }
          ],
          "surface": [
           {
            "colorbar": {
             "outlinewidth": 0,
             "tickcolor": "rgb(237,237,237)",
             "ticklen": 6,
             "ticks": "inside"
            },
            "colorscale": [
             [
              0,
              "rgb(20,44,66)"
             ],
             [
              1,
              "rgb(90,179,244)"
             ]
            ],
            "type": "surface"
           }
          ],
          "table": [
           {
            "cells": {
             "fill": {
              "color": "rgb(237,237,237)"
             },
             "line": {
              "color": "white"
             }
            },
            "header": {
             "fill": {
              "color": "rgb(217,217,217)"
             },
             "line": {
              "color": "white"
             }
            },
            "type": "table"
           }
          ]
         },
         "layout": {
          "annotationdefaults": {
           "arrowhead": 0,
           "arrowwidth": 1
          },
          "autotypenumbers": "strict",
          "coloraxis": {
           "colorbar": {
            "outlinewidth": 0,
            "tickcolor": "rgb(237,237,237)",
            "ticklen": 6,
            "ticks": "inside"
           }
          },
          "colorscale": {
           "sequential": [
            [
             0,
             "rgb(20,44,66)"
            ],
            [
             1,
             "rgb(90,179,244)"
            ]
           ],
           "sequentialminus": [
            [
             0,
             "rgb(20,44,66)"
            ],
            [
             1,
             "rgb(90,179,244)"
            ]
           ]
          },
          "colorway": [
           "#F8766D",
           "#A3A500",
           "#00BF7D",
           "#00B0F6",
           "#E76BF3"
          ],
          "font": {
           "color": "rgb(51,51,51)"
          },
          "geo": {
           "bgcolor": "white",
           "lakecolor": "white",
           "landcolor": "rgb(237,237,237)",
           "showlakes": true,
           "showland": true,
           "subunitcolor": "white"
          },
          "hoverlabel": {
           "align": "left"
          },
          "hovermode": "closest",
          "paper_bgcolor": "white",
          "plot_bgcolor": "rgb(237,237,237)",
          "polar": {
           "angularaxis": {
            "gridcolor": "white",
            "linecolor": "white",
            "showgrid": true,
            "tickcolor": "rgb(51,51,51)",
            "ticks": "outside"
           },
           "bgcolor": "rgb(237,237,237)",
           "radialaxis": {
            "gridcolor": "white",
            "linecolor": "white",
            "showgrid": true,
            "tickcolor": "rgb(51,51,51)",
            "ticks": "outside"
           }
          },
          "scene": {
           "xaxis": {
            "backgroundcolor": "rgb(237,237,237)",
            "gridcolor": "white",
            "gridwidth": 2,
            "linecolor": "white",
            "showbackground": true,
            "showgrid": true,
            "tickcolor": "rgb(51,51,51)",
            "ticks": "outside",
            "zerolinecolor": "white"
           },
           "yaxis": {
            "backgroundcolor": "rgb(237,237,237)",
            "gridcolor": "white",
            "gridwidth": 2,
            "linecolor": "white",
            "showbackground": true,
            "showgrid": true,
            "tickcolor": "rgb(51,51,51)",
            "ticks": "outside",
            "zerolinecolor": "white"
           },
           "zaxis": {
            "backgroundcolor": "rgb(237,237,237)",
            "gridcolor": "white",
            "gridwidth": 2,
            "linecolor": "white",
            "showbackground": true,
            "showgrid": true,
            "tickcolor": "rgb(51,51,51)",
            "ticks": "outside",
            "zerolinecolor": "white"
           }
          },
          "shapedefaults": {
           "fillcolor": "black",
           "line": {
            "width": 0
           },
           "opacity": 0.3
          },
          "ternary": {
           "aaxis": {
            "gridcolor": "white",
            "linecolor": "white",
            "showgrid": true,
            "tickcolor": "rgb(51,51,51)",
            "ticks": "outside"
           },
           "baxis": {
            "gridcolor": "white",
            "linecolor": "white",
            "showgrid": true,
            "tickcolor": "rgb(51,51,51)",
            "ticks": "outside"
           },
           "bgcolor": "rgb(237,237,237)",
           "caxis": {
            "gridcolor": "white",
            "linecolor": "white",
            "showgrid": true,
            "tickcolor": "rgb(51,51,51)",
            "ticks": "outside"
           }
          },
          "xaxis": {
           "automargin": true,
           "gridcolor": "white",
           "linecolor": "white",
           "showgrid": true,
           "tickcolor": "rgb(51,51,51)",
           "ticks": "outside",
           "title": {
            "standoff": 15
           },
           "zerolinecolor": "white"
          },
          "yaxis": {
           "automargin": true,
           "gridcolor": "white",
           "linecolor": "white",
           "showgrid": true,
           "tickcolor": "rgb(51,51,51)",
           "ticks": "outside",
           "title": {
            "standoff": 15
           },
           "zerolinecolor": "white"
          }
         }
        },
        "title": {
         "text": "Number of followers by gender and age",
         "x": 0.5,
         "xanchor": "center",
         "y": 0.85,
         "yanchor": "top"
        },
        "width": 1000,
        "xaxis": {
         "range": [
          -2828,
          2828
         ],
         "ticktext": [
          2700,
          2400,
          2100,
          1800,
          1500,
          1200,
          900,
          600,
          300,
          0,
          300,
          600,
          900,
          1200,
          1500,
          1800,
          2100,
          2400,
          2700
         ],
         "tickvals": [
          -2700,
          -2400,
          -2100,
          -1800,
          -1500,
          -1200,
          -900,
          -600,
          -300,
          0,
          300,
          600,
          900,
          1200,
          1500,
          1800,
          2100,
          2400,
          2700
         ],
         "title": {
          "text": "Number of followers"
         }
        },
        "yaxis": {
         "title": {
          "text": "Age"
         }
        }
       }
      }
     },
     "metadata": {},
     "output_type": "display_data"
    }
   ],
   "source": [
    "age_gender = demographic_data[2][\"values\"][0][\"value\"]\n",
    "male = np.array([v for k,v in age_gender.items() if \"M\" in k])\n",
    "female = np.array([-v for k,v in age_gender.items() if \"F\" in k])\n",
    "age_bins = [k for k,v in age_gender.items() if \"M\" in k]\n",
    "age_bins[-1] = age_bins[-1].split(\"+\")[0]+\"-74\"\n",
    "x_axis_bin = [int(s.split('.')[1].split('-')[1]) for s in age_bins]\n",
    "\n",
    "# Define range for x axis based on max value\n",
    "max_range = int(np.round(np.max(np.concatenate((np.abs(female), male)))*1.05))\n",
    "x_range = list(range(0, max_range, 300))\n",
    "x_range_neg = [-1*x for x in x_range]\n",
    "\n",
    "# Define x axis ticks and x axis ticks labels\n",
    "x_ticks = sorted(set(x_range+x_range_neg))\n",
    "x_ticks_text = [np.abs(x) for x in x_ticks]\n",
    "\n",
    "layout = go.Layout(yaxis=go.layout.YAxis(title='Age'),\n",
    "                   xaxis=go.layout.XAxis(\n",
    "                       range=[-max_range, max_range],\n",
    "                       tickvals=x_ticks,\n",
    "                       ticktext=x_ticks_text,\n",
    "                       title='Number of followers'),\n",
    "                   barmode='overlay',\n",
    "                   bargap=0.1,\n",
    "                   title={\n",
    "                        'text': \"Number of followers by gender and age\",\n",
    "                        'x': 0.5,\n",
    "                        'y': 0.85,\n",
    "                        'xanchor': 'center',\n",
    "                        'yanchor': 'top'\n",
    "                    },\n",
    "                    legend=dict(\n",
    "                        x=0.85,\n",
    "                        y=0.95,\n",
    "                        bgcolor='rgba(255, 255, 255, 0.7)',\n",
    "                        bordercolor='rgba(0, 0, 0, 0.5)',\n",
    "                        borderwidth=1\n",
    "                    ),\n",
    "                    height=500,\n",
    "                    width=1000,\n",
    "                    template=\"ggplot2\"\n",
    "                   )\n",
    "\n",
    "data = [go.Bar(y=x_axis_bin,\n",
    "               x=male,\n",
    "               orientation='h',\n",
    "               name='Men',\n",
    "               hoverinfo='x',\n",
    "               text=male.astype('int'),\n",
    "               marker=dict(color='powderblue')\n",
    "               ),\n",
    "        go.Bar(y=x_axis_bin,\n",
    "               x=female,\n",
    "               orientation='h',\n",
    "               name='Women',\n",
    "               text=-1 * female.astype('int'),\n",
    "               hoverinfo='text',\n",
    "               marker=dict(color='seagreen')\n",
    "               )]\n",
    "plotly.offline.iplot(dict(data=data, layout=layout))\n"
   ]
  },
  {
   "attachments": {},
   "cell_type": "markdown",
   "id": "b1b1207c",
   "metadata": {},
   "source": [
    "<a id='day'></a>\n",
    "# Does the day when the post is shared make a difference?"
   ]
  },
  {
   "attachments": {},
   "cell_type": "markdown",
   "id": "79d9c295",
   "metadata": {},
   "source": [
    "## Prepare the data"
   ]
  },
  {
   "cell_type": "code",
   "execution_count": 10,
   "id": "9ed7abdd-e93c-41d4-ae5c-3b61e03a2967",
   "metadata": {},
   "outputs": [
    {
     "data": {
      "text/html": [
       "<div>\n",
       "<style scoped>\n",
       "    .dataframe tbody tr th:only-of-type {\n",
       "        vertical-align: middle;\n",
       "    }\n",
       "\n",
       "    .dataframe tbody tr th {\n",
       "        vertical-align: top;\n",
       "    }\n",
       "\n",
       "    .dataframe thead th {\n",
       "        text-align: right;\n",
       "    }\n",
       "</style>\n",
       "<table border=\"1\" class=\"dataframe\">\n",
       "  <thead>\n",
       "    <tr style=\"text-align: right;\">\n",
       "      <th></th>\n",
       "      <th>media_id</th>\n",
       "      <th>media_type</th>\n",
       "      <th>engagement</th>\n",
       "      <th>impressions</th>\n",
       "      <th>reach</th>\n",
       "      <th>saved</th>\n",
       "      <th>video_views</th>\n",
       "      <th>video_comments</th>\n",
       "      <th>video_likes</th>\n",
       "      <th>video_plays</th>\n",
       "      <th>...</th>\n",
       "      <th>date</th>\n",
       "      <th>time</th>\n",
       "      <th>caption</th>\n",
       "      <th>day</th>\n",
       "      <th>hour</th>\n",
       "      <th>hashtags</th>\n",
       "      <th>extra_hashtags</th>\n",
       "      <th>core_hashtags_bool</th>\n",
       "      <th>core_hashtags_ratio</th>\n",
       "      <th>core_hashtags</th>\n",
       "    </tr>\n",
       "  </thead>\n",
       "  <tbody>\n",
       "    <tr>\n",
       "      <th>0</th>\n",
       "      <td>17960899877430850</td>\n",
       "      <td>VIDEO</td>\n",
       "      <td>NaN</td>\n",
       "      <td>NaN</td>\n",
       "      <td>NaN</td>\n",
       "      <td>NaN</td>\n",
       "      <td>NaN</td>\n",
       "      <td>20.0</td>\n",
       "      <td>1159.0</td>\n",
       "      <td>24270.0</td>\n",
       "      <td>...</td>\n",
       "      <td>2023-07-06</td>\n",
       "      <td>16:56:39</td>\n",
       "      <td>I wouldn’t like to count the hours we’ve spent...</td>\n",
       "      <td>3</td>\n",
       "      <td>16</td>\n",
       "      <td>[#flies, #fly, #hunt, #hunting, #hunter, #alon...</td>\n",
       "      <td>[#flies, #fly, #hunt, #hunting, #hunter, #alon...</td>\n",
       "      <td>[False, False, False, False, False, False, Fal...</td>\n",
       "      <td>0.076923</td>\n",
       "      <td>False</td>\n",
       "    </tr>\n",
       "    <tr>\n",
       "      <th>1</th>\n",
       "      <td>18275142694176284</td>\n",
       "      <td>CAROUSEL_ALBUM</td>\n",
       "      <td>169.0</td>\n",
       "      <td>1154.0</td>\n",
       "      <td>967.0</td>\n",
       "      <td>0.0</td>\n",
       "      <td>0.0</td>\n",
       "      <td>NaN</td>\n",
       "      <td>NaN</td>\n",
       "      <td>NaN</td>\n",
       "      <td>...</td>\n",
       "      <td>2023-07-03</td>\n",
       "      <td>18:32:12</td>\n",
       "      <td>Sleeping beauty turned 10 months yesterday 😱 t...</td>\n",
       "      <td>0</td>\n",
       "      <td>18</td>\n",
       "      <td>[#windowsill, #window, #catinwindow, #belly, #...</td>\n",
       "      <td>[#windowsill, #window, #catinwindow, #belly, #...</td>\n",
       "      <td>[False, False, False, False, False, False, Fal...</td>\n",
       "      <td>0.192308</td>\n",
       "      <td>False</td>\n",
       "    </tr>\n",
       "    <tr>\n",
       "      <th>2</th>\n",
       "      <td>17882118947873337</td>\n",
       "      <td>VIDEO</td>\n",
       "      <td>NaN</td>\n",
       "      <td>NaN</td>\n",
       "      <td>NaN</td>\n",
       "      <td>NaN</td>\n",
       "      <td>NaN</td>\n",
       "      <td>7.0</td>\n",
       "      <td>345.0</td>\n",
       "      <td>4894.0</td>\n",
       "      <td>...</td>\n",
       "      <td>2023-06-29</td>\n",
       "      <td>16:30:32</td>\n",
       "      <td>I can’t believe we’ve already done 6 of these!...</td>\n",
       "      <td>3</td>\n",
       "      <td>16</td>\n",
       "      <td>[#trained, #clickertraining, #smartcat, #cattr...</td>\n",
       "      <td>[#trained, #clickertraining, #smartcat, #cattr...</td>\n",
       "      <td>[True, True, True, True, True, True, True, Tru...</td>\n",
       "      <td>1.000000</td>\n",
       "      <td>True</td>\n",
       "    </tr>\n",
       "    <tr>\n",
       "      <th>3</th>\n",
       "      <td>18369673003037056</td>\n",
       "      <td>CAROUSEL_ALBUM</td>\n",
       "      <td>149.0</td>\n",
       "      <td>1204.0</td>\n",
       "      <td>951.0</td>\n",
       "      <td>1.0</td>\n",
       "      <td>0.0</td>\n",
       "      <td>NaN</td>\n",
       "      <td>NaN</td>\n",
       "      <td>NaN</td>\n",
       "      <td>...</td>\n",
       "      <td>2023-06-24</td>\n",
       "      <td>16:17:33</td>\n",
       "      <td>Heeeeey 😉 \\n\\n.\\n.\\n.\\n\\n#windowsill #window #...</td>\n",
       "      <td>5</td>\n",
       "      <td>16</td>\n",
       "      <td>[#windowsill, #window, #catinwindow, #belly, #...</td>\n",
       "      <td>[#windowsill, #window, #catinwindow, #belly, #...</td>\n",
       "      <td>[False, False, False, False, False, False, Fal...</td>\n",
       "      <td>0.192308</td>\n",
       "      <td>False</td>\n",
       "    </tr>\n",
       "    <tr>\n",
       "      <th>4</th>\n",
       "      <td>17970212714519718</td>\n",
       "      <td>VIDEO</td>\n",
       "      <td>NaN</td>\n",
       "      <td>NaN</td>\n",
       "      <td>NaN</td>\n",
       "      <td>NaN</td>\n",
       "      <td>NaN</td>\n",
       "      <td>16.0</td>\n",
       "      <td>584.0</td>\n",
       "      <td>13286.0</td>\n",
       "      <td>...</td>\n",
       "      <td>2023-06-22</td>\n",
       "      <td>17:34:30</td>\n",
       "      <td>Anyone else’s cat try to trip them up &amp; nearly...</td>\n",
       "      <td>3</td>\n",
       "      <td>17</td>\n",
       "      <td>[#funnycat, #funnycats, #funnycatsvideo, #funn...</td>\n",
       "      <td>[#funnycat, #funnycats, #funnycatsvideo, #funn...</td>\n",
       "      <td>[False, False, False, False, False, False, Fal...</td>\n",
       "      <td>0.230769</td>\n",
       "      <td>False</td>\n",
       "    </tr>\n",
       "  </tbody>\n",
       "</table>\n",
       "<p>5 rows × 25 columns</p>\n",
       "</div>"
      ],
      "text/plain": [
       "            media_id      media_type  engagement  impressions  reach  saved  \\\n",
       "0  17960899877430850           VIDEO         NaN          NaN    NaN    NaN   \n",
       "1  18275142694176284  CAROUSEL_ALBUM       169.0       1154.0  967.0    0.0   \n",
       "2  17882118947873337           VIDEO         NaN          NaN    NaN    NaN   \n",
       "3  18369673003037056  CAROUSEL_ALBUM       149.0       1204.0  951.0    1.0   \n",
       "4  17970212714519718           VIDEO         NaN          NaN    NaN    NaN   \n",
       "\n",
       "   video_views  video_comments  video_likes  video_plays  ...        date  \\\n",
       "0          NaN            20.0       1159.0      24270.0  ...  2023-07-06   \n",
       "1          0.0             NaN          NaN          NaN  ...  2023-07-03   \n",
       "2          NaN             7.0        345.0       4894.0  ...  2023-06-29   \n",
       "3          0.0             NaN          NaN          NaN  ...  2023-06-24   \n",
       "4          NaN            16.0        584.0      13286.0  ...  2023-06-22   \n",
       "\n",
       "       time                                            caption  day hour  \\\n",
       "0  16:56:39  I wouldn’t like to count the hours we’ve spent...    3   16   \n",
       "1  18:32:12  Sleeping beauty turned 10 months yesterday 😱 t...    0   18   \n",
       "2  16:30:32  I can’t believe we’ve already done 6 of these!...    3   16   \n",
       "3  16:17:33  Heeeeey 😉 \\n\\n.\\n.\\n.\\n\\n#windowsill #window #...    5   16   \n",
       "4  17:34:30  Anyone else’s cat try to trip them up & nearly...    3   17   \n",
       "\n",
       "                                            hashtags  \\\n",
       "0  [#flies, #fly, #hunt, #hunting, #hunter, #alon...   \n",
       "1  [#windowsill, #window, #catinwindow, #belly, #...   \n",
       "2  [#trained, #clickertraining, #smartcat, #cattr...   \n",
       "3  [#windowsill, #window, #catinwindow, #belly, #...   \n",
       "4  [#funnycat, #funnycats, #funnycatsvideo, #funn...   \n",
       "\n",
       "                                      extra_hashtags  \\\n",
       "0  [#flies, #fly, #hunt, #hunting, #hunter, #alon...   \n",
       "1  [#windowsill, #window, #catinwindow, #belly, #...   \n",
       "2  [#trained, #clickertraining, #smartcat, #cattr...   \n",
       "3  [#windowsill, #window, #catinwindow, #belly, #...   \n",
       "4  [#funnycat, #funnycats, #funnycatsvideo, #funn...   \n",
       "\n",
       "                                  core_hashtags_bool  core_hashtags_ratio  \\\n",
       "0  [False, False, False, False, False, False, Fal...             0.076923   \n",
       "1  [False, False, False, False, False, False, Fal...             0.192308   \n",
       "2  [True, True, True, True, True, True, True, Tru...             1.000000   \n",
       "3  [False, False, False, False, False, False, Fal...             0.192308   \n",
       "4  [False, False, False, False, False, False, Fal...             0.230769   \n",
       "\n",
       "   core_hashtags  \n",
       "0          False  \n",
       "1          False  \n",
       "2           True  \n",
       "3          False  \n",
       "4          False  \n",
       "\n",
       "[5 rows x 25 columns]"
      ]
     },
     "execution_count": 10,
     "metadata": {},
     "output_type": "execute_result"
    }
   ],
   "source": [
    "\n",
    "# Extract day and hour from date_time column\n",
    "publish_date = pd.to_datetime(media_metadata[\"date_time\"])\n",
    "media_metadata[\"day\"] = publish_date.dt.dayofweek\n",
    "media_metadata[\"hour\"] = publish_date.dt.hour\n",
    "\n",
    "\n",
    "# Define core hashtags\n",
    "core_hashtags = [\n",
    "    \"#kittengram\",\n",
    "    \"#petslife\",\n",
    "    \"#fortheloveofpets\",\n",
    "    \"#petsoftheday\",\n",
    "    \"#pets_of_our_world\",\n",
    "    \"#petslovers\",\n",
    "    \"#petsarefamily\",\n",
    "    \"#snowbengalsofinstagram\",\n",
    "    \"#snowbengal\",\n",
    "    \"#bengalcatsrule\",\n",
    "    \"#bengalcatsofinstagram\",\n",
    "    \"#bengalcatworld\",\n",
    "    \"#bengalcat\",\n",
    "    \"#sweetcatclub\",\n",
    "    \"#kittylove\",\n",
    "    \"#cats_today\",\n",
    "    \"#cats_of_day\",\n",
    "    \"#crazycatlady\",\n",
    "    \"#catfeatures\",\n",
    "    \"#catlover\",\n",
    "    \"#catlife\",\n",
    "    \"#catagram\",\n",
    "    \"#catsarethebest\",\n",
    "    \"#catsclub\",\n",
    "    \"#catloversclub\",\n",
    "    \"#instacat\",\n",
    "]\n",
    "\n",
    "# Crate all-media dataframe\n",
    "media_all = media_insight.merge(\n",
    "    media_metadata,\n",
    "    left_on=[\"media_id\", \"media_type\"],\n",
    "    right_on=[\"media_id\", \"media_type\"],\n",
    ")\n",
    "\n",
    "media_all[\"hashtags\"] = media_all[\"caption\"].apply(\n",
    "    lambda caption: [hashtag for hashtag in caption.split() if hashtag.startswith(\"#\")]\n",
    ")\n",
    "media_all[\"extra_hashtags\"] = media_all[\"hashtags\"].apply(\n",
    "    lambda hashtag_list: [\n",
    "        hashtag for hashtag in hashtag_list if hashtag not in core_hashtags\n",
    "    ]\n",
    ")\n",
    "media_all[\"core_hashtags_bool\"] = media_all[\"hashtags\"].apply(\n",
    "    lambda hashtag_list: [hashtag in hashtag_list for hashtag in core_hashtags]\n",
    ")\n",
    "\n",
    "media_all[\"core_hashtags_ratio\"] = media_all[\"core_hashtags_bool\"].apply(\n",
    "    lambda hashtag_list: np.sum(hashtag_list) / len(hashtag_list)\n",
    ")\n",
    "\n",
    "media_all[\"core_hashtags\"] = media_all[\"core_hashtags_ratio\"] > 0.85\n",
    "\n",
    "media_all.head()"
   ]
  },
  {
   "attachments": {},
   "cell_type": "markdown",
   "id": "0afadfc8",
   "metadata": {},
   "source": [
    "## Understanding the data"
   ]
  },
  {
   "cell_type": "code",
   "execution_count": 11,
   "id": "72d2d817-da37-4178-b49d-811a61e06615",
   "metadata": {},
   "outputs": [
    {
     "data": {
      "image/png": "[encoded data removed]",
      "text/plain": [
       "<Figure size 1200x500 with 3 Axes>"
      ]
     },
     "metadata": {},
     "output_type": "display_data"
    }
   ],
   "source": [
    "media_out_int = media_all.loc[(media_all[\"video_likes\"] < 20000)]\n",
    "media_out = media_all.loc[(media_all[\"video_likes\"] < 1500)]\n",
    "\n",
    "fig, axes = plt.subplots(1, 3, figsize=(12, 5))\n",
    "sns.boxplot(y=\"video_likes\", data=media_all, ax=axes[0])\n",
    "sns.boxplot(y=\"video_likes\", data=media_out_int, ax=axes[1])\n",
    "sns.boxplot(y=\"video_likes\", data=media_out, ax=axes[2])\n",
    "\n",
    "axes[0].set_ylabel(\"Video likes\")\n",
    "axes[1].set_ylabel(\"\")\n",
    "axes[2].set_ylabel(\"\");"
   ]
  },
  {
   "cell_type": "code",
   "execution_count": 12,
   "id": "790ecdc8-3fac-4f9f-89c9-b715a5d5c18c",
   "metadata": {},
   "outputs": [
    {
     "data": {
      "image/png": "[encoded data removed]",
      "text/plain": [
       "<Figure size 700x500 with 1 Axes>"
      ]
     },
     "metadata": {},
     "output_type": "display_data"
    }
   ],
   "source": [
    "days = [\"Monday\", \"Tuesday\", \"Wednesday\", \"Thursday\", \"Friday\", \"Saturday\", \"Sunday\"]\n",
    "fig, ax = plt.subplots(figsize=(7, 5))\n",
    "media_out[\"day\"].value_counts().to_frame().sort_index().plot(\n",
    "    kind=\"bar\",\n",
    "    ax=ax,\n",
    "    xlabel=\"Day\",\n",
    "    ylabel=\"Number of posts\",\n",
    "    title=\"Number of posts per day\",\n",
    ")\n",
    "\n",
    "ax.set_xticklabels(days, rotation=30);"
   ]
  },
  {
   "cell_type": "code",
   "execution_count": 13,
   "id": "5c84a271-63de-4d65-b6fe-4d7066ee3920",
   "metadata": {},
   "outputs": [
    {
     "data": {
      "text/plain": [
       "<AxesSubplot: xlabel='day', ylabel='video_likes'>"
      ]
     },
     "execution_count": 13,
     "metadata": {},
     "output_type": "execute_result"
    },
    {
     "data": {
      "image/png": "[encoded data removed]",
      "text/plain": [
       "<Figure size 1500x500 with 1 Axes>"
      ]
     },
     "metadata": {},
     "output_type": "display_data"
    }
   ],
   "source": [
    "fig, ax = plt.subplots(figsize=(15, 5))\n",
    "\n",
    "sns.violinplot(x=\"day\", y=\"video_likes\", data=media_out, cut=0, ax=ax)"
   ]
  },
  {
   "cell_type": "code",
   "execution_count": 14,
   "id": "c0b0dbd9-d66b-496c-93a2-67e7b9db9a22",
   "metadata": {},
   "outputs": [
    {
     "data": {
      "image/png": "[encoded data removed]",
      "text/plain": [
       "<Figure size 1500x1200 with 8 Axes>"
      ]
     },
     "metadata": {},
     "output_type": "display_data"
    }
   ],
   "source": [
    "# sns.displot(data=media_out, x=\"video_likes\", col=\"hour\")\n",
    "day_list = [0,1,2,3,4,5,6]\n",
    "fig, axes = plt.subplots(2,4, figsize=(15,12))\n",
    "axes = axes.ravel()\n",
    "\n",
    "for i, (ax,day) in enumerate(zip(axes, range(7))):\n",
    "    sns.histplot(media_out.loc[media_out[\"day\"] == day][\"video_likes\"], ax=ax)\n",
    "    \n",
    "    ax.set_title(f\"Distribution for day {day}\")\n",
    "    \n",
    "    if i == 0 or i == 4:\n",
    "        ax.set_ylabel(\"Count\")\n",
    "    else:\n",
    "        ax.set_ylabel(\"\")"
   ]
  },
  {
   "attachments": {},
   "cell_type": "markdown",
   "id": "769aa21f-0719-4776-8e7d-cd9a4eaea0b8",
   "metadata": {},
   "source": [
    "## Statistical analysis\n",
    "\n",
    "[statsmodelsANOVA](https://www.statsmodels.org/dev/generated/statsmodels.stats.oneway.anova_oneway.html#generated-statsmodels-stats-oneway-anova-oneway--page-root)"
   ]
  },
  {
   "cell_type": "code",
   "execution_count": 15,
   "id": "f2e15ef7-b0b2-4f2d-8b73-37b2c20c2c48",
   "metadata": {},
   "outputs": [
    {
     "name": "stdout",
     "output_type": "stream",
     "text": [
      "F-statistic of the one-way non-parametric ANOVA: 7.42\n",
      "p-value a one-way non-parametric ANOVA: 0.28\n"
     ]
    }
   ],
   "source": [
    "# Perform one-way non-parametric ANOVA test\n",
    "day_0 = media_out.query(\"day == 0\")[\"video_likes\"]\n",
    "day_1 = media_out.query(\"day == 1\")[\"video_likes\"]\n",
    "day_2 = media_out.query(\"day == 2\")[\"video_likes\"]\n",
    "day_3 = media_out.query(\"day == 3\")[\"video_likes\"]\n",
    "day_4 = media_out.query(\"day == 4\")[\"video_likes\"]\n",
    "day_5 = media_out.query(\"day == 5\")[\"video_likes\"]\n",
    "day_6 = media_out.query(\"day == 6\")[\"video_likes\"]\n",
    "H, p = stats.kruskal(day_0, day_1, day_2, day_3, day_4, day_5, day_6)\n",
    "\n",
    "print(f\"F-statistic of the one-way non-parametric ANOVA: {H:.2f}\")\n",
    "print(f\"p-value a one-way non-parametric ANOVA: {p:.2f}\")"
   ]
  },
  {
   "cell_type": "code",
   "execution_count": 16,
   "id": "816fb028-c861-4275-9e7b-1a46d95f1ffe",
   "metadata": {},
   "outputs": [
    {
     "name": "stdout",
     "output_type": "stream",
     "text": [
      "F-statistic of Welch ANOVA: 0.95\n",
      "p-value of Welch ANOVA: 0.47\n"
     ]
    }
   ],
   "source": [
    "# Perform one-way parametric ANOVA test\n",
    "F, p = sm.stats.anova_oneway(media_out[\"video_likes\"], media_out[\"day\"])\n",
    "\n",
    "# Print the results\n",
    "print(f\"F-statistic of Welch ANOVA: {F:.2f}\")\n",
    "print(f\"p-value of Welch ANOVA: {p:.2f}\")"
   ]
  },
  {
   "attachments": {},
   "cell_type": "markdown",
   "id": "2bcc4f6b-37ac-481d-975c-c376d409e4c4",
   "metadata": {},
   "source": [
    "I checked the variance before performing the ANOVA test, which shows that the asusmption of homocedasticidity doesn't seem accurate for this data. However, what if we I had rushed things and not checked the variance? In that case, I would have used a simple one-way ANOVA test that assumes that the population standard deviations of the groups are equal (see [documentation](https://docs.scipy.org/doc/scipy/reference/generated/scipy.stats.f_oneway.html) for more information)"
   ]
  },
  {
   "attachments": {},
   "cell_type": "markdown",
   "id": "8a5d3931-5678-4bfb-a023-5cda6109c73c",
   "metadata": {},
   "source": [
    "The results are consistent in that we have very weak evidence agains the null hypothesis, but the resulting p-values differ significantly. This could have been a problem is the difference were close to the significance level. \n",
    "\n",
    "However, I'm a very stubborn person and I believe that day 5 has a significantly different mean than the other days. Let's compare two days on their own, such as day 5 and day 1:"
   ]
  },
  {
   "cell_type": "code",
   "execution_count": 17,
   "id": "dca6c9a2-150b-45cb-ae89-2dbccb40512f",
   "metadata": {},
   "outputs": [
    {
     "name": "stdout",
     "output_type": "stream",
     "text": [
      "T-statistic: 166.0\n",
      "p-value: 0.2878618137881952\n"
     ]
    }
   ],
   "source": [
    "# non-parametric test to compare two samples\n",
    "U, p = stats.mannwhitneyu(day_1, day_5)\n",
    "\n",
    "# Print the results\n",
    "print(\"T-statistic:\", U)\n",
    "print(\"p-value:\", p)"
   ]
  },
  {
   "cell_type": "code",
   "execution_count": 18,
   "id": "5252bc2d-218b-46f5-bdbe-835ed7f891e4",
   "metadata": {},
   "outputs": [
    {
     "name": "stdout",
     "output_type": "stream",
     "text": [
      "T-statistic: 0.7973780766093379\n",
      "p-value: 0.4313701839080535\n"
     ]
    }
   ],
   "source": [
    "T, p = stats.ttest_ind(day_1, day_5, equal_var=False)\n",
    "\n",
    "# Print the results\n",
    "print(\"T-statistic:\", T)\n",
    "print(\"p-value:\", p)"
   ]
  },
  {
   "attachments": {},
   "cell_type": "markdown",
   "id": "7ad72e84-fd01-4ed7-86ba-e9ba2476cc71",
   "metadata": {},
   "source": [
    "The p-value is lower, but still far from the significance level. Still, there's weak evidence against the null hypotheis that the mean number of likes is the same regarless of the day when the post is shared. Therefore, we fail to reject the null hypothesis and one can claim that the day when the post is shared on Instagram doesn't affect the mean number of likes."
   ]
  },
  {
   "attachments": {},
   "cell_type": "markdown",
   "id": "d1e43d20-bdef-4807-be2e-a6020b92defd",
   "metadata": {},
   "source": [
    "<a id='hour'></a>\n",
    "# Does the hour when the post is shared make a difference?\n",
    "\n",
    "## Understanding the data"
   ]
  },
  {
   "cell_type": "code",
   "execution_count": 19,
   "id": "56fc73c3-97db-42e0-86ba-cdfb04a2fbcf",
   "metadata": {},
   "outputs": [
    {
     "data": {
      "image/png": "[encoded data removed]",
      "text/plain": [
       "<Figure size 900x500 with 1 Axes>"
      ]
     },
     "metadata": {},
     "output_type": "display_data"
    }
   ],
   "source": [
    "media_out = media_all.loc[(media_all[\"video_likes\"] < 800)]\n",
    "\n",
    "hour_df = media_out[\"hour\"].value_counts().to_frame().sort_index()\n",
    "\n",
    "hour_df.plot(\n",
    "    kind=\"bar\",\n",
    "    figsize=(9, 5),\n",
    "    ylabel=\"Number of posts\",\n",
    "    xlabel=\"Hour\",\n",
    "    title=\"Number of posts per hour\",\n",
    "    rot=0,\n",
    ");"
   ]
  },
  {
   "cell_type": "code",
   "execution_count": 20,
   "id": "1efa8950-11ee-419a-973b-e5ef5a8a3e23",
   "metadata": {},
   "outputs": [],
   "source": [
    "hour_include = hour_df.query(\"hour > 2\").index.to_list()\n",
    "media_out = media_all.loc[\n",
    "    (media_all[\"video_likes\"] < 1500)\n",
    "    & media_out[\"hour\"].isin(hour_include)\n",
    "]"
   ]
  },
  {
   "cell_type": "code",
   "execution_count": 21,
   "id": "74a277a7-d136-4be9-b555-97e07276e2a6",
   "metadata": {},
   "outputs": [
    {
     "data": {
      "text/html": [
       "<div>\n",
       "<style scoped>\n",
       "    .dataframe tbody tr th:only-of-type {\n",
       "        vertical-align: middle;\n",
       "    }\n",
       "\n",
       "    .dataframe tbody tr th {\n",
       "        vertical-align: top;\n",
       "    }\n",
       "\n",
       "    .dataframe thead th {\n",
       "        text-align: right;\n",
       "    }\n",
       "</style>\n",
       "<table border=\"1\" class=\"dataframe\">\n",
       "  <thead>\n",
       "    <tr style=\"text-align: right;\">\n",
       "      <th></th>\n",
       "      <th>mean</th>\n",
       "      <th>std</th>\n",
       "      <th>var</th>\n",
       "      <th>size</th>\n",
       "    </tr>\n",
       "    <tr>\n",
       "      <th>hour</th>\n",
       "      <th></th>\n",
       "      <th></th>\n",
       "      <th></th>\n",
       "      <th></th>\n",
       "    </tr>\n",
       "  </thead>\n",
       "  <tbody>\n",
       "    <tr>\n",
       "      <th>11</th>\n",
       "      <td>244.750000</td>\n",
       "      <td>265.944073</td>\n",
       "      <td>70726.250000</td>\n",
       "      <td>4</td>\n",
       "    </tr>\n",
       "    <tr>\n",
       "      <th>12</th>\n",
       "      <td>273.833333</td>\n",
       "      <td>162.248472</td>\n",
       "      <td>26324.566667</td>\n",
       "      <td>6</td>\n",
       "    </tr>\n",
       "    <tr>\n",
       "      <th>13</th>\n",
       "      <td>291.333333</td>\n",
       "      <td>137.026761</td>\n",
       "      <td>18776.333333</td>\n",
       "      <td>3</td>\n",
       "    </tr>\n",
       "    <tr>\n",
       "      <th>14</th>\n",
       "      <td>364.000000</td>\n",
       "      <td>167.756768</td>\n",
       "      <td>28142.333333</td>\n",
       "      <td>7</td>\n",
       "    </tr>\n",
       "    <tr>\n",
       "      <th>15</th>\n",
       "      <td>258.750000</td>\n",
       "      <td>198.602409</td>\n",
       "      <td>39442.916667</td>\n",
       "      <td>4</td>\n",
       "    </tr>\n",
       "    <tr>\n",
       "      <th>16</th>\n",
       "      <td>382.214286</td>\n",
       "      <td>125.962252</td>\n",
       "      <td>15866.489011</td>\n",
       "      <td>14</td>\n",
       "    </tr>\n",
       "    <tr>\n",
       "      <th>17</th>\n",
       "      <td>376.833333</td>\n",
       "      <td>147.475766</td>\n",
       "      <td>21749.101449</td>\n",
       "      <td>24</td>\n",
       "    </tr>\n",
       "    <tr>\n",
       "      <th>18</th>\n",
       "      <td>383.461538</td>\n",
       "      <td>177.374658</td>\n",
       "      <td>31461.769231</td>\n",
       "      <td>13</td>\n",
       "    </tr>\n",
       "    <tr>\n",
       "      <th>19</th>\n",
       "      <td>318.235294</td>\n",
       "      <td>126.563981</td>\n",
       "      <td>16018.441176</td>\n",
       "      <td>17</td>\n",
       "    </tr>\n",
       "    <tr>\n",
       "      <th>20</th>\n",
       "      <td>346.142857</td>\n",
       "      <td>234.690881</td>\n",
       "      <td>55079.809524</td>\n",
       "      <td>7</td>\n",
       "    </tr>\n",
       "    <tr>\n",
       "      <th>21</th>\n",
       "      <td>305.000000</td>\n",
       "      <td>64.373908</td>\n",
       "      <td>4144.000000</td>\n",
       "      <td>3</td>\n",
       "    </tr>\n",
       "  </tbody>\n",
       "</table>\n",
       "</div>"
      ],
      "text/plain": [
       "            mean         std           var  size\n",
       "hour                                            \n",
       "11    244.750000  265.944073  70726.250000     4\n",
       "12    273.833333  162.248472  26324.566667     6\n",
       "13    291.333333  137.026761  18776.333333     3\n",
       "14    364.000000  167.756768  28142.333333     7\n",
       "15    258.750000  198.602409  39442.916667     4\n",
       "16    382.214286  125.962252  15866.489011    14\n",
       "17    376.833333  147.475766  21749.101449    24\n",
       "18    383.461538  177.374658  31461.769231    13\n",
       "19    318.235294  126.563981  16018.441176    17\n",
       "20    346.142857  234.690881  55079.809524     7\n",
       "21    305.000000   64.373908   4144.000000     3"
      ]
     },
     "execution_count": 21,
     "metadata": {},
     "output_type": "execute_result"
    }
   ],
   "source": [
    "media_out.groupby(\"hour\")[\"video_likes\"].agg([\"mean\", \"std\", \"var\", \"size\"])"
   ]
  },
  {
   "cell_type": "code",
   "execution_count": 22,
   "id": "6a68fcde-d1e5-429a-9885-cf20790dc1c8",
   "metadata": {},
   "outputs": [
    {
     "data": {
      "text/plain": [
       "<AxesSubplot: xlabel='hour', ylabel='video_likes'>"
      ]
     },
     "execution_count": 22,
     "metadata": {},
     "output_type": "execute_result"
    },
    {
     "data": {
      "image/png": "[encoded data removed]",
      "text/plain": [
       "<Figure size 1500x500 with 1 Axes>"
      ]
     },
     "metadata": {},
     "output_type": "display_data"
    }
   ],
   "source": [
    "fig, ax = plt.subplots(figsize=(15, 5))\n",
    "\n",
    "sns.violinplot(x=\"hour\", y=\"video_likes\", data=media_out, ax=ax, cut=0, scale=\"width\")"
   ]
  },
  {
   "cell_type": "code",
   "execution_count": 23,
   "id": "df630c97-292a-4885-b571-0f3994530c20",
   "metadata": {},
   "outputs": [
    {
     "data": {
      "image/png": "[encoded data removed]",
      "text/plain": [
       "<Figure size 1800x1200 with 10 Axes>"
      ]
     },
     "metadata": {},
     "output_type": "display_data"
    }
   ],
   "source": [
    "# sns.displot(data=media_out, x=\"video_likes\", col=\"hour\")\n",
    "\n",
    "fig, axes = plt.subplots(2,5, figsize=(18,12))\n",
    "axes = axes.ravel()\n",
    "\n",
    "for i, (ax, hour) in enumerate(zip(axes, hour_include)):\n",
    "    sns.histplot(media_out.loc[media_out[\"hour\"] == hour][\"video_likes\"], ax=ax)\n",
    "    \n",
    "    ax.set_title(f\"Distribution for hour {hour}\")\n",
    "    \n",
    "    if i == 0 or i == 5:\n",
    "        ax.set_ylabel(\"Count\")\n",
    "    else:\n",
    "        ax.set_ylabel(\"\")"
   ]
  },
  {
   "cell_type": "code",
   "execution_count": 24,
   "id": "a7e198b1-a7d8-4b12-8fda-61065fdb20b1",
   "metadata": {},
   "outputs": [
    {
     "name": "stdout",
     "output_type": "stream",
     "text": [
      "F-statistic of the one-way non-parametric ANOVA: 7.29\n",
      "p-value a one-way non-parametric ANOVA: 0.70\n"
     ]
    }
   ],
   "source": [
    "# Perform one-way non-parametric ANOVA test\n",
    "hour_values = []\n",
    "for i, hour in enumerate(hour_include):\n",
    "    hour_values.append(media_out.loc[media_out[\"hour\"] == hour][\"video_likes\"].to_list())\n",
    "\n",
    "H, p = stats.kruskal(*hour_values)\n",
    "\n",
    "print(f\"F-statistic of the one-way non-parametric ANOVA: {H:.2f}\")\n",
    "print(f\"p-value a one-way non-parametric ANOVA: {p:.2f}\")"
   ]
  },
  {
   "cell_type": "code",
   "execution_count": 25,
   "id": "f23c9e43-f6fc-4d84-8a0a-e6a496eb61bd",
   "metadata": {},
   "outputs": [
    {
     "name": "stdout",
     "output_type": "stream",
     "text": [
      "F-statistic of Welch ANOVA: 0.60\n",
      "p-value of Welch ANOVA: 0.80\n"
     ]
    }
   ],
   "source": [
    "# Perform one-way parametric ANOVA test\n",
    "F, p = sm.stats.anova_oneway(media_out[\"video_likes\"], media_out[\"hour\"])\n",
    "\n",
    "# Print the results\n",
    "print(f\"F-statistic of Welch ANOVA: {F:.2f}\")\n",
    "print(f\"p-value of Welch ANOVA: {p:.2f}\")"
   ]
  },
  {
   "cell_type": "code",
   "execution_count": 26,
   "id": "0c22fa7a-ec0b-4467-be1c-212a8f65ea97",
   "metadata": {},
   "outputs": [
    {
     "data": {
      "text/html": [
       "<div>\n",
       "<style scoped>\n",
       "    .dataframe tbody tr th:only-of-type {\n",
       "        vertical-align: middle;\n",
       "    }\n",
       "\n",
       "    .dataframe tbody tr th {\n",
       "        vertical-align: top;\n",
       "    }\n",
       "\n",
       "    .dataframe thead th {\n",
       "        text-align: right;\n",
       "    }\n",
       "</style>\n",
       "<table border=\"1\" class=\"dataframe\">\n",
       "  <thead>\n",
       "    <tr style=\"text-align: right;\">\n",
       "      <th></th>\n",
       "      <th>mean</th>\n",
       "      <th>std</th>\n",
       "      <th>size</th>\n",
       "    </tr>\n",
       "    <tr>\n",
       "      <th>hour</th>\n",
       "      <th></th>\n",
       "      <th></th>\n",
       "      <th></th>\n",
       "    </tr>\n",
       "  </thead>\n",
       "  <tbody>\n",
       "    <tr>\n",
       "      <th>11</th>\n",
       "      <td>244.750000</td>\n",
       "      <td>265.944073</td>\n",
       "      <td>4</td>\n",
       "    </tr>\n",
       "    <tr>\n",
       "      <th>12</th>\n",
       "      <td>273.833333</td>\n",
       "      <td>162.248472</td>\n",
       "      <td>6</td>\n",
       "    </tr>\n",
       "    <tr>\n",
       "      <th>13</th>\n",
       "      <td>291.333333</td>\n",
       "      <td>137.026761</td>\n",
       "      <td>3</td>\n",
       "    </tr>\n",
       "    <tr>\n",
       "      <th>14</th>\n",
       "      <td>364.000000</td>\n",
       "      <td>167.756768</td>\n",
       "      <td>7</td>\n",
       "    </tr>\n",
       "    <tr>\n",
       "      <th>15</th>\n",
       "      <td>258.750000</td>\n",
       "      <td>198.602409</td>\n",
       "      <td>4</td>\n",
       "    </tr>\n",
       "    <tr>\n",
       "      <th>16</th>\n",
       "      <td>382.214286</td>\n",
       "      <td>125.962252</td>\n",
       "      <td>14</td>\n",
       "    </tr>\n",
       "    <tr>\n",
       "      <th>17</th>\n",
       "      <td>376.833333</td>\n",
       "      <td>147.475766</td>\n",
       "      <td>24</td>\n",
       "    </tr>\n",
       "    <tr>\n",
       "      <th>18</th>\n",
       "      <td>383.461538</td>\n",
       "      <td>177.374658</td>\n",
       "      <td>13</td>\n",
       "    </tr>\n",
       "    <tr>\n",
       "      <th>19</th>\n",
       "      <td>318.235294</td>\n",
       "      <td>126.563981</td>\n",
       "      <td>17</td>\n",
       "    </tr>\n",
       "    <tr>\n",
       "      <th>20</th>\n",
       "      <td>346.142857</td>\n",
       "      <td>234.690881</td>\n",
       "      <td>7</td>\n",
       "    </tr>\n",
       "    <tr>\n",
       "      <th>21</th>\n",
       "      <td>305.000000</td>\n",
       "      <td>64.373908</td>\n",
       "      <td>3</td>\n",
       "    </tr>\n",
       "  </tbody>\n",
       "</table>\n",
       "</div>"
      ],
      "text/plain": [
       "            mean         std  size\n",
       "hour                              \n",
       "11    244.750000  265.944073     4\n",
       "12    273.833333  162.248472     6\n",
       "13    291.333333  137.026761     3\n",
       "14    364.000000  167.756768     7\n",
       "15    258.750000  198.602409     4\n",
       "16    382.214286  125.962252    14\n",
       "17    376.833333  147.475766    24\n",
       "18    383.461538  177.374658    13\n",
       "19    318.235294  126.563981    17\n",
       "20    346.142857  234.690881     7\n",
       "21    305.000000   64.373908     3"
      ]
     },
     "execution_count": 26,
     "metadata": {},
     "output_type": "execute_result"
    }
   ],
   "source": [
    "media_out.groupby(\"hour\")[\"video_likes\"].agg([\"mean\", \"std\", \"size\"])"
   ]
  },
  {
   "cell_type": "code",
   "execution_count": 27,
   "id": "02412c32-7cdd-4ea4-9603-b43cc9b03c64",
   "metadata": {},
   "outputs": [
    {
     "data": {
      "text/html": [
       "<div>\n",
       "<style scoped>\n",
       "    .dataframe tbody tr th:only-of-type {\n",
       "        vertical-align: middle;\n",
       "    }\n",
       "\n",
       "    .dataframe tbody tr th {\n",
       "        vertical-align: top;\n",
       "    }\n",
       "\n",
       "    .dataframe thead th {\n",
       "        text-align: right;\n",
       "    }\n",
       "</style>\n",
       "<table border=\"1\" class=\"dataframe\">\n",
       "  <thead>\n",
       "    <tr style=\"text-align: right;\">\n",
       "      <th>day</th>\n",
       "      <th>0</th>\n",
       "      <th>1</th>\n",
       "      <th>2</th>\n",
       "      <th>3</th>\n",
       "      <th>4</th>\n",
       "      <th>5</th>\n",
       "      <th>6</th>\n",
       "    </tr>\n",
       "    <tr>\n",
       "      <th>hour</th>\n",
       "      <th></th>\n",
       "      <th></th>\n",
       "      <th></th>\n",
       "      <th></th>\n",
       "      <th></th>\n",
       "      <th></th>\n",
       "      <th></th>\n",
       "    </tr>\n",
       "  </thead>\n",
       "  <tbody>\n",
       "    <tr>\n",
       "      <th>11</th>\n",
       "      <td>0</td>\n",
       "      <td>0</td>\n",
       "      <td>0</td>\n",
       "      <td>0</td>\n",
       "      <td>0</td>\n",
       "      <td>1</td>\n",
       "      <td>3</td>\n",
       "    </tr>\n",
       "    <tr>\n",
       "      <th>12</th>\n",
       "      <td>0</td>\n",
       "      <td>1</td>\n",
       "      <td>0</td>\n",
       "      <td>0</td>\n",
       "      <td>0</td>\n",
       "      <td>4</td>\n",
       "      <td>1</td>\n",
       "    </tr>\n",
       "    <tr>\n",
       "      <th>13</th>\n",
       "      <td>0</td>\n",
       "      <td>0</td>\n",
       "      <td>0</td>\n",
       "      <td>0</td>\n",
       "      <td>0</td>\n",
       "      <td>2</td>\n",
       "      <td>1</td>\n",
       "    </tr>\n",
       "    <tr>\n",
       "      <th>14</th>\n",
       "      <td>0</td>\n",
       "      <td>0</td>\n",
       "      <td>0</td>\n",
       "      <td>0</td>\n",
       "      <td>0</td>\n",
       "      <td>2</td>\n",
       "      <td>5</td>\n",
       "    </tr>\n",
       "    <tr>\n",
       "      <th>15</th>\n",
       "      <td>0</td>\n",
       "      <td>0</td>\n",
       "      <td>0</td>\n",
       "      <td>0</td>\n",
       "      <td>0</td>\n",
       "      <td>1</td>\n",
       "      <td>3</td>\n",
       "    </tr>\n",
       "    <tr>\n",
       "      <th>16</th>\n",
       "      <td>4</td>\n",
       "      <td>2</td>\n",
       "      <td>0</td>\n",
       "      <td>4</td>\n",
       "      <td>1</td>\n",
       "      <td>2</td>\n",
       "      <td>1</td>\n",
       "    </tr>\n",
       "    <tr>\n",
       "      <th>17</th>\n",
       "      <td>3</td>\n",
       "      <td>3</td>\n",
       "      <td>5</td>\n",
       "      <td>6</td>\n",
       "      <td>5</td>\n",
       "      <td>1</td>\n",
       "      <td>1</td>\n",
       "    </tr>\n",
       "    <tr>\n",
       "      <th>18</th>\n",
       "      <td>0</td>\n",
       "      <td>3</td>\n",
       "      <td>6</td>\n",
       "      <td>2</td>\n",
       "      <td>1</td>\n",
       "      <td>1</td>\n",
       "      <td>0</td>\n",
       "    </tr>\n",
       "    <tr>\n",
       "      <th>19</th>\n",
       "      <td>6</td>\n",
       "      <td>3</td>\n",
       "      <td>1</td>\n",
       "      <td>3</td>\n",
       "      <td>3</td>\n",
       "      <td>0</td>\n",
       "      <td>1</td>\n",
       "    </tr>\n",
       "    <tr>\n",
       "      <th>20</th>\n",
       "      <td>1</td>\n",
       "      <td>1</td>\n",
       "      <td>1</td>\n",
       "      <td>2</td>\n",
       "      <td>2</td>\n",
       "      <td>0</td>\n",
       "      <td>0</td>\n",
       "    </tr>\n",
       "    <tr>\n",
       "      <th>21</th>\n",
       "      <td>0</td>\n",
       "      <td>1</td>\n",
       "      <td>1</td>\n",
       "      <td>1</td>\n",
       "      <td>0</td>\n",
       "      <td>0</td>\n",
       "      <td>0</td>\n",
       "    </tr>\n",
       "  </tbody>\n",
       "</table>\n",
       "</div>"
      ],
      "text/plain": [
       "day   0  1  2  3  4  5  6\n",
       "hour                     \n",
       "11    0  0  0  0  0  1  3\n",
       "12    0  1  0  0  0  4  1\n",
       "13    0  0  0  0  0  2  1\n",
       "14    0  0  0  0  0  2  5\n",
       "15    0  0  0  0  0  1  3\n",
       "16    4  2  0  4  1  2  1\n",
       "17    3  3  5  6  5  1  1\n",
       "18    0  3  6  2  1  1  0\n",
       "19    6  3  1  3  3  0  1\n",
       "20    1  1  1  2  2  0  0\n",
       "21    0  1  1  1  0  0  0"
      ]
     },
     "execution_count": 27,
     "metadata": {},
     "output_type": "execute_result"
    }
   ],
   "source": [
    "pd.crosstab(media_out[\"hour\"], media_out[\"day\"])"
   ]
  },
  {
   "attachments": {},
   "cell_type": "markdown",
   "id": "0e7d9949-7250-48fe-89bf-480bec9783c9",
   "metadata": {},
   "source": [
    "### Analysing the hashtags"
   ]
  },
  {
   "cell_type": "code",
   "execution_count": 28,
   "id": "1c7f5a17-8486-47d8-94c7-b0d076c320ed",
   "metadata": {},
   "outputs": [
    {
     "data": {
      "text/html": [
       "<div>\n",
       "<style scoped>\n",
       "    .dataframe tbody tr th:only-of-type {\n",
       "        vertical-align: middle;\n",
       "    }\n",
       "\n",
       "    .dataframe tbody tr th {\n",
       "        vertical-align: top;\n",
       "    }\n",
       "\n",
       "    .dataframe thead th {\n",
       "        text-align: right;\n",
       "    }\n",
       "</style>\n",
       "<table border=\"1\" class=\"dataframe\">\n",
       "  <thead>\n",
       "    <tr style=\"text-align: right;\">\n",
       "      <th></th>\n",
       "      <th>mean</th>\n",
       "      <th>std</th>\n",
       "      <th>size</th>\n",
       "    </tr>\n",
       "    <tr>\n",
       "      <th>core_hashtags</th>\n",
       "      <th></th>\n",
       "      <th></th>\n",
       "      <th></th>\n",
       "    </tr>\n",
       "  </thead>\n",
       "  <tbody>\n",
       "    <tr>\n",
       "      <th>False</th>\n",
       "      <td>365.172414</td>\n",
       "      <td>176.349647</td>\n",
       "      <td>58</td>\n",
       "    </tr>\n",
       "    <tr>\n",
       "      <th>True</th>\n",
       "      <td>317.957447</td>\n",
       "      <td>133.376870</td>\n",
       "      <td>47</td>\n",
       "    </tr>\n",
       "  </tbody>\n",
       "</table>\n",
       "</div>"
      ],
      "text/plain": [
       "                     mean         std  size\n",
       "core_hashtags                              \n",
       "False          365.172414  176.349647    58\n",
       "True           317.957447  133.376870    47"
      ]
     },
     "execution_count": 28,
     "metadata": {},
     "output_type": "execute_result"
    }
   ],
   "source": [
    "media_out = media_all.loc[(media_all[\"video_likes\"] < 800)]\n",
    "\n",
    "media_out.groupby(\"core_hashtags\")[\"video_likes\"].agg([\"mean\", \"std\", \"size\"])"
   ]
  },
  {
   "cell_type": "code",
   "execution_count": 29,
   "id": "ef9ad29b-f907-414e-9d72-d64056bfdb8c",
   "metadata": {},
   "outputs": [
    {
     "data": {
      "image/png": "[encoded data removed]",
      "text/plain": [
       "<Figure size 1000x500 with 1 Axes>"
      ]
     },
     "metadata": {},
     "output_type": "display_data"
    }
   ],
   "source": [
    "fig, ax = plt.subplots(figsize=(10, 5))\n",
    "\n",
    "sns.violinplot(x=\"core_hashtags\", y=\"video_likes\", data=media_out, ax=ax, cut=0);"
   ]
  },
  {
   "cell_type": "code",
   "execution_count": 30,
   "id": "a1d16ea2-6438-4752-aaaf-9499910b95b9",
   "metadata": {},
   "outputs": [
    {
     "data": {
      "image/png": "[encoded data removed]",
      "text/plain": [
       "<Figure size 1000x500 with 2 Axes>"
      ]
     },
     "metadata": {},
     "output_type": "display_data"
    }
   ],
   "source": [
    "sns.displot(kind=\"hist\", x=\"video_likes\", col=\"core_hashtags\", data=media_out);"
   ]
  },
  {
   "cell_type": "code",
   "execution_count": 31,
   "id": "e0d88aa4-b98e-4a81-86ff-4bc572efb466",
   "metadata": {},
   "outputs": [
    {
     "name": "stdout",
     "output_type": "stream",
     "text": [
      "Test statistic of Mann-Whitney U rank test: 1188.00\n",
      "p-value of Mann-Whitney U rank: 0.26\n"
     ]
    }
   ],
   "source": [
    "# Perform the Mann-Whitney U rank test\n",
    "U, p = stats.mannwhitneyu(\n",
    "    media_out.query(\"core_hashtags == True\")[\"video_likes\"],\n",
    "    media_out.query(\"core_hashtags == False\")[\"video_likes\"]\n",
    ")\n",
    "\n",
    "# Print the results\n",
    "print(f\"Test statistic of Mann-Whitney U rank test: {U:.2f}\")\n",
    "print(f\"p-value of Mann-Whitney U rank: {p:.2f}\")"
   ]
  },
  {
   "attachments": {},
   "cell_type": "markdown",
   "id": "5ef0ee12-dcdd-42ab-9f12-286e03de6b1e",
   "metadata": {},
   "source": [
    "### Analysis of pictures"
   ]
  },
  {
   "cell_type": "code",
   "execution_count": 32,
   "id": "bae6363e-32e0-46d8-a90e-1690527cf8fc",
   "metadata": {},
   "outputs": [],
   "source": [
    "image_df = media_all.loc[\n",
    "    (media_all[\"media_type\"] == \"CAROUSEL_ALBUM\") | (media_all[\"media_type\"] == \"IMAGE\")\n",
    "]"
   ]
  },
  {
   "cell_type": "code",
   "execution_count": 33,
   "id": "70291311-14ea-4c69-9047-0a9443421040",
   "metadata": {},
   "outputs": [
    {
     "data": {
      "text/plain": [
       "<AxesSubplot: ylabel='Frequency'>"
      ]
     },
     "execution_count": 33,
     "metadata": {},
     "output_type": "execute_result"
    },
    {
     "data": {
      "image/png": "[encoded data removed]",
      "text/plain": [
       "<Figure size 640x480 with 1 Axes>"
      ]
     },
     "metadata": {},
     "output_type": "display_data"
    }
   ],
   "source": [
    "image_df[\"engagement\"].plot(kind=\"hist\")"
   ]
  },
  {
   "cell_type": "code",
   "execution_count": 34,
   "id": "04946fb6-3438-4107-b3fa-640fd8ae9714",
   "metadata": {},
   "outputs": [
    {
     "data": {
      "text/plain": [
       "<AxesSubplot: xlabel='date'>"
      ]
     },
     "execution_count": 34,
     "metadata": {},
     "output_type": "execute_result"
    },
    {
     "data": {
      "image/png": "[encoded data removed]",
      "text/plain": [
       "<Figure size 640x480 with 1 Axes>"
      ]
     },
     "metadata": {},
     "output_type": "display_data"
    }
   ],
   "source": [
    "image_date = image_df.copy()\n",
    "image_date[\"date\"] = pd.to_datetime(image_date[\"date\"])\n",
    "\n",
    "image_date.set_index(\"date\", inplace=True)\n",
    "image_date.sort_index(ascending=True, inplace=True)\n",
    "image_date[\"engagement\"].plot(kind=\"bar\")"
   ]
  }
 ],
 "metadata": {
  "kernelspec": {
   "display_name": "Python 3 (ipykernel)",
   "language": "python",
   "name": "python3"
  },
  "language_info": {
   "codemirror_mode": {
    "name": "ipython",
    "version": 3
   },
   "file_extension": ".py",
   "mimetype": "text/x-python",
   "name": "python",
   "nbconvert_exporter": "python",
   "pygments_lexer": "ipython3",
   "version": "3.10.10"
  },
  "vscode": {
   "interpreter": {
    "hash": "85c51566f197991eef0ebc27e876f5bda7b17af2cc7c97277dd59908854d7eaa"
   }
  }
 },
 "nbformat": 4,
 "nbformat_minor": 5
}
